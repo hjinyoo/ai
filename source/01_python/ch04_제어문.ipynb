{
 "cells": [
  {
   "cell_type": "code",
   "execution_count": null,
   "id": "54e60578",
   "metadata": {},
   "outputs": [],
   "source": [
    "from IPython.display import display, HTML\n",
    "display(HTML(\"\"\"\n",
    "<style>\n",
    "div.container{width:90% !important;}\n",
    "div.cell.code_cell.rendered{width:100%;}\n",
    "div.input_prompt{padding:0px;}\n",
    "div.CodeMirror {font-family:Consolas; font-size:12pt;}\n",
    "div.text_cell_render.rendered_html{font-size:12pt;}\n",
    "div.output {font-size:12pt; font-weight:bold;}\n",
    "div.input {font-family:Consolas; font-size:12pt;}\n",
    "div.prompt {min-width:70px;}\n",
    "div#toc-wrapper{padding-top:120px;}\n",
    "div.text_cell_render ul li{font-size:12pt;padding:5px;}\n",
    "table.dataframe{font-size:12px;}\n",
    "</style>\n",
    "\"\"\"))"
   ]
  },
  {
   "cell_type": "markdown",
   "id": "179379c4",
   "metadata": {},
   "source": [
    "<b><font size=\"6\" color=\"red\">ch04_제어문</font></b>\n",
    "- 조건문 : if문\n",
    "- 반복문 : for문(반복횟수), while문 (조건)\n",
    "**모두 중첩가능**\n",
    "\n",
    "# 1절 조건문(if)\n",
    "```\n",
    "if 조건1:\n",
    "    조건1이 True일 경우 수행할 명령어들(들여쓰기 중요. if절 단독 가능)\n",
    "elif 조건2:\n",
    "    조건1이 False이고, 조건2가 True일 경우 수행할 명령어들\n",
    "else:\n",
    "    모든 조건 False일 경우 수행할 명령어들(elif나 else는 단독 사용 불가)\n",
    "```"
   ]
  },
  {
   "cell_type": "code",
   "execution_count": null,
   "id": "d7f067f4",
   "metadata": {},
   "outputs": [],
   "source": [
    "score = int(input('Enter your score > ') )\n",
    "if score>=80:\n",
    "    print('참 잘했어요')\n",
    "    print('다음에도 기대할게요')\n",
    "elif score>=60:\n",
    "        print('분발하세요')\n",
    "        print('뭐 그대로 고생하셨어요')\n",
    "else:\n",
    "    print('재시험 응시하셔야 합니다')\n",
    "    print(\"화이팅\")"
   ]
  },
  {
   "cell_type": "code",
   "execution_count": 2,
   "id": "0dc1e40f",
   "metadata": {},
   "outputs": [
    {
     "name": "stdout",
     "output_type": "stream",
     "text": [
      "Enter your score > 65\n",
      "입력하신 점수 65점은 D학점\n",
      "입력하신 점수 65점은 D학점\n"
     ]
    }
   ],
   "source": [
    "# ex. 점수를 입력받아 학점출력(A, B, C, D, F, 유효하지 않는 점수)\n",
    "score = int(input('Enter your score > ') )\n",
    "if 90<=score<=100:\n",
    "    grade = 'A학점'\n",
    "elif score>=80:\n",
    "    grade = 'B학점'\n",
    "elif score>=70:\n",
    "    grade = 'C학점'\n",
    "elif score>=60:\n",
    "    grade = 'D학점'\n",
    "elif 0<=score<60:\n",
    "    grade = 'F학점'\n",
    "else:\n",
    "    grade = '유효하지 않습니다'\n",
    "print(\"입력하신 점수 {}점은 {}\".format(score, grade))\n",
    "print(f\"입력하신 점수 {score}점은 {grade}\")"
   ]
  },
  {
   "cell_type": "markdown",
   "id": "4f4d04c7",
   "metadata": {},
   "source": [
    "# 2절 반복문\n",
    "## 2.1 for-in문\n",
    "\n",
    "```\n",
    "for 임시변수 in 나열 가능한 자료:\n",
    "    반복할 문장1\n",
    "    반복할 문장2\n",
    "else:\n",
    "    나열 가능한 자료를 다 소요하여 for블록을 다 수행한 후, 최종 한번 실행할 문장들\n",
    "    for문 안에 break를 수행할 경우, else블록을 수행하지 않음(else는 선택)\n",
    "```"
   ]
  },
  {
   "cell_type": "code",
   "execution_count": null,
   "id": "5819ab74",
   "metadata": {},
   "outputs": [],
   "source": [
    "for i in range(1, 10 , 2):\n",
    "    print(i, end=\"\\t\")\n",
    "else:\n",
    "    print('DONE')\n",
    "print('END')"
   ]
  },
  {
   "cell_type": "code",
   "execution_count": null,
   "id": "64a0230d",
   "metadata": {},
   "outputs": [],
   "source": [
    "for i in range(10):\n",
    "    if i==5:\n",
    "        break # 현재 반복문을 빠져나가\n",
    "    print(i, end=\"\\t\")\n",
    "else:\n",
    "    print(\"\\nDONE\")\n",
    "print(\"END\")"
   ]
  },
  {
   "cell_type": "code",
   "execution_count": null,
   "id": "d38b3f5a",
   "metadata": {},
   "outputs": [],
   "source": [
    "# 1~100까지 짝수들의 합을 계산하고 출력하시오(for문)\n",
    "sum = 0 #누적변수\n",
    "for i in range(1, 101):\n",
    "    if i%2==0:\n",
    "        sum += i # sum = sum + i\n",
    "else:\n",
    "    print(\"1~100까지 짝수들의 합은\",sum)"
   ]
  },
  {
   "cell_type": "markdown",
   "id": "319fabc8",
   "metadata": {},
   "source": [
    "## 2.2 while문\n",
    "```\n",
    "while 조건:\n",
    "    조건이 True일 경우 반복할 문장들\n",
    "else:\n",
    "    조건이 False일 경우 실행한 문장들(else구문 선택사항)\n",
    "    while문 내의 break 수행할 경우 else구문은 실행되지 않음\n",
    "```"
   ]
  },
  {
   "cell_type": "code",
   "execution_count": null,
   "id": "b192b6c6",
   "metadata": {},
   "outputs": [],
   "source": [
    "# 1~100까지 짝수들의 합을 계산하고 출력하시오(while문)\n",
    "sum = 0 # 누적변수\n",
    "i = 1 # i값 초기화\n",
    "while i<=100:\n",
    "    if i%2==0:\n",
    "        sum += i # sum = sum + i\n",
    "    i += 1\n",
    "else:\n",
    "    print(\"1~100까지 짝수들의 합은\",sum)"
   ]
  },
  {
   "cell_type": "code",
   "execution_count": null,
   "id": "dfe263a8",
   "metadata": {},
   "outputs": [],
   "source": [
    "# ex1. 사용자에게 두 정수를 입력받아, 작은 수부터 큰수까지 홀수의 합을 누적해서 출력\n",
    "        # 10 1\n",
    "# 두 정수를 입력\n",
    "first=int(input('첫번째 정수?'))\n",
    "second=int(input('두번째 정수?'))\n",
    "# first에 작은값, second에 큰값\n",
    "if first > second:\n",
    "    # 바꿔\n",
    "#     temp = first\n",
    "#     first = second\n",
    "#     second = temp\n",
    "    first, second =second, first\n",
    "# 누적\n",
    "sum = 0\n",
    "for i in range(first, second+1):\n",
    "     if i%2: # (i%2==1) | (i%2==-1):\n",
    "            sum += i\n",
    "else:\n",
    "    print(\"{}~{}까지 누적 합{}\".format(first,second,sum))"
   ]
  },
  {
   "cell_type": "code",
   "execution_count": null,
   "id": "a72a8baf",
   "metadata": {},
   "outputs": [],
   "source": [
    "# ex2. 로또번호 6개를 추출 후, 정렬하여 출력 [45, 30, 2, 0, 12, 31]=>[2,10,12,30,31,45]\n",
    "import random\n",
    "# random.seed(3)\n",
    "# random.random() # 0이상 1미만의 실수 난수\n",
    "# random.choice(['남자','여자']) # 남자나 여자를 선택(확률일치)\n",
    "# random.choices(['사기꾼','비사기꾼'], weights=[0.1,0.9])\n",
    "random.randint(1,45) # 1~45의 정수 난수\n",
    "lotto_lst =[] # 추출된 로또번호를 담을 변수\n",
    "cnt = 0\n",
    "while len(lotto_lst) < 6:\n",
    "    temp = random.randint(1,45) #임의의 수를 temp변수\n",
    "    cnt += 1\n",
    "    if temp not in lotto_lst:\n",
    "        lotto_lst.append(temp)\n",
    "print(\"{}번 로또번호 추출함 : {}\".format(cnt,lotto_lst))\n",
    "# 정렬 알고리즘\n",
    "for i in range(len(lotto_lst)-1):\n",
    "    for j in range(i+1, len(lotto_lst)):\n",
    "        if lotto_lst[i] > lotto_lst[j]:\n",
    "            lotto_lst[i], lotto_lst[j] = lotto_lst[j], lotto_lst[i]\n",
    "print(\"정렬후 :\", lotto_lst)"
   ]
  },
  {
   "cell_type": "code",
   "execution_count": null,
   "id": "890add26",
   "metadata": {},
   "outputs": [],
   "source": [
    "# 위의 ex2를 set 이용\n",
    "lotto_set = set() # 빈 셋\n",
    "while len(lotto_set)<6:\n",
    "    lotto_set.add(random.randint(1, 45))\n",
    "sorted(lotto_set)"
   ]
  },
  {
   "cell_type": "code",
   "execution_count": null,
   "id": "495c8518",
   "metadata": {},
   "outputs": [],
   "source": [
    "# 1~45 중 6개 뽑아 정렬\n",
    "sorted(random.sample(range(1,46),6))"
   ]
  },
  {
   "cell_type": "markdown",
   "id": "48ea863b",
   "metadata": {},
   "source": [
    "## 2.3 break, continue\n",
    "- break : 현재 반복문 탈출\n",
    "- continue : 수행중인 반복문을 멈추고 조건절로"
   ]
  },
  {
   "cell_type": "code",
   "execution_count": null,
   "id": "b2adb29e",
   "metadata": {},
   "outputs": [],
   "source": [
    "num = 0\n",
    "while num<10:\n",
    "    num += 1 # num 변수를 1 증가\n",
    "    if num == 5 :\n",
    "        # break\n",
    "        continue\n",
    "    print(num, end=\" \")\n",
    "print('END')"
   ]
  },
  {
   "cell_type": "markdown",
   "id": "a4c83817",
   "metadata": {},
   "source": [
    "# 숫자 찾기 게임\n",
    "```\n",
    "1~100 사이의 정수 맞추기 프로그램\n",
    "(프로그램 안에서 random수가 만들어지고,  그 random수 맞추기)\n",
    "1단계 : 숫자를 못 맞추면  UP/DOWN을 출력하고 맞추면 축하메시지 출력하고, 종료\n",
    "2단계 : 숫자를 못 맞추면 mim(0), max(100)을 조정하고, 맞추면 축하메시지 출력하고 종료\n",
    "3단계 : 2단계의 기회를 5회로 제한. 5회의 기회가 지나면 실패메시지 출력하고 종료.\n",
    "        5회 이내에 맞추면 축하메시지 출력하고 종료\n",
    "    (2단계와 3단계는 연습문제)\n",
    "```"
   ]
  },
  {
   "cell_type": "code",
   "execution_count": null,
   "id": "675a6ee0",
   "metadata": {},
   "outputs": [],
   "source": [
    "import random\n",
    "randomNum = random.randint(1, 100)\n",
    "print(\"컴퓨터가 발생한 random 수 :\", randomNum)\n",
    "while True:\n",
    "    inputNum = int(input(\"1~100 사이의 수를 맞춰 보세요 :\"))\n",
    "    if (inputNum<1) | (inputNum>100):\n",
    "        print('수의 범위를 벗어났습니다')\n",
    "    elif randomNum < inputNum :\n",
    "        print('DOWN ↓')\n",
    "    elif randomNum > inputNum:\n",
    "        print('UP ↑')\n",
    "    else:\n",
    "        print(\"축하 축하 맞추셨습니다\")\n",
    "        break\n",
    "print(\"BYE\")"
   ]
  },
  {
   "cell_type": "code",
   "execution_count": null,
   "id": "9eaa4680",
   "metadata": {},
   "outputs": [],
   "source": [
    "import random\n",
    "randomNum = random.randint(1,100)\n",
    "print(\"컴퓨터가 발생한 random 수 :\", randomNum)\n",
    "inputNum = -1\n",
    "while randomNum != inputNum:\n",
    "    inputNum = int(input('1~100 사이의 수를 맞춰보세요 :'))\n",
    "    if (inputNum<1) | (inputNum>100):\n",
    "        print('수의 범위를 벗어났습니다')\n",
    "    elif randomNum < inputNum :\n",
    "        print('DOWN ↓')\n",
    "    elif randomNum > inputNum :\n",
    "        print('UP ↑')\n",
    "else:\n",
    "    print(\"축하축하 맞추셨습니다\")\n",
    "print(\"BYE\")"
   ]
  },
  {
   "cell_type": "markdown",
   "id": "4d43ba99",
   "metadata": {},
   "source": [
    "# 3절 중첩루프\n",
    "(반복문 안의 반복문)"
   ]
  },
  {
   "cell_type": "code",
   "execution_count": null,
   "id": "eed0228a",
   "metadata": {},
   "outputs": [],
   "source": [
    "# 2~9단 구구단 출력\n",
    "for i in range(1,10):\n",
    "    print(\"{:^6}\".format(str(i)+'단'), end=\"\\t\")\n",
    "print()\n",
    "for i in range(2,10):\n",
    "    for j in range(1,10):\n",
    "        print (\"{}x{}={:2}\".format(j,i,i*j), end=\"\\t\")\n",
    "    print()"
   ]
  },
  {
   "cell_type": "code",
   "execution_count": null,
   "id": "6baad243",
   "metadata": {},
   "outputs": [],
   "source": [
    "lst_2d = [[1,2,3,4],\n",
    "         [5,6,7,8]]\n",
    "for i in range(len(lst_2d)): # 행\n",
    "    for j in range(len(lst_2d[i])): #열\n",
    "        print(\"{}행{}열 : {}\".format(i,j,lst_2d[i][j]), end=\"\\t\")\n",
    "    print()"
   ]
  },
  {
   "cell_type": "markdown",
   "id": "df64d49d",
   "metadata": {},
   "source": [
    "# 4절 중첩루프 탈출"
   ]
  },
  {
   "cell_type": "code",
   "execution_count": null,
   "id": "af68a9fa",
   "metadata": {},
   "outputs": [],
   "source": [
    "for a in range(0, 3): # a=0일때 1일때, 2일때\n",
    "    for b in range(1, 3): # b=1일때, 2일때\n",
    "        if a==b:\n",
    "            print(\"a={}, b={}일때 break함\".format(a,b))\n",
    "            break\n",
    "        print(a, b)\n",
    "    # break를 만나면 나오는 곳  \n",
    "\n",
    "print('DONE')"
   ]
  },
  {
   "cell_type": "code",
   "execution_count": null,
   "id": "faf7e294",
   "metadata": {},
   "outputs": [],
   "source": [
    "# 중첩루프 탈출 방법1. flag변수 이용\n",
    "flag =False # break를 만나면 True\n",
    "for a in range(0, 3): # a=0일때 1일때, 2일때\n",
    "    for b in range(1, 3): # b=1일때, 2일때\n",
    "        if a==b:\n",
    "            flag = True\n",
    "            break\n",
    "        print(a, b)\n",
    "    # break를 만나면 나오는 곳  \n",
    "    if flag:\n",
    "        break\n",
    "print('DONE')"
   ]
  },
  {
   "cell_type": "code",
   "execution_count": null,
   "id": "32d9a226",
   "metadata": {},
   "outputs": [],
   "source": [
    "# 중첩루프 탈출 방법2. 예외(exception) 처리 이용 - 9/29일쯤"
   ]
  },
  {
   "cell_type": "markdown",
   "id": "4ff96515",
   "metadata": {},
   "source": [
    "# 5절 연습문제"
   ]
  },
  {
   "cell_type": "code",
   "execution_count": 1,
   "id": "90e5e25c",
   "metadata": {},
   "outputs": [
    {
     "name": "stdout",
     "output_type": "stream",
     "text": [
      "inputStr이 0이상 정수인지 여부 : True\n"
     ]
    }
   ],
   "source": [
    "inputStr = \"0\"\n",
    "print('inputStr이 0이상 정수인지 여부 :',inputStr.isdigit())"
   ]
  },
  {
   "cell_type": "code",
   "execution_count": 2,
   "id": "7ad04bf7",
   "metadata": {},
   "outputs": [
    {
     "name": "stdout",
     "output_type": "stream",
     "text": [
      "양의 정수를 입력하세요-9\n",
      "양의 정수를 입력하세요\n",
      "양의 정수를 입력하세요9\n",
      "입력하신 양의 정수는 9이고 홀수입니다\n"
     ]
    }
   ],
   "source": [
    "# 1. 양의 정수를 입력 받아 홀수인지 짝수인지를 판별하는 프로그램\n",
    "inputStr = ''\n",
    "while (inputStr.isdigit()==False) | (inputStr=='0') :\n",
    "    inputStr = input('양의 정수를 입력하세요')\n",
    "    \n",
    "inputNum = int(inputStr)\n",
    "even_odd = '홀수' if inputNum%2 else '짝수'\n",
    "print('입력하신 양의 정수는 {}이고 {}입니다'.format(inputNum, even_odd))"
   ]
  },
  {
   "cell_type": "code",
   "execution_count": 3,
   "id": "06f3957f",
   "metadata": {},
   "outputs": [
    {
     "name": "stdout",
     "output_type": "stream",
     "text": [
      "*****\n",
      "*****\n",
      "*****\n",
      "*****\n",
      "*****\n"
     ]
    }
   ],
   "source": [
    "#2\n",
    "'''2(1)\n",
    "*****\n",
    "*****\n",
    "*****\n",
    "*****\n",
    "*****'''\n",
    "for i in range(5):\n",
    "    for j in range(i+1):\n",
    "        print('*', end='')\n",
    "    print()\n",
    "#  for i in range(5):\n",
    "#     print('*'*(i+1))\n",
    "# star =\"*\"\n",
    "# for j in range(5):\n",
    "#     print(star)\n",
    "#     star += \"*\""
   ]
  },
  {
   "cell_type": "code",
   "execution_count": 4,
   "id": "b06bb8a6",
   "metadata": {},
   "outputs": [
    {
     "name": "stdout",
     "output_type": "stream",
     "text": [
      " (1) \t (2) \n",
      "*****\t*\n",
      "*****\t**\n",
      "*****\t***\n",
      "*****\t****\n",
      "*****\t*****\n"
     ]
    }
   ],
   "source": [
    "'''2(2)\n",
    "*\n",
    "**\n",
    "***\n",
    "****\n",
    "*****'''\n",
    "print(\"{:^5}\\t{:^5}\".format(\"(1)\", \"(2)\"))\n",
    "for i in range(5):\n",
    "    print('*'*5, end='\\t')\n",
    "    for j in range(i+1):\n",
    "        print('*', end='')\n",
    "    print()\n",
    "# for i in range(5):\n",
    "#     print('*'*(i+1))\n",
    "# star =\"*\"\n",
    "# for j in range(5):\n",
    "#     print(star)\n",
    "#     star += \"*\""
   ]
  },
  {
   "cell_type": "code",
   "execution_count": 5,
   "id": "b39d8928",
   "metadata": {},
   "outputs": [
    {
     "name": "stdout",
     "output_type": "stream",
     "text": [
      "165\n"
     ]
    }
   ],
   "source": [
    "# 3. 1부터 30까지(30포함) 자연수 중에서 3의 배수의 총 합을 출력\n",
    "sum = 0\n",
    "for i in range(1, 31):\n",
    "    if not i%3: # if i%3==0:\n",
    "        sum += i\n",
    "    else:\n",
    "        pass\n",
    "print(sum)"
   ]
  },
  {
   "cell_type": "code",
   "execution_count": 6,
   "id": "fc876f24",
   "metadata": {},
   "outputs": [
    {
     "name": "stdout",
     "output_type": "stream",
     "text": [
      "1 3 5 7 9 "
     ]
    }
   ],
   "source": [
    "# 4.실행결과가 “1 3 5 7 9”가 되도록 빈칸을 완성\n",
    "num = 0\n",
    "while num <= 10:\n",
    "    if num%2 == 1:\n",
    "        print(num, end=' ')\n",
    "    num += 1"
   ]
  },
  {
   "cell_type": "code",
   "execution_count": 7,
   "id": "cd4e9b06",
   "metadata": {},
   "outputs": [
    {
     "name": "stdout",
     "output_type": "stream",
     "text": [
      "1 2 3 \n",
      "4 5 6 7 \n",
      "8 9 \n"
     ]
    }
   ],
   "source": [
    "# 5. 2차원 리스트의 모든 값을 출력하는 코드입니다\n",
    "list_2d = [[1,2,3,],[4,5,6,7],[8,9]]\n",
    "for row in list_2d:\n",
    "    for data in row:\n",
    "        print(data, end=' ')\n",
    "    print()"
   ]
  },
  {
   "cell_type": "code",
   "execution_count": 8,
   "id": "ddbfe549",
   "metadata": {},
   "outputs": [
    {
     "name": "stdout",
     "output_type": "stream",
     "text": [
      "0 apple\n",
      "1 banana\n",
      "0 apple\n",
      "1 banana\n"
     ]
    }
   ],
   "source": [
    "# 6.다음 빈칸에 들어갈 함수 이름은?\n",
    "colors = {\"red\":\"apple\", 'yellow':'banana'}\n",
    "for i, v in enumerate(colors.values()):\n",
    "           #───────────────────────────#\n",
    "    print(i, v)\n",
    "# 참고    \n",
    "for i, (key, value) in enumerate(colors.items()):\n",
    "    print(i, value)"
   ]
  },
  {
   "cell_type": "code",
   "execution_count": 9,
   "id": "f75014b3",
   "metadata": {},
   "outputs": [
    {
     "name": "stdout",
     "output_type": "stream",
     "text": [
      "1 0\n"
     ]
    }
   ],
   "source": [
    "# 7. 코드의 실행결과는?\n",
    "for i in range(0,2):\n",
    "    for j in range(0,2):\n",
    "        if i==j:\n",
    "            break\n",
    "        print(i, j)"
   ]
  },
  {
   "cell_type": "code",
   "execution_count": 11,
   "id": "0281da62",
   "metadata": {},
   "outputs": [
    {
     "name": "stdout",
     "output_type": "stream",
     "text": [
      "0 0\n",
      "1 0\n",
      "1 1\n"
     ]
    }
   ],
   "source": [
    "# 8.다음 코드의 실행 결과로 출력될 수 없는 것은 (2)\n",
    "for i in range(0,2):\n",
    "    for j in range(0,2):\n",
    "        print(i, j)\n",
    "        if i==j:\n",
    "            break"
   ]
  },
  {
   "cell_type": "code",
   "execution_count": 1,
   "id": "76dde2c8",
   "metadata": {},
   "outputs": [
    {
     "name": "stdout",
     "output_type": "stream",
     "text": [
      "3 5 7 9 [3, 5, 7, 9]\n"
     ]
    }
   ],
   "source": [
    "# 9. 실행결과는\n",
    "L = [3,4,5,6,7,8,9,10]\n",
    "for i, data in enumerate(L):\n",
    "    if i%2==0:\n",
    "        print(data, end=' ')\n",
    "# 참고 \n",
    "print(L[0::2])"
   ]
  },
  {
   "cell_type": "code",
   "execution_count": 13,
   "id": "68e33151",
   "metadata": {},
   "outputs": [
    {
     "name": "stdout",
     "output_type": "stream",
     "text": [
      "컴퓨터가 발생한 random 수 : 89\n",
      "1~100 사이의 수를 맞춰 보세요 :50\n",
      "UP ↑\n",
      "51~100 사이의 수를 맞춰 보세요 :90\n",
      "DOWN ↓\n",
      "51~89 사이의 수를 맞춰 보세요 :89\n",
      "축하 축하 맞추셨습니다\n",
      "BYE\n"
     ]
    }
   ],
   "source": [
    "# 10. 숫자 찾기 게임 2단계\n",
    "'''\n",
    "1~100 사이의 정수 맞추기 프로그램\n",
    "(프로그램 안에서 random수가 만들어지고, 그 random수 맞추기)\n",
    "1단계 : 숫자를 못 맞추면 UP/DOWN을 출력하고, 맞추면 축하메세지 출력하고, 종료\n",
    "2단계 : 숫자를 못 맞추면 min(0), max(100)를 조정하고, 맞추면 축하메세지 출력하고 종료\n",
    "3단계 : 2단계의 기회를 5회로 제한. 5회의 기회가 지나면 실패메세지 출력하고 종료.\n",
    "        5회 이내에 맞추면 축하메세지 출력하고 종료\n",
    "    (2단계와 3단계는 연습문제)\n",
    "'''\n",
    "import random\n",
    "randomNum = random.randint(1, 100)\n",
    "fRom, to = 1, 100\n",
    "print(\"컴퓨터가 발생한 random 수 :\", randomNum)\n",
    "while True:\n",
    "    inputNum = int(input(f\"{fRom}~{to} 사이의 수를 맞춰 보세요 :\"))\n",
    "    if (inputNum<fRom) | (inputNum>to):\n",
    "        print('수의 범위를 벗어났습니다')\n",
    "    elif randomNum < inputNum :\n",
    "        print('DOWN ↓')\n",
    "        to = inputNum - 1\n",
    "    elif randomNum > inputNum:\n",
    "        print('UP ↑')\n",
    "        fRom = inputNum + 1\n",
    "    else:\n",
    "        print(\"축하 축하 맞추셨습니다\")\n",
    "        break\n",
    "print(\"BYE\")"
   ]
  },
  {
   "cell_type": "code",
   "execution_count": null,
   "id": "712c44ab",
   "metadata": {},
   "outputs": [],
   "source": [
    "# 10. 숫자 찾기 게임 2단계\n",
    "import random\n",
    "randomNum = random.randint(1, 100)\n",
    "print(\"컴퓨터가 발생한 random 수 :\", randomNum)\n",
    "inputNum = -1\n",
    "fRom, to = 1, 100\n",
    "while randomNum != inputNum:\n",
    "    inputNum = int(input(f\"{fRom}~{to} 사이의 수를 맞춰 보세요 :\"))\n",
    "    if (inputNum<fRom) | (inputNum>to):\n",
    "        print('수의 범위를 벗어났습니다')\n",
    "    elif randomNum < inputNum :\n",
    "        print('DOWN ↓')\n",
    "        to = inputNum - 1\n",
    "    elif randomNum > inputNum:\n",
    "        print('UP ↑')\n",
    "        fRom = inputNum + 1\n",
    "    else:\n",
    "        print(\"축하 축하 맞추셨습니다\")    \n",
    "print(\"BYE\")"
   ]
  },
  {
   "cell_type": "code",
   "execution_count": 14,
   "id": "13262ac1",
   "metadata": {},
   "outputs": [
    {
     "name": "stdout",
     "output_type": "stream",
     "text": [
      "컴퓨터가 발생한 random 수 : 100\n",
      "1~100 사이의 수를 맞춰 보세요(남은기회는 5):50\n",
      "UP ↑\n",
      "51~100 사이의 수를 맞춰 보세요(남은기회는 4):90\n",
      "UP ↑\n",
      "91~100 사이의 수를 맞춰 보세요(남은기회는 3):95\n",
      "UP ↑\n",
      "96~100 사이의 수를 맞춰 보세요(남은기회는 2):97\n",
      "UP ↑\n",
      "98~100 사이의 수를 맞춰 보세요(남은기회는 1):98\n",
      "UP ↑\n",
      "기회를 모두 사용하셨습니다. 실패하셨습니다\n",
      "BYE\n"
     ]
    }
   ],
   "source": [
    "# 10. 숫자 찾기 게임 3단계\n",
    "'''\n",
    "1~100 사이의 정수 맞추기 프로그램\n",
    "(프로그램 안에서 random수가 만들어지고, 그 random수 맞추기)\n",
    "1단계 : 숫자를 못 맞추면 UP/DOWN을 출력하고, 맞추면 축하메세지 출력하고, 종료\n",
    "2단계 : 숫자를 못 맞추면 min(0), max(100)를 조정하고, 맞추면 축하메세지 출력하고 종료\n",
    "3단계 : 2단계의 기회를 5회로 제한. 5회의 기회가 지나면 실패메세지 출력하고 종료.\n",
    "        5회 이내에 맞추면 축하메세지 출력하고 종료\n",
    "    (2단계와 3단계는 연습문제)\n",
    "'''\n",
    "import random\n",
    "randomNum = random.randint(1, 100)\n",
    "fRom, to = 1, 100\n",
    "print(\"컴퓨터가 발생한 random 수 :\", randomNum)\n",
    "for cnt in range(5, 0, -1):\n",
    "    inputNum = int(input(f\"{fRom}~{to} 사이의 수를 맞춰 보세요(남은기회는 {cnt}):\"))\n",
    "    if (inputNum<fRom) | (inputNum>to):\n",
    "        print('수의 범위를 벗어났습니다')\n",
    "    elif randomNum < inputNum :\n",
    "        print('DOWN ↓')\n",
    "        to = inputNum - 1\n",
    "    elif randomNum > inputNum:\n",
    "        print('UP ↑')\n",
    "        fRom = inputNum + 1\n",
    "    else:\n",
    "        print(\"축하 축하 맞추셨습니다\")\n",
    "        break\n",
    "else:\n",
    "    print('기회를 모두 사용하셨습니다. 실패하셨습니다')\n",
    "print(\"BYE\")"
   ]
  },
  {
   "cell_type": "code",
   "execution_count": null,
   "id": "06d16f65",
   "metadata": {},
   "outputs": [],
   "source": []
  }
 ],
 "metadata": {
  "kernelspec": {
   "display_name": "Python 3 (ipykernel)",
   "language": "python",
   "name": "python3"
  },
  "language_info": {
   "codemirror_mode": {
    "name": "ipython",
    "version": 3
   },
   "file_extension": ".py",
   "mimetype": "text/x-python",
   "name": "python",
   "nbconvert_exporter": "python",
   "pygments_lexer": "ipython3",
   "version": "3.10.9"
  },
  "toc": {
   "base_numbering": 1,
   "nav_menu": {},
   "number_sections": false,
   "sideBar": true,
   "skip_h1_title": false,
   "title_cell": "Table of Contents",
   "title_sidebar": "Contents",
   "toc_cell": false,
   "toc_position": {},
   "toc_section_display": true,
   "toc_window_display": true
  }
 },
 "nbformat": 4,
 "nbformat_minor": 5
}
