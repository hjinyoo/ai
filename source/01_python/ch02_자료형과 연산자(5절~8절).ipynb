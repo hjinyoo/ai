{
 "cells": [
  {
   "cell_type": "code",
   "execution_count": 1,
   "id": "dd53ae1d",
   "metadata": {},
   "outputs": [
    {
     "data": {
      "text/html": [
       "\n",
       "<style>\n",
       "div.container{width:90% !important;}\n",
       "div.cell.code_cell.rendered{width:100%;}\n",
       "div.input_prompt{padding:0px;}\n",
       "div.CodeMirror {font-family:Consolas; font-size:12pt;}\n",
       "div.text_cell_render.rendered_html{font-size:12pt;}\n",
       "div.output {font-size:12pt; font-weight:bold;}\n",
       "div.input {font-family:Consolas; font-size:12pt;}\n",
       "div.prompt {min-width:70px;}\n",
       "div#toc-wrapper{padding-top:120px;}\n",
       "div.text_cell_render ul li{font-size:12pt;padding:5px;}\n",
       "table.dataframe{font-size:12px;}\n",
       "</style>\n"
      ],
      "text/plain": [
       "<IPython.core.display.HTML object>"
      ]
     },
     "metadata": {},
     "output_type": "display_data"
    }
   ],
   "source": [
    "from IPython.display import display, HTML\n",
    "display(HTML(\"\"\"\n",
    "<style>\n",
    "div.container{width:90% !important;}\n",
    "div.cell.code_cell.rendered{width:100%;}\n",
    "div.input_prompt{padding:0px;}\n",
    "div.CodeMirror {font-family:Consolas; font-size:12pt;}\n",
    "div.text_cell_render.rendered_html{font-size:12pt;}\n",
    "div.output {font-size:12pt; font-weight:bold;}\n",
    "div.input {font-family:Consolas; font-size:12pt;}\n",
    "div.prompt {min-width:70px;}\n",
    "div#toc-wrapper{padding-top:120px;}\n",
    "div.text_cell_render ul li{font-size:12pt;padding:5px;}\n",
    "table.dataframe{font-size:12px;}\n",
    "</style>\n",
    "\"\"\"))"
   ]
  },
  {
   "cell_type": "markdown",
   "id": "d18510fa",
   "metadata": {},
   "source": [
    "<b><font size=\"6\" color=\"red\">ch02_자료형과 연산자</font></b>\n",
    "# 5절. 연산자\n",
    "## 5.1 산술연산자: +,-,*,/(결과 float),//(몫),%(나머지),**(제곱)"
   ]
  },
  {
   "cell_type": "code",
   "execution_count": 2,
   "id": "2a0b7e76",
   "metadata": {},
   "outputs": [
    {
     "name": "stdout",
     "output_type": "stream",
     "text": [
      "10*5승= 100000\n",
      "5/2(결과 실수) = 2.5\n",
      "5//2(몫)= 2\n",
      "5%2(나머지)= 1\n"
     ]
    }
   ],
   "source": [
    "print(\"10*5승=\", 10**5)\n",
    "print(\"5/2(결과 실수) =\",5/2)\n",
    "print(\"5//2(몫)=\",5//2)\n",
    "print(\"5%2(나머지)=\",5%2)"
   ]
  },
  {
   "cell_type": "code",
   "execution_count": 3,
   "id": "470fcd99",
   "metadata": {},
   "outputs": [
    {
     "name": "stdout",
     "output_type": "stream",
     "text": [
      "4**2 = 16.0\n"
     ]
    }
   ],
   "source": [
    "# 정수끼리 연산은 결과가 정수(단/ 제외)\n",
    "# 정수와 실수, 실수끼리 연산 결과는 실수\n",
    "print(\"4**2 =\", 4**2.0)"
   ]
  },
  {
   "cell_type": "code",
   "execution_count": null,
   "id": "e0074649",
   "metadata": {},
   "outputs": [],
   "source": [
    "# quiz1. 정수를 입력 받아 짝수인지 홀수인지 여부를 출력 \n",
    "num = int(input(\"정수를 입력하세요:\"))\n",
    "result = num % 2 # -1, 0, 1\n",
    "if result:\n",
    "    temp = \"홀수\"\n",
    "else:\n",
    "    temp = \"짝수\"\n",
    "print(f'입력하신 수는 {num}, 2로 나눈 나머지는 {result}라서 {temp}를 입력하셨습니다')"
   ]
  },
  {
   "cell_type": "code",
   "execution_count": null,
   "id": "d9594128",
   "metadata": {},
   "outputs": [],
   "source": [
    "# quiz2. 정수를 입력 받아 5의 배수인지 여부를 출력\n",
    "num = int(input(\"정수를 입력하세요:\"))\n",
    "result = num % 5\n",
    "if result:\n",
    "    temp = \"5의 배수가 아닌 것\"\n",
    "else:\n",
    "    temp = \"5의 배수\"\n",
    "print(f'입력하신 수는 {num}, 5로 나눈 나머지는 {result}라서 {temp}를 입력하셨습니다')"
   ]
  },
  {
   "cell_type": "code",
   "execution_count": null,
   "id": "3cc1f51c",
   "metadata": {},
   "outputs": [],
   "source": [
    "# quiz3. 국,영,수 점수를 입력받아 다음셀에서 다음과 같이 출력하도록 구현하시오\n",
    "kor = int(input('국어?'))\n",
    "eng = int(input('영어?'))\n",
    "mat = int(input('수학?'))\n",
    "sum = kor+eng+mat\n",
    "avg = sum/3"
   ]
  },
  {
   "cell_type": "code",
   "execution_count": null,
   "id": "18dbede6",
   "metadata": {},
   "outputs": [],
   "source": [
    "print(\"국어 : {:3d}\\t영어 : {:3d}\\t수학 : {:3}\".format(kor,eng, mat))\n",
    "print(\"총점 : {:3d}\\t평균 : {:5.1f}\".format(sum,avg))"
   ]
  },
  {
   "cell_type": "markdown",
   "id": "6c096db2",
   "metadata": {},
   "source": [
    "## 5.2 할당 연산자:=,+=,-=,/=,*=,//=,%="
   ]
  },
  {
   "cell_type": "code",
   "execution_count": null,
   "id": "5c4b3467",
   "metadata": {},
   "outputs": [],
   "source": [
    "a = 10\n",
    "a += 5 # a = a + 5와 동일\n",
    "print(f\"a={a}\")"
   ]
  },
  {
   "cell_type": "code",
   "execution_count": null,
   "id": "617d4032",
   "metadata": {},
   "outputs": [],
   "source": [
    "a -= 5 # a = a -5\n",
    "print(\"5빼기 :\", a) # 10\n",
    "a *= 10 # a = a*10\n",
    "print(\"10배 :\",a) #100\n",
    "a //= 5 # a = a//5\n",
    "print(\"5나눈 몫 :\", a)"
   ]
  },
  {
   "cell_type": "markdown",
   "id": "4e825f4f",
   "metadata": {},
   "source": [
    "## 5.3 논리연산자:&,and,|,or,not"
   ]
  },
  {
   "cell_type": "code",
   "execution_count": null,
   "id": "deab671a",
   "metadata": {},
   "outputs": [],
   "source": [
    "# & : 논리연산자, 비트연산자\n",
    "print( (10>3) & (10>5) ) # 논리연산 True & True\n",
    "print( 12 & 1 ) # 비트 연산 1 1 0 0 (12)\n",
    "                       #     0 0 0 1 (1)\n",
    "                       # &:  0 0 0 0 "
   ]
  },
  {
   "cell_type": "code",
   "execution_count": null,
   "id": "bd4bdbe2",
   "metadata": {},
   "outputs": [],
   "source": [
    "# and : 논리연산자.    False로 판별되는 첫번째 항의 결과 반환\n",
    "        # 모든 항이 True면, 마지막 항의 결과 반환\n",
    "print( (10>3) and (10>5) ) \n",
    "print( 12 and 1 )"
   ]
  },
  {
   "cell_type": "code",
   "execution_count": null,
   "id": "549cd849",
   "metadata": {},
   "outputs": [],
   "source": [
    "# | : 논리연산, 비트연산\n",
    "result = True | False\n",
    "print('논리연산(연산자 안뒤에 논리형일 때) :', result)\n",
    "result = False | 3 # 0000 (0)\n",
    "                    # 0011 (3)\n",
    "print('비트연산(연산자 앞이나 뒤에 숫자일 때) :', result)"
   ]
  },
  {
   "cell_type": "code",
   "execution_count": null,
   "id": "97deed9b",
   "metadata": {},
   "outputs": [],
   "source": [
    "# or : 논리연산.  참으로 판별되는 첫번째 항의 결과 반환\n",
    "        # 모든 항이 거짓이면 마지막항의 결과 반환\n",
    "print(False or 0 or '' or None or [])\n",
    "print(False or 0 or 'Hong' or None or [])"
   ]
  },
  {
   "cell_type": "code",
   "execution_count": null,
   "id": "a4d0272e",
   "metadata": {},
   "outputs": [],
   "source": [
    "not 10>5"
   ]
  },
  {
   "cell_type": "markdown",
   "id": "ce19b67f",
   "metadata": {},
   "source": [
    "## 5.4 비교연산자:>,>=,<,<=,==(같다), !=(다르다)"
   ]
  },
  {
   "cell_type": "code",
   "execution_count": null,
   "id": "8b1ca6ea",
   "metadata": {},
   "outputs": [],
   "source": [
    "# 비교연산자는 이항,상항, 사항, ...다항연산자\n",
    "x = 95\n",
    "print( (90<=x) & (x<=100) )\n",
    "print(90<= x <=100)\n",
    "print(90<= x <=100 > 10)sd"
   ]
  },
  {
   "cell_type": "code",
   "execution_count": null,
   "id": "98133096",
   "metadata": {},
   "outputs": [],
   "source": [
    "# 비교연산자의 순위가 비트연산자(|,&)의 순위보다 낮다\n",
    "print( (10>5) & (10>7) )\n",
    "print( 10>5 & 10>7 ) # 괄호가 없으면 우선순위가 높은 5&10부터 실행\n",
    "print( 10 > 0 > 7 )\n",
    "# 0101(5) & 1010(10)"
   ]
  },
  {
   "cell_type": "code",
   "execution_count": null,
   "id": "d5b64cc1",
   "metadata": {},
   "outputs": [],
   "source": [
    "address = \"목동\"\n",
    "age = 29\n",
    "print( (address==\"목동\") & (age<=30))\n",
    "print( address==\"목동\" and age<=30)"
   ]
  },
  {
   "cell_type": "code",
   "execution_count": null,
   "id": "9aa6c174",
   "metadata": {},
   "outputs": [],
   "source": [
    "# 문자는 ASCII 코드 순으로 비교 : 특수문자 < 숫자문자 < 대문자 < 소문자(abc순)\n",
    "\"김길동\" < \"홍길동\""
   ]
  },
  {
   "cell_type": "code",
   "execution_count": null,
   "id": "a048d949",
   "metadata": {},
   "outputs": [],
   "source": [
    "\"scott\" < \"tiger\""
   ]
  },
  {
   "cell_type": "markdown",
   "id": "70b55c89",
   "metadata": {},
   "source": [
    "## 5.5 비트연산:&,|,^(XOR),~(반대)\n",
    "\n",
    "'''\n",
    "x     y    x&y     x|y     x^y     ~x\n",
    "-------------------------------------------\n",
    "0     0      0         0        0         1\n",
    "0     1      0         1        1         1  \n",
    "1     0      0         1        1         0\n",
    "1     1      1         1        0         0\n",
    "\n",
    "'''"
   ]
  },
  {
   "cell_type": "code",
   "execution_count": null,
   "id": "68c019b5",
   "metadata": {},
   "outputs": [],
   "source": [
    "a = 15 # 1111(8+4+2+1)\n",
    "b =  2 # 0010\n",
    "print(\"  a = {0:2} : {0:04b}\".format(a))\n",
    "print(\"  b = {0:2} : {0:04b}\".format(b))\n",
    "print(\"a&b = {0:2} : {0:04b}\".format(a&b))\n",
    "print(\"a|b = {0:2} : {0:04b}\".format(a|b))\n",
    "print(\"a^b = {0:2} : {0:04b}\".format(a^b))\n",
    "print(~a)"
   ]
  },
  {
   "cell_type": "markdown",
   "id": "0fa16695",
   "metadata": {},
   "source": [
    "## 6절 문자열 다루기\n",
    "- 문자열 변수.[from:to:step]: 일부문자 추출\n",
    "- len(문자열 변수) : 문자수\n",
    "- upper() : 대문자로\n",
    "- lower() : 소문자로\n",
    "- title() : 각 어절의 앞 글자만 대문자로\n",
    "- capitalze() : 첫 문자만 대문지로\n",
    "- count(\"찾을문자\") : \"찾을문자\"가 몇개 들어 있는지 갯수 반환\n",
    "- find(\"찾을문자\") :\"찾을문자\"가 왼쪽부터 몇번째에 있는지 index를 변환\n",
    "- rfind(\"찾을문자\") : \"찾을문자\"가 오른쪽부터 몇번째인에 있는지 index를 변환\n",
    "- cf. index(\"찾을문자\") : \"찾을문자\"가 왼쪽부터 몇번째에 있는지 index를 변환\n",
    "- startswith(\"특정문자\") : \"특정문자\"로 시작는지 여부 반환\n",
    "- endswith(\"특정문자\") : \"특정문자\"로 끝나는지 여부 반환\n",
    "\n",
    "- strip() : 좌우공백제거(trim)\n",
    "- lstrip() : 왼쪽공백제거\n",
    "- rstrip() : 오른쪽공백제거\n",
    "- split() : 문자열을 공백이나 다른 문자 기준으로 나누어 리스트 반환\n",
    "- isdigit() :문자열이 숫자문자열인지 여부 반환\n",
    "- islower() : 문자열이 소문자인지 여부 반환\n",
    "- isupper() : 문자열이 대문자인지 여부 반환\n",
    "- replace(oldStr,newStr) : oldStr을 newStr로 변경"
   ]
  },
  {
   "cell_type": "code",
   "execution_count": null,
   "id": "4dcf4c38",
   "metadata": {},
   "outputs": [],
   "source": [
    "temp = \"python is easy. python is smart. python\"\n",
    "temp, len(temp)"
   ]
  },
  {
   "cell_type": "code",
   "execution_count": null,
   "id": "adf15f75",
   "metadata": {},
   "outputs": [],
   "source": [
    "temp = \"python is easy. python is smart. python\"\n",
    "    # 0123456789012345678901234567890123\n",
    "print(\"대문자로 :\", temp.upper())\n",
    "print(\"소문자로 :\", temp.lower())\n",
    "print(\"title()\", temp.title())\n",
    "print(\"capitslize :\", temp.capitalize())\n",
    "print(\"C이 몇번 나오는지 :\", temp.count(\"C\"))\n",
    "print(\"python이 몇번 나오는지 :\", temp.count(\"python\"))\n",
    "print(\"대소문자 구분없이 python이 몇번 :\", temp.lower().count(\"python\"))\n",
    "print(\"대소문자 구분없이 python이 몇번 :\", temp.upper().count(\"PYTHON\"))\n",
    "print(\"대소문자 구분없이 python이 몇번 :\", temp.title().count(\"Python\"))\n",
    "print(\"python이 나오는 첫index 위치 :\", temp.find(\"python\"))\n",
    "print(\"python이 나오는 마지막 index 위치 :\", temp.rfind(\"python\"))\n",
    "print(\"C가 나오는 index위치 :\", temp.find(\"C\")) # 찾을문자가 없을 경우 -1\n",
    "print(\"python이 나오는 첫 index 위치 :\", temp.index(\"python\"))\n",
    "# print(\"java이 나오는 첫 index 위치 :\", temp.index(\"java\")) 찾을문자가 없을 경우 에러\n",
    "print(\"python으로 시작하는 여부 :\",  temp.startswith(\"python\"))\n",
    "print(\"대소문자 구분없이 python으로 시작하는 여부 :\",  temp.lower().startswith(\"python\"))\n",
    "print(\"python으로 끝나는지 여부 :\", temp.endswith(\"python\"))\n",
    "print(\"n으로 끝나는지 여부 :\", temp.endswith(\"n\"))\n",
    "print(\"python을 R로 변경 :\", temp.replace(\"python\", \"R\"))\n",
    "print(temp)"
   ]
  },
  {
   "cell_type": "code",
   "execution_count": null,
   "id": "197d4ff3",
   "metadata": {},
   "outputs": [],
   "source": [
    "temp = \"    python is easy    \"\n",
    "notdigit = \"1,000\"\n",
    "print(\"좌우 공백 제거 : [{}]\".format(temp.strip()) )\n",
    "print(\"왼쪽 공백 제거 : [{}]\".format(temp.lstrip()) )\n",
    "print(\"오른쪽 공백 제거 : [{}]\".format(temp.rstrip()) )\n",
    "print(\"isdigit(숫자문자)인지 여부 :\", notdigit.isdigit())\n",
    "print(\"replace후 isdigit :\", notdigit.replace(\",\", \"\").isdigit())\n",
    "print(\"대문자인지 여부 :\", temp.isupper())\n",
    "print(\"소문자인지 여부 :\", temp.islower())"
   ]
  },
  {
   "cell_type": "code",
   "execution_count": null,
   "id": "ff099798",
   "metadata": {},
   "outputs": [],
   "source": [
    "names = \"홍길동 김길동    박길동 주길동 고길동\"\n",
    "name_list = names.split()\n",
    "print(\"space단위로 names 분리(list로 반환):\", name_list)\n",
    "print(\"name_list[0], namme_list[1]\")"
   ]
  },
  {
   "cell_type": "code",
   "execution_count": null,
   "id": "0f458e95",
   "metadata": {},
   "outputs": [],
   "source": [
    "date_str = \"2025-09-17\"\n",
    "date_list = date_str.split(\"-\")\n",
    "print(date_list)\n",
    "print(\"년도 :\", date_list[0])\n",
    "print(\"월 :\", date_list[1])\n",
    "print(\"일 :\", date_list[2])"
   ]
  },
  {
   "cell_type": "code",
   "execution_count": null,
   "id": "21d7bffa",
   "metadata": {},
   "outputs": [],
   "source": [
    "str_ = \"ABC\"\n",
    "str_ =[\"A\", \"B\", \"C\"]\n",
    "str_[0], str_[1], str_[2]"
   ]
  },
  {
   "cell_type": "code",
   "execution_count": null,
   "id": "cb778436",
   "metadata": {},
   "outputs": [],
   "source": [
    "# ' - '을 \"/\"로 바꾸기\n",
    "temp =\"Python - 웹(HTML/CSS/JS) - Oracle/MySQL(DBMS) - DL/ML - LLM(RAG)\"\n",
    "# temp.replace(\" - \", \"/\")\n",
    "# split()와 join() 이용하여 replace역할\n",
    "splited_temp = temp.split(\" - \")\n",
    "print(\"분리된 temp :\", splited_temp)\n",
    "joined_temp = \"/\".join(splited_temp) # \"/\"로 매개변수 list를 연결\n",
    "print(\"joined temp :\", joined_temp)"
   ]
  },
  {
   "cell_type": "code",
   "execution_count": null,
   "id": "2267e15f",
   "metadata": {},
   "outputs": [],
   "source": [
    "# 문자열을 다룰 수 있는 함수들 목록\n",
    " dir(str)"
   ]
  },
  {
   "cell_type": "markdown",
   "id": "6d0987d0",
   "metadata": {},
   "source": [
    "# 7절 시간, 날짜 다루기"
   ]
  },
  {
   "cell_type": "code",
   "execution_count": null,
   "id": "6fe6bf60",
   "metadata": {},
   "outputs": [],
   "source": [
    "import datetime\n",
    "datetime.__file__"
   ]
  },
  {
   "cell_type": "code",
   "execution_count": null,
   "id": "8d2ec6fd",
   "metadata": {},
   "outputs": [],
   "source": [
    "# datetime모듈(datetime.py)안의 datetime, date, time만 load\n",
    "from datetime import datetime, date, time"
   ]
  },
  {
   "cell_type": "markdown",
   "id": "a6290c6c",
   "metadata": {},
   "source": [
    "## 7.1시간과 날짜"
   ]
  },
  {
   "cell_type": "code",
   "execution_count": null,
   "id": "b60c6e70",
   "metadata": {},
   "outputs": [],
   "source": [
    "# 특정 시점을 갖는 datetime 객체 생성\n",
    "thatday = datetime(2025, 9, 11, 9, 30)"
   ]
  },
  {
   "cell_type": "code",
   "execution_count": null,
   "id": "40d1ef0c",
   "metadata": {},
   "outputs": [],
   "source": [
    "# 날짜를 문자열로 전환\n",
    "print(\"{:%y년%m월%d일(%A) %H:%M:%S}\".format(thatday))\n",
    "print(thatday.strftime(\"%y년%m월%d일(%A) %H:%M:%S\"))\n",
    "print(thatday.ctime()) # ctime() : 사람이 읽기 쉬는 형태로 convert"
   ]
  },
  {
   "cell_type": "code",
   "execution_count": null,
   "id": "e475b61f",
   "metadata": {},
   "outputs": [],
   "source": [
    "# 지금을 저장하는 datetime 객체 생성\n",
    "now =datetime.now()\n",
    "print(now)\n",
    "print(now.ctime())\n",
    "print(now.strftime(\"%y년%m월%d일(%A) %H:%M:%S\"))"
   ]
  },
  {
   "cell_type": "code",
   "execution_count": null,
   "id": "3fca8355",
   "metadata": {},
   "outputs": [],
   "source": [
    "diff = now-thatday\n",
    "print(diff)\n",
    "print(diff.days)"
   ]
  },
  {
   "cell_type": "markdown",
   "id": "e74da429",
   "metadata": {},
   "source": [
    "## 7.2 날짜"
   ]
  },
  {
   "cell_type": "code",
   "execution_count": null,
   "id": "0cafd9f1",
   "metadata": {},
   "outputs": [],
   "source": [
    "# 특정한 날짜를 갖는 date객체 생성\n",
    "someday = date(2025, 9, 11)\n",
    "someday"
   ]
  },
  {
   "cell_type": "code",
   "execution_count": null,
   "id": "a44475d6",
   "metadata": {},
   "outputs": [],
   "source": [
    "print(someday)\n",
    "print(someday.strftime(\"%Y년 %m월 %d일 %H:%M\"))"
   ]
  },
  {
   "cell_type": "code",
   "execution_count": null,
   "id": "029bbad4",
   "metadata": {},
   "outputs": [],
   "source": [
    "# 오늘은 갖는 date 객체 생성\n",
    "today1 = date.today()\n",
    "today2 = datetime.now().date()\n",
    "print(today1==today2)"
   ]
  },
  {
   "cell_type": "code",
   "execution_count": null,
   "id": "be9ce1d0",
   "metadata": {},
   "outputs": [],
   "source": [
    "print(today1.strftime(\"%Y년%m월%d일 %H:%M\"))\n",
    "print(today2.strftime(\"%Y년%m월%d일 %H:%M\"))"
   ]
  },
  {
   "cell_type": "code",
   "execution_count": null,
   "id": "1ef827fb",
   "metadata": {},
   "outputs": [],
   "source": [
    "diff = someday - today1\n",
    "print(diff)\n",
    "print(diff.days)"
   ]
  },
  {
   "cell_type": "markdown",
   "id": "a46736d7",
   "metadata": {},
   "source": [
    "## 7.3 시간"
   ]
  },
  {
   "cell_type": "code",
   "execution_count": null,
   "id": "85f0b8aa",
   "metadata": {},
   "outputs": [],
   "source": [
    "# 특정한 시간을 저장하는 time 객체 생성\n",
    "t = time(14, 39, 0)\n",
    "t"
   ]
  },
  {
   "cell_type": "code",
   "execution_count": null,
   "id": "f61558d8",
   "metadata": {},
   "outputs": [],
   "source": [
    "# print(t.strftime((\"%Y년 %m월 %d일 %p %I:%M\"))\n",
    "print(t.strftime(\"%p %I:%M\"))"
   ]
  },
  {
   "cell_type": "code",
   "execution_count": null,
   "id": "5fa28856",
   "metadata": {},
   "outputs": [],
   "source": [
    "# 현재시간\n",
    "nowtime = datetime.now().time()\n",
    "print(nowtime)"
   ]
  },
  {
   "cell_type": "markdown",
   "id": "f54e781e",
   "metadata": {},
   "source": [
    "## 8절. 연습문제"
   ]
  },
  {
   "cell_type": "code",
   "execution_count": null,
   "id": "b17c07d7",
   "metadata": {},
   "outputs": [],
   "source": [
    "# 1. [출력형식 : 홍갈동님의 나이는 23살입니다]\n",
    "name = \"홍길동\"\n",
    "age = 23\n",
    "print(\"{}님의 나이는 {}살입니다\".format(name,age))"
   ]
  },
  {
   "cell_type": "code",
   "execution_count": null,
   "id": "ac49861a",
   "metadata": {},
   "outputs": [],
   "source": [
    "# 2. 정수입력받아 산술연산결과 출력\n",
    "a = int(input(\"첫번째 숫자?\"))\n",
    "b = int(input(\"두번째 숫자?\"))\n",
    "print(\"덧셈 :\",a + b)\n",
    "print(\"뺄셈 :\",a - b)\n",
    "print(\"곱셈 :\",a * b)\n",
    "print(\"나눗셈 :\",a/b)\n",
    "print(\"몫 :\",a//b)\n",
    "print(\"나머지 :\",a%b)"
   ]
  },
  {
   "cell_type": "code",
   "execution_count": null,
   "id": "dec9a0dd",
   "metadata": {},
   "outputs": [],
   "source": [
    "# 3.\n",
    "message =\"Hello World\"\n",
    "splited_message = message.split()\n",
    "print(splited_message[1], splited_message[0])"
   ]
  },
  {
   "cell_type": "code",
   "execution_count": null,
   "id": "f14d1f37",
   "metadata": {},
   "outputs": [],
   "source": [
    "# 4. x = 'abcdef＇를 이용하여 ‘bcdefa’로 출력하세요\n",
    "x = 'abcdef'\n",
    "print(x[1:]+x[0])\n",
    "print(x[1:],x[0], sep='')"
   ]
  },
  {
   "cell_type": "code",
   "execution_count": null,
   "id": "9d005608",
   "metadata": {},
   "outputs": [],
   "source": [
    "# 5. 문자 슬라이싱\n",
    "x = 'abcedf'\n",
    "print(x[::-1])"
   ]
  },
  {
   "cell_type": "code",
   "execution_count": null,
   "id": "a6cf8596",
   "metadata": {},
   "outputs": [],
   "source": [
    "# 6.섭씨온도로 입력받아 화씨 온도로 변환\n",
    "c = int(input(\"섭씨 온도를 입력하세요\"))\n",
    "f = (c*1.8)+32\n",
    "# print(\"입력하신 섭씨 {}도는 화씨온도 {:.2f}도입니다\".format(c, f))\n",
    "# if f%1==0:\n",
    "# if f.is_integer():\n",
    "if f == round(f):\n",
    "    print(\"입력하신 섭씨 {}도는 화씨온도 {:.0f}도입니다\".format(c, f))\n",
    "else:\n",
    "    print(\"입력하신 섭씨 {}도는 화씨온도 {:.2f}도입니다\".format(c, f))"
   ]
  },
  {
   "cell_type": "code",
   "execution_count": null,
   "id": "cd3528aa",
   "metadata": {},
   "outputs": [],
   "source": [
    "# 7. 변수 선언으로 잘못 된 거\n",
    "# (1)for (2)10th (3)Student.name"
   ]
  },
  {
   "cell_type": "code",
   "execution_count": null,
   "id": "4064d397",
   "metadata": {},
   "outputs": [],
   "source": [
    "# 8. 코드 실행결과는?\n",
    "text = \"Seoul A001 - programming with python\"\n",
    "print(text[:4]+text[-1]+text.split()[0])\n",
    "print(text[:4], text[-1], text.split()[0])"
   ]
  },
  {
   "cell_type": "code",
   "execution_count": null,
   "id": "d6950608",
   "metadata": {},
   "outputs": [],
   "source": [
    "# 9. 연산식과 결과가 다른 것 (2)수식 8/2 결과 4가 아니고 4.0"
   ]
  },
  {
   "cell_type": "code",
   "execution_count": null,
   "id": "0458d70b",
   "metadata": {},
   "outputs": [],
   "source": [
    "# 10 아래 프로그램의 결과는 ? 에러남\n",
    "x =5\n",
    "y = \"John\"\n",
    "#print(x + y) => print(str(x) + y)"
   ]
  },
  {
   "cell_type": "code",
   "execution_count": null,
   "id": "52d41bbd",
   "metadata": {},
   "outputs": [],
   "source": [
    "# 11. split 함수 이용 나라 출력\n",
    "str_ = \"우리 나라 대한 민국\"\n",
    "str_.split()[1]"
   ]
  },
  {
   "cell_type": "code",
   "execution_count": null,
   "id": "2d4a476c",
   "metadata": {},
   "outputs": [],
   "source": []
  }
 ],
 "metadata": {
  "kernelspec": {
   "display_name": "Python 3 (ipykernel)",
   "language": "python",
   "name": "python3"
  },
  "language_info": {
   "codemirror_mode": {
    "name": "ipython",
    "version": 3
   },
   "file_extension": ".py",
   "mimetype": "text/x-python",
   "name": "python",
   "nbconvert_exporter": "python",
   "pygments_lexer": "ipython3",
   "version": "3.10.9"
  },
  "toc": {
   "base_numbering": 1,
   "nav_menu": {},
   "number_sections": false,
   "sideBar": true,
   "skip_h1_title": false,
   "title_cell": "Table of Contents",
   "title_sidebar": "Contents",
   "toc_cell": false,
   "toc_position": {
    "height": "calc(100% - 180px)",
    "left": "10px",
    "top": "150px",
    "width": "382.391px"
   },
   "toc_section_display": true,
   "toc_window_display": true
  }
 },
 "nbformat": 4,
 "nbformat_minor": 5
}
