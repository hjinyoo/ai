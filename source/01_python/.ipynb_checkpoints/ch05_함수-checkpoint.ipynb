{
 "cells": [
  {
   "cell_type": "code",
   "execution_count": 1,
   "id": "8e254d92",
   "metadata": {},
   "outputs": [
    {
     "data": {
      "text/html": [
       "\n",
       "<style>\n",
       "div.container{width:90% !important;}\n",
       "div.cell.code_cell.rendered{width:100%;}\n",
       "div.input_prompt{padding:0px;}\n",
       "div.CodeMirror {font-family:Consolas; font-size:12pt;}\n",
       "div.text_cell_render.rendered_html{font-size:12pt;}\n",
       "div.output {font-size:12pt; font-weight:bold;}\n",
       "div.input {font-family:Consolas; font-size:12pt;}\n",
       "div.prompt {min-width:70px;}\n",
       "div#toc-wrapper{padding-top:120px;}\n",
       "div.text_cell_render ul li{font-size:12pt;padding:5px;}\n",
       "table.dataframe{font-size:12px;}\n",
       "</style>\n"
      ],
      "text/plain": [
       "<IPython.core.display.HTML object>"
      ]
     },
     "metadata": {},
     "output_type": "display_data"
    }
   ],
   "source": [
    "from IPython.display import display, HTML\n",
    "display(HTML(\"\"\"\n",
    "<style>\n",
    "div.container{width:90% !important;}\n",
    "div.cell.code_cell.rendered{width:100%;}\n",
    "div.input_prompt{padding:0px;}\n",
    "div.CodeMirror {font-family:Consolas; font-size:12pt;}\n",
    "div.text_cell_render.rendered_html{font-size:12pt;}\n",
    "div.output {font-size:12pt; font-weight:bold;}\n",
    "div.input {font-family:Consolas; font-size:12pt;}\n",
    "div.prompt {min-width:70px;}\n",
    "div#toc-wrapper{padding-top:120px;}\n",
    "div.text_cell_render ul li{font-size:12pt;padding:5px;}\n",
    "table.dataframe{font-size:12px;}\n",
    "</style>\n",
    "\"\"\"))"
   ]
  },
  {
   "cell_type": "markdown",
   "id": "3f1f2afa",
   "metadata": {},
   "source": [
    "<b><font size=\"6\" color=\"red\">ch05.함수</font></b>\n",
    "- 반복해서 사용할 코드를 묶어 그것에 이름을 붙인 것\n",
    "- 오버로딩 불가(같은 이름의 함수는 덮어 씀)\n",
    "- 함수 정의\n",
    "```\n",
    "def 함수명([매개변수1, 매개변수2, ..]):\n",
    "    명령어1\n",
    "    명령어2......\n",
    "```\n",
    "# 1절 함수의 정의 및 사용\n",
    "## 1.1 함수 정의"
   ]
  },
  {
   "cell_type": "code",
   "execution_count": 1,
   "id": "0fb3b9ee",
   "metadata": {},
   "outputs": [],
   "source": [
    "def my_message(x, msg): # msg를 x번 출력하는 함수 정의\n",
    "    for i in range(x):\n",
    "        print(i, msg)"
   ]
  },
  {
   "cell_type": "code",
   "execution_count": 3,
   "id": "7f5a91d4",
   "metadata": {},
   "outputs": [
    {
     "name": "stdout",
     "output_type": "stream",
     "text": [
      "0 Hello\n",
      "1 Hello\n",
      "2 Hello\n"
     ]
    }
   ],
   "source": [
    "# 함수 사용 == 함수 호출\n",
    "my_message(3, 'Hello')"
   ]
  },
  {
   "cell_type": "code",
   "execution_count": 4,
   "id": "f71040c1",
   "metadata": {},
   "outputs": [
    {
     "name": "stdout",
     "output_type": "stream",
     "text": [
      "0 Hello\n",
      "1 Hello\n",
      "0 Python\n",
      "1 Python\n",
      "2 Python\n"
     ]
    }
   ],
   "source": [
    "# 함수 이름 변경\n",
    "my_msg = my_message\n",
    "my_message(2, 'Hello')\n",
    "my_msg(3, 'Python')"
   ]
  },
  {
   "cell_type": "code",
   "execution_count": 5,
   "id": "acf22bad",
   "metadata": {},
   "outputs": [
    {
     "data": {
      "text/plain": [
       "(function, function)"
      ]
     },
     "execution_count": 5,
     "metadata": {},
     "output_type": "execute_result"
    }
   ],
   "source": [
    "type(my_msg), type(my_message)"
   ]
  },
  {
   "cell_type": "code",
   "execution_count": 6,
   "id": "66e6c14f",
   "metadata": {},
   "outputs": [
    {
     "name": "stdout",
     "output_type": "stream",
     "text": [
      "Hello\n",
      "Hello\n"
     ]
    }
   ],
   "source": [
    "print(\"Hello\") # 파이썬 내장 함수(import 하지 않고 사용할 수 있는 함수)\n",
    "print = 5\n",
    "# print(\"Hello\")\n",
    "del print\n",
    "print(\"Hello\")"
   ]
  },
  {
   "cell_type": "code",
   "execution_count": 7,
   "id": "0a12da49",
   "metadata": {},
   "outputs": [
    {
     "name": "stdout",
     "output_type": "stream",
     "text": [
      "0 Hello\n",
      "1 Hello\n"
     ]
    }
   ],
   "source": [
    "my_message(2, \"Hello\")"
   ]
  },
  {
   "cell_type": "code",
   "execution_count": 8,
   "id": "4f95a369",
   "metadata": {},
   "outputs": [
    {
     "name": "stdout",
     "output_type": "stream",
     "text": [
      "0 Hello\n",
      "1 Hello\n"
     ]
    }
   ],
   "source": [
    "my_message = 5\n",
    "my_msg(2, 'Hello')"
   ]
  },
  {
   "cell_type": "code",
   "execution_count": 9,
   "id": "9c7e48a6",
   "metadata": {},
   "outputs": [
    {
     "ename": "TypeError",
     "evalue": "'int' object is not callable",
     "output_type": "error",
     "traceback": [
      "\u001b[1;31m---------------------------------------------------------------------------\u001b[0m",
      "\u001b[1;31mTypeError\u001b[0m                                 Traceback (most recent call last)",
      "Cell \u001b[1;32mIn[9], line 1\u001b[0m\n\u001b[1;32m----> 1\u001b[0m \u001b[43mmy_message\u001b[49m\u001b[43m(\u001b[49m\u001b[38;5;241;43m2\u001b[39;49m\u001b[43m,\u001b[49m\u001b[43m \u001b[49m\u001b[38;5;124;43m'\u001b[39;49m\u001b[38;5;124;43mHello\u001b[39;49m\u001b[38;5;124;43m'\u001b[39;49m\u001b[43m)\u001b[49m\n",
      "\u001b[1;31mTypeError\u001b[0m: 'int' object is not callable"
     ]
    }
   ],
   "source": [
    "my_message(2, 'Hello')"
   ]
  },
  {
   "cell_type": "code",
   "execution_count": 2,
   "id": "be4ac2ee",
   "metadata": {},
   "outputs": [
    {
     "ename": "NameError",
     "evalue": "name 'my_message' is not defined",
     "output_type": "error",
     "traceback": [
      "\u001b[1;31m---------------------------------------------------------------------------\u001b[0m",
      "\u001b[1;31mNameError\u001b[0m                                 Traceback (most recent call last)",
      "Cell \u001b[1;32mIn[2], line 2\u001b[0m\n\u001b[0;32m      1\u001b[0m \u001b[38;5;28;01mdel\u001b[39;00m my_message \u001b[38;5;66;03m# 변수 및 함수 제거하여도 사용불가\u001b[39;00m\n\u001b[1;32m----> 2\u001b[0m \u001b[43mmy_message\u001b[49m(\u001b[38;5;241m2\u001b[39m, \u001b[38;5;124m'\u001b[39m\u001b[38;5;124mHello\u001b[39m\u001b[38;5;124m'\u001b[39m)\n",
      "\u001b[1;31mNameError\u001b[0m: name 'my_message' is not defined"
     ]
    }
   ],
   "source": [
    "del my_message # 변수 및 함수 제거하여도 사용불가\n",
    "my_message(2, 'Hello') # 사용자 정의 함수, 라이브러리 함수는 del하여도 사용불가"
   ]
  },
  {
   "cell_type": "code",
   "execution_count": 3,
   "id": "b883d6cd",
   "metadata": {},
   "outputs": [],
   "source": [
    "def my_hello():\n",
    "    print('Hello Python')\n",
    "    print('Hello World')\n",
    "def my_hello(cnt):\n",
    "    for i in range(cnt):\n",
    "        print('Hello, Python', end=\"\\t\")\n",
    "        print('Hello World')"
   ]
  },
  {
   "cell_type": "code",
   "execution_count": 4,
   "id": "d7bc0b8f",
   "metadata": {},
   "outputs": [
    {
     "ename": "TypeError",
     "evalue": "my_hello() missing 1 required positional argument: 'cnt'",
     "output_type": "error",
     "traceback": [
      "\u001b[1;31m---------------------------------------------------------------------------\u001b[0m",
      "\u001b[1;31mTypeError\u001b[0m                                 Traceback (most recent call last)",
      "Cell \u001b[1;32mIn[4], line 1\u001b[0m\n\u001b[1;32m----> 1\u001b[0m \u001b[43mmy_hello\u001b[49m\u001b[43m(\u001b[49m\u001b[43m)\u001b[49m\n",
      "\u001b[1;31mTypeError\u001b[0m: my_hello() missing 1 required positional argument: 'cnt'"
     ]
    }
   ],
   "source": [
    "my_hello()"
   ]
  },
  {
   "cell_type": "code",
   "execution_count": 5,
   "id": "b23320a2",
   "metadata": {},
   "outputs": [
    {
     "name": "stdout",
     "output_type": "stream",
     "text": [
      "Hello, Python\tHello World\n",
      "Hello, Python\tHello World\n"
     ]
    }
   ],
   "source": [
    "my_hello(2)"
   ]
  },
  {
   "cell_type": "code",
   "execution_count": 6,
   "id": "1ff4b36e",
   "metadata": {},
   "outputs": [
    {
     "data": {
      "text/plain": [
       "<function __main__.my_hello(cnt)>"
      ]
     },
     "execution_count": 6,
     "metadata": {},
     "output_type": "execute_result"
    }
   ],
   "source": [
    "my_hello"
   ]
  },
  {
   "cell_type": "code",
   "execution_count": 7,
   "id": "009b1c3d",
   "metadata": {},
   "outputs": [
    {
     "data": {
      "text/plain": [
       "'__main__'"
      ]
     },
     "execution_count": 7,
     "metadata": {},
     "output_type": "execute_result"
    }
   ],
   "source": [
    "__name__"
   ]
  },
  {
   "cell_type": "code",
   "execution_count": 8,
   "id": "f430b3c1",
   "metadata": {},
   "outputs": [
    {
     "name": "stdout",
     "output_type": "stream",
     "text": [
      "Hello, Python\tHello World\n",
      "Hello, Python\tHello World\n"
     ]
    }
   ],
   "source": [
    "if __name__=='__main__':\n",
    "    my_hello(2)"
   ]
  },
  {
   "cell_type": "code",
   "execution_count": 9,
   "id": "0cf62536",
   "metadata": {},
   "outputs": [],
   "source": [
    "import ch05 # ch05모듈이 해석되서 메모리 로드"
   ]
  },
  {
   "cell_type": "code",
   "execution_count": 10,
   "id": "34f3851f",
   "metadata": {},
   "outputs": [
    {
     "name": "stdout",
     "output_type": "stream",
     "text": [
      "ch05\n",
      "Hello, Python\tHello, World\n",
      "Hello, Python\tHello, World\n",
      "Hello, Python\tHello, World\n"
     ]
    }
   ],
   "source": [
    "ch05.my_hello(3)"
   ]
  },
  {
   "cell_type": "code",
   "execution_count": 11,
   "id": "b4d49338",
   "metadata": {},
   "outputs": [],
   "source": [
    "from ch05 import my_hello # 모듈안의 my_hello만 메모리 로드"
   ]
  },
  {
   "cell_type": "code",
   "execution_count": 12,
   "id": "e727f5fa",
   "metadata": {},
   "outputs": [
    {
     "name": "stdout",
     "output_type": "stream",
     "text": [
      "ch05\n",
      "Hello, Python\tHello, World\n",
      "Hello, Python\tHello, World\n",
      "Hello, Python\tHello, World\n"
     ]
    }
   ],
   "source": [
    "my_hello(3)"
   ]
  },
  {
   "cell_type": "markdown",
   "id": "afee3b0a",
   "metadata": {},
   "source": [
    "## 1.2 docstring"
   ]
  },
  {
   "cell_type": "code",
   "execution_count": 14,
   "id": "29a29f35",
   "metadata": {},
   "outputs": [],
   "source": [
    "def my_function():\n",
    "    \"\"\"\n",
    "    함수의 첫 라인에 독스트링을 포함할 수 있습니다\n",
    "    독스트링은 함수의 설명서를 달아주는 역할\n",
    "    주석보다 많는 기능(함수 호출시 shift+tab으로 독스트링을 볼 수 있음)\n",
    "    \"\"\"\n",
    "    pass"
   ]
  },
  {
   "cell_type": "code",
   "execution_count": 15,
   "id": "f3137854",
   "metadata": {},
   "outputs": [
    {
     "name": "stdout",
     "output_type": "stream",
     "text": [
      "\n",
      "    함수의 첫 라인에 독스트링을 포함할 수 있습니다\n",
      "    독스트링은 함수의 설명서를 달아주는 역할\n",
      "    주석보다 많는 기능(함수 호출시 shift+tab으로 독스트링을 볼 수 있음)\n",
      "    \n"
     ]
    }
   ],
   "source": [
    "print(my_function.__doc__)"
   ]
  },
  {
   "cell_type": "code",
   "execution_count": 16,
   "id": "bd24113d",
   "metadata": {},
   "outputs": [],
   "source": [
    "def fibonacci(n):\n",
    "    '''\n",
    "    매개변수로 들어온 n값 미만의 피보나치 수열을 출력하는 함수\n",
    "    ex. n=10 : 0 1 1 2 3 5 8 \n",
    "       n=100 : 0 1 1 2 3 5 8 13 21 34 55 89\n",
    "    '''\n",
    "    a, b = 0, 1 # 함수 내에 선언한 변수 : 지역변수 (반:전역변수)\n",
    "    while a < n:\n",
    "        print(a, end=' ')\n",
    "        a, b = b, a+b\n",
    "    print() # 개행"
   ]
  },
  {
   "cell_type": "code",
   "execution_count": 18,
   "id": "73b90e42",
   "metadata": {},
   "outputs": [
    {
     "name": "stdout",
     "output_type": "stream",
     "text": [
      "0 1 1 2 3 5 8 13 21 34 55 89 144 233 377 610 987 1597 2584 4181 6765 \n"
     ]
    }
   ],
   "source": [
    "fibonacci(10000)"
   ]
  },
  {
   "cell_type": "code",
   "execution_count": 19,
   "id": "6082c198",
   "metadata": {},
   "outputs": [
    {
     "ename": "NameError",
     "evalue": "name 'a' is not defined",
     "output_type": "error",
     "traceback": [
      "\u001b[1;31m---------------------------------------------------------------------------\u001b[0m",
      "\u001b[1;31mNameError\u001b[0m                                 Traceback (most recent call last)",
      "Cell \u001b[1;32mIn[19], line 1\u001b[0m\n\u001b[1;32m----> 1\u001b[0m \u001b[43ma\u001b[49m, b\n",
      "\u001b[1;31mNameError\u001b[0m: name 'a' is not defined"
     ]
    }
   ],
   "source": [
    "a, b # 지역변수는 함수내에서만 사용가능"
   ]
  },
  {
   "cell_type": "markdown",
   "id": "3a0edcd7",
   "metadata": {},
   "source": [
    "## 1.3 지역변수(local var)와 전역변수(global var)"
   ]
  },
  {
   "cell_type": "code",
   "execution_count": 20,
   "id": "3466c686",
   "metadata": {},
   "outputs": [
    {
     "name": "stdout",
     "output_type": "stream",
     "text": [
      "함수안 : 100\n",
      "함수밖 : 100\n"
     ]
    }
   ],
   "source": [
    "global_var = 100\n",
    "def func1():\n",
    "    print('함수안 :',global_var)\n",
    "func1()\n",
    "print('함수밖 :',global_var)"
   ]
  },
  {
   "cell_type": "code",
   "execution_count": 21,
   "id": "b06e5e05",
   "metadata": {},
   "outputs": [
    {
     "name": "stdout",
     "output_type": "stream",
     "text": [
      "함수안 : 200\n"
     ]
    }
   ],
   "source": [
    "def func2():\n",
    "    local_var =200 #지역변수(함수내에서 할당)\n",
    "    print('함수안 :', local_var)\n",
    "func2()"
   ]
  },
  {
   "cell_type": "code",
   "execution_count": 22,
   "id": "92114639",
   "metadata": {},
   "outputs": [],
   "source": [
    "# print('함수밖에서 지역변수 : ',local_var) # 에러"
   ]
  },
  {
   "cell_type": "code",
   "execution_count": 24,
   "id": "75ee8732",
   "metadata": {},
   "outputs": [
    {
     "name": "stdout",
     "output_type": "stream",
     "text": [
      "지역변수 g_var : 200\n",
      "전역변수 g_var : 100\n"
     ]
    }
   ],
   "source": [
    "g_var = 100 # 전역변수\n",
    "def func3():\n",
    "    g_var = 200 # 지역변수 (함수내에서 할당)\n",
    "    print('지역변수 g_var :', g_var)\n",
    "func3()\n",
    "print('전역변수 g_var :', g_var)"
   ]
  },
  {
   "cell_type": "code",
   "execution_count": 25,
   "id": "00aa5496",
   "metadata": {},
   "outputs": [
    {
     "ename": "UnboundLocalError",
     "evalue": "local variable 'g_var' referenced before assignment",
     "output_type": "error",
     "traceback": [
      "\u001b[1;31m---------------------------------------------------------------------------\u001b[0m",
      "\u001b[1;31mUnboundLocalError\u001b[0m                         Traceback (most recent call last)",
      "Cell \u001b[1;32mIn[25], line 7\u001b[0m\n\u001b[0;32m      5\u001b[0m     \u001b[38;5;28mprint\u001b[39m(\u001b[38;5;124m'\u001b[39m\u001b[38;5;124m지역변수 g_var :\u001b[39m\u001b[38;5;124m'\u001b[39m, g_var)\n\u001b[0;32m      6\u001b[0m     g_var \u001b[38;5;241m=\u001b[39m \u001b[38;5;241m200\u001b[39m \u001b[38;5;66;03m#지역변수(함수 내에서 할당)\u001b[39;00m\n\u001b[1;32m----> 7\u001b[0m \u001b[43mfunc3\u001b[49m\u001b[43m(\u001b[49m\u001b[43m)\u001b[49m\n\u001b[0;32m      8\u001b[0m \u001b[38;5;28mprint\u001b[39m(\u001b[38;5;124m'\u001b[39m\u001b[38;5;124mg_var :\u001b[39m\u001b[38;5;124m'\u001b[39m, g_var)\n",
      "Cell \u001b[1;32mIn[25], line 5\u001b[0m, in \u001b[0;36mfunc3\u001b[1;34m()\u001b[0m\n\u001b[0;32m      4\u001b[0m \u001b[38;5;28;01mdef\u001b[39;00m \u001b[38;5;21mfunc3\u001b[39m():\n\u001b[1;32m----> 5\u001b[0m     \u001b[38;5;28mprint\u001b[39m(\u001b[38;5;124m'\u001b[39m\u001b[38;5;124m지역변수 g_var :\u001b[39m\u001b[38;5;124m'\u001b[39m, \u001b[43mg_var\u001b[49m)\n\u001b[0;32m      6\u001b[0m     g_var \u001b[38;5;241m=\u001b[39m \u001b[38;5;241m200\u001b[39m\n",
      "\u001b[1;31mUnboundLocalError\u001b[0m: local variable 'g_var' referenced before assignment"
     ]
    }
   ],
   "source": [
    "# 렉시컬 특성 : 변수가 어디서 선언되었는지에 따라 \n",
    "# 변수의 범위가 정해짐(지역vs전역)\n",
    "g_var = 100 #전역변수\n",
    "def func3():\n",
    "    print('지역변수 g_var :', g_var)\n",
    "    g_var = 200 #지역변수(함수 내에서 할당)\n",
    "func3()\n",
    "print('g_var :', g_var)"
   ]
  },
  {
   "cell_type": "code",
   "execution_count": 26,
   "id": "f91e9245",
   "metadata": {},
   "outputs": [
    {
     "name": "stdout",
     "output_type": "stream",
     "text": [
      "전역변수 g_var : 100\n",
      "전역변수 g_var : 200\n"
     ]
    }
   ],
   "source": [
    "# 렉시컬 특성\n",
    "g_var = 100 #전역변수\n",
    "def func3():\n",
    "    global g_var # 함수내에서의 g_var는 전역변수를 쓰겠다\n",
    "    print('전역변수 g_var :', g_var)\n",
    "    g_var = 200 #지역변수 g_var에 200할당\n",
    "func3()\n",
    "print('전역변수 g_var :', g_var)"
   ]
  },
  {
   "cell_type": "markdown",
   "id": "4994472d",
   "metadata": {},
   "source": [
    "## 1.4 값에 의한 호출\n",
    "- 함수에 인수로 전달되는 변수가 스칼라 변수(문자, 숫자, 논리형)일 때"
   ]
  },
  {
   "cell_type": "code",
   "execution_count": 27,
   "id": "cd5f8ee8",
   "metadata": {},
   "outputs": [
    {
     "data": {
      "text/plain": [
       "2218707543920"
      ]
     },
     "execution_count": 27,
     "metadata": {},
     "output_type": "execute_result"
    }
   ],
   "source": [
    "foo = 'a' # 전역변수\n",
    "id(foo)"
   ]
  },
  {
   "cell_type": "code",
   "execution_count": 28,
   "id": "b9f1207c",
   "metadata": {},
   "outputs": [
    {
     "name": "stdout",
     "output_type": "stream",
     "text": [
      "before : a 의 주소는  2218707543920\n",
      "After : aaa 의 주소는  2218814506288\n"
     ]
    }
   ],
   "source": [
    "def func1(f): #매개변수는 지역변수\n",
    "    print('before :', f, '의 주소는 ', id(f))\n",
    "    f = f*3\n",
    "    print('After :', f , '의 주소는 ', id(f))\n",
    "func1(foo)"
   ]
  },
  {
   "cell_type": "code",
   "execution_count": 29,
   "id": "062b6cff",
   "metadata": {},
   "outputs": [
    {
     "name": "stdout",
     "output_type": "stream",
     "text": [
      "foo =  a 의 주소는 2218707543920\n"
     ]
    }
   ],
   "source": [
    "print('foo = ', foo, '의 주소는', id(foo))"
   ]
  },
  {
   "cell_type": "markdown",
   "id": "3e3ef0c9",
   "metadata": {},
   "source": [
    "## 1.5 참조에 의한 호출\n",
    "- 함수에 인수로 전달되는 변수가 리스트,튜플,셋,딕셔너리,기타 객체일 경우"
   ]
  },
  {
   "cell_type": "code",
   "execution_count": null,
   "id": "b26cd35f",
   "metadata": {},
   "outputs": [],
   "source": [
    "L = [1, 2, 3, 4, 5]\n",
    "id(L)"
   ]
  },
  {
   "cell_type": "code",
   "execution_count": null,
   "id": "08d5f665",
   "metadata": {},
   "outputs": [],
   "source": [
    "def func2(f): #매개변수는 지역변수\n",
    "    print('before :', f, '의 주소는 ', id(f))\n",
    "    f.append(6)\n",
    "    print('After :', f , '의 주소는 ', id(f))\n",
    "func2(L)"
   ]
  },
  {
   "cell_type": "code",
   "execution_count": null,
   "id": "8715c07f",
   "metadata": {},
   "outputs": [],
   "source": [
    "print('L=', L, '의 주소는', id(L))"
   ]
  },
  {
   "cell_type": "markdown",
   "id": "3f023115",
   "metadata": {},
   "source": [
    "# 2절 함수의 실행결과를 반환하는 RETURN"
   ]
  },
  {
   "cell_type": "code",
   "execution_count": 33,
   "id": "7b566b12",
   "metadata": {},
   "outputs": [],
   "source": [
    "def fibonacci_print(n):\n",
    "    '매개변수로 들어온 n값 미만의 피보나치 수열을 출력하는 함수'\n",
    "    a, b =0, 1 # 함수 내에 선언한 변수 : 지역변수 (반:전역변수)\n",
    "    while a < n:\n",
    "        print(a, end=' ')\n",
    "        a, b = b, a+b\n",
    "    print() # 개행\n",
    "def fibonacci(n):\n",
    "    \"n미만의 피보나치수열을 리스트로 return\"\n",
    "    result = [] # 피보나치수열을 append할 리스트\n",
    "    a, b = 0, 1\n",
    "    while a<n:\n",
    "        result.append(a) # 리스트에 append\n",
    "        a, b = b, a+b\n",
    "    return result"
   ]
  },
  {
   "cell_type": "code",
   "execution_count": 34,
   "id": "24f7a3c8",
   "metadata": {},
   "outputs": [
    {
     "name": "stdout",
     "output_type": "stream",
     "text": [
      "[0, 1, 1, 2, 3, 5, 8]\n",
      "<class 'list'>\n"
     ]
    }
   ],
   "source": [
    "x = fibonacci(10)\n",
    "print(x)\n",
    "print(type(x))"
   ]
  },
  {
   "cell_type": "code",
   "execution_count": 35,
   "id": "360234ac",
   "metadata": {},
   "outputs": [
    {
     "name": "stdout",
     "output_type": "stream",
     "text": [
      "0 1 1 2 3 5 8 \n",
      "x= None\n",
      "<class 'NoneType'>\n"
     ]
    }
   ],
   "source": [
    "x = fibonacci_print(10)\n",
    "print('x=',x)\n",
    "print(type(x))"
   ]
  },
  {
   "cell_type": "markdown",
   "id": "0c5d4f3c",
   "metadata": {},
   "source": [
    "### 여러개 값 return\n",
    "- 여러개 값을 갖는 튜플로 return"
   ]
  },
  {
   "cell_type": "code",
   "execution_count": 36,
   "id": "33b33597",
   "metadata": {},
   "outputs": [],
   "source": [
    "def swap(a, b):\n",
    "    '매개변수의 순서를 바꿔서 return'\n",
    "    return b,a # return(b, a)"
   ]
  },
  {
   "cell_type": "code",
   "execution_count": 39,
   "id": "efa4dcc7",
   "metadata": {},
   "outputs": [
    {
     "name": "stdout",
     "output_type": "stream",
     "text": [
      "함수 실행 전 x, y = 5 10\n",
      "함수 실행 전 x, y = 10 5\n"
     ]
    }
   ],
   "source": [
    "x = 5; y = 10\n",
    "print('함수 실행 전 x, y =', x, y)\n",
    "x, y = swap(x, y)\n",
    "print('함수 실행 전 x, y =', x, y)"
   ]
  },
  {
   "cell_type": "markdown",
   "id": "ea282027",
   "metadata": {},
   "source": [
    "# 3절 함수의 매개변수 ★\n",
    "## 3.1 기본값을 갖는 매개변수"
   ]
  },
  {
   "cell_type": "code",
   "execution_count": 40,
   "id": "f45f9e58",
   "metadata": {},
   "outputs": [],
   "source": [
    "def make_url(ip, port=80): # 순서인수 > 기본값을 갖는 매개변수\n",
    "    return \"http://{}:{}\".format(ip,port)"
   ]
  },
  {
   "cell_type": "code",
   "execution_count": 41,
   "id": "b3d28514",
   "metadata": {},
   "outputs": [
    {
     "name": "stdout",
     "output_type": "stream",
     "text": [
      "http://localhost:8090\n",
      "http://www.naver.com:80\n",
      "http://localhost:9090\n"
     ]
    }
   ],
   "source": [
    "print(make_url(\"localhost\", 8090))\n",
    "print(make_url(\"www.naver.com\"))\n",
    "print(make_url(port=9090, ip=\"localhost\"))"
   ]
  },
  {
   "cell_type": "code",
   "execution_count": 48,
   "id": "f80e5bd2",
   "metadata": {},
   "outputs": [],
   "source": [
    "# def make_url(port=80, ip): # 순서인수 > 기본값을 갖는 매개변수 순으로 배치\n",
    "#     return \"http://{}:{}\".format(ip,port) 에러남"
   ]
  },
  {
   "cell_type": "markdown",
   "id": "6f436301",
   "metadata": {},
   "source": [
    "## 3.2 기본변수를 기본값으로 갖는 매개변수\n",
    "- 기본 변수가 스칼라 변수\n",
    "- 기본 변수가 리스트, 셋, 딕셔너리, 기타 객체일 때"
   ]
  },
  {
   "cell_type": "code",
   "execution_count": 42,
   "id": "fcb567e6",
   "metadata": {},
   "outputs": [],
   "source": [
    "i = 80\n",
    "# 기본 변수가 스칼라일때 : 함수가 정의되는 시점으로 기본값 셋팅\n",
    "def make_url(ip, port=i):\n",
    "    return \"http://{}:{}\".format(ip,port)"
   ]
  },
  {
   "cell_type": "code",
   "execution_count": 50,
   "id": "8e143513",
   "metadata": {},
   "outputs": [
    {
     "data": {
      "text/plain": [
       "'http://localhost:80'"
      ]
     },
     "execution_count": 50,
     "metadata": {},
     "output_type": "execute_result"
    }
   ],
   "source": [
    "i = 90 \n",
    "make_url(\"localhost\")"
   ]
  },
  {
   "cell_type": "code",
   "execution_count": 51,
   "id": "3b647dda",
   "metadata": {},
   "outputs": [
    {
     "name": "stdout",
     "output_type": "stream",
     "text": [
      "[10]\n"
     ]
    }
   ],
   "source": [
    "list_= []\n",
    "# 기본변수가 리스트, 셋, 딕셔너리, 객체일 때 : 함수가 실행되는 시점으로 기본값 셋팅\n",
    "def func3(a, L=list_):\n",
    "    L.append(a)\n",
    "    return L\n",
    "print(func3(10))"
   ]
  },
  {
   "cell_type": "code",
   "execution_count": 12,
   "id": "5885c9ba",
   "metadata": {},
   "outputs": [
    {
     "name": "stdout",
     "output_type": "stream",
     "text": [
      "[10, 20]\n"
     ]
    }
   ],
   "source": [
    "print(func3(20))"
   ]
  },
  {
   "cell_type": "code",
   "execution_count": 13,
   "id": "99ff157e",
   "metadata": {},
   "outputs": [
    {
     "name": "stdout",
     "output_type": "stream",
     "text": [
      "list_= [10, 20]\n"
     ]
    }
   ],
   "source": [
    "print(\"list_=\", list_)"
   ]
  },
  {
   "cell_type": "code",
   "execution_count": 16,
   "id": "9e37e8ab",
   "metadata": {},
   "outputs": [
    {
     "name": "stdout",
     "output_type": "stream",
     "text": [
      "[10]\n",
      "[10]\n",
      "[10]\n",
      "[1, 2, 3, 10]\n"
     ]
    }
   ],
   "source": [
    "# 실행할 때마다 L을 공유하는게 싫으면\n",
    "def func3(a, L=None):\n",
    "    if L is None:\n",
    "        L = []\n",
    "    L.append(a)\n",
    "    return L\n",
    "print(func3(10))\n",
    "print(func3(10))\n",
    "print(func3(10))\n",
    "print(func3(10, [1, 2, 3]))"
   ]
  },
  {
   "cell_type": "markdown",
   "id": "23381991",
   "metadata": {},
   "source": [
    "## 3.3 순서인수, 키워드인수\n",
    "- 순서인수 : 함수에 정의된 순서대로 전달방식\n",
    "- 키워드인수 : 인수의 이름을 명시하는 방식\n",
    "- 함수정의 시 순서인수와 키워드 인수가 같이 올 때는 순서인수 > 키워드인수 순으로"
   ]
  },
  {
   "cell_type": "code",
   "execution_count": 18,
   "id": "1eaf0a9a",
   "metadata": {},
   "outputs": [],
   "source": [
    "def func3(a, L=None):\n",
    "    if L is None:\n",
    "        L = []\n",
    "    L.append(a)\n",
    "    return L"
   ]
  },
  {
   "cell_type": "code",
   "execution_count": 20,
   "id": "d0676197",
   "metadata": {},
   "outputs": [
    {
     "name": "stdout",
     "output_type": "stream",
     "text": [
      "[10]\n",
      "[10, 20]\n"
     ]
    }
   ],
   "source": [
    "lst = []\n",
    "print(func3(10, lst))     # 순서인수 : 함수 정의된 순서대로 전달하는 방식\n",
    "print(func3(L=lst, a=20)) # 키워드인수 : 인수의 이름을 명시하여 전달하는 방식"
   ]
  },
  {
   "cell_type": "markdown",
   "id": "3573ddc9",
   "metadata": {},
   "source": [
    "## 3.4 튜플 매개변수를 이용한 가변인수 설정\n",
    "- 가변인수 : 매개변수의 갯수가 가변"
   ]
  },
  {
   "cell_type": "code",
   "execution_count": 23,
   "id": "b56ec35f",
   "metadata": {},
   "outputs": [],
   "source": [
    "# 파이썬은 함수의 중복정의(오버로딩)을 지원하지 않음\n",
    "def add(a, b):\n",
    "    return a+b\n",
    "def add(a, b, c):\n",
    "    return a+b+c"
   ]
  },
  {
   "cell_type": "code",
   "execution_count": 25,
   "id": "b7f90152",
   "metadata": {},
   "outputs": [
    {
     "ename": "TypeError",
     "evalue": "add() missing 1 required positional argument: 'c'",
     "output_type": "error",
     "traceback": [
      "\u001b[1;31m---------------------------------------------------------------------------\u001b[0m",
      "\u001b[1;31mTypeError\u001b[0m                                 Traceback (most recent call last)",
      "Cell \u001b[1;32mIn[25], line 1\u001b[0m\n\u001b[1;32m----> 1\u001b[0m \u001b[43madd\u001b[49m\u001b[43m(\u001b[49m\u001b[38;5;241;43m3\u001b[39;49m\u001b[43m,\u001b[49m\u001b[38;5;241;43m5\u001b[39;49m\u001b[43m)\u001b[49m\n",
      "\u001b[1;31mTypeError\u001b[0m: add() missing 1 required positional argument: 'c'"
     ]
    }
   ],
   "source": [
    "add(3,5)"
   ]
  },
  {
   "cell_type": "code",
   "execution_count": 45,
   "id": "b0ea3110",
   "metadata": {},
   "outputs": [],
   "source": [
    "# args앞에 * : args가 튜플로 전달받는다\n",
    "def add(*args):\n",
    "    # print('args =', args)\n",
    "    '전달받은 매개변수들의 합을 return. 매개변수가 없는 경우 0을 return'\n",
    "    sum = 0 # 누적변수\n",
    "    for num in args:\n",
    "        sum += num # sum = sum+num\n",
    "    return sum"
   ]
  },
  {
   "cell_type": "code",
   "execution_count": 46,
   "id": "c6d3ae1e",
   "metadata": {
    "scrolled": true
   },
   "outputs": [
    {
     "name": "stdout",
     "output_type": "stream",
     "text": [
      "0\n",
      "1\n",
      "4\n",
      "55\n"
     ]
    }
   ],
   "source": [
    "print(add())\n",
    "print(add(1))\n",
    "print(add(1,3))\n",
    "print(add(1, 2, 3, 4, 5, 6, 7, 8, 9, 10))"
   ]
  },
  {
   "cell_type": "code",
   "execution_count": 34,
   "id": "1929f653",
   "metadata": {},
   "outputs": [
    {
     "data": {
      "text/plain": [
       "'Python-web-HTML/CSS-JavaScript-DBMS'"
      ]
     },
     "execution_count": 34,
     "metadata": {},
     "output_type": "execute_result"
    }
   ],
   "source": [
    "subject = ('Python', 'web', 'HTML/CSS', 'JavaScript', 'DBMS')\n",
    "\"-\".join(subject)"
   ]
  },
  {
   "cell_type": "code",
   "execution_count": 35,
   "id": "12528fc6",
   "metadata": {},
   "outputs": [],
   "source": [
    "# 튜플 매개변수와 일반 매개변수가 같이 있을 때\n",
    "def concat(*subject, sep):\n",
    "    return sep.join(subject)"
   ]
  },
  {
   "cell_type": "code",
   "execution_count": 36,
   "id": "8ac4a986",
   "metadata": {},
   "outputs": [
    {
     "ename": "TypeError",
     "evalue": "concat() missing 1 required keyword-only argument: 'sep'",
     "output_type": "error",
     "traceback": [
      "\u001b[1;31m---------------------------------------------------------------------------\u001b[0m",
      "\u001b[1;31mTypeError\u001b[0m                                 Traceback (most recent call last)",
      "Cell \u001b[1;32mIn[36], line 1\u001b[0m\n\u001b[1;32m----> 1\u001b[0m \u001b[43mconcat\u001b[49m\u001b[43m(\u001b[49m\u001b[38;5;124;43m'\u001b[39;49m\u001b[38;5;124;43mPython\u001b[39;49m\u001b[38;5;124;43m'\u001b[39;49m\u001b[43m,\u001b[49m\u001b[43m \u001b[49m\u001b[38;5;124;43m'\u001b[39;49m\u001b[38;5;124;43mweb\u001b[39;49m\u001b[38;5;124;43m'\u001b[39;49m\u001b[43m,\u001b[49m\u001b[43m \u001b[49m\u001b[38;5;124;43m'\u001b[39;49m\u001b[38;5;124;43mHTML/CSS\u001b[39;49m\u001b[38;5;124;43m'\u001b[39;49m\u001b[43m,\u001b[49m\u001b[43m \u001b[49m\u001b[38;5;124;43m'\u001b[39;49m\u001b[38;5;124;43mJavaScript\u001b[39;49m\u001b[38;5;124;43m'\u001b[39;49m\u001b[43m,\u001b[49m\u001b[43m \u001b[49m\u001b[38;5;124;43m'\u001b[39;49m\u001b[38;5;124;43mDBMS\u001b[39;49m\u001b[38;5;124;43m'\u001b[39;49m\u001b[43m,\u001b[49m\u001b[38;5;124;43m'\u001b[39;49m\u001b[38;5;124;43m-\u001b[39;49m\u001b[38;5;124;43m'\u001b[39;49m\u001b[43m)\u001b[49m\n",
      "\u001b[1;31mTypeError\u001b[0m: concat() missing 1 required keyword-only argument: 'sep'"
     ]
    }
   ],
   "source": [
    "concat('Python', 'web', 'HTML/CSS', 'JavaScript', 'DBMS','-')"
   ]
  },
  {
   "cell_type": "code",
   "execution_count": 37,
   "id": "ef2de9d3",
   "metadata": {},
   "outputs": [
    {
     "data": {
      "text/plain": [
       "'Python-web-HTML/CSS-JavaScript-DBMS'"
      ]
     },
     "execution_count": 37,
     "metadata": {},
     "output_type": "execute_result"
    }
   ],
   "source": [
    "# 해결책1 : 매개변수 이름을 지정해서 호출\n",
    "concat('Python', 'web', 'HTML/CSS', 'JavaScript', 'DBMS',sep='-')"
   ]
  },
  {
   "cell_type": "code",
   "execution_count": 41,
   "id": "01fd5a42",
   "metadata": {},
   "outputs": [
    {
     "name": "stdout",
     "output_type": "stream",
     "text": [
      "Python ~ web ~ HTML/CSS ~ JavaScript ~ DBMS\n",
      "Python-web-HTML/CSS-JavaScript-DBMS\n"
     ]
    }
   ],
   "source": [
    "# 해결책2 : 기본값을 갖는 키워드인수 사용\n",
    "def concat(*subject, sep=' ~ '): # 튜플 매개변수 > 키워드인수\n",
    "    return sep.join(subject)\n",
    "print(concat('Python', 'web', 'HTML/CSS', 'JavaScript', 'DBMS'))\n",
    "print(concat('Python', 'web', 'HTML/CSS', 'JavaScript', 'DBMS', sep='-'))"
   ]
  },
  {
   "cell_type": "code",
   "execution_count": 42,
   "id": "e67df658",
   "metadata": {},
   "outputs": [
    {
     "name": "stdout",
     "output_type": "stream",
     "text": [
      "Python=web=js\n"
     ]
    }
   ],
   "source": [
    "print('Python','web', 'js', sep='=')"
   ]
  },
  {
   "cell_type": "code",
   "execution_count": 43,
   "id": "44acf14c",
   "metadata": {},
   "outputs": [],
   "source": [
    "# 해결책3 : sep을 순서인수로 앞으로\n",
    "def concat(sep, *subject):\n",
    "    return sep.join(subject)"
   ]
  },
  {
   "cell_type": "code",
   "execution_count": 44,
   "id": "e0baf826",
   "metadata": {},
   "outputs": [
    {
     "data": {
      "text/plain": [
       "'Python~Web~DB~MLDL'"
      ]
     },
     "execution_count": 44,
     "metadata": {},
     "output_type": "execute_result"
    }
   ],
   "source": [
    "concat('~', 'Python', 'Web', 'DB', 'MLDL')"
   ]
  },
  {
   "cell_type": "markdown",
   "id": "edcfa971",
   "metadata": {},
   "source": [
    "## 3.1 딕셔너리 매개변수\n",
    "- 딕셔너리 인수 : 여러개의 키워드인수를 딕셔너리 형태로 받아서 가변인수로 처리"
   ]
  },
  {
   "cell_type": "code",
   "execution_count": 1,
   "id": "7029a1f7",
   "metadata": {},
   "outputs": [],
   "source": [
    "def func5(**args):\n",
    "    print(args)\n",
    "    print(type(args))\n",
    "    for key, value in args.items():\n",
    "        print(\"{} : {}\".format(key,value))"
   ]
  },
  {
   "cell_type": "code",
   "execution_count": 2,
   "id": "b4ddfb15",
   "metadata": {},
   "outputs": [],
   "source": [
    "def func5(**args):\n",
    "    print(args)\n",
    "    print(type(args))\n",
    "    if 'address' not in args: # args에 address 키가 없으면  if문 True\n",
    "        # args['address'] = '서울시 관악구'\n",
    "        # args.update({'address';'서울시 관악구'})\n",
    "        args.update(address='서울시 관악구')\n",
    "    for key, value in args.items():\n",
    "        print(\"{} : {}\".format(key,value))"
   ]
  },
  {
   "cell_type": "code",
   "execution_count": 49,
   "id": "ba0a2074",
   "metadata": {},
   "outputs": [
    {
     "name": "stdout",
     "output_type": "stream",
     "text": [
      "{'name': '홍길동', 'age': 30, 'tel': '010-9999-9999'}\n",
      "<class 'dict'>\n",
      "name : 홍길동\n",
      "age : 30\n",
      "tel : 010-9999-9999\n",
      "address : 서울시 관악구\n"
     ]
    }
   ],
   "source": [
    "func5(name='홍길동', \n",
    "      age =30, \n",
    "      tel = '010-9999-9999')"
   ]
  },
  {
   "cell_type": "code",
   "execution_count": 51,
   "id": "b8efae36",
   "metadata": {},
   "outputs": [],
   "source": [
    "def func5(**args): # args : 딕셔너리러 전달받음\n",
    "    print('이름 :', args.get('name', '몰라'))\n",
    "    print('나이 :', args.get('age', 30))\n",
    "    print('전화 :', args.get('tel','없음'))\n",
    "    print('주소 :', args.get('address', '서울 관악'))"
   ]
  },
  {
   "cell_type": "code",
   "execution_count": 52,
   "id": "e8f94332",
   "metadata": {},
   "outputs": [
    {
     "name": "stdout",
     "output_type": "stream",
     "text": [
      "이름 : 홍길동\n",
      "나이 : 30\n",
      "전화 : 010-9999-9999\n",
      "주소 : 서울 관악\n"
     ]
    }
   ],
   "source": [
    "func5(name='홍길동', \n",
    "      age =30, \n",
    "      tel = '010-9999-9999')"
   ]
  },
  {
   "cell_type": "markdown",
   "id": "b08e31c4",
   "metadata": {},
   "source": [
    "## 3.6 함수 정의시 매개변수의 순서\n",
    "- 순서인수 > 튜플인수(*) > 키워드인수(기본값) > 딕셔너리인수(**)"
   ]
  },
  {
   "cell_type": "code",
   "execution_count": 77,
   "id": "a8c1db33",
   "metadata": {},
   "outputs": [],
   "source": [
    "# 순서인수 > 튜플인수 > 딕셔너리인수\n",
    "def func6(a, b, *c, **d):\n",
    "    print('순서인수 a =', a)\n",
    "    print('순서인수 b =', b)\n",
    "    print('튜플인수 c =', c)\n",
    "    print('딕셔너리인수 d =', d)"
   ]
  },
  {
   "cell_type": "code",
   "execution_count": 80,
   "id": "ce7a7a54",
   "metadata": {},
   "outputs": [
    {
     "name": "stdout",
     "output_type": "stream",
     "text": [
      "순서인수 a = 10\n",
      "순서인수 b = 20\n",
      "튜플인수 c = (1, 2, 3, 4, 5, 6, 7, 8, 9, 'a', 'b', 'True')\n",
      "딕셔너리인수 d = {'name': '홍', 'age': 30, 'address': '신림'}\n"
     ]
    }
   ],
   "source": [
    "func6(10, 20, 1, 2, 3, 4, 5, 6, 7, 8, 9, 'a', 'b', 'True', name='홍', age=30, address='신림')"
   ]
  },
  {
   "cell_type": "code",
   "execution_count": 81,
   "id": "3070a3d8",
   "metadata": {},
   "outputs": [],
   "source": [
    "# 순서인수 > 튜플인수 > 키워드인수(기본값) > 딕셔너리인수\n",
    "def func7(a, b, c, *d, e=10, **f):\n",
    "    print('순서인수 a =', a)\n",
    "    print('순서인수 b =', b)\n",
    "    print('순서인수 c =', c)\n",
    "    print('튜플인수 d =', d)\n",
    "    print('키워드인수(기본값 10) e =', e)\n",
    "    print('딕셔너리인수 f =', f)"
   ]
  },
  {
   "cell_type": "code",
   "execution_count": 84,
   "id": "1b6faafb",
   "metadata": {},
   "outputs": [
    {
     "name": "stdout",
     "output_type": "stream",
     "text": [
      "순서인수 a = 10\n",
      "순서인수 b = 20\n",
      "순서인수 c = 30\n",
      "튜플인수 d = ()\n",
      "키워드인수(기본값 10) e = 100\n",
      "딕셔너리인수 f = {}\n"
     ]
    }
   ],
   "source": [
    "func7(10, 20, 30, e=100)"
   ]
  },
  {
   "cell_type": "code",
   "execution_count": 83,
   "id": "b7cfbc37",
   "metadata": {},
   "outputs": [
    {
     "name": "stdout",
     "output_type": "stream",
     "text": [
      "순서인수 a = 10\n",
      "순서인수 b = 20\n",
      "순서인수 c = 30\n",
      "튜플인수 d = ()\n",
      "키워드인수(기본값 10) e = 10\n",
      "딕셔너리인수 f = {}\n"
     ]
    }
   ],
   "source": [
    "func7(10, 20, 30)"
   ]
  },
  {
   "cell_type": "code",
   "execution_count": 82,
   "id": "c3b95805",
   "metadata": {},
   "outputs": [
    {
     "name": "stdout",
     "output_type": "stream",
     "text": [
      "순서인수 a = 10\n",
      "순서인수 b = 20\n",
      "순서인수 c = 30\n",
      "튜플인수 d = (1, 2, 3, 4, 5)\n",
      "키워드인수(기본값 10) e = 100\n",
      "딕셔너리인수 f = {'shape': 'rect', 'width': 20, 'height': 30}\n"
     ]
    }
   ],
   "source": [
    "func7(10, 20, 30, 1, 2, 3, 4, 5, e=100, shape='rect', width=20, height=30)"
   ]
  },
  {
   "cell_type": "markdown",
   "id": "553a540b",
   "metadata": {},
   "source": [
    "## 3.7 인수의 언패킹\n",
    "### 튜플 인수 언패킹\n",
    "- 언패킹 : 함수 호출시 매개변수 앞에 * 붙임\n",
    "- 패킹 : 함수 정의시 매개변수 앞에 * 붙임(튜플매개변수)"
   ]
  },
  {
   "cell_type": "code",
   "execution_count": 88,
   "id": "2dcf1944",
   "metadata": {},
   "outputs": [],
   "source": [
    "def add(*args):\n",
    "    sum = 0\n",
    "    for num in args:\n",
    "        sum += num\n",
    "    return sum"
   ]
  },
  {
   "cell_type": "code",
   "execution_count": 89,
   "id": "e9356143",
   "metadata": {},
   "outputs": [
    {
     "data": {
      "text/plain": [
       "6"
      ]
     },
     "execution_count": 89,
     "metadata": {},
     "output_type": "execute_result"
    }
   ],
   "source": [
    "add(1,2,3)"
   ]
  },
  {
   "cell_type": "code",
   "execution_count": 91,
   "id": "dd921d77",
   "metadata": {},
   "outputs": [
    {
     "data": {
      "text/plain": [
       "6"
      ]
     },
     "execution_count": 91,
     "metadata": {},
     "output_type": "execute_result"
    }
   ],
   "source": [
    "numbers =(1,2,3)\n",
    "add(*numbers)"
   ]
  },
  {
   "cell_type": "markdown",
   "id": "653ed8cf",
   "metadata": {},
   "source": [
    "### 딕셔너리 인수 언패킹\n",
    "- 언패킹 : 함수 호출시 매개변수 앞에 ** 붙임\n",
    "- 패킹 : 함수 정의시 매개변수 앞에 ** 붙임(튜플매개변수)"
   ]
  },
  {
   "cell_type": "code",
   "execution_count": 55,
   "id": "4c24651d",
   "metadata": {},
   "outputs": [],
   "source": [
    "def func8(**data):\n",
    "    print(data)\n",
    "    for item in data.items():\n",
    "        print(item)"
   ]
  },
  {
   "cell_type": "code",
   "execution_count": 56,
   "id": "80b8e8f3",
   "metadata": {},
   "outputs": [
    {
     "name": "stdout",
     "output_type": "stream",
     "text": [
      "{'shape': 'rect', 'width': 40, 'height': 30}\n",
      "('shape', 'rect')\n",
      "('width', 40)\n",
      "('height', 30)\n"
     ]
    }
   ],
   "source": [
    "func8(shape='rect', width=40, height=30)"
   ]
  },
  {
   "cell_type": "code",
   "execution_count": 57,
   "id": "394e8877",
   "metadata": {
    "scrolled": true
   },
   "outputs": [
    {
     "name": "stdout",
     "output_type": "stream",
     "text": [
      "{'shape': 'rect', 'width': 40, 'height': 30}\n",
      "('shape', 'rect')\n",
      "('width', 40)\n",
      "('height', 30)\n"
     ]
    }
   ],
   "source": [
    "info ={'shape':'rect', 'width':40, 'height':30}\n",
    "func8(**info)"
   ]
  },
  {
   "cell_type": "markdown",
   "id": "4989b724",
   "metadata": {},
   "source": [
    "# 4절 람다식\n",
    "- return 한 줄짜리 작은 익명함수\n",
    "## 4.1 람다식 연습"
   ]
  },
  {
   "cell_type": "code",
   "execution_count": 4,
   "id": "34cb3efd",
   "metadata": {},
   "outputs": [
    {
     "name": "stdout",
     "output_type": "stream",
     "text": [
      "8\n",
      "<class 'function'>\n"
     ]
    }
   ],
   "source": [
    "def add(a, b):\n",
    "    return a+b\n",
    "print(add(3, 5))\n",
    "print(type(add))"
   ]
  },
  {
   "cell_type": "code",
   "execution_count": 5,
   "id": "81fad98e",
   "metadata": {},
   "outputs": [
    {
     "name": "stdout",
     "output_type": "stream",
     "text": [
      "8\n",
      "<class 'function'>\n"
     ]
    }
   ],
   "source": [
    "add2 = lambda a, b : a + b\n",
    "print(add2(3, 5))\n",
    "print(type(add2))"
   ]
  },
  {
   "cell_type": "code",
   "execution_count": 12,
   "id": "3e31f7ca",
   "metadata": {},
   "outputs": [
    {
     "data": {
      "text/plain": [
       "('홀수', '짝수')"
      ]
     },
     "execution_count": 12,
     "metadata": {},
     "output_type": "execute_result"
    }
   ],
   "source": [
    "# ex1. 매개변수로 들어온 값이 짝수인지 홀수인지 return 함수를 람다식으로 만들어 보세요\n",
    "def even_odd_chk(num):\n",
    "#     if num%2:\n",
    "#         result = \"홀수\"\n",
    "#     else:\n",
    "#         result = \"짝수\"\n",
    "#     return result\n",
    "      result = '홀수' if num%2 else \"짝수\"\n",
    "even_odd_chk = lambda num : \"홀수\" if num%2 else \"짝수\"\n",
    "even_odd_chk(5), even_odd_chk(-4)"
   ]
  },
  {
   "cell_type": "code",
   "execution_count": 15,
   "id": "ef759531",
   "metadata": {},
   "outputs": [
    {
     "data": {
      "text/plain": [
       "(4, 4)"
      ]
     },
     "execution_count": 15,
     "metadata": {},
     "output_type": "execute_result"
    }
   ],
   "source": [
    "# ex2. 두 매개변수의 차이를 return하는 함수를 람다식으로 만들어 보세요\n",
    "def diff(a, b):\n",
    "    if a>b:\n",
    "        result = a-b\n",
    "    else:\n",
    "        result = b-a\n",
    "    return result\n",
    "diff = lambda a, b : a-b if a>b else b-a\n",
    "diff(5,1), diff(1,5)"
   ]
  },
  {
   "cell_type": "code",
   "execution_count": 16,
   "id": "6c1f7a54",
   "metadata": {},
   "outputs": [
    {
     "data": {
      "text/plain": [
       "(1000, 'negative')"
      ]
     },
     "execution_count": 16,
     "metadata": {},
     "output_type": "execute_result"
    }
   ],
   "source": [
    "# ex3. 매개변수로 잔액을 받아, 잔액이 0 이상이면 잔액을 return, 음수면 'negative'를 return\n",
    "ex3 = lambda balance : balance if balance>0 else 'negative'\n",
    "ex3(1000), ex3(-100)"
   ]
  },
  {
   "cell_type": "code",
   "execution_count": 27,
   "id": "5054e792",
   "metadata": {},
   "outputs": [
    {
     "data": {
      "text/plain": [
       "('재시험', '유효하지 않음')"
      ]
     },
     "execution_count": 27,
     "metadata": {},
     "output_type": "execute_result"
    }
   ],
   "source": [
    "# ex4. 점수를 입력 받아 80점 이상은 'A팀', 60점 이상은  'B팀', 60점 미만은 '재시험'\n",
    "                        # 100점 초과, 0점 미만은 '유효하지 않음'을 return\n",
    "def levelCHK(score):\n",
    "    if 80<=score<=100:\n",
    "        return 'A팀'\n",
    "    elif 60<=score<=80:\n",
    "        return 'B'\n",
    "    elif 0<=score<=60:\n",
    "        return '재시험'\n",
    "    else:\n",
    "        '유효하지 않음'\n",
    "    \n",
    "ex4 = lambda score : 'A팀' if 80<=score<=100 else \\\n",
    "                      'B팀' if 60<=score<=80  else \\\n",
    "                      '재시험' if 0<=score<=60 else \\\n",
    "                      '유효하지 않음'\n",
    "levelCHK(8), ex4(160)"
   ]
  },
  {
   "cell_type": "code",
   "execution_count": 29,
   "id": "b6340548",
   "metadata": {},
   "outputs": [
    {
     "data": {
      "text/plain": [
       "('D학점', '유효하지 않는 점수')"
      ]
     },
     "execution_count": 29,
     "metadata": {},
     "output_type": "execute_result"
    }
   ],
   "source": [
    "# 점수를 입력 받아 학점을 return\n",
    "score_grade = lambda score : 'A학점' if 90<=score<=100 else \\\n",
    "                              'B학점' if 80<=score<90 else \\\n",
    "                              'C학점' if 70<=score<80 else \\\n",
    "                              'D학점' if 60<=score<70 else \\\n",
    "                              'F학점' if score<60 else \\\n",
    "                              '유효하지 않는 점수'\n",
    "score_grade(60), score_grade(120)"
   ]
  },
  {
   "cell_type": "code",
   "execution_count": 30,
   "id": "29ad88a0",
   "metadata": {},
   "outputs": [
    {
     "data": {
      "text/plain": [
       "(-1, 2)"
      ]
     },
     "execution_count": 30,
     "metadata": {},
     "output_type": "execute_result"
    }
   ],
   "source": [
    "# safe_index 함수를 람다식으로\n",
    "def safe_index(lst, item, start=0):\n",
    "    return lst.index(item,start) if item in lst[start:] else -1\n",
    "#     if item in lst[start:]:\n",
    "#         return lst.index(item,start) # start번째부터 item이 있는 index를 반환\n",
    "#     return -1\n",
    "ex5 = lambda lst, item, start=0 : lst.index(item,start) if item in lst[start:] else \\\n",
    "                                   -1\n",
    "lst = [1, 2, 3]\n",
    "safe_index(lst,4), ex5(lst, 3, 1)"
   ]
  },
  {
   "cell_type": "code",
   "execution_count": 31,
   "id": "f5886905",
   "metadata": {},
   "outputs": [
    {
     "data": {
      "text/plain": [
       "[25, 15, 100, 4.0]"
      ]
     },
     "execution_count": 31,
     "metadata": {},
     "output_type": "execute_result"
    }
   ],
   "source": [
    "# 람다식을 list에 들어갈 수 있음\n",
    "add = lambda a, b : a+b\n",
    "sub = lambda a, b : a-b\n",
    "mul = lambda a, b : a*b\n",
    "div = lambda a, b : a/b if b else '두번째 인자가 0이면 못 나눠요'\n",
    "operations =[add, sub, mul, div] # 사칙연산 함수들\n",
    "\n",
    "def act_operations(a, b, operations=operations): # a,b의 연산 결과를 return \n",
    "    result = []\n",
    "    for op in operations:\n",
    "        result.append(op(a, b))\n",
    "    return result\n",
    "\n",
    "act_operations(20,5)"
   ]
  },
  {
   "cell_type": "code",
   "execution_count": 33,
   "id": "0f9a38db",
   "metadata": {},
   "outputs": [
    {
     "data": {
      "text/plain": [
       "[64, 82]"
      ]
     },
     "execution_count": 33,
     "metadata": {},
     "output_type": "execute_result"
    }
   ],
   "source": [
    "act_operations(8, 2, [lambda x,y : x**y, lambda x,y : 10*x+y] )"
   ]
  },
  {
   "cell_type": "code",
   "execution_count": 34,
   "id": "9f7318a7",
   "metadata": {},
   "outputs": [
    {
     "data": {
      "text/plain": [
       "53"
      ]
     },
     "execution_count": 34,
     "metadata": {},
     "output_type": "execute_result"
    }
   ],
   "source": [
    "(lambda x,y : 10*x+y)(5,3)"
   ]
  },
  {
   "cell_type": "code",
   "execution_count": 35,
   "id": "f808fd18",
   "metadata": {},
   "outputs": [
    {
     "data": {
      "text/plain": [
       "5"
      ]
     },
     "execution_count": 35,
     "metadata": {},
     "output_type": "execute_result"
    }
   ],
   "source": [
    "operations.append(lambda x,y : x**y)\n",
    "len(operations)"
   ]
  },
  {
   "cell_type": "code",
   "execution_count": 36,
   "id": "587375e5",
   "metadata": {},
   "outputs": [
    {
     "data": {
      "text/plain": [
       "[10, 6, 16, 4.0, 64]"
      ]
     },
     "execution_count": 36,
     "metadata": {},
     "output_type": "execute_result"
    }
   ],
   "source": [
    "act_operations(8, 2) # 기본값을 갖는 변수(기본 변수)가 리스트면 기본값은 호출할 시점"
   ]
  },
  {
   "cell_type": "markdown",
   "id": "f87457b7",
   "metadata": {},
   "source": [
    "## 4.2 함수의 매개변수(인수)에 람다식 사용\n",
    "- 람다식을 사용하는 곳 : 함수의 매개변수 > return 문\n",
    "### (1) map"
   ]
  },
  {
   "cell_type": "code",
   "execution_count": 40,
   "id": "c13470e2",
   "metadata": {},
   "outputs": [],
   "source": [
    "def map_template(func, L=[]):\n",
    "    result = []\n",
    "    for item in L:\n",
    "        result.append( func(item) )\n",
    "    return result"
   ]
  },
  {
   "cell_type": "code",
   "execution_count": 60,
   "id": "6e20977c",
   "metadata": {},
   "outputs": [
    {
     "data": {
      "text/plain": [
       "[2, 4, 6, 8, 10, 12, 14, 16, 18]"
      ]
     },
     "execution_count": 60,
     "metadata": {},
     "output_type": "execute_result"
    }
   ],
   "source": [
    "list_data = [1,2,3,4,5,6,7,8,9]\n",
    "# def x_2(x):\n",
    "#     return x*2\n",
    "x_2 = lambda x : x*2\n",
    "map_template(x_2, list_data)"
   ]
  },
  {
   "cell_type": "code",
   "execution_count": 61,
   "id": "0ac219d8",
   "metadata": {},
   "outputs": [
    {
     "data": {
      "text/plain": [
       "[2, 4, 6, 8, 10, 12, 14, 16, 18]"
      ]
     },
     "execution_count": 61,
     "metadata": {},
     "output_type": "execute_result"
    }
   ],
   "source": [
    " map_template(lambda x:x*2, list_data)"
   ]
  },
  {
   "cell_type": "code",
   "execution_count": 48,
   "id": "d2f58ceb",
   "metadata": {},
   "outputs": [
    {
     "data": {
      "text/plain": [
       "[2, 4, 6, 8, 10, 12, 14, 16, 18]"
      ]
     },
     "execution_count": 48,
     "metadata": {},
     "output_type": "execute_result"
    }
   ],
   "source": [
    "# 리스트 컴프리헨션\n",
    "[item*2 for item in list_data]"
   ]
  },
  {
   "cell_type": "code",
   "execution_count": 50,
   "id": "3b2f63ac",
   "metadata": {},
   "outputs": [
    {
     "data": {
      "text/plain": [
       "[2, 4, 6, 8, 10, 12, 14, 16, 18]"
      ]
     },
     "execution_count": 50,
     "metadata": {},
     "output_type": "execute_result"
    }
   ],
   "source": [
    "list(map(lambda x : x*2, list_data))"
   ]
  },
  {
   "cell_type": "code",
   "execution_count": 51,
   "id": "ab216052",
   "metadata": {},
   "outputs": [
    {
     "name": "stdout",
     "output_type": "stream",
     "text": [
      "2 4 6 8 10 12 14 16 18 "
     ]
    }
   ],
   "source": [
    "for data in map(lambda x : x*2, list_data):\n",
    "    print(data,end=\" \")"
   ]
  },
  {
   "cell_type": "code",
   "execution_count": 62,
   "id": "2169b3bc",
   "metadata": {},
   "outputs": [
    {
     "name": "stdout",
     "output_type": "stream",
     "text": [
      "5000 5000 6000 1000 5000 5000 6000 1000 "
     ]
    }
   ],
   "source": [
    "'''\n",
    "예제1, prices = ['5,000', '5000', '6,000', '1000','5,000', '5000', '6,000', '100']를 [5000,5000,6000,1000]식으로 바꾸시오\n",
    "'''\n",
    "prices = ['5,000', '5000', '6,000', '1000', '5,000', '5000', '6,000', '1000']\n",
    "def toint(value):\n",
    "    return int(value.replace(',',''))\n",
    "prices_int = map(lambda value : int(value.replace(',','')), prices)\n",
    "for price in prices_int:\n",
    "    print(price, end=' ')"
   ]
  },
  {
   "cell_type": "code",
   "execution_count": 90,
   "id": "f2ae2db9",
   "metadata": {},
   "outputs": [
    {
     "data": {
      "text/plain": [
       "\"예제2 : members1을 members2로\\nmembers1 = [{'name':'홍길동', 'birth':'2000-01-0'},\\n            {'name':'신길동', 'birth':'1995-12-18'},]\\nmembers2 = [{'name':'홍길동', 'year':2000, 'month':1,'day':1},\\n            {'name':'신길동', 'year':1995, 'month':12, 'day':18},]\\n\""
      ]
     },
     "execution_count": 90,
     "metadata": {},
     "output_type": "execute_result"
    }
   ],
   "source": [
    "'''예제2 : members1을 members2로\n",
    "members1 = [{'name':'홍길동', 'birth':'2000-01-0'},\n",
    "            {'name':'신길동', 'birth':'1995-12-18'},]\n",
    "members2 = [{'name':'홍길동', 'year':2000, 'month':1,'day':1},\n",
    "            {'name':'신길동', 'year':1995, 'month':12, 'day':18},]\n",
    "'''"
   ]
  },
  {
   "cell_type": "code",
   "execution_count": 63,
   "id": "479e4401",
   "metadata": {},
   "outputs": [],
   "source": [
    "members1 = [{'name':'홍길동', 'birth':'2000-01-0'},\n",
    "            {'name':'신길동', 'birth':'1995-12-18'},]"
   ]
  },
  {
   "cell_type": "code",
   "execution_count": 64,
   "id": "9b6a48e3",
   "metadata": {},
   "outputs": [
    {
     "data": {
      "text/plain": [
       "({'year': 2025, 'month': 1, 'day': 1}, {'year': 1995, 'month': 12, 'day': 12})"
      ]
     },
     "execution_count": 64,
     "metadata": {},
     "output_type": "execute_result"
    }
   ],
   "source": [
    "# '2025-01-01' => {'year':2000, 'month':1,'day':1} \n",
    "def split_date(date):\n",
    "    split_date = date.split('-')\n",
    "    return {\n",
    "        'year': int(split_date[0]),\n",
    "        'month':int(split_date[1]),\n",
    "        'day':int(split_date[2])\n",
    "    }\n",
    "split_date('2025-01-01'), split_date('1995-12-12')"
   ]
  },
  {
   "cell_type": "code",
   "execution_count": 72,
   "id": "0f921e72",
   "metadata": {},
   "outputs": [
    {
     "data": {
      "text/plain": [
       "({'year': 2025, 'month': 1, 'day': 1}, {'year': 1995, 'month': 12, 'day': 12})"
      ]
     },
     "execution_count": 72,
     "metadata": {},
     "output_type": "execute_result"
    }
   ],
   "source": [
    "# '2025-01-01' => {'year':2000, 'month':1,'day':1} \n",
    "def split_date(date):\n",
    "    return {\n",
    "        'year': int(date.split('-')[0]),\n",
    "        'month':int(date.split('-')[1]),\n",
    "        'day':int(date.split('-')[2])\n",
    "    }\n",
    "split_date('2025-01-01'), split_date('1995-12-12')"
   ]
  },
  {
   "cell_type": "code",
   "execution_count": 78,
   "id": "934bec06",
   "metadata": {},
   "outputs": [
    {
     "data": {
      "text/plain": [
       "{'year': 2025, 'month': 1, 'day': 1}"
      ]
     },
     "execution_count": 78,
     "metadata": {},
     "output_type": "execute_result"
    }
   ],
   "source": [
    "# {'birth':'2025-01-01'} => {'year':2000, 'month':1,'day':1} \n",
    "def split_date(data):\n",
    "    return {\n",
    "        'year': int(data['birth'].split('-')[0]),\n",
    "        'month':int(data['birth'].split('-')[1]),\n",
    "        'day':int(data['birth'].split('-')[2])\n",
    "    }\n",
    "split_date({'birth':'2025-01-01'})"
   ]
  },
  {
   "cell_type": "code",
   "execution_count": 84,
   "id": "301eab84",
   "metadata": {},
   "outputs": [
    {
     "data": {
      "text/plain": [
       "{'name': '홍길동', 'year': 2000, 'month': 1, 'day': 1}"
      ]
     },
     "execution_count": 84,
     "metadata": {},
     "output_type": "execute_result"
    }
   ],
   "source": [
    "# {'name':'홍길동','birth':'2000-01-01'} =>{'name':'홍길동',''year':2000, 'month':1,'day':1}\n",
    "def member_processing(member):\n",
    "    return {\n",
    "        'name' : member.get('name','이름없음'), # member['name']\n",
    "        'year' : int(member.get('birth').split('-')[0]),\n",
    "        'month': int(member.get('birth').split('-')[1]),\n",
    "        'day'  : int(member.get('birth').split('-')[2]),\n",
    "    }\n",
    "member_processing({'name':'홍길동','birth':'2000-01-01'})"
   ]
  },
  {
   "cell_type": "code",
   "execution_count": 95,
   "id": "353d189a",
   "metadata": {},
   "outputs": [
    {
     "data": {
      "text/plain": [
       "[{'name': '홍길동', 'year': 2000, 'month': 1, 'day': 0},\n",
       " {'name': '신길동', 'year': 1995, 'month': 12, 'day': 18}]"
      ]
     },
     "execution_count": 95,
     "metadata": {},
     "output_type": "execute_result"
    }
   ],
   "source": [
    "members2 = list(map(lambda member : {\n",
    "                              'name' : member.get('name','이름없음'),\n",
    "                              'year' : int(member.get('birth').split('-')[0]),\n",
    "                              'month': int(member.get('birth').split('-')[1]),\n",
    "                              'day'  : int(member.get('birth').split('-')[2]),\n",
    "                               }, members1\n",
    "                   )\n",
    "               )\n",
    "members2"
   ]
  },
  {
   "cell_type": "code",
   "execution_count": 99,
   "id": "f55a5b6d",
   "metadata": {},
   "outputs": [
    {
     "data": {
      "text/plain": [
       "'2000-09-01'"
      ]
     },
     "execution_count": 99,
     "metadata": {},
     "output_type": "execute_result"
    }
   ],
   "source": [
    "# {'year':2000, 'month':1, 'day':1}  => '2025-01-01'\n",
    "def join_date(data):\n",
    "    return \"{}-{:02}-{:02}\".format(data.get('year'),data.get('month'),data.get('day'))\n",
    "join_date({'year':2000, 'month':9, 'day':1})"
   ]
  },
  {
   "cell_type": "code",
   "execution_count": 100,
   "id": "f9a23fc8",
   "metadata": {},
   "outputs": [
    {
     "data": {
      "text/plain": [
       "'2000-09-01'"
      ]
     },
     "execution_count": 100,
     "metadata": {},
     "output_type": "execute_result"
    }
   ],
   "source": [
    "# {'year':2000, 'month':1, 'day':1}  => '2025-01-01'\n",
    "def join_date(data):\n",
    "    return \"{year}-{month:02}-{day:02}\".format(**data)\n",
    "join_date({'year':2000, 'month':9, 'day':1})"
   ]
  },
  {
   "cell_type": "code",
   "execution_count": 102,
   "id": "71e730a8",
   "metadata": {},
   "outputs": [
    {
     "data": {
      "text/plain": [
       "{'birth': '2000-09-01'}"
      ]
     },
     "execution_count": 102,
     "metadata": {},
     "output_type": "execute_result"
    }
   ],
   "source": [
    "# {'year':2000, 'month':1, 'day':1}  => {'birth':'2025-01-01'}\n",
    "def join_date(data):\n",
    "    return {\"birth\" : \"{year}-{month:02}-{day:02}\".format(**data)}\n",
    "join_date({'year':2000, 'month':9, 'day':1})"
   ]
  },
  {
   "cell_type": "code",
   "execution_count": 119,
   "id": "9079fb24",
   "metadata": {},
   "outputs": [
    {
     "data": {
      "text/plain": [
       "{'name': 'hong', 'birth': '2000-01-01'}"
      ]
     },
     "execution_count": 119,
     "metadata": {},
     "output_type": "execute_result"
    }
   ],
   "source": [
    "#{'name':'hong','year':2000, 'month':1. 'day':1} => {'name':'hong','birth':'2000-01-01'}\n",
    "def members_processing(member):\n",
    "    return {\n",
    "        'name' : member.get('name'),\n",
    "        'birth' : \"{year}-{month:02}-{day:02}\".format(**member)\n",
    "    }\n",
    "members_processing({'name' : 'hong', 'year' : 2000, 'month' : 1, 'day' : 1})"
   ]
  },
  {
   "cell_type": "code",
   "execution_count": 120,
   "id": "e2cdd556",
   "metadata": {},
   "outputs": [
    {
     "data": {
      "text/plain": [
       "[{'name': '홍길동', 'birth': '2000-01-00'},\n",
       " {'name': '신길동', 'birth': '1995-12-18'}]"
      ]
     },
     "execution_count": 120,
     "metadata": {},
     "output_type": "execute_result"
    }
   ],
   "source": [
    "list (map(lambda member : {\n",
    "        'name' : member.get('name'),\n",
    "        'birth' : \"{year}-{month:02}-{day:02}\".format(**member)\n",
    "    }, members2))"
   ]
  },
  {
   "cell_type": "markdown",
   "id": "3a41d40c",
   "metadata": {},
   "source": [
    "### (2) filter"
   ]
  },
  {
   "cell_type": "code",
   "execution_count": 121,
   "id": "3ac68b0c",
   "metadata": {},
   "outputs": [],
   "source": [
    "def filter_template(func, L=[]):\n",
    "    result =[]\n",
    "    for item in L:\n",
    "        if func(item):\n",
    "            result.append(item)\n",
    "    return result"
   ]
  },
  {
   "cell_type": "code",
   "execution_count": 122,
   "id": "b85d1688",
   "metadata": {},
   "outputs": [
    {
     "data": {
      "text/plain": [
       "[1, 3, 5, 7, 9]"
      ]
     },
     "execution_count": 122,
     "metadata": {},
     "output_type": "execute_result"
    }
   ],
   "source": [
    "list_data = [1,2,3,4,5,6,7,8,9]\n",
    "def odd_chk(value):\n",
    "    return value%2!=0\n",
    "#     if value%2:\n",
    "#         return True\n",
    "#     else:\n",
    "#         return False\n",
    "filter_template(lambda value : value%2!=0,list_data)"
   ]
  },
  {
   "cell_type": "code",
   "execution_count": 123,
   "id": "da4bc113",
   "metadata": {},
   "outputs": [
    {
     "data": {
      "text/plain": [
       "[1, 3, 5, 7, 9]"
      ]
     },
     "execution_count": 123,
     "metadata": {},
     "output_type": "execute_result"
    }
   ],
   "source": [
    "# 리스트컴프리헨션\n",
    "[value for value in list_data if value%2!=0]"
   ]
  },
  {
   "cell_type": "code",
   "execution_count": 125,
   "id": "1abb1c0f",
   "metadata": {},
   "outputs": [
    {
     "data": {
      "text/plain": [
       "[1, 3, 5, 7, 9]"
      ]
     },
     "execution_count": 125,
     "metadata": {},
     "output_type": "execute_result"
    }
   ],
   "source": [
    "list(filter(lambda value : value%2!=0,list_data))"
   ]
  },
  {
   "cell_type": "code",
   "execution_count": 127,
   "id": "e1bcb53f",
   "metadata": {},
   "outputs": [
    {
     "data": {
      "text/plain": [
       "[1, 3.0, 100, -2.0]"
      ]
     },
     "execution_count": 127,
     "metadata": {},
     "output_type": "execute_result"
    }
   ],
   "source": [
    "#  예제 : 다음 리스트에서 소수점 이하가 0인 수만 출력하시오(filter/리스트컴프리헨션)\n",
    "L =[1, 1.2, 1.5, 3.0, 10.5, 100, -2.0, -12.2]\n",
    "list(filter(lambda x : x%1.0==0, L))"
   ]
  },
  {
   "cell_type": "code",
   "execution_count": 129,
   "id": "064283c0",
   "metadata": {},
   "outputs": [
    {
     "data": {
      "text/plain": [
       "[1, 3.0, 100, -2.0]"
      ]
     },
     "execution_count": 129,
     "metadata": {},
     "output_type": "execute_result"
    }
   ],
   "source": [
    "[item for item in L if item%1==0]"
   ]
  },
  {
   "cell_type": "markdown",
   "id": "d2a447a9",
   "metadata": {},
   "source": [
    "## (3) sort"
   ]
  },
  {
   "cell_type": "code",
   "execution_count": 133,
   "id": "5c166705",
   "metadata": {},
   "outputs": [
    {
     "data": {
      "text/plain": [
       "[10, 6, 3, 1]"
      ]
     },
     "execution_count": 133,
     "metadata": {},
     "output_type": "execute_result"
    }
   ],
   "source": [
    "p = [10, 3, 6, 1]\n",
    "p.sort(reverse = True)\n",
    "p"
   ]
  },
  {
   "cell_type": "code",
   "execution_count": 134,
   "id": "891f47df",
   "metadata": {},
   "outputs": [
    {
     "data": {
      "text/plain": [
       "[(1, 'one'), (2, 'two'), (3, 'three'), (4, 'four')]"
      ]
     },
     "execution_count": 134,
     "metadata": {},
     "output_type": "execute_result"
    }
   ],
   "source": [
    "# 무조건 0번째 item을 기준으로 오름차순 정렬\n",
    "pairs = [(2, 'two'), (1, 'one'), (3, 'three'), (4, 'four')]\n",
    "pairs.sort()\n",
    "pairs"
   ]
  },
  {
   "cell_type": "code",
   "execution_count": 138,
   "id": "561e1660",
   "metadata": {},
   "outputs": [
    {
     "data": {
      "text/plain": [
       "[(2, 'two'), (3, 'three'), (1, 'one'), (4, 'four')]"
      ]
     },
     "execution_count": 138,
     "metadata": {},
     "output_type": "execute_result"
    }
   ],
   "source": [
    "# 1번째 item 기준으로 내림차순 정렬\n",
    "pairs.sort(key=lambda data:data[1], reverse=True)\n",
    "pairs"
   ]
  },
  {
   "cell_type": "code",
   "execution_count": 146,
   "id": "70eb41a2",
   "metadata": {},
   "outputs": [
    {
     "name": "stdout",
     "output_type": "stream",
     "text": [
      "[[1, 100], [9, 9], [10, 200, 2]]\n",
      "[[10, 200, 2], [1, 100], [9, 9]]\n"
     ]
    }
   ],
   "source": [
    "# 0번 item이 큰순(오름차순)\n",
    "number_2d= [[9,9], [1,100], [10,200,2]]\n",
    "number_2d.sort()\n",
    "print(number_2d)\n",
    "# 합이 큰 순으로 정렬\n",
    "number_2d.sort(key=lambda items : sum(items), reverse=True)\n",
    "print(number_2d)"
   ]
  },
  {
   "cell_type": "code",
   "execution_count": 151,
   "id": "6e3b4ab8",
   "metadata": {},
   "outputs": [],
   "source": [
    "students =[{'name':'홍', 'score':99},\n",
    "          {'name':'김', 'score':50},\n",
    "          {'name':'박', 'score':77},\n",
    "          {'score':100}]"
   ]
  },
  {
   "cell_type": "code",
   "execution_count": 153,
   "id": "de735c2c",
   "metadata": {},
   "outputs": [
    {
     "data": {
      "text/plain": [
       "99"
      ]
     },
     "execution_count": 153,
     "metadata": {},
     "output_type": "execute_result"
    }
   ],
   "source": [
    "name_select = lambda data : data.get('score')\n",
    "name_select({'name':'홍', 'score':99})"
   ]
  },
  {
   "cell_type": "code",
   "execution_count": 159,
   "id": "9cd3fff6",
   "metadata": {},
   "outputs": [
    {
     "data": {
      "text/plain": [
       "[{'name': '김', 'score': 50},\n",
       " {'name': '박', 'score': 77},\n",
       " {'name': '홍', 'score': 99},\n",
       " {'score': 100}]"
      ]
     },
     "execution_count": 159,
     "metadata": {},
     "output_type": "execute_result"
    }
   ],
   "source": [
    "# students를 name순으로 정렬(ㄱㄴㄷ순)\n",
    "students.sort(key=lambda data : data.get('name',\"힣\"))\n",
    "students"
   ]
  },
  {
   "cell_type": "code",
   "execution_count": 163,
   "id": "9c0bddf4",
   "metadata": {},
   "outputs": [
    {
     "data": {
      "text/plain": [
       "[{'score': 100},\n",
       " {'name': '홍', 'score': 99},\n",
       " {'name': '박', 'score': 77},\n",
       " {'name': '김', 'score': 50}]"
      ]
     },
     "execution_count": 163,
     "metadata": {},
     "output_type": "execute_result"
    }
   ],
   "source": [
    "# students를 score 큰 순 정렬\n",
    "students.sort(key=lambda data : data.get('score',0), reverse=True)\n",
    "students"
   ]
  },
  {
   "cell_type": "code",
   "execution_count": 176,
   "id": "ac36795b",
   "metadata": {},
   "outputs": [],
   "source": [
    "books = \\\n",
    "   [{'no':2, 'title':'더트릭컬', 'writer':'폴빠','price':'19,800'},\n",
    "    {'no':1, 'title':'흔한남매', 'writer':'백난도', 'price':'15,120'},\n",
    "    {'no':3, 'title':'단 한 번의 삶', 'writer':'김영하', 'price':'15,120'},\n",
    "    {'no':4, 'title':'가격잘못', 'writer':'홍길동', 'price':'ㅁ'},\n",
    "    {'no':5, 'title':'가격이숫자', 'writer':'백난도', 'price':30200},\n",
    "    {'no':6, 'title':'가격이없음', 'writer':'이길동'},] "
   ]
  },
  {
   "cell_type": "code",
   "execution_count": 177,
   "id": "9b9512a1",
   "metadata": {},
   "outputs": [
    {
     "data": {
      "text/plain": [
       "[{'no': 2, 'title': '더트릭컬', 'writer': '폴빠', 'price': '19,800'},\n",
       " {'no': 1, 'title': '흔한남매', 'writer': '백난도', 'price': '15,120'},\n",
       " {'no': 3, 'title': '단 한 번의 삶', 'writer': '김영하', 'price': '15,120'},\n",
       " {'no': 4, 'title': '가격잘못', 'writer': '홍길동', 'price': 'ㅁ'},\n",
       " {'no': 5, 'title': '가격이숫자', 'writer': '백난도', 'price': 30200},\n",
       " {'no': 6, 'title': '가격이없음', 'writer': '이길동'}]"
      ]
     },
     "execution_count": 177,
     "metadata": {},
     "output_type": "execute_result"
    }
   ],
   "source": [
    "books"
   ]
  },
  {
   "cell_type": "code",
   "execution_count": 178,
   "id": "e134083e",
   "metadata": {},
   "outputs": [
    {
     "data": {
      "text/plain": [
       "[{'no': 1, 'title': '흔한남매', 'writer': '백난도', 'price': '15,120'},\n",
       " {'no': 2, 'title': '더트릭컬', 'writer': '폴빠', 'price': '19,800'},\n",
       " {'no': 3, 'title': '단 한 번의 삶', 'writer': '김영하', 'price': '15,120'},\n",
       " {'no': 4, 'title': '가격잘못', 'writer': '홍길동', 'price': 'ㅁ'},\n",
       " {'no': 5, 'title': '가격이숫자', 'writer': '백난도', 'price': 30200},\n",
       " {'no': 6, 'title': '가격이없음', 'writer': '이길동'}]"
      ]
     },
     "execution_count": 178,
     "metadata": {},
     "output_type": "execute_result"
    }
   ],
   "source": [
    "# no 기준으로 sort\n",
    "books.sort(key=lambda book : book['no'])\n",
    "books"
   ]
  },
  {
   "cell_type": "code",
   "execution_count": 179,
   "id": "4ad0481b",
   "metadata": {},
   "outputs": [
    {
     "data": {
      "text/plain": [
       "[{'no': 5, 'title': '가격이숫자', 'writer': '백난도', 'price': 30200},\n",
       " {'no': 6, 'title': '가격이없음', 'writer': '이길동'},\n",
       " {'no': 4, 'title': '가격잘못', 'writer': '홍길동', 'price': 'ㅁ'},\n",
       " {'no': 3, 'title': '단 한 번의 삶', 'writer': '김영하', 'price': '15,120'},\n",
       " {'no': 2, 'title': '더트릭컬', 'writer': '폴빠', 'price': '19,800'},\n",
       " {'no': 1, 'title': '흔한남매', 'writer': '백난도', 'price': '15,120'}]"
      ]
     },
     "execution_count": 179,
     "metadata": {},
     "output_type": "execute_result"
    }
   ],
   "source": [
    "# title 기준으로 sort\n",
    "books.sort(key=lambda book : book['title'])\n",
    "books"
   ]
  },
  {
   "cell_type": "code",
   "execution_count": 181,
   "id": "1634fdf2",
   "metadata": {},
   "outputs": [
    {
     "ename": "TypeError",
     "evalue": "'<' not supported between instances of 'str' and 'int'",
     "output_type": "error",
     "traceback": [
      "\u001b[1;31m---------------------------------------------------------------------------\u001b[0m",
      "\u001b[1;31mTypeError\u001b[0m                                 Traceback (most recent call last)",
      "Cell \u001b[1;32mIn[181], line 2\u001b[0m\n\u001b[0;32m      1\u001b[0m \u001b[38;5;66;03m# price 기준으로 sort\u001b[39;00m\n\u001b[1;32m----> 2\u001b[0m \u001b[43mbooks\u001b[49m\u001b[38;5;241;43m.\u001b[39;49m\u001b[43msort\u001b[49m\u001b[43m(\u001b[49m\u001b[43mkey\u001b[49m\u001b[38;5;241;43m=\u001b[39;49m\u001b[38;5;28;43;01mlambda\u001b[39;49;00m\u001b[43m \u001b[49m\u001b[43mbook\u001b[49m\u001b[43m \u001b[49m\u001b[43m:\u001b[49m\u001b[43m \u001b[49m\u001b[43mbook\u001b[49m\u001b[38;5;241;43m.\u001b[39;49m\u001b[43mget\u001b[49m\u001b[43m(\u001b[49m\u001b[38;5;124;43m\"\u001b[39;49m\u001b[38;5;124;43mprice\u001b[39;49m\u001b[38;5;124;43m\"\u001b[39;49m\u001b[43m,\u001b[49m\u001b[38;5;241;43m0\u001b[39;49m\u001b[43m)\u001b[49m\u001b[43m)\u001b[49m\n\u001b[0;32m      3\u001b[0m books\n",
      "\u001b[1;31mTypeError\u001b[0m: '<' not supported between instances of 'str' and 'int'"
     ]
    }
   ],
   "source": [
    "# price 기준으로 sort\n",
    "books.sort(key=lambda book : book.get(\"price\",0))\n",
    "books"
   ]
  },
  {
   "cell_type": "code",
   "execution_count": 201,
   "id": "c742e82f",
   "metadata": {},
   "outputs": [
    {
     "name": "stdout",
     "output_type": "stream",
     "text": [
      "12000 30200 0 0\n"
     ]
    }
   ],
   "source": [
    "# 30200=> 30200,'12,000'=> 12000, '5000'=>5000, 'ㅁ'=> 0, None=> 0\n",
    "def parse_int(price):\n",
    "    if isinstance(price, str) and price.replace(',','').isdigit():\n",
    "        return int(price.replace(',',''))\n",
    "    elif isinstance(price, int):\n",
    "        return price\n",
    "    else:\n",
    "        return 0\n",
    "    \n",
    "parse_int = lambda price : \\\n",
    "            int(price.replace(',','')) \\\n",
    "            if isinstance(price, str) and price.replace(',','').isdigit() else \\\n",
    "            price if isinstance(price, int) else \\\n",
    "            0\n",
    "print(parse_int('12,000'), parse_int(30200), parse_int('ㅁ'), parse_int('None'))"
   ]
  },
  {
   "cell_type": "code",
   "execution_count": 206,
   "id": "f58bdddf",
   "metadata": {},
   "outputs": [
    {
     "data": {
      "text/plain": [
       "0"
      ]
     },
     "execution_count": 206,
     "metadata": {},
     "output_type": "execute_result"
    }
   ],
   "source": [
    "# {'no':5,'title': '가격이 숫자', 'writer': '백난도', 'price': '12,000'} => 120000\n",
    "parse_int = lambda book : \\\n",
    "            int(book.get('price').replace(',','')) \\\n",
    "                    if isinstance(book.get('price'), str) and \\\n",
    "                                book.get('price').replace(',','').isdigit() else \\\n",
    "            book.get('price') if isinstance(book.get('price'), int) else \\\n",
    "            0\n",
    "\n",
    "parse_int({'no': 5, 'title': '가격이숫자', 'writer': '백난도', 'price': 'ㅁ'})"
   ]
  },
  {
   "cell_type": "code",
   "execution_count": 207,
   "id": "4fb680fb",
   "metadata": {},
   "outputs": [
    {
     "data": {
      "text/plain": [
       "[{'no': 5, 'title': '가격이숫자', 'writer': '백난도', 'price': 30200},\n",
       " {'no': 2, 'title': '더트릭컬', 'writer': '폴빠', 'price': '19,800'},\n",
       " {'no': 3, 'title': '단 한 번의 삶', 'writer': '김영하', 'price': '15,120'},\n",
       " {'no': 1, 'title': '흔한남매', 'writer': '백난도', 'price': '15,120'},\n",
       " {'no': 6, 'title': '가격이없음', 'writer': '이길동'},\n",
       " {'no': 4, 'title': '가격잘못', 'writer': '홍길동', 'price': 'ㅁ'}]"
      ]
     },
     "execution_count": 207,
     "metadata": {},
     "output_type": "execute_result"
    }
   ],
   "source": [
    "copybooks = books.copy()\n",
    "copybooks.sort(key=lambda book : \\\n",
    "            int(book.get('price').replace(',','')) \\\n",
    "                    if isinstance(book.get('price'), str) and \\\n",
    "                                book.get('price').replace(',','').isdigit() else \\\n",
    "            book.get('price') if isinstance(book.get('price'), int) else \\\n",
    "            0,\n",
    "              reverse=True)\n",
    "copybooks"
   ]
  },
  {
   "cell_type": "markdown",
   "id": "c1ef50cb",
   "metadata": {},
   "source": [
    "# 5절 파이썬 내장 함수\n",
    "- import하지 않고 바로 사용 가능한 함수\n",
    "- 키워드(if,while,...)처럼 간주되므로, 식별자(변수명, 함수명, 클래스명)로 사용하는 것을 피한다"
   ]
  },
  {
   "cell_type": "code",
   "execution_count": 209,
   "id": "1ad28525",
   "metadata": {},
   "outputs": [],
   "source": [
    "a=10"
   ]
  },
  {
   "cell_type": "code",
   "execution_count": 210,
   "id": "11a1aeb6",
   "metadata": {},
   "outputs": [
    {
     "data": {
      "text/plain": [
       "{'__name__': '__main__',\n",
       " '__doc__': \"\\n에제1, prices = ['5,000', '5000', '6,000', '1000','5,000', '5000', '6,000', '100']를 [5000,5000,6000,1000]식으로 바꾸시오\\n\",\n",
       " '__package__': None,\n",
       " '__loader__': None,\n",
       " '__spec__': None,\n",
       " '__builtin__': <module 'builtins' (built-in)>,\n",
       " '__builtins__': <module 'builtins' (built-in)>,\n",
       " '_ih': ['',\n",
       "  'def func5(**args):\\n    print(args)\\n    print(type(args))\\n    for key, value in args.items():\\n        print(\"{} : {}\".format(key,value))',\n",
       "  'def func5(**args):\\n    print(args)\\n    print(type(args))\\n    if \\'address\\' not in args: # args에 address 키가 없으면  if문 True\\n        # args[\\'address\\'] = \\'서울시 관악구\\'\\n        # args.update({\\'address\\';\\'서울시 관악구\\'})\\n        args.update(address=\\'서울시 관악구\\')\\n    for key, value in args.items():\\n        print(\"{} : {}\".format(key,value))',\n",
       "  'def add(a, b):\\n    return a+b\\nadd(3, 5)',\n",
       "  'def add(a, b):\\n    return a+b\\nprint(add(3, 5))\\nprint(type(add))',\n",
       "  'add2 = lambda a, b : a + b\\nprint(add2(3, 5))\\nprint(type(add2))',\n",
       "  '# ex1. 매개변수로 들어온 값이 짝수인지 홀수인지 return 함수를 람다식으로 만들어 보세요\\ndef even_odd_chk(num):\\n    if num%2:\\n        result = \"홀수\"\\n    else:\\n        result = \"짝수\"\\n    return result',\n",
       "  '# ex1. 매개변수로 들어온 값이 짝수인지 홀수인지 return 함수를 람다식으로 만들어 보세요\\ndef even_odd_chk(num):\\n    if num%2:\\n        result = \"홀수\"\\n    else:\\n        result = \"짝수\"\\n    return result\\neven_odd_chk(8)',\n",
       "  '# ex1. 매개변수로 들어온 값이 짝수인지 홀수인지 return 함수를 람다식으로 만들어 보세요\\ndef even_odd_chk(num):\\n    if num%2:\\n        result = \"홀수\"\\n    else:\\n        result = \"짝수\"\\n    return result\\neven_odd_chk(5), even_odd_chk(-4)',\n",
       "  '# ex1. 매개변수로 들어온 값이 짝수인지 홀수인지 return 함수를 람다식으로 만들어 보세요\\ndef even_odd_chk(num):    \\n#     if num%2:\\n#         result = \"홀수\"\\n#     else:\\n#         result = \"짝수\"\\n#     return result\\n    result = \\'홀수\\' if num%2 else \"짝수\"\\neven_odd_chk(5), even_odd_chk(-4)',\n",
       "  '# ex1. 매개변수로 들어온 값이 짝수인지 홀수인지 return 함수를 람다식으로 만들어 보세요\\ndef even_odd_chk(num):    \\n#     if num%2:\\n#         result = \"홀수\"\\n#     else:\\n#         result = \"짝수\"\\n#     return result\\n    result = \\'홀수\\' if num%2 else \"짝수\"\\neven_odd_chk(5), even_odd_chk(-4)',\n",
       "  '# ex1. 매개변수로 들어온 값이 짝수인지 홀수인지 return 함수를 람다식으로 만들어 보세요\\ndef even_odd_chk(num):\\n    result = \\'홀수\\' if num%2 else \"짝수\"\\n#     if num%2:\\n#         result = \"홀수\"\\n#     else:\\n#         result = \"짝수\"\\n#     return result\\neven_odd_chk(5), even_odd_chk(-4)',\n",
       "  '# ex1. 매개변수로 들어온 값이 짝수인지 홀수인지 return 함수를 람다식으로 만들어 보세요\\ndef even_odd_chk(num):\\n    result = \\'홀수\\' if num%2 else \"짝수\"\\n#     if num%2:\\n#         result = \"홀수\"\\n#     else:\\n#         result = \"짝수\"\\n#     return result\\n    result = \\'홀수\\' if num%2 else \"짝수\"\\neven_odd_chk = lambda num : \"홀수\" if num%2 else \"짝수\"\\neven_odd_chk(5), even_odd_chk(-4)',\n",
       "  '# ex2. 두 매개변수의 차이를 return하는 함수를 람다식으로 만들어 보세요\\ndiff = lambda a, b : a-b if a>b else b-a\\ndiff(5,1), diff(1,5)',\n",
       "  '# ex2. 두 매개변수의 차이를 return하는 함수를 람다식으로 만들어 보세요\\ndef diff(a, b):\\n    if a>b:\\n        result = a-b\\n    else:\\n        a<b\\n        result = b-a\\n    return result\\ndiff = lambda a, b : a-b if a>b else b-a\\ndiff(5,1), diff(1,5)',\n",
       "  '# ex2. 두 매개변수의 차이를 return하는 함수를 람다식으로 만들어 보세요\\ndef diff(a, b):\\n    if a>b:\\n        result = a-b\\n    else:\\n        result = b-a\\n    return result\\ndiff = lambda a, b : a-b if a>b else b-a\\ndiff(5,1), diff(1,5)',\n",
       "  \"# ex3. 매개변수로 잔액을 받아, 잔액이 0 이상이면 잔액을 return, 음수면 'negative'를 return\\nex3 =lambda balance : balance if balance>0 else 'negative'\\nex3(1000), ex3(-100)\",\n",
       "  \"# ex4. 점수를 입력 받아 80점 이상은 'A팀', 60점 이상은  'B팀', 60점 미만은 '재시험'\\n                        # 100점 초과, 0점 미만은 '유효하지 않음'을 return\\nex4 = lambda score : 'A팀' if 100>=score>=80 'B팀' elif score>=60 'C팀' elif 60>score>0 else '유효하지 않음'\\nex4(100)\",\n",
       "  \"# ex4. 점수를 입력 받아 80점 이상은 'A팀', 60점 이상은  'B팀', 60점 미만은 '재시험'\\n                        # 100점 초과, 0점 미만은 '유효하지 않음'을 return\\nex4 = lambda '팀' : '팀' if 100>=score>=80 'A' elif score>=60 'B' elif 60>score>0 'C' else '유효하지 않음'\\nex4(100)\",\n",
       "  \"# ex4. 점수를 입력 받아 80점 이상은 'A팀', 60점 이상은  'B팀', 60점 미만은 '재시험'\\n                        # 100점 초과, 0점 미만은 '유효하지 않음'을 return\\nex4 = lambda 팀 : 팀 if 100>=score>=80 'A' elif score>=60 'B' elif 60>score>0 'C' else '유효하지 않음'\\nex4(100)\",\n",
       "  \"# ex4. 점수를 입력 받아 80점 이상은 'A팀', 60점 이상은  'B팀', 60점 미만은 '재시험'\\n                        # 100점 초과, 0점 미만은 '유효하지 않음'을 return\\nex4 = lambda team : team if 100>=score>=80 'A' elif score>=60 'B' elif 60>score>0 'C' else '유효하지 않음'\\nex4(100)\",\n",
       "  \"# ex4. 점수를 입력 받아 80점 이상은 'A팀', 60점 이상은  'B팀', 60점 미만은 '재시험'\\n                        # 100점 초과, 0점 미만은 '유효하지 않음'을 return\\ndef levelCHK(score):\\n    if 80<=score=<100:\\n        return 'A팀'\\n    elif 60<=score=<80:\\n        return 'B'\\n    elif 0<=score=<60\\n        return '재시험'\\n    else:\\n        '유효하지 않음'\\n    \\nex4 = lambda score : 'A팀' if 80<=score=<100 else \\\\\\n                      'B팀' if 60<=score=<80  else \\\\\\n                      '재시험' if 0<=score=<60 else \\\\\\n                      '유효하지 않음')\\nlevelCHK(8), ex4(160)\",\n",
       "  \"# ex4. 점수를 입력 받아 80점 이상은 'A팀', 60점 이상은  'B팀', 60점 미만은 '재시험'\\n                        # 100점 초과, 0점 미만은 '유효하지 않음'을 return\\ndef levelCHK(score):\\n    if 80<=score=<100:\\n        return 'A팀'\\n    elif 60<=score=<80:\\n        return 'B'\\n    elif 0<=score=<60\\n        return '재시험'\\n    else:\\n        '유효하지 않음'\\n    \\nex4 = lambda score : 'A팀' if 80<=score=<100 else \\\\\\n                      'B팀' if 60<=score=<80  else \\\\\\n                      '재시험' if 0<=score=<60 else \\\\\\n                      '유효하지 않음'\\nlevelCHK(8), ex4(160)\",\n",
       "  \"# ex4. 점수를 입력 받아 80점 이상은 'A팀', 60점 이상은  'B팀', 60점 미만은 '재시험'\\n                        # 100점 초과, 0점 미만은 '유효하지 않음'을 return\\ndef levelCHK(score):\\n    if 80<=score=<100\\n        return 'A팀'\\n    elif 60<=score=<80\\n        return 'B'\\n    elif 0<=score=<60\\n        return '재시험'\\n    else:\\n        '유효하지 않음'\\n    \\nex4 = lambda score : 'A팀' if 80<=score=<100 else \\\\\\n                      'B팀' if 60<=score=<80  else \\\\\\n                      '재시험' if 0<=score=<60 else \\\\\\n                      '유효하지 않음'\\nlevelCHK(8), ex4(160)\",\n",
       "  \"# ex4. 점수를 입력 받아 80점 이상은 'A팀', 60점 이상은  'B팀', 60점 미만은 '재시험'\\n                        # 100점 초과, 0점 미만은 '유효하지 않음'을 return\\ndef levelCHK(score):\\n    if 80<=score=<100:\\n        return 'A팀'\\n    elif 60<=score=<80:\\n        return 'B'\\n    elif 0<=score=<60:\\n        return '재시험'\\n    else:\\n        '유효하지 않음'\\n    \\nex4 = lambda score : 'A팀' if 80<=score=<100 else \\\\\\n                      'B팀' if 60<=score=<80  else \\\\\\n                      '재시험' if 0<=score=<60 else \\\\\\n                      '유효하지 않음'\\nlevelCHK(8), ex4(160)\",\n",
       "  \"# ex4. 점수를 입력 받아 80점 이상은 'A팀', 60점 이상은  'B팀', 60점 미만은 '재시험'\\n                        # 100점 초과, 0점 미만은 '유효하지 않음'을 return\\ndef levelCHK(score):\\n    if 80<=score<100:\\n        return 'A팀'\\n    elif 60<=score=<80:\\n        return 'B'\\n    elif 0<=score=<60:\\n        return '재시험'\\n    else:\\n        '유효하지 않음'\\n    \\nex4 = lambda score : 'A팀' if 80<=score=<100 else \\\\\\n                      'B팀' if 60<=score=<80  else \\\\\\n                      '재시험' if 0<=score=<60 else \\\\\\n                      '유효하지 않음'\\nlevelCHK(8), ex4(160)\",\n",
       "  \"# ex4. 점수를 입력 받아 80점 이상은 'A팀', 60점 이상은  'B팀', 60점 미만은 '재시험'\\n                        # 100점 초과, 0점 미만은 '유효하지 않음'을 return\\ndef levelCHK(score):\\n    if 80<=score<=100:\\n        return 'A팀'\\n    elif 60<=score<=80:\\n        return 'B'\\n    elif 0<=score<=60:\\n        return '재시험'\\n    else:\\n        '유효하지 않음'\\n    \\nex4 = lambda score : 'A팀' if 80<=score=<100 else \\\\\\n                      'B팀' if 60<=score=<80  else \\\\\\n                      '재시험' if 0<=score=<60 else \\\\\\n                      '유효하지 않음'\\nlevelCHK(8), ex4(160)\",\n",
       "  \"# ex4. 점수를 입력 받아 80점 이상은 'A팀', 60점 이상은  'B팀', 60점 미만은 '재시험'\\n                        # 100점 초과, 0점 미만은 '유효하지 않음'을 return\\ndef levelCHK(score):\\n    if 80<=score<=100:\\n        return 'A팀'\\n    elif 60<=score<=80:\\n        return 'B'\\n    elif 0<=score<=60:\\n        return '재시험'\\n    else:\\n        '유효하지 않음'\\n    \\nex4 = lambda score : 'A팀' if 80<=score<=100 else \\\\\\n                      'B팀' if 60<=score<=80  else \\\\\\n                      '재시험' if 0<=score<=60 else \\\\\\n                      '유효하지 않음'\\nlevelCHK(8), ex4(160)\",\n",
       "  \"# 점수를 입력 받아 학점을 return\\nscore_grade = lambda score : 'A학점' if 90<=score=<100 else \\\\\\n                              'B학점' if 80<=score<90 else \\\\\\n                              'C학점' if 70<=score<80 else \\\\\\n                              'D학점' if 60<=score<70 else \\\\\\n                              'F학점' if score<60 else \\\\\\n                              '유효하지 않는 점수'\\nscore_grade(60), score_grade(120)\",\n",
       "  \"# 점수를 입력 받아 학점을 return\\nscore_grade = lambda score : 'A학점' if 90<=score<=100 else \\\\\\n                              'B학점' if 80<=score<90 else \\\\\\n                              'C학점' if 70<=score<80 else \\\\\\n                              'D학점' if 60<=score<70 else \\\\\\n                              'F학점' if score<60 else \\\\\\n                              '유효하지 않는 점수'\\nscore_grade(60), score_grade(120)\",\n",
       "  '# safe_index 함수를 람다식으로\\ndef safe_index(lst, item, start=0):\\n    return lst.index(item,start) if item in lst[start:] else -1\\n#     if item in lst[start:]:\\n#         return lst.index(item,start) # start번째부터 item이 있는 index를 반환\\n#     return -1\\nex5 = lambda lst, item, start=0 : lst.index(item,start) if item in lst[start:] else \\\\\\n                                   -1\\nlst = [1, 2, 3]\\nsafe_index(lst,4), ex5(lst, 3, 1)',\n",
       "  \"# 람다식을 list에 들어갈 수 있음\\nadd = lambda a, b : a+b\\nsub = lambda a, b : a-b\\nmul = lambda a, b : a*b\\ndiv = lambda a, b : a/b if b else '두번째 인자가 0이면 못 나눠요'\\noperations =[add, sub, mul, div] # 사칙연산 함수들\\n\\ndef act_operations(a, b, operations=operations): # a,b의 연산 결과를 return \\n    result = []\\n    for op in operations:\\n        result.append(op(a, b))\\n    return result\\n\\nact_operations(20,5)\",\n",
       "  'act_operations(8,2)',\n",
       "  'act_operations(8, 2, [lambda x,y : x**y, lambda x,y : 10*x+y] )',\n",
       "  '(lambda x,y : 10*x+y)(5,3)',\n",
       "  'operations.append(lambda x,y : x**y)\\nlen(operations)',\n",
       "  'act_operations(8, 2) # 기본값을 갖는 변스(기본 변수)가 리스트면 기본값은 호출할 시점',\n",
       "  'def map_template(func, L=[]):\\n    result = []\\n    for item in L:\\n        result.append(item)\\n    return result',\n",
       "  'map_template(lambda a : a,[1, 2, 3])',\n",
       "  'list_data = [1,2,3,4,5,6,7,8,9]\\ndef x_2(x):\\n    return x*2\\nmap_template(x_2,list_data)',\n",
       "  'def map_template(func, L=[]):\\n    result = []\\n    for item in L:\\n        result.append(func(item))\\n    return result',\n",
       "  'list_data = [1,2,3,4,5,6,7,8,9]\\ndef x_2(x):\\n    return x*2\\nmap_template(x_2,list_data)',\n",
       "  'list_data = [1,2,3,4,5,6,7,8,9]\\ndef x_2(x):\\n    return x*2\\nx_2 = lambda x : x*2\\nmap_template(lambda x : x*2,list_data)',\n",
       "  'list_data = [1,2,3,4,5,6,7,8,9]\\ndef x_2(x):\\n    return x*2\\nx_2 = lambda x : x*2\\nmap_template(x_2,list_data)',\n",
       "  'map_template(lambda x : x*2,list_data)',\n",
       "  'map_template(lambda x : x*2, list_data)',\n",
       "  'list_data = [1,2,3,4,5,6,7,8,9]\\n# def x_2(x):\\n#     return x*2\\nx_2 = lambda x : x*2\\nmap_template(x_2, list_data)',\n",
       "  'map_template(lambda x : x*2, list_data)',\n",
       "  '# 리스트 컴프리헨션\\n[item*2 for item in list_data]',\n",
       "  'map(lambda x : x*2, list_data)',\n",
       "  'list(map(lambda x : x*2, list_data))',\n",
       "  'for data in map(lambda x : x*2, list_data):\\n    print(data,end=\" \")',\n",
       "  \"'''\\n에제1, prices = ['5,000', '5000', '6,000', '1000','5,000', '5000', '6,000', '1000’]를 [5000,5000,6000,1000]식으로 바꾸시오\\n'''\\nprices = ['5,000', '5000', '6,000', '1000','5,000', '5000', '6,000', '1000’]\\ndef toint(value):\\n          return int(value.replace(',',''))\\ntotint('5000')\",\n",
       "  \"'''\\n에제1, prices = ['5,000', '5000', '6,000', '1000','5,000', '5000', '6,000', '1000’]를 [5000,5000,6000,1000]식으로 바꾸시오\\n'''\\n# prices = ['5,000', '5000', '6,000', '1000','5,000', '5000', '6,000', '1000’]\\ndef toint(value):\\n          return int(value.replace(',',''))\\ntotint('5000')\",\n",
       "  \"'''\\n에제1, prices = ['5,000', '5000', '6,000', '1000','5,000', '5000', '6,000', '1000’]를 [5000,5000,6000,1000]식으로 바꾸시오\\n'''\\nprices = ['5,000', '5000', '6,000', '1000', '5,000', '5000', '6,000', '1000’]\\ndef toint(value):\\n          return int(value.replace(',',''))\\nmap(lambda value : int(int(value.replace(',','')), prices)\\nfor price in prices_int:\\n    print(price, end=' ')\",\n",
       "  \"'''\\n에제1, prices = ['5,000', '5000', '6,000', '1000','5,000', '5000', '6,000', '1000’]를 [5000,5000,6000,1000]식으로 바꾸시오\\n'''\\nprices = ['5,000', '5000', '6,000', '1000', '5,000', '5000', '6,000', '1000']\\ndef toint(value):\\n          return int(value.replace(',',''))\\nmap(lambda value : int(int(value.replace(',','')), prices)\\nfor price in prices_int:\\n    print(price, end=' ')\",\n",
       "  \"'''\\n에제1, prices = ['5,000', '5000', '6,000', '1000','5,000', '5000', '6,000', '1000’]를 [5000,5000,6000,1000]식으로 바꾸시오\\n'''\\nprices = ['5,000', '5000', '6,000', '1000', '5,000', '5000', '6,000', '1000']\\ndef toint(value):\\n          return int(value.replace(',',''))\\nmap(lambda value : int(value.replace(',',''), prices)\\nfor price in prices_int:\\n    print(price, end=' ')\",\n",
       "  \"'''\\n에제1, prices = ['5,000', '5000', '6,000', '1000','5,000', '5000', '6,000', '1000’]를 [5000,5000,6000,1000]식으로 바꾸시오\\n'''\\nprices = ['5,000', '5000', '6,000', '1000', '5,000', '5000', '6,000', '1000']\\ndef toint(value):\\n          return int(value.replace(',',''))\\nmap(lambda value : int(value.replace(',',''), prices))\\nfor price in prices_int:\\n    print(price, end=' ')\",\n",
       "  \"'''\\n에제1, prices = ['5,000', '5000', '6,000', '1000','5,000', '5000', '6,000', '1000’]를 [5000,5000,6000,1000]식으로 바꾸시오\\n'''\\nprices = ['5,000', '5000', '6,000', '1000', '5,000', '5000', '6,000', '1000']\\ndef toint(value):\\n          return int(value.replace(',',''))\\nmap(lambda value : int(value.replace(',','')), prices))\\nfor price in prices_int:\\n    print(price, end=' ')\",\n",
       "  \"'''\\n에제1, prices = ['5,000', '5000', '6,000', '1000','5,000', '5000', '6,000', '1000’]를 [5000,5000,6000,1000]식으로 바꾸시오\\n'''\\nprices = ['5,000', '5000', '6,000', '1000', '5,000', '5000', '6,000', '1000']\\ndef toint(value):\\n          return int(value.replace(',',''))\\nmap(lambda value : int(value.replace(',','')), prices)\\nfor price in prices_int:\\n    print(price, end=' ')\",\n",
       "  \"'''\\n에제1, prices = ['5,000', '5000', '6,000', '1000','5,000', '5000', '6,000', '100']를 [5000,5000,6000,1000]식으로 바꾸시오\\n'''\\nprices = ['5,000', '5000', '6,000', '1000', '5,000', '5000', '6,000', '1000']\\ndef toint(value):\\n          return int(value.replace(',',''))\\nmap(lambda value : int(value.replace(',','')), prices)\\nfor price in price_int:\\n    print(price, end=' ')\",\n",
       "  \"'''\\n에제1, prices = ['5,000', '5000', '6,000', '1000','5,000', '5000', '6,000', '100']를 [5000,5000,6000,1000]식으로 바꾸시오\\n'''\\nprices = ['5,000', '5000', '6,000', '1000', '5,000', '5000', '6,000', '1000']\\ndef toint(value):\\n          return int(value.replace(',',''))\\nmap(lambda value : int(value.replace(',','')), prices)\\nfor price in prices_int:\\n    print(price, end=' ')\\nprint('5000')\",\n",
       "  \"'''\\n에제1, prices = ['5,000', '5000', '6,000', '1000','5,000', '5000', '6,000', '100']를 [5000,5000,6000,1000]식으로 바꾸시오\\n'''\\nprices = ['5,000', '5000', '6,000', '1000', '5,000', '5000', '6,000', '1000']\\ndef toint(value):\\n          return int(value.replace(',',''))\\nmap(lambda value : int(value.replace(',','')), prices)\\nprices_int=lambda value : int(value.replace(',','')), prices\\nfor price in prices_int:\\n    print(price, end=' ')\",\n",
       "  '# \\'2000-01-01\\' => {\\'year\\':2000, \\'month\\':1, \\'day\\':1} \\ndef split_date(date):\\n    for date in members1:\\n        for idx,date in enumerate(members1):\\n            print(f\"year:{},month:{},day:{}\")\\n        ',\n",
       "  '# \\'2000-01-01\\' => {\\'year\\':2000, \\'month\\':1, \\'day\\':1} \\ndef split_date(date):\\n    for date in members1:\\n        for idx,date in enumerate(members1):\\n            print(f\"year:{date},month:{date},day:{date}\")\\n        ',\n",
       "  '# \\'2000-01-01\\' => {\\'year\\':2000, \\'month\\':1, \\'day\\':1} \\ndef split_date(date):\\n    for date in members1:\\n        for idx,date in enumerate(members1):\\n            print(f\"year:{date},month:{date},day:{date}\")\\nsplit_date(date)',\n",
       "  '# \\'2000-01-01\\' => {\\'year\\':2000, \\'month\\':1, \\'day\\':1} \\ndef split_date(date):\\n    for date in members1:\\n        for idx,date in enumerate(members1):\\n            print(f\"year:{date},month:{date},day:{date}\")\\nsplit_date(members1)',\n",
       "  \"# '2000-01-01' => {'year':2000, 'month':1, 'day':1} \\ndef split_date(date):\\n    split_date = date.split('-')\\n    return split_date\\nsplit_date('2025-01-01')\",\n",
       "  \"# '2000-01-01' => {'year':2000, 'month':1, 'day':1} \\ndef split_date(date):\\n    return {\\n            'year': int(date.split('-')[0])\\n            'month': int(date.split('-')[1]\\n            'day' : int(date.split('-')[2]\\n}\\nsplit_date('2025-01-01'),split_date('1995-12-12')\",\n",
       "  \"# '2000-01-01' => {'year':2000, 'month':1, 'day':1} \\ndef split_date(date):\\n    return {\\n            'year': int(date.split('-')[0])\\n            'month': int(date.split('-')[1]\\n            'day' : int(date.split('-')[2]\\n    }\\nsplit_date('2025-01-01'), split_date('1995-12-12')\",\n",
       "  \"# '2025-01-01' => {'year':2000, 'month':1,'day':1} \\ndef split_date(date):\\n    split_date = date.split('-')\\n    return {\\n        'year': int(split_date[0]),\\n        'month':int(split_date[1]),\\n        'day':int(split_date[2])\\n    }\\nsplit_date('2025-01-01'), split_date('1995-12-12')\",\n",
       "  \"# '2025-01-01' => {'year':2000, 'month':1,'day':1} \\ndef split_date(date):\\n    split_date = date.split('-')\\n    return {\\n        'year': int(split_date[0]),\\n        'month':int(split_date[1]),\\n        'day':int(split_date[2])\\n    }\\nsplit_date('2025-01-01'), split_date('1995-12-12')\",\n",
       "  \"# '2025-01-01' => {'year':2000, 'month':1,'day':1} \\ndef split_date(date):\\n    return {\\n        'year': int(date.split('-')[0]),\\n        'month':int(date.split('-')[1]),\\n        'day':int(date.split('-')[2])\\n    }\\nsplit_date('2025-01-01'), split_date('1995-12-12')\",\n",
       "  \"# {'birth':'2025-01-01'} => {'year':2000, 'month':1,'day':1} \\ndef split_date(date):\\n    return {\\n        'year': int(date.split('-')[0]),\\n        'month':int(date.split('-')[1]),\\n        'day':int(date.split('-')[2])\\n    }\\nsplit_date('2025-01-01'), split_date('1995-12-12')\",\n",
       "  \"# {'birth':'2025-01-01'} => {'year':2000, 'month':1,'day':1} \\ndef split_date(date):\\n    return {\\n        'year': int(data['birth'].split('-')[0]),\\n        'month':int(data['birth'].split('-')[1]),\\n        'day':int(data['birth'].split('-')[2])\\n    }\\nsplit_date('2025-01-01'), split_date('1995-12-12')\",\n",
       "  \"# {'birth':'2025-01-01'} => {'year':2000, 'month':1,'day':1} \\ndef split_date(date):\\n    return {\\n        'year': int(data['birth'].split('-')[0]),\\n        'month':int(data['birth'].split('-')[1]),\\n        'day':int(data['birth'].split('-')[2])\\n    }\\nsplit_date(birth':'2025-01-01'),\",\n",
       "  \"# {'birth':'2025-01-01'} => {'year':2000, 'month':1,'day':1} \\ndef split_date(date):\\n    return {\\n        'year': int(data['birth'].split('-')[0]),\\n        'month':int(data['birth'].split('-')[1]),\\n        'day':int(data['birth'].split('-')[2])\\n    }\\nsplit_date('birth':'2025-01-01'),\",\n",
       "  \"# {'birth':'2025-01-01'} => {'year':2000, 'month':1,'day':1} \\ndef split_date(date):\\n    return {\\n        'year': int(data['birth'].split('-')[0]),\\n        'month':int(data['birth'].split('-')[1]),\\n        'day':int(data['birth'].split('-')[2])\\n    }\\nsplit_date({'birth':'2025-01-01'})\",\n",
       "  \"# {'birth':'2025-01-01'} => {'year':2000, 'month':1,'day':1} \\ndef split_date(data):\\n    return {\\n        'year': int(data['birth'].split('-')[0]),\\n        'month':int(data['birth'].split('-')[1]),\\n        'day':int(data['birth'].split('-')[2])\\n    }\\nsplit_date({'birth':'2025-01-01'})\",\n",
       "  \"# {'name':'홍길동','birth':'2000-01-01'} =>{'name':'홍길동',''year':2000, 'month':1,'day':1}\\ndef split_date(data):\\n    if date in data\\n    return {\\n        'year': int(date.split('-')[0]),\\n        'month':int(date.split('-')[1]),\\n        'day':int(date.split('-')[2])\\n    }\\nsplit_date({'birth':'2025-01-01'})\",\n",
       "  \"# {'name':'홍길동','birth':'2000-01-01'} =>{'name':'홍길동',''year':2000, 'month':1,'day':1}\\ndef split_date(data):\\n    if date in data[birth]\\n    return {\\n        'year': int(date.split('-')[0]),\\n        'month':int(date.split('-')[1]),\\n        'day':int(date.split('-')[2])\\n    }\\nsplit_date({'birth':'2025-01-01'})\",\n",
       "  \"# {'name':'홍길동','birth':'2000-01-01'} =>{'name':'홍길동',''year':2000, 'month':1,'day':1}\\ndef split_date(data):\\n    if date in data[birth]\\n    return {\\n        'ear': int(data['birth'].split('-')[0]),\\n        'month':int(data['birth'].split('-')[1]),\\n        'day':int(data['birth'].split('-')[2])\\n    }\\nsplit_date({'birth':'2025-01-01'})\",\n",
       "  \"# {'name':'홍길동','birth':'2000-01-01'} =>{'name':'홍길동',''year':2000, 'month':1,'day':1}\\ndef split_date(data):\\n    if date in data[birth]:\\n    return {\\n        'ear': int(data['birth'].split('-')[0]),\\n        'month':int(data['birth'].split('-')[1]),\\n        'day':int(data['birth'].split('-')[2])\\n    }\\nsplit_date({'birth':'2025-01-01'})\",\n",
       "  \"# {'name':'홍길동','birth':'2000-01-01'} =>{'name':'홍길동',''year':2000, 'month':1,'day':1}\\ndef member_processing(member):\\n    return {\\n        'name': member.get('name','이름없음'), # member['name']\\n        'year': int(member.get('birth').split('-')[0]),\\n        'month': int(member.get('birth').split('-')[1]),\\n        'day': int(member.get('birth').split('-')[2]),\\n    }\\nmember_processing('name':'홍길동','birth':'2000-01-01')\",\n",
       "  \"# {'name':'홍길동','birth':'2000-01-01'} =>{'name':'홍길동',''year':2000, 'month':1,'day':1}\\ndef member_processing(member):\\n    return {\\n        'name' : member.get('name','이름없음'), # member['name']\\n        'year' : int(member.get('birth').split('-')[0]),\\n        'month': int(member.get('birth').split('-')[1]),\\n        'day'  : int(member.get('birth').split('-')[2]),\\n    }\\nmember_processing({'name':'홍길동','birth':'2000-01-01'})\",\n",
       "  \"members2 = list(map(lambda member : {\\n                              'name' : member.get('name','이름없음'),\\n                              'year' : int(member.get('birth').split('-')[0]),\\n                              'month': int(member.get('birth').split('-')[1]),\\n                              'day'  : int(member.get('birth').split('-')[2]),\\n                               }, members1) )\\nmembers2\",\n",
       "  \"members2 = list(map(lambda member : {\\n                              'name' : member.get('name','이름없음'),\\n                              'year' : int(member.get('birth').split('-')[0]),\\n                              'month': int(member.get('birth').split('-')[1]),\\n                              'day'  : int(member.get('birth').split('-')[2]),\\n                               }, members1\\n           ) \\n       )\\nmembers2\",\n",
       "  \"members2 = list(map(lambda member : {\\n                              'name' : member.get('name','이름없음'),\\n                              'year' : int(member.get('birth').split('-')[0]),\\n                              'month': int(member.get('birth').split('-')[1]),\\n                              'day'  : int(member.get('birth').split('-')[2]),\\n                               }, members1\\n                   )\\n               )\\nmembers2\",\n",
       "  \"members2 = list(map(lambda data : {\\n                              'name' : member.get('name','이름없음'),\\n                              'year' : int(member.get('birth').split('-')[0]),\\n                              'month': int(member.get('birth').split('-')[1]),\\n                              'day'  : int(member.get('birth').split('-')[2]),\\n                               }, members1\\n                   )\\n               )\\nmembers2\",\n",
       "  \"members2 = list(map(lambda data : {\\n                              'name' : data.get('name','이름없음'),\\n                              'year' : int(data.get('birth').split('-')[0]),\\n                              'month': int(data.get('birth').split('-')[1]),\\n                              'day'  : int(data.get('birth').split('-')[2]),\\n                               }, members1\\n                   )\\n               )\\nmembers2\",\n",
       "  \"'''예제2 : members1을 members2로\\nmembers1 = [{'name':'홍길동', 'birth':'2000-01-0'},\\n            {'name':'신길동', 'birth':'1995-12-18'},]\\nmembers2 = [{'name':'홍길동', 'year':2000, 'month':1,'day':1},\\n            {'name':'신길동', 'year':1995, 'month':12, 'day':18},]\\n'''\",\n",
       "  \"members2 = list(map(lambda members : {\\n                              'name' : members.get('name','이름없음'),\\n                              'year' : int(members.get('birth').split('-')[0]),\\n                              'month': int(members.get('birth').split('-')[1]),\\n                              'day'  : int(members.get('birth').split('-')[2]),\\n                               }, members1\\n                   )\\n               )\\nmembers2\",\n",
       "  \"members2 = list(map(lambda members : {\\n                              'name' : member.get('name','이름없음'),\\n                              'year' : int(member.get('birth').split('-')[0]),\\n                              'month': int(member.get('birth').split('-')[1]),\\n                              'day'  : int(member.get('birth').split('-')[2]),\\n                               }, members1\\n                   )\\n               )\\nmembers2\",\n",
       "  \"members1 = [{'name':'홍길동', 'birth':'2000-01-0'},\\n            {'name':'신길동', 'birth':'1995-12-18'},]\",\n",
       "  \"members2 = list(map(lambda members : {\\n                              'name' : member.get('name','이름없음'),\\n                              'year' : int(member.get('birth').split('-')[0]),\\n                              'month': int(member.get('birth').split('-')[1]),\\n                              'day'  : int(member.get('birth').split('-')[2]),\\n                               }, members1\\n                   )\\n               )\\nmembers2\",\n",
       "  \"members2 = list(map(lambda member : {\\n                              'name' : member.get('name','이름없음'),\\n                              'year' : int(member.get('birth').split('-')[0]),\\n                              'month': int(member.get('birth').split('-')[1]),\\n                              'day'  : int(member.get('birth').split('-')[2]),\\n                               }, members1\\n                   )\\n               )\\nmembers2\",\n",
       "  '# {\\'year\\':2000, \\'month\\':1, \\'day\\':1}  => \\'2025-01-01\\'\\ndef join_date(data):\\n    return \"{}-{}-{}\".format(data.get(\\'year\\'),data.get(\\'month\\'),data.get(\\'day\\'))\\njoin_date({\\'year\\':2000, \\'month\\':100, \\'day\\':1})',\n",
       "  '# {\\'year\\':2000, \\'month\\':1, \\'day\\':1}  => \\'2025-01-01\\'\\ndef join_date(data):\\n    return \"{}-{}-{}\".format(data.get(\\'year\\'),data.get(\\'month\\'),data.get(\\'day\\'))\\njoin_date({\\'year\\':2000, \\'month\\':10, \\'day\\':1})',\n",
       "  '# {\\'year\\':2000, \\'month\\':1, \\'day\\':1}  => \\'2025-01-01\\'\\ndef join_date(data):\\n    return \"{}-{:02}-{:02}\".format(data.get(\\'year\\'),data.get(\\'month\\'),data.get(\\'day\\'))\\njoin_date({\\'year\\':2000, \\'month\\':10, \\'day\\':1})',\n",
       "  '# {\\'year\\':2000, \\'month\\':1, \\'day\\':1}  => \\'2025-01-01\\'\\ndef join_date(data):\\n    return \"{}-{:02}-{:02}\".format(data.get(\\'year\\'),data.get(\\'month\\'),data.get(\\'day\\'))\\njoin_date({\\'year\\':2000, \\'month\\':9, \\'day\\':1})',\n",
       "  '# {\\'year\\':2000, \\'month\\':1, \\'day\\':1}  => \\'2025-01-01\\'\\ndef join_date(data):\\n    return \"{year}-{month:02}-{day:02}\".format(**data)\\njoin_date({\\'year\\':2000, \\'month\\':9, \\'day\\':1})',\n",
       "  '# {\\'year\\':2000, \\'month\\':1, \\'day\\':1}  => {\\'birth\\':\\'2025-01-01\\'}\\ndef join_date(data):\\n    return {\"birth\" : \"{year}-{month:02}-{day:02}\"}.format(**data)\\njoin_date({\\'year\\':2000, \\'month\\':9, \\'day\\':1})',\n",
       "  '# {\\'year\\':2000, \\'month\\':1, \\'day\\':1}  => {\\'birth\\':\\'2025-01-01\\'}\\ndef join_date(data):\\n    return {\"birth\" : \"{year}-{month:02}-{day:02}\".format(**data)}\\njoin_date({\\'year\\':2000, \\'month\\':9, \\'day\\':1})',\n",
       "  \"#{'name':'hong','year':2000, 'month':1. 'day':1} => {'name':'hong','birth':'2000-01-01'}\\ndef member_processing(member):\\n    return {\\n        'name' : member.get('name','이름없음'), # member['name']\\n        'year' : int(member.get('year').split('-')),\\n        'month': int(member.get('month').split('-')),\\n        'day'  : int(member.get('day').split('-')),\\n    }\\nmember_processing({'name':'hong','year':2000, 'month':1. 'day':1})\",\n",
       "  \"#{'name':'hong','year':2000, 'month':1. 'day':1} => {'name':'hong','birth':'2000-01-01'}\\ndef member_processing(member):\\n    return {\\n        'name' : member.get('name','이름없음'), # member['name']\\n        'year' : int(member.get('year').split('-')),\\n        'month': int(member.get('month').split('-')),\\n        'day'  : int(member.get('day').split('-')),\\n    }\\nmember_processing({'name':'hong','year':2000, 'month':1, 'day':1})\",\n",
       "  '#{\\'name\\':\\'hong\\',\\'year\\':2000, \\'month\\':1. \\'day\\':1} => {\\'name\\':\\'hong\\',\\'birth\\':\\'2000-01-01\\'}\\ndef member_processing(member):\\n    return {\\n        \\'name\\' : members.get(\\'name\\',\\'이름없음\\'),\\n        \\'birth\\' : {year}-{month:02}-{day:02}\".format(**member)\\n    }\\nmember_processing({\\'name\\':\\'hong\\',\\'year\\':2000, \\'month\\':1, \\'day\\':1})',\n",
       "  '#{\\'name\\':\\'hong\\',\\'year\\':2000, \\'month\\':1. \\'day\\':1} => {\\'name\\':\\'hong\\',\\'birth\\':\\'2000-01-01\\'}\\ndef member_processing(member):\\n    return {\\n        \\'name\\' : members.get(\\'name\\',\\'이름없음\\'),\\n        \\'birth\\' : \"{year}-{month:02}-{day:02}\".format(**member)\\n    }\\nmember_processing({\\'name\\':\\'hong\\',\\'year\\':2000, \\'month\\':1, \\'day\\':1})',\n",
       "  '#{\\'name\\':\\'hong\\',\\'year\\':2000, \\'month\\':1. \\'day\\':1} => {\\'name\\':\\'hong\\',\\'birth\\':\\'2000-01-01\\'}\\ndef member_processing(member):\\n    return {\\n        \\'name\\' : members.get(\\'name\\',\\'이름없음\\'),\\n        \\'birth\\' : \"{year}-{month:02}-{day:02}\".format(**member)\\n    }\\nmembers_processing({\\'name\\':\\'hong\\',\\'year\\':2000, \\'month\\':1, \\'day\\':1})',\n",
       "  '#{\\'name\\':\\'hong\\',\\'year\\':2000, \\'month\\':1. \\'day\\':1} => {\\'name\\':\\'hong\\',\\'birth\\':\\'2000-01-01\\'}\\ndef members_processing(member):\\n    return {\\n        \\'name\\' : members.get(\\'name\\',\\'이름없음\\'),\\n        \\'birth\\' : \"{year}-{month:02}-{day:02}\".format(**member)\\n    }\\nmembers_processing({\\'name\\':\\'hong\\',\\'year\\':2000, \\'month\\':1, \\'day\\':1})',\n",
       "  '#{\\'name\\':\\'hong\\',\\'year\\':2000, \\'month\\':1. \\'day\\':1} => {\\'name\\':\\'hong\\',\\'birth\\':\\'2000-01-01\\'}\\ndef members_processing(member):\\n    return {\\n        \\'name\\' : members.get(\\'name\\',\\'이름없음\\'),\\n        \\'birth\\' : \"{year}-{month:02}-{day:02}\".format(**member)\\n    }\\nmembers_processing(name\\':\\'hong\\',\\'year\\':2000, \\'month\\':1. \\'day\\':1)',\n",
       "  '#{\\'name\\':\\'hong\\',\\'year\\':2000, \\'month\\':1. \\'day\\':1} => {\\'name\\':\\'hong\\',\\'birth\\':\\'2000-01-01\\'}\\ndef members_processing(member):\\n    return {\\n        \\'name\\' : members.get(\\'name\\',\\'이름없음\\'),\\n        \\'birth\\' : \"{year}-{month:02}-{day:02}\".format(**member)\\n    }\\nmembers_processing(name\\':\\'hong\\',\\'year\\':2000, \\'month\\':1, \\'day\\':1)',\n",
       "  '#{\\'name\\':\\'hong\\',\\'year\\':2000, \\'month\\':1. \\'day\\':1} => {\\'name\\':\\'hong\\',\\'birth\\':\\'2000-01-01\\'}\\ndef members_processing(member):\\n    return {\\n        \\'name\\' : member.get(\\'name\\',\\'이름없음\\'),\\n        \\'birth\\' : \"{year}-{month:02}-{day:02}\".format(**member)\\n    }\\nmembers_processing(name\\':\\'hong\\',\\'year\\':2000, \\'month\\':1, \\'day\\':1)',\n",
       "  '#{\\'name\\':\\'hong\\',\\'year\\':2000, \\'month\\':1. \\'day\\':1} => {\\'name\\':\\'hong\\',\\'birth\\':\\'2000-01-01\\'}\\ndef members_processing(member):\\n    return {\\n        \\'name\\' : member.get(\\'name\\',\\'이름없음\\'),\\n        \\'birth\\' : \"{year}-{month:02}-{day:02}\".format(**member)\\n    }\\nmembers_processing(name\\':\\'hong\\',\\'year\\':2000, \\'month\\':1, \\'day\\':1)',\n",
       "  '#{\\'name\\':\\'hong\\',\\'year\\':2000, \\'month\\':1. \\'day\\':1} => {\\'name\\':\\'hong\\',\\'birth\\':\\'2000-01-01\\'}\\ndef members_processing(member):\\n    return {\\n        \\'name\\' : member.get(\\'name\\',\\'이름없음\\'),\\n        \\'birth\\' : \"{year}-{month:02}-{day:02}\".format(**member)\\n    }\\nmembers_processing(name\\':\\'hong\\', \\'year\\':2000, \\'month\\':1, \\'day\\':1)',\n",
       "  '#{\\'name\\':\\'hong\\',\\'year\\':2000, \\'month\\':1. \\'day\\':1} => {\\'name\\':\\'hong\\',\\'birth\\':\\'2000-01-01\\'}\\ndef members_processing(member):\\n    return {\\n        \\'name\\' : member.get(\\'name\\',\\'이름없음\\'),\\n        \\'birth\\' : \"{year}-{month:02}-{day:02}\".format(**member)\\n    }\\nmembers_processing(\\'name\\':\\'hong\\', \\'year\\':2000, \\'month\\':1, \\'day\\':1)',\n",
       "  '#{\\'name\\':\\'hong\\',\\'year\\':2000, \\'month\\':1. \\'day\\':1} => {\\'name\\':\\'hong\\',\\'birth\\':\\'2000-01-01\\'}\\ndef members_processing(member):\\n    return {\\n        \\'name\\' : member.get(\\'name\\',\\'이름없음\\'),\\n        \\'birth\\' : \"{year}-{month:02}-{day:02}\".format(**member)\\n    }\\nmembers_processing(\\'name\\' : \\'hong\\', \\'year\\' : 2000, \\'month\\' : 1, \\'day\\' : 1)',\n",
       "  '#{\\'name\\':\\'hong\\',\\'year\\':2000, \\'month\\':1. \\'day\\':1} => {\\'name\\':\\'hong\\',\\'birth\\':\\'2000-01-01\\'}\\ndef members_processing(member):\\n    return {\\n        \\'name\\' : member.get(\\'name\\',\\'이름없음\\'),\\n        \\'birth\\' : \"{year}-{month:02}-{day:02}\".format(**member)\\n    }\\nmembers_processing(\\'name\\' : \\'hong\\', \\'year\\' : 2000, \\'month\\' : 1, \\'day\\' : 1)',\n",
       "  '#{\\'name\\':\\'hong\\',\\'year\\':2000, \\'month\\':1. \\'day\\':1} => {\\'name\\':\\'hong\\',\\'birth\\':\\'2000-01-01\\'}\\ndef members_processing(member):\\n    return {\\n        \\'name\\' : member.get(\\'name\\',\\'이름없음\\'),\\n        \\'birth\\' : \"{year}-{month:02}-{day:02}\".format(**member)\\n    }\\nmembers_processing({\\'name\\' : \\'hong\\', \\'year\\' : 2000, \\'month\\' : 1, \\'day\\' : 1})',\n",
       "  'list (map(lambda member : {\\n        \\'name\\' : member.get(\\'name\\',\\'이름없음\\'),\\n        \\'birth\\' : \"{year}-{month:02}-{day:02}\".format(**member)\\n    }, members2))',\n",
       "  '#{\\'name\\':\\'hong\\',\\'year\\':2000, \\'month\\':1. \\'day\\':1} => {\\'name\\':\\'hong\\',\\'birth\\':\\'2000-01-01\\'}\\ndef members_processing(member):\\n    return {\\n        \\'name\\' : member.get(\\'name\\'),\\n        \\'birth\\' : \"{year}-{month:02}-{day:02}\".format(**member)\\n    }\\nmembers_processing({\\'name\\' : \\'hong\\', \\'year\\' : 2000, \\'month\\' : 1, \\'day\\' : 1})',\n",
       "  'list (map(lambda member : {\\n        \\'name\\' : member.get(\\'name\\'),\\n        \\'birth\\' : \"{year}-{month:02}-{day:02}\".format(**member)\\n    }, members2))',\n",
       "  'def filter_template(func, L=[]):\\n    result =[]\\n    for item in L:\\n        if func(item):\\n            result.append(item)\\n    return result',\n",
       "  'list_data = [1,2,3,4,5,6,7,8,9]\\ndef odd_chk(value):\\n    return value%2!=0\\n#     if value%2:\\n#         return True\\n#     else:\\n#         return False\\nfilter_template(lambda value : value%2!=0,list_data)',\n",
       "  '# 리스트컴프리헨션\\n[value for value in list_data if value%2!=0]',\n",
       "  'filter_template(lambda value : value%2!=0,list_data)',\n",
       "  'list(filter(lambda value : value%2!=0,list_data))',\n",
       "  '#  예제 : 다음 리스트에서 소수점 이하가 0인 수만 출력하시오(filter/리스트컴프리헨션)\\nL =[1, 1.2, 1.5, 3.0, 10.5, 100, -2.0, -12.2]\\nlist(filter(lambda x : x%1.0==0,L))',\n",
       "  '#  예제 : 다음 리스트에서 소수점 이하가 0인 수만 출력하시오(filter/리스트컴프리헨션)\\nL =[1, 1.2, 1.5, 3.0, 10.5, 100, -2.0, -12.2]\\nlist(filter(lambda x : x%1.0==0, L))',\n",
       "  '[item for item in L if item%l==0]',\n",
       "  '[item for item in L if item%1==0]',\n",
       "  'p = [10, 3, 6, 1]\\np.sort(revers=true)\\np',\n",
       "  'p = [10, 3, 6, 1]\\np.sort(revers=True)\\np',\n",
       "  'p = [10, 3, 6, 1]\\np.sort(revers = True)\\np',\n",
       "  'p = [10, 3, 6, 1]\\np.sort(reverse = True)\\np',\n",
       "  \"# 무조건 0번째 item을 기준으로 오름차순 정렬\\npairs = [(2, 'two'), (1, 'one'), (3, 'three'), (4, 'four')]\\npairs.sort()\\npairs\",\n",
       "  '# 1번째 item 기준으로 내림차순 정렬\\npairs.sort(key=lambda data:[1])\\npairs',\n",
       "  '# 1번째 item 기준으로 내림차순 정렬\\npairs.sort(key=lambda data: data[1])\\npairs',\n",
       "  '# 1번째 item 기준으로 내림차순 정렬\\npairs.sort(key=lambda data:data[1])\\npairs',\n",
       "  '# 1번째 item 기준으로 내림차순 정렬\\npairs.sort(key=lambda data:data[1], reverse=True)\\npairs',\n",
       "  '# 0번 item이 큰순(오름차순)\\nnumber_2d= [[9,9], [1,100], [10,1]]\\nnumber_2d.sort()\\nnumber_2d\\n# 합이 큰 순으로 정렬',\n",
       "  '# 0번 item이 큰순(오름차순)\\nnumber_2d= [[9,9], [1,100], [10,1]]\\nnumber_2d.sort()\\nnumber_2d\\n# 합이 큰 순으로 정렬\\nnumber_2d.sort(key=lambda data: if a,b in data a+b, reverse=True)',\n",
       "  '# 0번 item이 큰순(오름차순)\\nnumber_2d= [[9,9], [1,100], [10,1]]\\nnumber_2d.sort()\\nnumber_2d\\n# 합이 큰 순으로 정렬\\nnumber_2d.sort(key=lambda data: a,b in data a+b, reverse=True)',\n",
       "  '# 0번 item이 큰순(오름차순)\\nnumber_2d= [[9,9], [1,100], [10,1]]\\nnumber_2d.sort()\\nnumber_2d\\n# 합이 큰 순으로 정렬\\nnumber_2d.sort(key=lambda data: a,b in data return a+b, reverse=True)',\n",
       "  '# 0번 item이 큰순(오름차순)\\nnumber_2d= [[9,9], [1,100], [10,1]]\\nnumber_2d.sort()\\nnumber_2d\\n# 합이 큰 순으로 정렬\\nnumber_2d.sort(key=lambda data: a,b in data return [a+b], reverse=True)',\n",
       "  '# 0번 item이 큰순(오름차순)\\nnumber_2d= [[9,9], [1,100], [10,1]]\\nnumber_2d.sort()\\nnumber_2d\\n# 합이 큰 순으로 정렬\\nnumber_2d.sort([key=lambda data: a,b in data return a+b], reverse=True)',\n",
       "  '# 0번 item이 큰순(오름차순)\\nnumber_2d= [[9,9], [1,100], [10,200,2]]\\nnumber_2d.sort()\\nnumber_2d\\n# 합이 큰 순으로 정렬\\nnumber_2d.sort(key=lambda items : sum(items), reverse=True)\\nprint(number_2d)',\n",
       "  '# 0번 item이 큰순(오름차순)\\nnumber_2d= [[9,9], [1,100], [10,200,2]]\\nnumber_2d.sort()\\nprint(number_2d)\\n# 합이 큰 순으로 정렬\\nnumber_2d.sort(key=lambda items : sum(items), reverse=True)\\nprint(number_2d)',\n",
       "  \"students =[{'name':'홍', 'score':99},\\n          {'name':'김', 'score':50},\\n          {'name':'박', 'score':77},\\n          {'score':100}]\\nstudents.sort()\",\n",
       "  \"students =[{'name':'홍', 'score':99},\\n          {'name':'김', 'score':50},\\n          {'name':'박', 'score':77},\\n          {'score':100}]\",\n",
       "  \"name_select = lambda data : data.get('name')\\nname_select({'name':'홍', 'score':99}\",\n",
       "  \"name_select = lambda data : data.get('score')\\nname_select({'name':'홍', 'score':99}\",\n",
       "  \"students =[{'name':'홍', 'score':99},\\n          {'name':'김', 'score':50},\\n          {'name':'박', 'score':77},\\n          {'score':100}]\",\n",
       "  \"name_select = lambda data : data.get('score')\\nname_select({'name':'홍', 'score':99}\",\n",
       "  \"name_select = lambda data : data.get('score')\\nname_select({'name':'홍', 'score':99})\",\n",
       "  \"# students를 name순으로 정렬(ㄱㄴㄷ순)\\nstudents.sort(key=lambda data : data.get('name'))\",\n",
       "  \"# students를 name순으로 정렬(ㄱㄴㄷ순)\\nstudents.sort(key=lambda data : data.get('name',''))\",\n",
       "  \"# students를 name순으로 정렬(ㄱㄴㄷ순)\\nstudents.sort(key=lambda data : data.get('name',))\",\n",
       "  \"# students를 name순으로 정렬(ㄱㄴㄷ순)\\nstudents.sort(key=lambda data : data.get('name'))\",\n",
       "  '# students를 name순으로 정렬(ㄱㄴㄷ순)\\nstudents.sort(key=lambda data : data.get(\\'name\\',\"힣\"))',\n",
       "  '# students를 name순으로 정렬(ㄱㄴㄷ순)\\nstudents.sort(key=lambda data : data.get(\\'name\\',\"힣\"))\\nstudents',\n",
       "  '# students를 score 큰 순 정렬\\nstudents.sort(key=lambda data : data.get(\\'score\\',\"힣\"))\\nstudents',\n",
       "  '# students를 score 큰 순 정렬\\nstudents.sort(key=lambda data : data.get(\\'score\\',\"힣\"), reverse=True)\\nstudents',\n",
       "  \"# students를 score 큰 순 정렬\\nstudents.sort(key=lambda data : data.get('score'), reverse=True)\\nstudents\",\n",
       "  \"# students를 score 큰 순 정렬\\nstudents.sort(key=lambda data : data.get('score',0), reverse=True)\\nstudents\",\n",
       "  \"books = \\\\\\n[{'no':1, 'title':'더트릭컬', 'writer':＇폴빠＇,＇price':'19,800'},\\n{'no':2, 'title’:'흔한남매', 'writer’:’백난도', 'price':'15,120'},\\n{'no':3, 'title':'단 한 번의 삶', 'writer':'김영하', 'price':'15,120'},\\n{'no':4, 'title':'가격잘못', 'writer':'홍길동', 'price':'ㅁ'},\\n{'no':5, 'title':'가격이숫자', 'writer':'백난도', 'price':30200},\\n{'no':6, 'title':'가격이없음', 'writer':'이길동'},] \",\n",
       "  \"books = \\\\\\n[{'no':1, 'title':'더트릭컬', 'writer':＇폴빠＇,＇price':'19,800'},\\n{'no':2, 'title’:'흔한남매', 'writer’:'백난도', 'price':'15,120'},\\n{'no':3, 'title':'단 한 번의 삶', 'writer':'김영하', 'price':'15,120'},\\n{'no':4, 'title':'가격잘못', 'writer':'홍길동', 'price':'ㅁ'},\\n{'no':5, 'title':'가격이숫자', 'writer':'백난도', 'price':30200},\\n{'no':6, 'title':'가격이없음', 'writer':'이길동'},] \",\n",
       "  \"books = \\\\\\n[{'no':1, 'title':'더트릭컬', 'writer':＇폴빠＇,＇price':'19,800'},\\n{'no':2, 'title’:'흔한남매', 'writer':'백난도', 'price':'15,120'},\\n{'no':3, 'title':'단 한 번의 삶', 'writer':'김영하', 'price':'15,120'},\\n{'no':4, 'title':'가격잘못', 'writer':'홍길동', 'price':'ㅁ'},\\n{'no':5, 'title':'가격이숫자', 'writer':'백난도', 'price':30200},\\n{'no':6, 'title':'가격이없음', 'writer':'이길동'},] \",\n",
       "  \"books = \\\\\\n[{'no':1, 'title':'더트릭컬', 'writer':＇폴빠＇,＇price':'19,800'},\\n{'no':2, 'title’:'흔한남매', 'writer':'백난도', 'price':'15,120'},\\n{'no':3, 'title':'단 한 번의 삶', 'writer':'김영하', 'price':'15,120'},\\n{'no':4, 'title':'가격잘못', 'writer':'홍길동', 'price':'ㅁ'},\\n{'no':5, 'title':'가격이숫자', 'writer':'백난도', 'price':30200},\\n{'no':6, 'title':'가격이없음', 'writer':'이길동'},] \",\n",
       "  \"books = \\\\\\n[{'no':1, 'title':'더트릭컬', 'writer':'폴빠',＇price':'19,800'},\\n{'no':2, 'title’:'흔한남매', 'writer':'백난도', 'price':'15,120'},\\n{'no':3, 'title':'단 한 번의 삶', 'writer':'김영하', 'price':'15,120'},\\n{'no':4, 'title':'가격잘못', 'writer':'홍길동', 'price':'ㅁ'},\\n{'no':5, 'title':'가격이숫자', 'writer':'백난도', 'price':30200},\\n{'no':6, 'title':'가격이없음', 'writer':'이길동'},] \",\n",
       "  \"books = \\\\\\n[{'no':1, 'title':'더트릭컬', 'writer': '폴빠',＇price':'19,800'},\\n{'no':2, 'title’:'흔한남매', 'writer':'백난도', 'price':'15,120'},\\n{'no':3, 'title':'단 한 번의 삶', 'writer':'김영하', 'price':'15,120'},\\n{'no':4, 'title':'가격잘못', 'writer':'홍길동', 'price':'ㅁ'},\\n{'no':5, 'title':'가격이숫자', 'writer':'백난도', 'price':30200},\\n{'no':6, 'title':'가격이없음', 'writer':'이길동'},] \",\n",
       "  \"books = \\\\\\n[{'no':1, 'title':'더트릭컬', 'writer': '폴빠',＇price':'19,800'},\\n{'no':2, 'title’:'흔한남매', 'writer':'백난도', 'price':'15,120'},\\n{'no':3, 'title':'단 한 번의 삶', 'writer':'김영하', 'price':'15,120'},\\n{'no':4, 'title':'가격잘못', 'writer':'홍길동', 'price':'ㅁ'},\\n{'no':5, 'title':'가격이숫자', 'writer':'백난도', 'price':30200},\\n{'no':6, 'title':'가격이없음', 'writer':'이길동'},] \",\n",
       "  \"books = \\\\\\n[{'no':1, 'title':’더트릭컬', 'writer':＇폴빠＇,＇price’:’19,800'},\\n{'no':2, 'title’:’흔한남매', 'writer’:’백난도', 'price’:’15,120'},\\n{'no':3, 'title':'단 한 번의 삶', 'writer':'김영하', 'price':'15,120'},\\n{'no':4, 'title':'가격잘못', 'writer':'홍길동', 'price':'ㅁ'},\\n{'no':5, 'title':'가격이숫자', 'writer':'백난도', 'price':30200},\\n{'no':6, 'title':'가격이없음', 'writer':'이길동’},]\",\n",
       "  \"books = \\\\\\n[{'no':1, 'title':’더트릭컬', 'writer':＇폴빠＇,＇price':'19,800'},\\n{'no':2, 'title’:’흔한남매', 'writer’:’백난도', 'price’:'15,120'},\\n{'no':3, 'title':'단 한 번의 삶', 'writer':'김영하', 'price':'15,120'},\\n{'no':4, 'title':'가격잘못', 'writer':'홍길동', 'price':'ㅁ'},\\n{'no':5, 'title':'가격이숫자', 'writer':'백난도', 'price':30200},\\n{'no':6, 'title':'가격이없음', 'writer':'이길동'},]\",\n",
       "  \"books = \\\\\\n[{'no':1, 'title':'더트릭컬', 'writer':＇폴빠＇,＇price':'19,800'},\\n{'no':2, 'title’:’흔한남매', 'writer’:’백난도', 'price’:'15,120'},\\n{'no':3, 'title':'단 한 번의 삶', 'writer':'김영하', 'price':'15,120'},\\n{'no':4, 'title':'가격잘못', 'writer':'홍길동', 'price':'ㅁ'},\\n{'no':5, 'title':'가격이숫자', 'writer':'백난도', 'price':30200},\\n{'no':6, 'title':'가격이없음', 'writer':'이길동'},]\",\n",
       "  \"books = \\\\\\n[{'no':1, 'title':'더트릭컬', 'writer':＇폴빠＇,＇price':'19,800'},\\n{'no':2, 'title’:’흔한남매', 'writer':'백난도', 'price’:'15,120'},\\n{'no':3, 'title':'단 한 번의 삶', 'writer':'김영하', 'price':'15,120'},\\n{'no':4, 'title':'가격잘못', 'writer':'홍길동', 'price':'ㅁ'},\\n{'no':5, 'title':'가격이숫자', 'writer':'백난도', 'price':30200},\\n{'no':6, 'title':'가격이없음', 'writer':'이길동'},]\",\n",
       "  \"books = \\\\\\n[{'no':1, 'title':'더트릭컬', 'writer':＇폴빠＇,＇price':'19,800'},\\n{'no':2, 'title’:’흔한남매', 'writer':'백난도', 'price’:'15,120'},\\n{'no':3, 'title':'단 한 번의 삶', 'writer':'김영하', 'price':'15,120'},\\n{'no':4, 'title':'가격잘못', 'writer':'홍길동', 'price':'ㅁ'},\\n{'no':5, 'title':'가격이숫자', 'writer':'백난도', 'price':30200},\\n{'no':6, 'title':'가격이없음', 'writer':'이길동'},]\",\n",
       "  \"books = \\\\\\n   [{'no':2, 'title':'더트릭컬', 'writer':'폴빠','price':'19,800'},\\n    {'no':1, 'title':'흔한남매', 'writer':'백난도', 'price':'15,120'},\\n    {'no':3, 'title':'단 한 번의 삶', 'writer':'김영하', 'price':'15,120'},\\n    {'no':4, 'title':'가격잘못', 'writer':'홍길동', 'price':'ㅁ'},\\n    {'no':5, 'title':'가격이숫자', 'writer':'백난도', 'price':30200},\\n    {'no':6, 'title':'가격이없음', 'writer':'이길동'},] \",\n",
       "  'books',\n",
       "  \"# no 기준으로 sort\\nbooks.sort(key=lambda book : book['no'])\\nbooks\",\n",
       "  \"# title 기준으로 sort\\nbooks.sort(key=lambda book : book['title'])\\nbooks\",\n",
       "  \"# price 기준으로 sort\\nbooks.sort(key=lambda book : book['price'])\\nbooks\",\n",
       "  '# price 기준으로 sort\\nbooks.sort(key=lambda book : book.get(\"price\",0))\\nbooks',\n",
       "  \"# 30200=> 30200,'12,000'=> 12000, '5000'=>5000, 'ㅁ'=> 0, None=> 0\\ndef parse_int(price):\\n    print(type(price))\\nparse_int(None)\",\n",
       "  \"# 30200=> 30200,'12,000'=> 12000, '5000'=>5000, 'ㅁ'=> 0, None=> 0\\ndef parse_int(price):\\n    print(type(price))\\nparse_int('5000')\",\n",
       "  \"# 30200=> 30200,'12,000'=> 12000, '5000'=>5000, 'ㅁ'=> 0, None=> 0\\ndef parse_int(price):\\n    if isinstance(price, str) and price.replace(',','').isdigit():\\n        return int(price.replace(',',''))\\nparse_int('5000')\",\n",
       "  \"# 30200=> 30200,'12,000'=> 12000, '5000'=>5000, 'ㅁ'=> 0, None=> 0\\ndef parse_int(price):\\n    if isinstance(price, str) and price.replace(',','').isdigit():\\n        return int(price.replace(',',''))\\nparse_int('ㅁ')\",\n",
       "  \"# 30200=> 30200,'12,000'=> 12000, '5000'=>5000, 'ㅁ'=> 0, None=> 0\\ndef parse_int(price):\\n    if isinstance(price, str) and price.replace(',','').isdigit():\\n        return int(price.replace(',',''))\\nprint(parse_int('ㅁ'))\",\n",
       "  \"# 30200=> 30200,'12,000'=> 12000, '5000'=>5000, 'ㅁ'=> 0, None=> 0\\ndef parse_int(price):\\n    if isinstance(price, str) and price.replace(',','').isdigit():\\n        return int(price.replace(',',''))\\nprint(parse_int('12,000'))\",\n",
       "  \"# 30200=> 30200,'12,000'=> 12000, '5000'=>5000, 'ㅁ'=> 0, None=> 0\\ndef parse_int(price):\\n    if isinstance(price, str) and price.replace(',','').isdigit():\\n        return int(price.replace(',',''))\\n    elif isinstance(price, int):\\n        return price\\nprint(parse_int('12,000')), parse_int(30200), parse_int('ㅁ'), parse_int('None')\",\n",
       "  \"# 30200=> 30200,'12,000'=> 12000, '5000'=>5000, 'ㅁ'=> 0, None=> 0\\ndef parse_int(price):\\n    if isinstance(price, str) and price.replace(',','').isdigit():\\n        return int(price.replace(',',''))\\n    elif isinstance(price, int):\\n        return price\\n    else:\\n        return o\\nprint(parse_int('12,000')), parse_int(30200), parse_int('ㅁ'), parse_int('None')\",\n",
       "  \"# 30200=> 30200,'12,000'=> 12000, '5000'=>5000, 'ㅁ'=> 0, None=> 0\\ndef parse_int(price):\\n    if isinstance(price, str) and price.replace(',','').isdigit():\\n        return int(price.replace(',',''))\\n    elif isinstance(price, int):\\n        return price\\n    else:\\n        return 0\\nprint(parse_int('12,000')), parse_int(30200), parse_int('ㅁ'), parse_int('None')\",\n",
       "  \"# 30200=> 30200,'12,000'=> 12000, '5000'=>5000, 'ㅁ'=> 0, None=> 0\\ndef parse_int(price):\\n    if isinstance(price, str) and price.replace(',','').isdigit():\\n        return int(price.replace(',',''))\\n    elif isinstance(price, int):\\n        return price\\n    else:\\n        return 0\\nprint(parse_int('12,000')), parse_int(30200), parse_int('ㅁ'), parse_int('None'))\",\n",
       "  \"# 30200=> 30200,'12,000'=> 12000, '5000'=>5000, 'ㅁ'=> 0, None=> 0\\ndef parse_int(price):\\n    if isinstance(price, str) and price.replace(',','').isdigit():\\n        return int(price.replace(',',''))\\n    elif isinstance(price, int):\\n        return price\\n    else:\\n        return 0\\nprint(parse_int('12,000'), parse_int(30200), parse_int('ㅁ'), parse_int('None'))\",\n",
       "  \"# 30200=> 30200,'12,000'=> 12000, '5000'=>5000, 'ㅁ'=> 0, None=> 0\\ndef parse_int(price):\\n    if isinstance(price, str) and price.replace(',','').isdigit():\\n        return int(price.replace(',',''))\\n    elif isinstance(price, int):\\n        return price\\n    else:\\n        return 0\\n    \\nparse_int = lambda price :\\n            int(price.replace(',',''))\\n            if isinstance(price, str) and price.replace(',','').isdigit() else \\\\\\n            price if isinstance(price, int\\nprint(parse_int('12,000'), parse_int(30200), parse_int('ㅁ'), parse_int('None'))\",\n",
       "  \"# 30200=> 30200,'12,000'=> 12000, '5000'=>5000, 'ㅁ'=> 0, None=> 0\\ndef parse_int(price):\\n    if isinstance(price, str) and price.replace(',','').isdigit():\\n        return int(price.replace(',',''))\\n    elif isinstance(price, int):\\n        return price\\n    else:\\n        return 0\\n    \\nparse_int = lambda price :\\n            int(price.replace(',',''))\\n            if isinstance(price, str) and price.replace(',','').isdigit() else \\\\\\n            price if isinstance(price, int) else 0\\nprint(parse_int('12,000'), parse_int(30200), parse_int('ㅁ'), parse_int('None'))\",\n",
       "  \"# 30200=> 30200,'12,000'=> 12000, '5000'=>5000, 'ㅁ'=> 0, None=> 0\\ndef parse_int(price):\\n    if isinstance(price, str) and price.replace(',','').isdigit():\\n        return int(price.replace(',',''))\\n    elif isinstance(price, int):\\n        return price\\n    else:\\n        return 0\\n    \\nparse_int = lambda price : \\\\\\n            int(price.replace(',','')) \\\\\\n            if isinstance(price, str) and price.replace(',','').isdigit() else \\\\\\n            price if isinstance(price, int) else 0\\nprint(parse_int('12,000'), parse_int(30200), parse_int('ㅁ'), parse_int('None'))\",\n",
       "  \"# {'no':5,'title': '가격이 숫자', 'writer': '백난도', 'price': '12,000'} => 120000\\nparse_int = lambda price : \\\\\\n            int(book.get('price').replace(',','')) \\\\\\n                if isinstance(book.get('price'), str) and \\\\\\n                    book.get('price').replace(',','').isdigit() else \\\\\\n            price if isinstance(book.get('price'), int) else \\\\\\n            0\\n\\nparse_int(no':5,'title': '가격이 숫자', 'writer': '백난도', 'price': 'ㅁ')\",\n",
       "  \"# {'no':5,'title': '가격이 숫자', 'writer': '백난도', 'price': '12,000'} => 120000\\nparse_int = lambda price : \\\\\\n            int(book.get('price').replace(',','')) \\\\\\n                if isinstance(book.get('price'), str) and \\\\\\n                    book.get('price').replace(',','').isdigit() else \\\\\\n            book.get('price') if isinstance(book.get('price'), int) else \\\\\\n            0\\n\\nparse_int(no':5,'title': '가격이 숫자', 'writer': '백난도', 'price': 'ㅁ')\",\n",
       "  \"# {'no':5,'title': '가격이 숫자', 'writer': '백난도', 'price': '12,000'} => 120000\\nparse_int = lambda price : \\\\\\n            int(book.get('price').replace(',','')) \\\\\\n                if isinstance(book.get('price'), str) and \\\\\\n                    book.get('price').replace(',','').isdigit() else \\\\\\n            book.get('price') if isinstance(book.get('price'), int) else \\\\\\n            0\\n\\nparse_int({'no': 5, 'title': '가격이숫자', 'writer': '백난도', 'price': 'ㅁ'})\",\n",
       "  \"# {'no':5,'title': '가격이 숫자', 'writer': '백난도', 'price': '12,000'} => 120000\\nparse_int = lambda price : \\\\\\n            int(book.get('price').replace(',','')) \\\\\\n                if isinstance(book.get('price'), str) and \\\\\\n                    book.get('price').replace(',','').isdigit() else \\\\\\n            book.get('price') if isinstance(book.get('price'), int) else \\\\\\n            0\\n\\nparse_int({'no': 5, 'title': '가격이숫자', 'writer': '백난도', 'price': '12,000'})\",\n",
       "  \"# {'no':5,'title': '가격이 숫자', 'writer': '백난도', 'price': '12,000'} => 120000\\npparse_int = lambda book : \\\\\\n            int(book.get('price').replace(',','')) \\\\\\n                    if isinstance(book.get('price'), str) and \\\\\\n                                book.get('price').replace(',','').isdigit() else \\\\\\n            price if isinstance(book.get('price'), int) else \\\\\\n            0\\n\\nparse_int({'no': 5, 'title': '가격이숫자', 'writer': '백난도', 'price': '12,000'})\",\n",
       "  \"# 30200=> 30200,'12,000'=> 12000, '5000'=>5000, 'ㅁ'=> 0, None=> 0\\ndef parse_int(price):\\n    if isinstance(price, str) and price.replace(',','').isdigit():\\n        return int(price.replace(',',''))\\n    elif isinstance(price, int):\\n        return price\\n    else:\\n        return 0\\n    \\nparse_int = lambda price : \\\\\\n            int(price.replace(',','')) \\\\\\n            if isinstance(price, str) and price.replace(',','').isdigit() else \\\\\\n            price if isinstance(price, int) else \\\\\\n            0\\nprint(parse_int('12,000'), parse_int(30200), parse_int('ㅁ'), parse_int('None'))\",\n",
       "  \"# {'no':5,'title': '가격이 숫자', 'writer': '백난도', 'price': '12,000'} => 120000\\npparse_int = lambda book : \\\\\\n            int(book.get('price').replace(',','')) \\\\\\n                    if isinstance(book.get('price'), str) and \\\\\\n                                book.get('price').replace(',','').isdigit() else \\\\\\n            price if isinstance(book.get('price'), int) else \\\\\\n            0\\n\\nparse_int({'no': 5, 'title': '가격이숫자', 'writer': '백난도', 'price': '12,000'})\",\n",
       "  \"# {'no':5,'title': '가격이 숫자', 'writer': '백난도', 'price': '12,000'} => 120000\\npparse_int = lambda book : \\\\\\n            int(book.get('price').replace(',','')) \\\\\\n                    if isinstance(book.get('price'), str) and \\\\\\n                                book.get('price').replace(',','').isdigit() else \\\\\\n            book.get('price') if isinstance(book.get('price'), int) else \\\\\\n            0\\n\\nparse_int({'no': 5, 'title': '가격이숫자', 'writer': '백난도', 'price': '12,000'})\",\n",
       "  \"# {'no':5,'title': '가격이 숫자', 'writer': '백난도', 'price': '12,000'} => 120000\\npparse_int = lambda book : \\\\\\n            int(book.get('price').replace(',','')) \\\\\\n                    if isinstance(book.get('price'), str) and \\\\\\n                                book.get('price').replace(',','').isdigit() else \\\\\\n            book.get('price') if isinstance(book.get('price'), int) else \\\\\\n            0\\n\\nparse_int({'no': 5, 'title': '가격이숫자', 'writer': '백난도', 'price': '12,000'})\",\n",
       "  \"# {'no':5,'title': '가격이 숫자', 'writer': '백난도', 'price': '12,000'} => 120000\\npparse_int = lambda book : \\\\\\n            int(book.get('price').replace(',','')) \\\\\\n                    if isinstance(book.get('price'), str) and \\\\\\n                                book.get('price').replace(',','').isdigit() else \\\\\\n            book.get('price') if isinstance(book.get('price'), int) else \\\\\\n            0\\n\\nparse_int({'no': 5, 'title': '가격이숫자', 'writer': '백난도', 'price': 'ㅁ'})\",\n",
       "  \"# {'no':5,'title': '가격이 숫자', 'writer': '백난도', 'price': '12,000'} => 120000\\nparse_int = lambda book : \\\\\\n            int(book.get('price').replace(',','')) \\\\\\n                    if isinstance(book.get('price'), str) and \\\\\\n                                book.get('price').replace(',','').isdigit() else \\\\\\n            book.get('price') if isinstance(book.get('price'), int) else \\\\\\n            0\\n\\nparse_int({'no': 5, 'title': '가격이숫자', 'writer': '백난도', 'price': 'ㅁ'})\",\n",
       "  \"copybooks = books.copy()\\ncopybooks.sort(key=lambda book : \\\\\\n            int(book.get('price').replace(',','')) \\\\\\n                    if isinstance(book.get('price'), str) and \\\\\\n                                book.get('price').replace(',','').isdigit() else \\\\\\n            book.get('price') if isinstance(book.get('price'), int) else \\\\\\n            0,\\n              reverse=True)\\ncopybooks\",\n",
       "  'globals()',\n",
       "  'a=10',\n",
       "  'globals() # 전역ㅂ녀수 리스트'],\n",
       " '_oh': {3: 8,\n",
       "  7: '짝수',\n",
       "  8: ('홀수', '짝수'),\n",
       "  9: (None, None),\n",
       "  10: (None, None),\n",
       "  11: (None, None),\n",
       "  12: ('홀수', '짝수'),\n",
       "  13: (4, 4),\n",
       "  14: (4, 4),\n",
       "  15: (4, 4),\n",
       "  16: (1000, 'negative'),\n",
       "  27: ('재시험', '유효하지 않음'),\n",
       "  29: ('D학점', '유효하지 않는 점수'),\n",
       "  30: (-1, 2),\n",
       "  31: [25, 15, 100, 4.0],\n",
       "  32: [10, 6, 16, 4.0],\n",
       "  33: [64, 82],\n",
       "  34: 53,\n",
       "  35: 5,\n",
       "  36: [10, 6, 16, 4.0, 64],\n",
       "  38: [1, 2, 3],\n",
       "  39: [1, 2, 3, 4, 5, 6, 7, 8, 9],\n",
       "  41: [2, 4, 6, 8, 10, 12, 14, 16, 18],\n",
       "  42: [2, 4, 6, 8, 10, 12, 14, 16, 18],\n",
       "  43: [2, 4, 6, 8, 10, 12, 14, 16, 18],\n",
       "  44: [2, 4, 6, 8, 10, 12, 14, 16, 18],\n",
       "  45: [2, 4, 6, 8, 10, 12, 14, 16, 18],\n",
       "  46: [2, 4, 6, 8, 10, 12, 14, 16, 18],\n",
       "  47: [2, 4, 6, 8, 10, 12, 14, 16, 18],\n",
       "  48: [2, 4, 6, 8, 10, 12, 14, 16, 18],\n",
       "  49: <map at 0x24589dedde0>,\n",
       "  50: [2, 4, 6, 8, 10, 12, 14, 16, 18],\n",
       "  67: ['2025', '01', '01'],\n",
       "  70: ({'year': 2025, 'month': 1, 'day': 1},\n",
       "   {'year': 1995, 'month': 12, 'day': 12}),\n",
       "  71: ({'year': 2025, 'month': 1, 'day': 1},\n",
       "   {'year': 1995, 'month': 12, 'day': 12}),\n",
       "  72: ({'year': 2025, 'month': 1, 'day': 1},\n",
       "   {'year': 1995, 'month': 12, 'day': 12}),\n",
       "  73: ({'year': 2025, 'month': 1, 'day': 1},\n",
       "   {'year': 1995, 'month': 12, 'day': 12}),\n",
       "  78: {'year': 2025, 'month': 1, 'day': 1},\n",
       "  84: {'name': '홍길동', 'year': 2000, 'month': 1, 'day': 1},\n",
       "  90: \"예제2 : members1을 members2로\\nmembers1 = [{'name':'홍길동', 'birth':'2000-01-0'},\\n            {'name':'신길동', 'birth':'1995-12-18'},]\\nmembers2 = [{'name':'홍길동', 'year':2000, 'month':1,'day':1},\\n            {'name':'신길동', 'year':1995, 'month':12, 'day':18},]\\n\",\n",
       "  95: [{'name': '홍길동', 'year': 2000, 'month': 1, 'day': 0},\n",
       "   {'name': '신길동', 'year': 1995, 'month': 12, 'day': 18}],\n",
       "  96: '2000-100-1',\n",
       "  97: '2000-10-1',\n",
       "  98: '2000-10-01',\n",
       "  99: '2000-09-01',\n",
       "  100: '2000-09-01',\n",
       "  102: {'birth': '2000-09-01'},\n",
       "  117: {'name': 'hong', 'birth': '2000-01-01'},\n",
       "  118: [{'name': '홍길동', 'birth': '2000-01-00'},\n",
       "   {'name': '신길동', 'birth': '1995-12-18'}],\n",
       "  119: {'name': 'hong', 'birth': '2000-01-01'},\n",
       "  120: [{'name': '홍길동', 'birth': '2000-01-00'},\n",
       "   {'name': '신길동', 'birth': '1995-12-18'}],\n",
       "  122: [1, 3, 5, 7, 9],\n",
       "  123: [1, 3, 5, 7, 9],\n",
       "  124: [1, 3, 5, 7, 9],\n",
       "  125: [1, 3, 5, 7, 9],\n",
       "  126: [1, 3.0, 100, -2.0],\n",
       "  127: [1, 3.0, 100, -2.0],\n",
       "  129: [1, 3.0, 100, -2.0],\n",
       "  133: [10, 6, 3, 1],\n",
       "  134: [(2, 'two'), (3, 'three'), (1, 'one'), (4, 'four')],\n",
       "  135: [(2, 'two'), (3, 'three'), (1, 'one'), (4, 'four')],\n",
       "  136: [(2, 'two'), (3, 'three'), (1, 'one'), (4, 'four')],\n",
       "  137: [(2, 'two'), (3, 'three'), (1, 'one'), (4, 'four')],\n",
       "  138: [(2, 'two'), (3, 'three'), (1, 'one'), (4, 'four')],\n",
       "  139: [[1, 100], [9, 9], [10, 1]],\n",
       "  153: 99,\n",
       "  159: [{'score': 100},\n",
       "   {'name': '홍', 'score': 99},\n",
       "   {'name': '박', 'score': 77},\n",
       "   {'name': '김', 'score': 50}],\n",
       "  160: [{'score': 100},\n",
       "   {'name': '홍', 'score': 99},\n",
       "   {'name': '박', 'score': 77},\n",
       "   {'name': '김', 'score': 50}],\n",
       "  161: [{'score': 100},\n",
       "   {'name': '홍', 'score': 99},\n",
       "   {'name': '박', 'score': 77},\n",
       "   {'name': '김', 'score': 50}],\n",
       "  162: [{'score': 100},\n",
       "   {'name': '홍', 'score': 99},\n",
       "   {'name': '박', 'score': 77},\n",
       "   {'name': '김', 'score': 50}],\n",
       "  163: [{'score': 100},\n",
       "   {'name': '홍', 'score': 99},\n",
       "   {'name': '박', 'score': 77},\n",
       "   {'name': '김', 'score': 50}],\n",
       "  177: [{'no': 5, 'title': '가격이숫자', 'writer': '백난도', 'price': 30200},\n",
       "   {'no': 6, 'title': '가격이없음', 'writer': '이길동'},\n",
       "   {'no': 4, 'title': '가격잘못', 'writer': '홍길동', 'price': 'ㅁ'},\n",
       "   {'no': 3, 'title': '단 한 번의 삶', 'writer': '김영하', 'price': '15,120'},\n",
       "   {'no': 2, 'title': '더트릭컬', 'writer': '폴빠', 'price': '19,800'},\n",
       "   {'no': 1, 'title': '흔한남매', 'writer': '백난도', 'price': '15,120'}],\n",
       "  178: [{'no': 5, 'title': '가격이숫자', 'writer': '백난도', 'price': 30200},\n",
       "   {'no': 6, 'title': '가격이없음', 'writer': '이길동'},\n",
       "   {'no': 4, 'title': '가격잘못', 'writer': '홍길동', 'price': 'ㅁ'},\n",
       "   {'no': 3, 'title': '단 한 번의 삶', 'writer': '김영하', 'price': '15,120'},\n",
       "   {'no': 2, 'title': '더트릭컬', 'writer': '폴빠', 'price': '19,800'},\n",
       "   {'no': 1, 'title': '흔한남매', 'writer': '백난도', 'price': '15,120'}],\n",
       "  179: [{'no': 5, 'title': '가격이숫자', 'writer': '백난도', 'price': 30200},\n",
       "   {'no': 6, 'title': '가격이없음', 'writer': '이길동'},\n",
       "   {'no': 4, 'title': '가격잘못', 'writer': '홍길동', 'price': 'ㅁ'},\n",
       "   {'no': 3, 'title': '단 한 번의 삶', 'writer': '김영하', 'price': '15,120'},\n",
       "   {'no': 2, 'title': '더트릭컬', 'writer': '폴빠', 'price': '19,800'},\n",
       "   {'no': 1, 'title': '흔한남매', 'writer': '백난도', 'price': '15,120'}],\n",
       "  184: 5000,\n",
       "  188: (None, 30200, None, None),\n",
       "  190: (None, 30200, 0, 0),\n",
       "  202: 0,\n",
       "  203: 0,\n",
       "  204: 0,\n",
       "  205: 0,\n",
       "  206: 0,\n",
       "  207: [{'no': 5, 'title': '가격이숫자', 'writer': '백난도', 'price': 30200},\n",
       "   {'no': 2, 'title': '더트릭컬', 'writer': '폴빠', 'price': '19,800'},\n",
       "   {'no': 3, 'title': '단 한 번의 삶', 'writer': '김영하', 'price': '15,120'},\n",
       "   {'no': 1, 'title': '흔한남매', 'writer': '백난도', 'price': '15,120'},\n",
       "   {'no': 6, 'title': '가격이없음', 'writer': '이길동'},\n",
       "   {'no': 4, 'title': '가격잘못', 'writer': '홍길동', 'price': 'ㅁ'}],\n",
       "  208: {...}},\n",
       " '_dh': [WindowsPath('C:/ai/source/01_python')],\n",
       " 'In': ['',\n",
       "  'def func5(**args):\\n    print(args)\\n    print(type(args))\\n    for key, value in args.items():\\n        print(\"{} : {}\".format(key,value))',\n",
       "  'def func5(**args):\\n    print(args)\\n    print(type(args))\\n    if \\'address\\' not in args: # args에 address 키가 없으면  if문 True\\n        # args[\\'address\\'] = \\'서울시 관악구\\'\\n        # args.update({\\'address\\';\\'서울시 관악구\\'})\\n        args.update(address=\\'서울시 관악구\\')\\n    for key, value in args.items():\\n        print(\"{} : {}\".format(key,value))',\n",
       "  'def add(a, b):\\n    return a+b\\nadd(3, 5)',\n",
       "  'def add(a, b):\\n    return a+b\\nprint(add(3, 5))\\nprint(type(add))',\n",
       "  'add2 = lambda a, b : a + b\\nprint(add2(3, 5))\\nprint(type(add2))',\n",
       "  '# ex1. 매개변수로 들어온 값이 짝수인지 홀수인지 return 함수를 람다식으로 만들어 보세요\\ndef even_odd_chk(num):\\n    if num%2:\\n        result = \"홀수\"\\n    else:\\n        result = \"짝수\"\\n    return result',\n",
       "  '# ex1. 매개변수로 들어온 값이 짝수인지 홀수인지 return 함수를 람다식으로 만들어 보세요\\ndef even_odd_chk(num):\\n    if num%2:\\n        result = \"홀수\"\\n    else:\\n        result = \"짝수\"\\n    return result\\neven_odd_chk(8)',\n",
       "  '# ex1. 매개변수로 들어온 값이 짝수인지 홀수인지 return 함수를 람다식으로 만들어 보세요\\ndef even_odd_chk(num):\\n    if num%2:\\n        result = \"홀수\"\\n    else:\\n        result = \"짝수\"\\n    return result\\neven_odd_chk(5), even_odd_chk(-4)',\n",
       "  '# ex1. 매개변수로 들어온 값이 짝수인지 홀수인지 return 함수를 람다식으로 만들어 보세요\\ndef even_odd_chk(num):    \\n#     if num%2:\\n#         result = \"홀수\"\\n#     else:\\n#         result = \"짝수\"\\n#     return result\\n    result = \\'홀수\\' if num%2 else \"짝수\"\\neven_odd_chk(5), even_odd_chk(-4)',\n",
       "  '# ex1. 매개변수로 들어온 값이 짝수인지 홀수인지 return 함수를 람다식으로 만들어 보세요\\ndef even_odd_chk(num):    \\n#     if num%2:\\n#         result = \"홀수\"\\n#     else:\\n#         result = \"짝수\"\\n#     return result\\n    result = \\'홀수\\' if num%2 else \"짝수\"\\neven_odd_chk(5), even_odd_chk(-4)',\n",
       "  '# ex1. 매개변수로 들어온 값이 짝수인지 홀수인지 return 함수를 람다식으로 만들어 보세요\\ndef even_odd_chk(num):\\n    result = \\'홀수\\' if num%2 else \"짝수\"\\n#     if num%2:\\n#         result = \"홀수\"\\n#     else:\\n#         result = \"짝수\"\\n#     return result\\neven_odd_chk(5), even_odd_chk(-4)',\n",
       "  '# ex1. 매개변수로 들어온 값이 짝수인지 홀수인지 return 함수를 람다식으로 만들어 보세요\\ndef even_odd_chk(num):\\n    result = \\'홀수\\' if num%2 else \"짝수\"\\n#     if num%2:\\n#         result = \"홀수\"\\n#     else:\\n#         result = \"짝수\"\\n#     return result\\n    result = \\'홀수\\' if num%2 else \"짝수\"\\neven_odd_chk = lambda num : \"홀수\" if num%2 else \"짝수\"\\neven_odd_chk(5), even_odd_chk(-4)',\n",
       "  '# ex2. 두 매개변수의 차이를 return하는 함수를 람다식으로 만들어 보세요\\ndiff = lambda a, b : a-b if a>b else b-a\\ndiff(5,1), diff(1,5)',\n",
       "  '# ex2. 두 매개변수의 차이를 return하는 함수를 람다식으로 만들어 보세요\\ndef diff(a, b):\\n    if a>b:\\n        result = a-b\\n    else:\\n        a<b\\n        result = b-a\\n    return result\\ndiff = lambda a, b : a-b if a>b else b-a\\ndiff(5,1), diff(1,5)',\n",
       "  '# ex2. 두 매개변수의 차이를 return하는 함수를 람다식으로 만들어 보세요\\ndef diff(a, b):\\n    if a>b:\\n        result = a-b\\n    else:\\n        result = b-a\\n    return result\\ndiff = lambda a, b : a-b if a>b else b-a\\ndiff(5,1), diff(1,5)',\n",
       "  \"# ex3. 매개변수로 잔액을 받아, 잔액이 0 이상이면 잔액을 return, 음수면 'negative'를 return\\nex3 =lambda balance : balance if balance>0 else 'negative'\\nex3(1000), ex3(-100)\",\n",
       "  \"# ex4. 점수를 입력 받아 80점 이상은 'A팀', 60점 이상은  'B팀', 60점 미만은 '재시험'\\n                        # 100점 초과, 0점 미만은 '유효하지 않음'을 return\\nex4 = lambda score : 'A팀' if 100>=score>=80 'B팀' elif score>=60 'C팀' elif 60>score>0 else '유효하지 않음'\\nex4(100)\",\n",
       "  \"# ex4. 점수를 입력 받아 80점 이상은 'A팀', 60점 이상은  'B팀', 60점 미만은 '재시험'\\n                        # 100점 초과, 0점 미만은 '유효하지 않음'을 return\\nex4 = lambda '팀' : '팀' if 100>=score>=80 'A' elif score>=60 'B' elif 60>score>0 'C' else '유효하지 않음'\\nex4(100)\",\n",
       "  \"# ex4. 점수를 입력 받아 80점 이상은 'A팀', 60점 이상은  'B팀', 60점 미만은 '재시험'\\n                        # 100점 초과, 0점 미만은 '유효하지 않음'을 return\\nex4 = lambda 팀 : 팀 if 100>=score>=80 'A' elif score>=60 'B' elif 60>score>0 'C' else '유효하지 않음'\\nex4(100)\",\n",
       "  \"# ex4. 점수를 입력 받아 80점 이상은 'A팀', 60점 이상은  'B팀', 60점 미만은 '재시험'\\n                        # 100점 초과, 0점 미만은 '유효하지 않음'을 return\\nex4 = lambda team : team if 100>=score>=80 'A' elif score>=60 'B' elif 60>score>0 'C' else '유효하지 않음'\\nex4(100)\",\n",
       "  \"# ex4. 점수를 입력 받아 80점 이상은 'A팀', 60점 이상은  'B팀', 60점 미만은 '재시험'\\n                        # 100점 초과, 0점 미만은 '유효하지 않음'을 return\\ndef levelCHK(score):\\n    if 80<=score=<100:\\n        return 'A팀'\\n    elif 60<=score=<80:\\n        return 'B'\\n    elif 0<=score=<60\\n        return '재시험'\\n    else:\\n        '유효하지 않음'\\n    \\nex4 = lambda score : 'A팀' if 80<=score=<100 else \\\\\\n                      'B팀' if 60<=score=<80  else \\\\\\n                      '재시험' if 0<=score=<60 else \\\\\\n                      '유효하지 않음')\\nlevelCHK(8), ex4(160)\",\n",
       "  \"# ex4. 점수를 입력 받아 80점 이상은 'A팀', 60점 이상은  'B팀', 60점 미만은 '재시험'\\n                        # 100점 초과, 0점 미만은 '유효하지 않음'을 return\\ndef levelCHK(score):\\n    if 80<=score=<100:\\n        return 'A팀'\\n    elif 60<=score=<80:\\n        return 'B'\\n    elif 0<=score=<60\\n        return '재시험'\\n    else:\\n        '유효하지 않음'\\n    \\nex4 = lambda score : 'A팀' if 80<=score=<100 else \\\\\\n                      'B팀' if 60<=score=<80  else \\\\\\n                      '재시험' if 0<=score=<60 else \\\\\\n                      '유효하지 않음'\\nlevelCHK(8), ex4(160)\",\n",
       "  \"# ex4. 점수를 입력 받아 80점 이상은 'A팀', 60점 이상은  'B팀', 60점 미만은 '재시험'\\n                        # 100점 초과, 0점 미만은 '유효하지 않음'을 return\\ndef levelCHK(score):\\n    if 80<=score=<100\\n        return 'A팀'\\n    elif 60<=score=<80\\n        return 'B'\\n    elif 0<=score=<60\\n        return '재시험'\\n    else:\\n        '유효하지 않음'\\n    \\nex4 = lambda score : 'A팀' if 80<=score=<100 else \\\\\\n                      'B팀' if 60<=score=<80  else \\\\\\n                      '재시험' if 0<=score=<60 else \\\\\\n                      '유효하지 않음'\\nlevelCHK(8), ex4(160)\",\n",
       "  \"# ex4. 점수를 입력 받아 80점 이상은 'A팀', 60점 이상은  'B팀', 60점 미만은 '재시험'\\n                        # 100점 초과, 0점 미만은 '유효하지 않음'을 return\\ndef levelCHK(score):\\n    if 80<=score=<100:\\n        return 'A팀'\\n    elif 60<=score=<80:\\n        return 'B'\\n    elif 0<=score=<60:\\n        return '재시험'\\n    else:\\n        '유효하지 않음'\\n    \\nex4 = lambda score : 'A팀' if 80<=score=<100 else \\\\\\n                      'B팀' if 60<=score=<80  else \\\\\\n                      '재시험' if 0<=score=<60 else \\\\\\n                      '유효하지 않음'\\nlevelCHK(8), ex4(160)\",\n",
       "  \"# ex4. 점수를 입력 받아 80점 이상은 'A팀', 60점 이상은  'B팀', 60점 미만은 '재시험'\\n                        # 100점 초과, 0점 미만은 '유효하지 않음'을 return\\ndef levelCHK(score):\\n    if 80<=score<100:\\n        return 'A팀'\\n    elif 60<=score=<80:\\n        return 'B'\\n    elif 0<=score=<60:\\n        return '재시험'\\n    else:\\n        '유효하지 않음'\\n    \\nex4 = lambda score : 'A팀' if 80<=score=<100 else \\\\\\n                      'B팀' if 60<=score=<80  else \\\\\\n                      '재시험' if 0<=score=<60 else \\\\\\n                      '유효하지 않음'\\nlevelCHK(8), ex4(160)\",\n",
       "  \"# ex4. 점수를 입력 받아 80점 이상은 'A팀', 60점 이상은  'B팀', 60점 미만은 '재시험'\\n                        # 100점 초과, 0점 미만은 '유효하지 않음'을 return\\ndef levelCHK(score):\\n    if 80<=score<=100:\\n        return 'A팀'\\n    elif 60<=score<=80:\\n        return 'B'\\n    elif 0<=score<=60:\\n        return '재시험'\\n    else:\\n        '유효하지 않음'\\n    \\nex4 = lambda score : 'A팀' if 80<=score=<100 else \\\\\\n                      'B팀' if 60<=score=<80  else \\\\\\n                      '재시험' if 0<=score=<60 else \\\\\\n                      '유효하지 않음'\\nlevelCHK(8), ex4(160)\",\n",
       "  \"# ex4. 점수를 입력 받아 80점 이상은 'A팀', 60점 이상은  'B팀', 60점 미만은 '재시험'\\n                        # 100점 초과, 0점 미만은 '유효하지 않음'을 return\\ndef levelCHK(score):\\n    if 80<=score<=100:\\n        return 'A팀'\\n    elif 60<=score<=80:\\n        return 'B'\\n    elif 0<=score<=60:\\n        return '재시험'\\n    else:\\n        '유효하지 않음'\\n    \\nex4 = lambda score : 'A팀' if 80<=score<=100 else \\\\\\n                      'B팀' if 60<=score<=80  else \\\\\\n                      '재시험' if 0<=score<=60 else \\\\\\n                      '유효하지 않음'\\nlevelCHK(8), ex4(160)\",\n",
       "  \"# 점수를 입력 받아 학점을 return\\nscore_grade = lambda score : 'A학점' if 90<=score=<100 else \\\\\\n                              'B학점' if 80<=score<90 else \\\\\\n                              'C학점' if 70<=score<80 else \\\\\\n                              'D학점' if 60<=score<70 else \\\\\\n                              'F학점' if score<60 else \\\\\\n                              '유효하지 않는 점수'\\nscore_grade(60), score_grade(120)\",\n",
       "  \"# 점수를 입력 받아 학점을 return\\nscore_grade = lambda score : 'A학점' if 90<=score<=100 else \\\\\\n                              'B학점' if 80<=score<90 else \\\\\\n                              'C학점' if 70<=score<80 else \\\\\\n                              'D학점' if 60<=score<70 else \\\\\\n                              'F학점' if score<60 else \\\\\\n                              '유효하지 않는 점수'\\nscore_grade(60), score_grade(120)\",\n",
       "  '# safe_index 함수를 람다식으로\\ndef safe_index(lst, item, start=0):\\n    return lst.index(item,start) if item in lst[start:] else -1\\n#     if item in lst[start:]:\\n#         return lst.index(item,start) # start번째부터 item이 있는 index를 반환\\n#     return -1\\nex5 = lambda lst, item, start=0 : lst.index(item,start) if item in lst[start:] else \\\\\\n                                   -1\\nlst = [1, 2, 3]\\nsafe_index(lst,4), ex5(lst, 3, 1)',\n",
       "  \"# 람다식을 list에 들어갈 수 있음\\nadd = lambda a, b : a+b\\nsub = lambda a, b : a-b\\nmul = lambda a, b : a*b\\ndiv = lambda a, b : a/b if b else '두번째 인자가 0이면 못 나눠요'\\noperations =[add, sub, mul, div] # 사칙연산 함수들\\n\\ndef act_operations(a, b, operations=operations): # a,b의 연산 결과를 return \\n    result = []\\n    for op in operations:\\n        result.append(op(a, b))\\n    return result\\n\\nact_operations(20,5)\",\n",
       "  'act_operations(8,2)',\n",
       "  'act_operations(8, 2, [lambda x,y : x**y, lambda x,y : 10*x+y] )',\n",
       "  '(lambda x,y : 10*x+y)(5,3)',\n",
       "  'operations.append(lambda x,y : x**y)\\nlen(operations)',\n",
       "  'act_operations(8, 2) # 기본값을 갖는 변스(기본 변수)가 리스트면 기본값은 호출할 시점',\n",
       "  'def map_template(func, L=[]):\\n    result = []\\n    for item in L:\\n        result.append(item)\\n    return result',\n",
       "  'map_template(lambda a : a,[1, 2, 3])',\n",
       "  'list_data = [1,2,3,4,5,6,7,8,9]\\ndef x_2(x):\\n    return x*2\\nmap_template(x_2,list_data)',\n",
       "  'def map_template(func, L=[]):\\n    result = []\\n    for item in L:\\n        result.append(func(item))\\n    return result',\n",
       "  'list_data = [1,2,3,4,5,6,7,8,9]\\ndef x_2(x):\\n    return x*2\\nmap_template(x_2,list_data)',\n",
       "  'list_data = [1,2,3,4,5,6,7,8,9]\\ndef x_2(x):\\n    return x*2\\nx_2 = lambda x : x*2\\nmap_template(lambda x : x*2,list_data)',\n",
       "  'list_data = [1,2,3,4,5,6,7,8,9]\\ndef x_2(x):\\n    return x*2\\nx_2 = lambda x : x*2\\nmap_template(x_2,list_data)',\n",
       "  'map_template(lambda x : x*2,list_data)',\n",
       "  'map_template(lambda x : x*2, list_data)',\n",
       "  'list_data = [1,2,3,4,5,6,7,8,9]\\n# def x_2(x):\\n#     return x*2\\nx_2 = lambda x : x*2\\nmap_template(x_2, list_data)',\n",
       "  'map_template(lambda x : x*2, list_data)',\n",
       "  '# 리스트 컴프리헨션\\n[item*2 for item in list_data]',\n",
       "  'map(lambda x : x*2, list_data)',\n",
       "  'list(map(lambda x : x*2, list_data))',\n",
       "  'for data in map(lambda x : x*2, list_data):\\n    print(data,end=\" \")',\n",
       "  \"'''\\n에제1, prices = ['5,000', '5000', '6,000', '1000','5,000', '5000', '6,000', '1000’]를 [5000,5000,6000,1000]식으로 바꾸시오\\n'''\\nprices = ['5,000', '5000', '6,000', '1000','5,000', '5000', '6,000', '1000’]\\ndef toint(value):\\n          return int(value.replace(',',''))\\ntotint('5000')\",\n",
       "  \"'''\\n에제1, prices = ['5,000', '5000', '6,000', '1000','5,000', '5000', '6,000', '1000’]를 [5000,5000,6000,1000]식으로 바꾸시오\\n'''\\n# prices = ['5,000', '5000', '6,000', '1000','5,000', '5000', '6,000', '1000’]\\ndef toint(value):\\n          return int(value.replace(',',''))\\ntotint('5000')\",\n",
       "  \"'''\\n에제1, prices = ['5,000', '5000', '6,000', '1000','5,000', '5000', '6,000', '1000’]를 [5000,5000,6000,1000]식으로 바꾸시오\\n'''\\nprices = ['5,000', '5000', '6,000', '1000', '5,000', '5000', '6,000', '1000’]\\ndef toint(value):\\n          return int(value.replace(',',''))\\nmap(lambda value : int(int(value.replace(',','')), prices)\\nfor price in prices_int:\\n    print(price, end=' ')\",\n",
       "  \"'''\\n에제1, prices = ['5,000', '5000', '6,000', '1000','5,000', '5000', '6,000', '1000’]를 [5000,5000,6000,1000]식으로 바꾸시오\\n'''\\nprices = ['5,000', '5000', '6,000', '1000', '5,000', '5000', '6,000', '1000']\\ndef toint(value):\\n          return int(value.replace(',',''))\\nmap(lambda value : int(int(value.replace(',','')), prices)\\nfor price in prices_int:\\n    print(price, end=' ')\",\n",
       "  \"'''\\n에제1, prices = ['5,000', '5000', '6,000', '1000','5,000', '5000', '6,000', '1000’]를 [5000,5000,6000,1000]식으로 바꾸시오\\n'''\\nprices = ['5,000', '5000', '6,000', '1000', '5,000', '5000', '6,000', '1000']\\ndef toint(value):\\n          return int(value.replace(',',''))\\nmap(lambda value : int(value.replace(',',''), prices)\\nfor price in prices_int:\\n    print(price, end=' ')\",\n",
       "  \"'''\\n에제1, prices = ['5,000', '5000', '6,000', '1000','5,000', '5000', '6,000', '1000’]를 [5000,5000,6000,1000]식으로 바꾸시오\\n'''\\nprices = ['5,000', '5000', '6,000', '1000', '5,000', '5000', '6,000', '1000']\\ndef toint(value):\\n          return int(value.replace(',',''))\\nmap(lambda value : int(value.replace(',',''), prices))\\nfor price in prices_int:\\n    print(price, end=' ')\",\n",
       "  \"'''\\n에제1, prices = ['5,000', '5000', '6,000', '1000','5,000', '5000', '6,000', '1000’]를 [5000,5000,6000,1000]식으로 바꾸시오\\n'''\\nprices = ['5,000', '5000', '6,000', '1000', '5,000', '5000', '6,000', '1000']\\ndef toint(value):\\n          return int(value.replace(',',''))\\nmap(lambda value : int(value.replace(',','')), prices))\\nfor price in prices_int:\\n    print(price, end=' ')\",\n",
       "  \"'''\\n에제1, prices = ['5,000', '5000', '6,000', '1000','5,000', '5000', '6,000', '1000’]를 [5000,5000,6000,1000]식으로 바꾸시오\\n'''\\nprices = ['5,000', '5000', '6,000', '1000', '5,000', '5000', '6,000', '1000']\\ndef toint(value):\\n          return int(value.replace(',',''))\\nmap(lambda value : int(value.replace(',','')), prices)\\nfor price in prices_int:\\n    print(price, end=' ')\",\n",
       "  \"'''\\n에제1, prices = ['5,000', '5000', '6,000', '1000','5,000', '5000', '6,000', '100']를 [5000,5000,6000,1000]식으로 바꾸시오\\n'''\\nprices = ['5,000', '5000', '6,000', '1000', '5,000', '5000', '6,000', '1000']\\ndef toint(value):\\n          return int(value.replace(',',''))\\nmap(lambda value : int(value.replace(',','')), prices)\\nfor price in price_int:\\n    print(price, end=' ')\",\n",
       "  \"'''\\n에제1, prices = ['5,000', '5000', '6,000', '1000','5,000', '5000', '6,000', '100']를 [5000,5000,6000,1000]식으로 바꾸시오\\n'''\\nprices = ['5,000', '5000', '6,000', '1000', '5,000', '5000', '6,000', '1000']\\ndef toint(value):\\n          return int(value.replace(',',''))\\nmap(lambda value : int(value.replace(',','')), prices)\\nfor price in prices_int:\\n    print(price, end=' ')\\nprint('5000')\",\n",
       "  \"'''\\n에제1, prices = ['5,000', '5000', '6,000', '1000','5,000', '5000', '6,000', '100']를 [5000,5000,6000,1000]식으로 바꾸시오\\n'''\\nprices = ['5,000', '5000', '6,000', '1000', '5,000', '5000', '6,000', '1000']\\ndef toint(value):\\n          return int(value.replace(',',''))\\nmap(lambda value : int(value.replace(',','')), prices)\\nprices_int=lambda value : int(value.replace(',','')), prices\\nfor price in prices_int:\\n    print(price, end=' ')\",\n",
       "  '# \\'2000-01-01\\' => {\\'year\\':2000, \\'month\\':1, \\'day\\':1} \\ndef split_date(date):\\n    for date in members1:\\n        for idx,date in enumerate(members1):\\n            print(f\"year:{},month:{},day:{}\")\\n        ',\n",
       "  '# \\'2000-01-01\\' => {\\'year\\':2000, \\'month\\':1, \\'day\\':1} \\ndef split_date(date):\\n    for date in members1:\\n        for idx,date in enumerate(members1):\\n            print(f\"year:{date},month:{date},day:{date}\")\\n        ',\n",
       "  '# \\'2000-01-01\\' => {\\'year\\':2000, \\'month\\':1, \\'day\\':1} \\ndef split_date(date):\\n    for date in members1:\\n        for idx,date in enumerate(members1):\\n            print(f\"year:{date},month:{date},day:{date}\")\\nsplit_date(date)',\n",
       "  '# \\'2000-01-01\\' => {\\'year\\':2000, \\'month\\':1, \\'day\\':1} \\ndef split_date(date):\\n    for date in members1:\\n        for idx,date in enumerate(members1):\\n            print(f\"year:{date},month:{date},day:{date}\")\\nsplit_date(members1)',\n",
       "  \"# '2000-01-01' => {'year':2000, 'month':1, 'day':1} \\ndef split_date(date):\\n    split_date = date.split('-')\\n    return split_date\\nsplit_date('2025-01-01')\",\n",
       "  \"# '2000-01-01' => {'year':2000, 'month':1, 'day':1} \\ndef split_date(date):\\n    return {\\n            'year': int(date.split('-')[0])\\n            'month': int(date.split('-')[1]\\n            'day' : int(date.split('-')[2]\\n}\\nsplit_date('2025-01-01'),split_date('1995-12-12')\",\n",
       "  \"# '2000-01-01' => {'year':2000, 'month':1, 'day':1} \\ndef split_date(date):\\n    return {\\n            'year': int(date.split('-')[0])\\n            'month': int(date.split('-')[1]\\n            'day' : int(date.split('-')[2]\\n    }\\nsplit_date('2025-01-01'), split_date('1995-12-12')\",\n",
       "  \"# '2025-01-01' => {'year':2000, 'month':1,'day':1} \\ndef split_date(date):\\n    split_date = date.split('-')\\n    return {\\n        'year': int(split_date[0]),\\n        'month':int(split_date[1]),\\n        'day':int(split_date[2])\\n    }\\nsplit_date('2025-01-01'), split_date('1995-12-12')\",\n",
       "  \"# '2025-01-01' => {'year':2000, 'month':1,'day':1} \\ndef split_date(date):\\n    split_date = date.split('-')\\n    return {\\n        'year': int(split_date[0]),\\n        'month':int(split_date[1]),\\n        'day':int(split_date[2])\\n    }\\nsplit_date('2025-01-01'), split_date('1995-12-12')\",\n",
       "  \"# '2025-01-01' => {'year':2000, 'month':1,'day':1} \\ndef split_date(date):\\n    return {\\n        'year': int(date.split('-')[0]),\\n        'month':int(date.split('-')[1]),\\n        'day':int(date.split('-')[2])\\n    }\\nsplit_date('2025-01-01'), split_date('1995-12-12')\",\n",
       "  \"# {'birth':'2025-01-01'} => {'year':2000, 'month':1,'day':1} \\ndef split_date(date):\\n    return {\\n        'year': int(date.split('-')[0]),\\n        'month':int(date.split('-')[1]),\\n        'day':int(date.split('-')[2])\\n    }\\nsplit_date('2025-01-01'), split_date('1995-12-12')\",\n",
       "  \"# {'birth':'2025-01-01'} => {'year':2000, 'month':1,'day':1} \\ndef split_date(date):\\n    return {\\n        'year': int(data['birth'].split('-')[0]),\\n        'month':int(data['birth'].split('-')[1]),\\n        'day':int(data['birth'].split('-')[2])\\n    }\\nsplit_date('2025-01-01'), split_date('1995-12-12')\",\n",
       "  \"# {'birth':'2025-01-01'} => {'year':2000, 'month':1,'day':1} \\ndef split_date(date):\\n    return {\\n        'year': int(data['birth'].split('-')[0]),\\n        'month':int(data['birth'].split('-')[1]),\\n        'day':int(data['birth'].split('-')[2])\\n    }\\nsplit_date(birth':'2025-01-01'),\",\n",
       "  \"# {'birth':'2025-01-01'} => {'year':2000, 'month':1,'day':1} \\ndef split_date(date):\\n    return {\\n        'year': int(data['birth'].split('-')[0]),\\n        'month':int(data['birth'].split('-')[1]),\\n        'day':int(data['birth'].split('-')[2])\\n    }\\nsplit_date('birth':'2025-01-01'),\",\n",
       "  \"# {'birth':'2025-01-01'} => {'year':2000, 'month':1,'day':1} \\ndef split_date(date):\\n    return {\\n        'year': int(data['birth'].split('-')[0]),\\n        'month':int(data['birth'].split('-')[1]),\\n        'day':int(data['birth'].split('-')[2])\\n    }\\nsplit_date({'birth':'2025-01-01'})\",\n",
       "  \"# {'birth':'2025-01-01'} => {'year':2000, 'month':1,'day':1} \\ndef split_date(data):\\n    return {\\n        'year': int(data['birth'].split('-')[0]),\\n        'month':int(data['birth'].split('-')[1]),\\n        'day':int(data['birth'].split('-')[2])\\n    }\\nsplit_date({'birth':'2025-01-01'})\",\n",
       "  \"# {'name':'홍길동','birth':'2000-01-01'} =>{'name':'홍길동',''year':2000, 'month':1,'day':1}\\ndef split_date(data):\\n    if date in data\\n    return {\\n        'year': int(date.split('-')[0]),\\n        'month':int(date.split('-')[1]),\\n        'day':int(date.split('-')[2])\\n    }\\nsplit_date({'birth':'2025-01-01'})\",\n",
       "  \"# {'name':'홍길동','birth':'2000-01-01'} =>{'name':'홍길동',''year':2000, 'month':1,'day':1}\\ndef split_date(data):\\n    if date in data[birth]\\n    return {\\n        'year': int(date.split('-')[0]),\\n        'month':int(date.split('-')[1]),\\n        'day':int(date.split('-')[2])\\n    }\\nsplit_date({'birth':'2025-01-01'})\",\n",
       "  \"# {'name':'홍길동','birth':'2000-01-01'} =>{'name':'홍길동',''year':2000, 'month':1,'day':1}\\ndef split_date(data):\\n    if date in data[birth]\\n    return {\\n        'ear': int(data['birth'].split('-')[0]),\\n        'month':int(data['birth'].split('-')[1]),\\n        'day':int(data['birth'].split('-')[2])\\n    }\\nsplit_date({'birth':'2025-01-01'})\",\n",
       "  \"# {'name':'홍길동','birth':'2000-01-01'} =>{'name':'홍길동',''year':2000, 'month':1,'day':1}\\ndef split_date(data):\\n    if date in data[birth]:\\n    return {\\n        'ear': int(data['birth'].split('-')[0]),\\n        'month':int(data['birth'].split('-')[1]),\\n        'day':int(data['birth'].split('-')[2])\\n    }\\nsplit_date({'birth':'2025-01-01'})\",\n",
       "  \"# {'name':'홍길동','birth':'2000-01-01'} =>{'name':'홍길동',''year':2000, 'month':1,'day':1}\\ndef member_processing(member):\\n    return {\\n        'name': member.get('name','이름없음'), # member['name']\\n        'year': int(member.get('birth').split('-')[0]),\\n        'month': int(member.get('birth').split('-')[1]),\\n        'day': int(member.get('birth').split('-')[2]),\\n    }\\nmember_processing('name':'홍길동','birth':'2000-01-01')\",\n",
       "  \"# {'name':'홍길동','birth':'2000-01-01'} =>{'name':'홍길동',''year':2000, 'month':1,'day':1}\\ndef member_processing(member):\\n    return {\\n        'name' : member.get('name','이름없음'), # member['name']\\n        'year' : int(member.get('birth').split('-')[0]),\\n        'month': int(member.get('birth').split('-')[1]),\\n        'day'  : int(member.get('birth').split('-')[2]),\\n    }\\nmember_processing({'name':'홍길동','birth':'2000-01-01'})\",\n",
       "  \"members2 = list(map(lambda member : {\\n                              'name' : member.get('name','이름없음'),\\n                              'year' : int(member.get('birth').split('-')[0]),\\n                              'month': int(member.get('birth').split('-')[1]),\\n                              'day'  : int(member.get('birth').split('-')[2]),\\n                               }, members1) )\\nmembers2\",\n",
       "  \"members2 = list(map(lambda member : {\\n                              'name' : member.get('name','이름없음'),\\n                              'year' : int(member.get('birth').split('-')[0]),\\n                              'month': int(member.get('birth').split('-')[1]),\\n                              'day'  : int(member.get('birth').split('-')[2]),\\n                               }, members1\\n           ) \\n       )\\nmembers2\",\n",
       "  \"members2 = list(map(lambda member : {\\n                              'name' : member.get('name','이름없음'),\\n                              'year' : int(member.get('birth').split('-')[0]),\\n                              'month': int(member.get('birth').split('-')[1]),\\n                              'day'  : int(member.get('birth').split('-')[2]),\\n                               }, members1\\n                   )\\n               )\\nmembers2\",\n",
       "  \"members2 = list(map(lambda data : {\\n                              'name' : member.get('name','이름없음'),\\n                              'year' : int(member.get('birth').split('-')[0]),\\n                              'month': int(member.get('birth').split('-')[1]),\\n                              'day'  : int(member.get('birth').split('-')[2]),\\n                               }, members1\\n                   )\\n               )\\nmembers2\",\n",
       "  \"members2 = list(map(lambda data : {\\n                              'name' : data.get('name','이름없음'),\\n                              'year' : int(data.get('birth').split('-')[0]),\\n                              'month': int(data.get('birth').split('-')[1]),\\n                              'day'  : int(data.get('birth').split('-')[2]),\\n                               }, members1\\n                   )\\n               )\\nmembers2\",\n",
       "  \"'''예제2 : members1을 members2로\\nmembers1 = [{'name':'홍길동', 'birth':'2000-01-0'},\\n            {'name':'신길동', 'birth':'1995-12-18'},]\\nmembers2 = [{'name':'홍길동', 'year':2000, 'month':1,'day':1},\\n            {'name':'신길동', 'year':1995, 'month':12, 'day':18},]\\n'''\",\n",
       "  \"members2 = list(map(lambda members : {\\n                              'name' : members.get('name','이름없음'),\\n                              'year' : int(members.get('birth').split('-')[0]),\\n                              'month': int(members.get('birth').split('-')[1]),\\n                              'day'  : int(members.get('birth').split('-')[2]),\\n                               }, members1\\n                   )\\n               )\\nmembers2\",\n",
       "  \"members2 = list(map(lambda members : {\\n                              'name' : member.get('name','이름없음'),\\n                              'year' : int(member.get('birth').split('-')[0]),\\n                              'month': int(member.get('birth').split('-')[1]),\\n                              'day'  : int(member.get('birth').split('-')[2]),\\n                               }, members1\\n                   )\\n               )\\nmembers2\",\n",
       "  \"members1 = [{'name':'홍길동', 'birth':'2000-01-0'},\\n            {'name':'신길동', 'birth':'1995-12-18'},]\",\n",
       "  \"members2 = list(map(lambda members : {\\n                              'name' : member.get('name','이름없음'),\\n                              'year' : int(member.get('birth').split('-')[0]),\\n                              'month': int(member.get('birth').split('-')[1]),\\n                              'day'  : int(member.get('birth').split('-')[2]),\\n                               }, members1\\n                   )\\n               )\\nmembers2\",\n",
       "  \"members2 = list(map(lambda member : {\\n                              'name' : member.get('name','이름없음'),\\n                              'year' : int(member.get('birth').split('-')[0]),\\n                              'month': int(member.get('birth').split('-')[1]),\\n                              'day'  : int(member.get('birth').split('-')[2]),\\n                               }, members1\\n                   )\\n               )\\nmembers2\",\n",
       "  '# {\\'year\\':2000, \\'month\\':1, \\'day\\':1}  => \\'2025-01-01\\'\\ndef join_date(data):\\n    return \"{}-{}-{}\".format(data.get(\\'year\\'),data.get(\\'month\\'),data.get(\\'day\\'))\\njoin_date({\\'year\\':2000, \\'month\\':100, \\'day\\':1})',\n",
       "  '# {\\'year\\':2000, \\'month\\':1, \\'day\\':1}  => \\'2025-01-01\\'\\ndef join_date(data):\\n    return \"{}-{}-{}\".format(data.get(\\'year\\'),data.get(\\'month\\'),data.get(\\'day\\'))\\njoin_date({\\'year\\':2000, \\'month\\':10, \\'day\\':1})',\n",
       "  '# {\\'year\\':2000, \\'month\\':1, \\'day\\':1}  => \\'2025-01-01\\'\\ndef join_date(data):\\n    return \"{}-{:02}-{:02}\".format(data.get(\\'year\\'),data.get(\\'month\\'),data.get(\\'day\\'))\\njoin_date({\\'year\\':2000, \\'month\\':10, \\'day\\':1})',\n",
       "  '# {\\'year\\':2000, \\'month\\':1, \\'day\\':1}  => \\'2025-01-01\\'\\ndef join_date(data):\\n    return \"{}-{:02}-{:02}\".format(data.get(\\'year\\'),data.get(\\'month\\'),data.get(\\'day\\'))\\njoin_date({\\'year\\':2000, \\'month\\':9, \\'day\\':1})',\n",
       "  '# {\\'year\\':2000, \\'month\\':1, \\'day\\':1}  => \\'2025-01-01\\'\\ndef join_date(data):\\n    return \"{year}-{month:02}-{day:02}\".format(**data)\\njoin_date({\\'year\\':2000, \\'month\\':9, \\'day\\':1})',\n",
       "  '# {\\'year\\':2000, \\'month\\':1, \\'day\\':1}  => {\\'birth\\':\\'2025-01-01\\'}\\ndef join_date(data):\\n    return {\"birth\" : \"{year}-{month:02}-{day:02}\"}.format(**data)\\njoin_date({\\'year\\':2000, \\'month\\':9, \\'day\\':1})',\n",
       "  '# {\\'year\\':2000, \\'month\\':1, \\'day\\':1}  => {\\'birth\\':\\'2025-01-01\\'}\\ndef join_date(data):\\n    return {\"birth\" : \"{year}-{month:02}-{day:02}\".format(**data)}\\njoin_date({\\'year\\':2000, \\'month\\':9, \\'day\\':1})',\n",
       "  \"#{'name':'hong','year':2000, 'month':1. 'day':1} => {'name':'hong','birth':'2000-01-01'}\\ndef member_processing(member):\\n    return {\\n        'name' : member.get('name','이름없음'), # member['name']\\n        'year' : int(member.get('year').split('-')),\\n        'month': int(member.get('month').split('-')),\\n        'day'  : int(member.get('day').split('-')),\\n    }\\nmember_processing({'name':'hong','year':2000, 'month':1. 'day':1})\",\n",
       "  \"#{'name':'hong','year':2000, 'month':1. 'day':1} => {'name':'hong','birth':'2000-01-01'}\\ndef member_processing(member):\\n    return {\\n        'name' : member.get('name','이름없음'), # member['name']\\n        'year' : int(member.get('year').split('-')),\\n        'month': int(member.get('month').split('-')),\\n        'day'  : int(member.get('day').split('-')),\\n    }\\nmember_processing({'name':'hong','year':2000, 'month':1, 'day':1})\",\n",
       "  '#{\\'name\\':\\'hong\\',\\'year\\':2000, \\'month\\':1. \\'day\\':1} => {\\'name\\':\\'hong\\',\\'birth\\':\\'2000-01-01\\'}\\ndef member_processing(member):\\n    return {\\n        \\'name\\' : members.get(\\'name\\',\\'이름없음\\'),\\n        \\'birth\\' : {year}-{month:02}-{day:02}\".format(**member)\\n    }\\nmember_processing({\\'name\\':\\'hong\\',\\'year\\':2000, \\'month\\':1, \\'day\\':1})',\n",
       "  '#{\\'name\\':\\'hong\\',\\'year\\':2000, \\'month\\':1. \\'day\\':1} => {\\'name\\':\\'hong\\',\\'birth\\':\\'2000-01-01\\'}\\ndef member_processing(member):\\n    return {\\n        \\'name\\' : members.get(\\'name\\',\\'이름없음\\'),\\n        \\'birth\\' : \"{year}-{month:02}-{day:02}\".format(**member)\\n    }\\nmember_processing({\\'name\\':\\'hong\\',\\'year\\':2000, \\'month\\':1, \\'day\\':1})',\n",
       "  '#{\\'name\\':\\'hong\\',\\'year\\':2000, \\'month\\':1. \\'day\\':1} => {\\'name\\':\\'hong\\',\\'birth\\':\\'2000-01-01\\'}\\ndef member_processing(member):\\n    return {\\n        \\'name\\' : members.get(\\'name\\',\\'이름없음\\'),\\n        \\'birth\\' : \"{year}-{month:02}-{day:02}\".format(**member)\\n    }\\nmembers_processing({\\'name\\':\\'hong\\',\\'year\\':2000, \\'month\\':1, \\'day\\':1})',\n",
       "  '#{\\'name\\':\\'hong\\',\\'year\\':2000, \\'month\\':1. \\'day\\':1} => {\\'name\\':\\'hong\\',\\'birth\\':\\'2000-01-01\\'}\\ndef members_processing(member):\\n    return {\\n        \\'name\\' : members.get(\\'name\\',\\'이름없음\\'),\\n        \\'birth\\' : \"{year}-{month:02}-{day:02}\".format(**member)\\n    }\\nmembers_processing({\\'name\\':\\'hong\\',\\'year\\':2000, \\'month\\':1, \\'day\\':1})',\n",
       "  '#{\\'name\\':\\'hong\\',\\'year\\':2000, \\'month\\':1. \\'day\\':1} => {\\'name\\':\\'hong\\',\\'birth\\':\\'2000-01-01\\'}\\ndef members_processing(member):\\n    return {\\n        \\'name\\' : members.get(\\'name\\',\\'이름없음\\'),\\n        \\'birth\\' : \"{year}-{month:02}-{day:02}\".format(**member)\\n    }\\nmembers_processing(name\\':\\'hong\\',\\'year\\':2000, \\'month\\':1. \\'day\\':1)',\n",
       "  '#{\\'name\\':\\'hong\\',\\'year\\':2000, \\'month\\':1. \\'day\\':1} => {\\'name\\':\\'hong\\',\\'birth\\':\\'2000-01-01\\'}\\ndef members_processing(member):\\n    return {\\n        \\'name\\' : members.get(\\'name\\',\\'이름없음\\'),\\n        \\'birth\\' : \"{year}-{month:02}-{day:02}\".format(**member)\\n    }\\nmembers_processing(name\\':\\'hong\\',\\'year\\':2000, \\'month\\':1, \\'day\\':1)',\n",
       "  '#{\\'name\\':\\'hong\\',\\'year\\':2000, \\'month\\':1. \\'day\\':1} => {\\'name\\':\\'hong\\',\\'birth\\':\\'2000-01-01\\'}\\ndef members_processing(member):\\n    return {\\n        \\'name\\' : member.get(\\'name\\',\\'이름없음\\'),\\n        \\'birth\\' : \"{year}-{month:02}-{day:02}\".format(**member)\\n    }\\nmembers_processing(name\\':\\'hong\\',\\'year\\':2000, \\'month\\':1, \\'day\\':1)',\n",
       "  '#{\\'name\\':\\'hong\\',\\'year\\':2000, \\'month\\':1. \\'day\\':1} => {\\'name\\':\\'hong\\',\\'birth\\':\\'2000-01-01\\'}\\ndef members_processing(member):\\n    return {\\n        \\'name\\' : member.get(\\'name\\',\\'이름없음\\'),\\n        \\'birth\\' : \"{year}-{month:02}-{day:02}\".format(**member)\\n    }\\nmembers_processing(name\\':\\'hong\\',\\'year\\':2000, \\'month\\':1, \\'day\\':1)',\n",
       "  '#{\\'name\\':\\'hong\\',\\'year\\':2000, \\'month\\':1. \\'day\\':1} => {\\'name\\':\\'hong\\',\\'birth\\':\\'2000-01-01\\'}\\ndef members_processing(member):\\n    return {\\n        \\'name\\' : member.get(\\'name\\',\\'이름없음\\'),\\n        \\'birth\\' : \"{year}-{month:02}-{day:02}\".format(**member)\\n    }\\nmembers_processing(name\\':\\'hong\\', \\'year\\':2000, \\'month\\':1, \\'day\\':1)',\n",
       "  '#{\\'name\\':\\'hong\\',\\'year\\':2000, \\'month\\':1. \\'day\\':1} => {\\'name\\':\\'hong\\',\\'birth\\':\\'2000-01-01\\'}\\ndef members_processing(member):\\n    return {\\n        \\'name\\' : member.get(\\'name\\',\\'이름없음\\'),\\n        \\'birth\\' : \"{year}-{month:02}-{day:02}\".format(**member)\\n    }\\nmembers_processing(\\'name\\':\\'hong\\', \\'year\\':2000, \\'month\\':1, \\'day\\':1)',\n",
       "  '#{\\'name\\':\\'hong\\',\\'year\\':2000, \\'month\\':1. \\'day\\':1} => {\\'name\\':\\'hong\\',\\'birth\\':\\'2000-01-01\\'}\\ndef members_processing(member):\\n    return {\\n        \\'name\\' : member.get(\\'name\\',\\'이름없음\\'),\\n        \\'birth\\' : \"{year}-{month:02}-{day:02}\".format(**member)\\n    }\\nmembers_processing(\\'name\\' : \\'hong\\', \\'year\\' : 2000, \\'month\\' : 1, \\'day\\' : 1)',\n",
       "  '#{\\'name\\':\\'hong\\',\\'year\\':2000, \\'month\\':1. \\'day\\':1} => {\\'name\\':\\'hong\\',\\'birth\\':\\'2000-01-01\\'}\\ndef members_processing(member):\\n    return {\\n        \\'name\\' : member.get(\\'name\\',\\'이름없음\\'),\\n        \\'birth\\' : \"{year}-{month:02}-{day:02}\".format(**member)\\n    }\\nmembers_processing(\\'name\\' : \\'hong\\', \\'year\\' : 2000, \\'month\\' : 1, \\'day\\' : 1)',\n",
       "  '#{\\'name\\':\\'hong\\',\\'year\\':2000, \\'month\\':1. \\'day\\':1} => {\\'name\\':\\'hong\\',\\'birth\\':\\'2000-01-01\\'}\\ndef members_processing(member):\\n    return {\\n        \\'name\\' : member.get(\\'name\\',\\'이름없음\\'),\\n        \\'birth\\' : \"{year}-{month:02}-{day:02}\".format(**member)\\n    }\\nmembers_processing({\\'name\\' : \\'hong\\', \\'year\\' : 2000, \\'month\\' : 1, \\'day\\' : 1})',\n",
       "  'list (map(lambda member : {\\n        \\'name\\' : member.get(\\'name\\',\\'이름없음\\'),\\n        \\'birth\\' : \"{year}-{month:02}-{day:02}\".format(**member)\\n    }, members2))',\n",
       "  '#{\\'name\\':\\'hong\\',\\'year\\':2000, \\'month\\':1. \\'day\\':1} => {\\'name\\':\\'hong\\',\\'birth\\':\\'2000-01-01\\'}\\ndef members_processing(member):\\n    return {\\n        \\'name\\' : member.get(\\'name\\'),\\n        \\'birth\\' : \"{year}-{month:02}-{day:02}\".format(**member)\\n    }\\nmembers_processing({\\'name\\' : \\'hong\\', \\'year\\' : 2000, \\'month\\' : 1, \\'day\\' : 1})',\n",
       "  'list (map(lambda member : {\\n        \\'name\\' : member.get(\\'name\\'),\\n        \\'birth\\' : \"{year}-{month:02}-{day:02}\".format(**member)\\n    }, members2))',\n",
       "  'def filter_template(func, L=[]):\\n    result =[]\\n    for item in L:\\n        if func(item):\\n            result.append(item)\\n    return result',\n",
       "  'list_data = [1,2,3,4,5,6,7,8,9]\\ndef odd_chk(value):\\n    return value%2!=0\\n#     if value%2:\\n#         return True\\n#     else:\\n#         return False\\nfilter_template(lambda value : value%2!=0,list_data)',\n",
       "  '# 리스트컴프리헨션\\n[value for value in list_data if value%2!=0]',\n",
       "  'filter_template(lambda value : value%2!=0,list_data)',\n",
       "  'list(filter(lambda value : value%2!=0,list_data))',\n",
       "  '#  예제 : 다음 리스트에서 소수점 이하가 0인 수만 출력하시오(filter/리스트컴프리헨션)\\nL =[1, 1.2, 1.5, 3.0, 10.5, 100, -2.0, -12.2]\\nlist(filter(lambda x : x%1.0==0,L))',\n",
       "  '#  예제 : 다음 리스트에서 소수점 이하가 0인 수만 출력하시오(filter/리스트컴프리헨션)\\nL =[1, 1.2, 1.5, 3.0, 10.5, 100, -2.0, -12.2]\\nlist(filter(lambda x : x%1.0==0, L))',\n",
       "  '[item for item in L if item%l==0]',\n",
       "  '[item for item in L if item%1==0]',\n",
       "  'p = [10, 3, 6, 1]\\np.sort(revers=true)\\np',\n",
       "  'p = [10, 3, 6, 1]\\np.sort(revers=True)\\np',\n",
       "  'p = [10, 3, 6, 1]\\np.sort(revers = True)\\np',\n",
       "  'p = [10, 3, 6, 1]\\np.sort(reverse = True)\\np',\n",
       "  \"# 무조건 0번째 item을 기준으로 오름차순 정렬\\npairs = [(2, 'two'), (1, 'one'), (3, 'three'), (4, 'four')]\\npairs.sort()\\npairs\",\n",
       "  '# 1번째 item 기준으로 내림차순 정렬\\npairs.sort(key=lambda data:[1])\\npairs',\n",
       "  '# 1번째 item 기준으로 내림차순 정렬\\npairs.sort(key=lambda data: data[1])\\npairs',\n",
       "  '# 1번째 item 기준으로 내림차순 정렬\\npairs.sort(key=lambda data:data[1])\\npairs',\n",
       "  '# 1번째 item 기준으로 내림차순 정렬\\npairs.sort(key=lambda data:data[1], reverse=True)\\npairs',\n",
       "  '# 0번 item이 큰순(오름차순)\\nnumber_2d= [[9,9], [1,100], [10,1]]\\nnumber_2d.sort()\\nnumber_2d\\n# 합이 큰 순으로 정렬',\n",
       "  '# 0번 item이 큰순(오름차순)\\nnumber_2d= [[9,9], [1,100], [10,1]]\\nnumber_2d.sort()\\nnumber_2d\\n# 합이 큰 순으로 정렬\\nnumber_2d.sort(key=lambda data: if a,b in data a+b, reverse=True)',\n",
       "  '# 0번 item이 큰순(오름차순)\\nnumber_2d= [[9,9], [1,100], [10,1]]\\nnumber_2d.sort()\\nnumber_2d\\n# 합이 큰 순으로 정렬\\nnumber_2d.sort(key=lambda data: a,b in data a+b, reverse=True)',\n",
       "  '# 0번 item이 큰순(오름차순)\\nnumber_2d= [[9,9], [1,100], [10,1]]\\nnumber_2d.sort()\\nnumber_2d\\n# 합이 큰 순으로 정렬\\nnumber_2d.sort(key=lambda data: a,b in data return a+b, reverse=True)',\n",
       "  '# 0번 item이 큰순(오름차순)\\nnumber_2d= [[9,9], [1,100], [10,1]]\\nnumber_2d.sort()\\nnumber_2d\\n# 합이 큰 순으로 정렬\\nnumber_2d.sort(key=lambda data: a,b in data return [a+b], reverse=True)',\n",
       "  '# 0번 item이 큰순(오름차순)\\nnumber_2d= [[9,9], [1,100], [10,1]]\\nnumber_2d.sort()\\nnumber_2d\\n# 합이 큰 순으로 정렬\\nnumber_2d.sort([key=lambda data: a,b in data return a+b], reverse=True)',\n",
       "  '# 0번 item이 큰순(오름차순)\\nnumber_2d= [[9,9], [1,100], [10,200,2]]\\nnumber_2d.sort()\\nnumber_2d\\n# 합이 큰 순으로 정렬\\nnumber_2d.sort(key=lambda items : sum(items), reverse=True)\\nprint(number_2d)',\n",
       "  '# 0번 item이 큰순(오름차순)\\nnumber_2d= [[9,9], [1,100], [10,200,2]]\\nnumber_2d.sort()\\nprint(number_2d)\\n# 합이 큰 순으로 정렬\\nnumber_2d.sort(key=lambda items : sum(items), reverse=True)\\nprint(number_2d)',\n",
       "  \"students =[{'name':'홍', 'score':99},\\n          {'name':'김', 'score':50},\\n          {'name':'박', 'score':77},\\n          {'score':100}]\\nstudents.sort()\",\n",
       "  \"students =[{'name':'홍', 'score':99},\\n          {'name':'김', 'score':50},\\n          {'name':'박', 'score':77},\\n          {'score':100}]\",\n",
       "  \"name_select = lambda data : data.get('name')\\nname_select({'name':'홍', 'score':99}\",\n",
       "  \"name_select = lambda data : data.get('score')\\nname_select({'name':'홍', 'score':99}\",\n",
       "  \"students =[{'name':'홍', 'score':99},\\n          {'name':'김', 'score':50},\\n          {'name':'박', 'score':77},\\n          {'score':100}]\",\n",
       "  \"name_select = lambda data : data.get('score')\\nname_select({'name':'홍', 'score':99}\",\n",
       "  \"name_select = lambda data : data.get('score')\\nname_select({'name':'홍', 'score':99})\",\n",
       "  \"# students를 name순으로 정렬(ㄱㄴㄷ순)\\nstudents.sort(key=lambda data : data.get('name'))\",\n",
       "  \"# students를 name순으로 정렬(ㄱㄴㄷ순)\\nstudents.sort(key=lambda data : data.get('name',''))\",\n",
       "  \"# students를 name순으로 정렬(ㄱㄴㄷ순)\\nstudents.sort(key=lambda data : data.get('name',))\",\n",
       "  \"# students를 name순으로 정렬(ㄱㄴㄷ순)\\nstudents.sort(key=lambda data : data.get('name'))\",\n",
       "  '# students를 name순으로 정렬(ㄱㄴㄷ순)\\nstudents.sort(key=lambda data : data.get(\\'name\\',\"힣\"))',\n",
       "  '# students를 name순으로 정렬(ㄱㄴㄷ순)\\nstudents.sort(key=lambda data : data.get(\\'name\\',\"힣\"))\\nstudents',\n",
       "  '# students를 score 큰 순 정렬\\nstudents.sort(key=lambda data : data.get(\\'score\\',\"힣\"))\\nstudents',\n",
       "  '# students를 score 큰 순 정렬\\nstudents.sort(key=lambda data : data.get(\\'score\\',\"힣\"), reverse=True)\\nstudents',\n",
       "  \"# students를 score 큰 순 정렬\\nstudents.sort(key=lambda data : data.get('score'), reverse=True)\\nstudents\",\n",
       "  \"# students를 score 큰 순 정렬\\nstudents.sort(key=lambda data : data.get('score',0), reverse=True)\\nstudents\",\n",
       "  \"books = \\\\\\n[{'no':1, 'title':'더트릭컬', 'writer':＇폴빠＇,＇price':'19,800'},\\n{'no':2, 'title’:'흔한남매', 'writer’:’백난도', 'price':'15,120'},\\n{'no':3, 'title':'단 한 번의 삶', 'writer':'김영하', 'price':'15,120'},\\n{'no':4, 'title':'가격잘못', 'writer':'홍길동', 'price':'ㅁ'},\\n{'no':5, 'title':'가격이숫자', 'writer':'백난도', 'price':30200},\\n{'no':6, 'title':'가격이없음', 'writer':'이길동'},] \",\n",
       "  \"books = \\\\\\n[{'no':1, 'title':'더트릭컬', 'writer':＇폴빠＇,＇price':'19,800'},\\n{'no':2, 'title’:'흔한남매', 'writer’:'백난도', 'price':'15,120'},\\n{'no':3, 'title':'단 한 번의 삶', 'writer':'김영하', 'price':'15,120'},\\n{'no':4, 'title':'가격잘못', 'writer':'홍길동', 'price':'ㅁ'},\\n{'no':5, 'title':'가격이숫자', 'writer':'백난도', 'price':30200},\\n{'no':6, 'title':'가격이없음', 'writer':'이길동'},] \",\n",
       "  \"books = \\\\\\n[{'no':1, 'title':'더트릭컬', 'writer':＇폴빠＇,＇price':'19,800'},\\n{'no':2, 'title’:'흔한남매', 'writer':'백난도', 'price':'15,120'},\\n{'no':3, 'title':'단 한 번의 삶', 'writer':'김영하', 'price':'15,120'},\\n{'no':4, 'title':'가격잘못', 'writer':'홍길동', 'price':'ㅁ'},\\n{'no':5, 'title':'가격이숫자', 'writer':'백난도', 'price':30200},\\n{'no':6, 'title':'가격이없음', 'writer':'이길동'},] \",\n",
       "  \"books = \\\\\\n[{'no':1, 'title':'더트릭컬', 'writer':＇폴빠＇,＇price':'19,800'},\\n{'no':2, 'title’:'흔한남매', 'writer':'백난도', 'price':'15,120'},\\n{'no':3, 'title':'단 한 번의 삶', 'writer':'김영하', 'price':'15,120'},\\n{'no':4, 'title':'가격잘못', 'writer':'홍길동', 'price':'ㅁ'},\\n{'no':5, 'title':'가격이숫자', 'writer':'백난도', 'price':30200},\\n{'no':6, 'title':'가격이없음', 'writer':'이길동'},] \",\n",
       "  \"books = \\\\\\n[{'no':1, 'title':'더트릭컬', 'writer':'폴빠',＇price':'19,800'},\\n{'no':2, 'title’:'흔한남매', 'writer':'백난도', 'price':'15,120'},\\n{'no':3, 'title':'단 한 번의 삶', 'writer':'김영하', 'price':'15,120'},\\n{'no':4, 'title':'가격잘못', 'writer':'홍길동', 'price':'ㅁ'},\\n{'no':5, 'title':'가격이숫자', 'writer':'백난도', 'price':30200},\\n{'no':6, 'title':'가격이없음', 'writer':'이길동'},] \",\n",
       "  \"books = \\\\\\n[{'no':1, 'title':'더트릭컬', 'writer': '폴빠',＇price':'19,800'},\\n{'no':2, 'title’:'흔한남매', 'writer':'백난도', 'price':'15,120'},\\n{'no':3, 'title':'단 한 번의 삶', 'writer':'김영하', 'price':'15,120'},\\n{'no':4, 'title':'가격잘못', 'writer':'홍길동', 'price':'ㅁ'},\\n{'no':5, 'title':'가격이숫자', 'writer':'백난도', 'price':30200},\\n{'no':6, 'title':'가격이없음', 'writer':'이길동'},] \",\n",
       "  \"books = \\\\\\n[{'no':1, 'title':'더트릭컬', 'writer': '폴빠',＇price':'19,800'},\\n{'no':2, 'title’:'흔한남매', 'writer':'백난도', 'price':'15,120'},\\n{'no':3, 'title':'단 한 번의 삶', 'writer':'김영하', 'price':'15,120'},\\n{'no':4, 'title':'가격잘못', 'writer':'홍길동', 'price':'ㅁ'},\\n{'no':5, 'title':'가격이숫자', 'writer':'백난도', 'price':30200},\\n{'no':6, 'title':'가격이없음', 'writer':'이길동'},] \",\n",
       "  \"books = \\\\\\n[{'no':1, 'title':’더트릭컬', 'writer':＇폴빠＇,＇price’:’19,800'},\\n{'no':2, 'title’:’흔한남매', 'writer’:’백난도', 'price’:’15,120'},\\n{'no':3, 'title':'단 한 번의 삶', 'writer':'김영하', 'price':'15,120'},\\n{'no':4, 'title':'가격잘못', 'writer':'홍길동', 'price':'ㅁ'},\\n{'no':5, 'title':'가격이숫자', 'writer':'백난도', 'price':30200},\\n{'no':6, 'title':'가격이없음', 'writer':'이길동’},]\",\n",
       "  \"books = \\\\\\n[{'no':1, 'title':’더트릭컬', 'writer':＇폴빠＇,＇price':'19,800'},\\n{'no':2, 'title’:’흔한남매', 'writer’:’백난도', 'price’:'15,120'},\\n{'no':3, 'title':'단 한 번의 삶', 'writer':'김영하', 'price':'15,120'},\\n{'no':4, 'title':'가격잘못', 'writer':'홍길동', 'price':'ㅁ'},\\n{'no':5, 'title':'가격이숫자', 'writer':'백난도', 'price':30200},\\n{'no':6, 'title':'가격이없음', 'writer':'이길동'},]\",\n",
       "  \"books = \\\\\\n[{'no':1, 'title':'더트릭컬', 'writer':＇폴빠＇,＇price':'19,800'},\\n{'no':2, 'title’:’흔한남매', 'writer’:’백난도', 'price’:'15,120'},\\n{'no':3, 'title':'단 한 번의 삶', 'writer':'김영하', 'price':'15,120'},\\n{'no':4, 'title':'가격잘못', 'writer':'홍길동', 'price':'ㅁ'},\\n{'no':5, 'title':'가격이숫자', 'writer':'백난도', 'price':30200},\\n{'no':6, 'title':'가격이없음', 'writer':'이길동'},]\",\n",
       "  \"books = \\\\\\n[{'no':1, 'title':'더트릭컬', 'writer':＇폴빠＇,＇price':'19,800'},\\n{'no':2, 'title’:’흔한남매', 'writer':'백난도', 'price’:'15,120'},\\n{'no':3, 'title':'단 한 번의 삶', 'writer':'김영하', 'price':'15,120'},\\n{'no':4, 'title':'가격잘못', 'writer':'홍길동', 'price':'ㅁ'},\\n{'no':5, 'title':'가격이숫자', 'writer':'백난도', 'price':30200},\\n{'no':6, 'title':'가격이없음', 'writer':'이길동'},]\",\n",
       "  \"books = \\\\\\n[{'no':1, 'title':'더트릭컬', 'writer':＇폴빠＇,＇price':'19,800'},\\n{'no':2, 'title’:’흔한남매', 'writer':'백난도', 'price’:'15,120'},\\n{'no':3, 'title':'단 한 번의 삶', 'writer':'김영하', 'price':'15,120'},\\n{'no':4, 'title':'가격잘못', 'writer':'홍길동', 'price':'ㅁ'},\\n{'no':5, 'title':'가격이숫자', 'writer':'백난도', 'price':30200},\\n{'no':6, 'title':'가격이없음', 'writer':'이길동'},]\",\n",
       "  \"books = \\\\\\n   [{'no':2, 'title':'더트릭컬', 'writer':'폴빠','price':'19,800'},\\n    {'no':1, 'title':'흔한남매', 'writer':'백난도', 'price':'15,120'},\\n    {'no':3, 'title':'단 한 번의 삶', 'writer':'김영하', 'price':'15,120'},\\n    {'no':4, 'title':'가격잘못', 'writer':'홍길동', 'price':'ㅁ'},\\n    {'no':5, 'title':'가격이숫자', 'writer':'백난도', 'price':30200},\\n    {'no':6, 'title':'가격이없음', 'writer':'이길동'},] \",\n",
       "  'books',\n",
       "  \"# no 기준으로 sort\\nbooks.sort(key=lambda book : book['no'])\\nbooks\",\n",
       "  \"# title 기준으로 sort\\nbooks.sort(key=lambda book : book['title'])\\nbooks\",\n",
       "  \"# price 기준으로 sort\\nbooks.sort(key=lambda book : book['price'])\\nbooks\",\n",
       "  '# price 기준으로 sort\\nbooks.sort(key=lambda book : book.get(\"price\",0))\\nbooks',\n",
       "  \"# 30200=> 30200,'12,000'=> 12000, '5000'=>5000, 'ㅁ'=> 0, None=> 0\\ndef parse_int(price):\\n    print(type(price))\\nparse_int(None)\",\n",
       "  \"# 30200=> 30200,'12,000'=> 12000, '5000'=>5000, 'ㅁ'=> 0, None=> 0\\ndef parse_int(price):\\n    print(type(price))\\nparse_int('5000')\",\n",
       "  \"# 30200=> 30200,'12,000'=> 12000, '5000'=>5000, 'ㅁ'=> 0, None=> 0\\ndef parse_int(price):\\n    if isinstance(price, str) and price.replace(',','').isdigit():\\n        return int(price.replace(',',''))\\nparse_int('5000')\",\n",
       "  \"# 30200=> 30200,'12,000'=> 12000, '5000'=>5000, 'ㅁ'=> 0, None=> 0\\ndef parse_int(price):\\n    if isinstance(price, str) and price.replace(',','').isdigit():\\n        return int(price.replace(',',''))\\nparse_int('ㅁ')\",\n",
       "  \"# 30200=> 30200,'12,000'=> 12000, '5000'=>5000, 'ㅁ'=> 0, None=> 0\\ndef parse_int(price):\\n    if isinstance(price, str) and price.replace(',','').isdigit():\\n        return int(price.replace(',',''))\\nprint(parse_int('ㅁ'))\",\n",
       "  \"# 30200=> 30200,'12,000'=> 12000, '5000'=>5000, 'ㅁ'=> 0, None=> 0\\ndef parse_int(price):\\n    if isinstance(price, str) and price.replace(',','').isdigit():\\n        return int(price.replace(',',''))\\nprint(parse_int('12,000'))\",\n",
       "  \"# 30200=> 30200,'12,000'=> 12000, '5000'=>5000, 'ㅁ'=> 0, None=> 0\\ndef parse_int(price):\\n    if isinstance(price, str) and price.replace(',','').isdigit():\\n        return int(price.replace(',',''))\\n    elif isinstance(price, int):\\n        return price\\nprint(parse_int('12,000')), parse_int(30200), parse_int('ㅁ'), parse_int('None')\",\n",
       "  \"# 30200=> 30200,'12,000'=> 12000, '5000'=>5000, 'ㅁ'=> 0, None=> 0\\ndef parse_int(price):\\n    if isinstance(price, str) and price.replace(',','').isdigit():\\n        return int(price.replace(',',''))\\n    elif isinstance(price, int):\\n        return price\\n    else:\\n        return o\\nprint(parse_int('12,000')), parse_int(30200), parse_int('ㅁ'), parse_int('None')\",\n",
       "  \"# 30200=> 30200,'12,000'=> 12000, '5000'=>5000, 'ㅁ'=> 0, None=> 0\\ndef parse_int(price):\\n    if isinstance(price, str) and price.replace(',','').isdigit():\\n        return int(price.replace(',',''))\\n    elif isinstance(price, int):\\n        return price\\n    else:\\n        return 0\\nprint(parse_int('12,000')), parse_int(30200), parse_int('ㅁ'), parse_int('None')\",\n",
       "  \"# 30200=> 30200,'12,000'=> 12000, '5000'=>5000, 'ㅁ'=> 0, None=> 0\\ndef parse_int(price):\\n    if isinstance(price, str) and price.replace(',','').isdigit():\\n        return int(price.replace(',',''))\\n    elif isinstance(price, int):\\n        return price\\n    else:\\n        return 0\\nprint(parse_int('12,000')), parse_int(30200), parse_int('ㅁ'), parse_int('None'))\",\n",
       "  \"# 30200=> 30200,'12,000'=> 12000, '5000'=>5000, 'ㅁ'=> 0, None=> 0\\ndef parse_int(price):\\n    if isinstance(price, str) and price.replace(',','').isdigit():\\n        return int(price.replace(',',''))\\n    elif isinstance(price, int):\\n        return price\\n    else:\\n        return 0\\nprint(parse_int('12,000'), parse_int(30200), parse_int('ㅁ'), parse_int('None'))\",\n",
       "  \"# 30200=> 30200,'12,000'=> 12000, '5000'=>5000, 'ㅁ'=> 0, None=> 0\\ndef parse_int(price):\\n    if isinstance(price, str) and price.replace(',','').isdigit():\\n        return int(price.replace(',',''))\\n    elif isinstance(price, int):\\n        return price\\n    else:\\n        return 0\\n    \\nparse_int = lambda price :\\n            int(price.replace(',',''))\\n            if isinstance(price, str) and price.replace(',','').isdigit() else \\\\\\n            price if isinstance(price, int\\nprint(parse_int('12,000'), parse_int(30200), parse_int('ㅁ'), parse_int('None'))\",\n",
       "  \"# 30200=> 30200,'12,000'=> 12000, '5000'=>5000, 'ㅁ'=> 0, None=> 0\\ndef parse_int(price):\\n    if isinstance(price, str) and price.replace(',','').isdigit():\\n        return int(price.replace(',',''))\\n    elif isinstance(price, int):\\n        return price\\n    else:\\n        return 0\\n    \\nparse_int = lambda price :\\n            int(price.replace(',',''))\\n            if isinstance(price, str) and price.replace(',','').isdigit() else \\\\\\n            price if isinstance(price, int) else 0\\nprint(parse_int('12,000'), parse_int(30200), parse_int('ㅁ'), parse_int('None'))\",\n",
       "  \"# 30200=> 30200,'12,000'=> 12000, '5000'=>5000, 'ㅁ'=> 0, None=> 0\\ndef parse_int(price):\\n    if isinstance(price, str) and price.replace(',','').isdigit():\\n        return int(price.replace(',',''))\\n    elif isinstance(price, int):\\n        return price\\n    else:\\n        return 0\\n    \\nparse_int = lambda price : \\\\\\n            int(price.replace(',','')) \\\\\\n            if isinstance(price, str) and price.replace(',','').isdigit() else \\\\\\n            price if isinstance(price, int) else 0\\nprint(parse_int('12,000'), parse_int(30200), parse_int('ㅁ'), parse_int('None'))\",\n",
       "  \"# {'no':5,'title': '가격이 숫자', 'writer': '백난도', 'price': '12,000'} => 120000\\nparse_int = lambda price : \\\\\\n            int(book.get('price').replace(',','')) \\\\\\n                if isinstance(book.get('price'), str) and \\\\\\n                    book.get('price').replace(',','').isdigit() else \\\\\\n            price if isinstance(book.get('price'), int) else \\\\\\n            0\\n\\nparse_int(no':5,'title': '가격이 숫자', 'writer': '백난도', 'price': 'ㅁ')\",\n",
       "  \"# {'no':5,'title': '가격이 숫자', 'writer': '백난도', 'price': '12,000'} => 120000\\nparse_int = lambda price : \\\\\\n            int(book.get('price').replace(',','')) \\\\\\n                if isinstance(book.get('price'), str) and \\\\\\n                    book.get('price').replace(',','').isdigit() else \\\\\\n            book.get('price') if isinstance(book.get('price'), int) else \\\\\\n            0\\n\\nparse_int(no':5,'title': '가격이 숫자', 'writer': '백난도', 'price': 'ㅁ')\",\n",
       "  \"# {'no':5,'title': '가격이 숫자', 'writer': '백난도', 'price': '12,000'} => 120000\\nparse_int = lambda price : \\\\\\n            int(book.get('price').replace(',','')) \\\\\\n                if isinstance(book.get('price'), str) and \\\\\\n                    book.get('price').replace(',','').isdigit() else \\\\\\n            book.get('price') if isinstance(book.get('price'), int) else \\\\\\n            0\\n\\nparse_int({'no': 5, 'title': '가격이숫자', 'writer': '백난도', 'price': 'ㅁ'})\",\n",
       "  \"# {'no':5,'title': '가격이 숫자', 'writer': '백난도', 'price': '12,000'} => 120000\\nparse_int = lambda price : \\\\\\n            int(book.get('price').replace(',','')) \\\\\\n                if isinstance(book.get('price'), str) and \\\\\\n                    book.get('price').replace(',','').isdigit() else \\\\\\n            book.get('price') if isinstance(book.get('price'), int) else \\\\\\n            0\\n\\nparse_int({'no': 5, 'title': '가격이숫자', 'writer': '백난도', 'price': '12,000'})\",\n",
       "  \"# {'no':5,'title': '가격이 숫자', 'writer': '백난도', 'price': '12,000'} => 120000\\npparse_int = lambda book : \\\\\\n            int(book.get('price').replace(',','')) \\\\\\n                    if isinstance(book.get('price'), str) and \\\\\\n                                book.get('price').replace(',','').isdigit() else \\\\\\n            price if isinstance(book.get('price'), int) else \\\\\\n            0\\n\\nparse_int({'no': 5, 'title': '가격이숫자', 'writer': '백난도', 'price': '12,000'})\",\n",
       "  \"# 30200=> 30200,'12,000'=> 12000, '5000'=>5000, 'ㅁ'=> 0, None=> 0\\ndef parse_int(price):\\n    if isinstance(price, str) and price.replace(',','').isdigit():\\n        return int(price.replace(',',''))\\n    elif isinstance(price, int):\\n        return price\\n    else:\\n        return 0\\n    \\nparse_int = lambda price : \\\\\\n            int(price.replace(',','')) \\\\\\n            if isinstance(price, str) and price.replace(',','').isdigit() else \\\\\\n            price if isinstance(price, int) else \\\\\\n            0\\nprint(parse_int('12,000'), parse_int(30200), parse_int('ㅁ'), parse_int('None'))\",\n",
       "  \"# {'no':5,'title': '가격이 숫자', 'writer': '백난도', 'price': '12,000'} => 120000\\npparse_int = lambda book : \\\\\\n            int(book.get('price').replace(',','')) \\\\\\n                    if isinstance(book.get('price'), str) and \\\\\\n                                book.get('price').replace(',','').isdigit() else \\\\\\n            price if isinstance(book.get('price'), int) else \\\\\\n            0\\n\\nparse_int({'no': 5, 'title': '가격이숫자', 'writer': '백난도', 'price': '12,000'})\",\n",
       "  \"# {'no':5,'title': '가격이 숫자', 'writer': '백난도', 'price': '12,000'} => 120000\\npparse_int = lambda book : \\\\\\n            int(book.get('price').replace(',','')) \\\\\\n                    if isinstance(book.get('price'), str) and \\\\\\n                                book.get('price').replace(',','').isdigit() else \\\\\\n            book.get('price') if isinstance(book.get('price'), int) else \\\\\\n            0\\n\\nparse_int({'no': 5, 'title': '가격이숫자', 'writer': '백난도', 'price': '12,000'})\",\n",
       "  \"# {'no':5,'title': '가격이 숫자', 'writer': '백난도', 'price': '12,000'} => 120000\\npparse_int = lambda book : \\\\\\n            int(book.get('price').replace(',','')) \\\\\\n                    if isinstance(book.get('price'), str) and \\\\\\n                                book.get('price').replace(',','').isdigit() else \\\\\\n            book.get('price') if isinstance(book.get('price'), int) else \\\\\\n            0\\n\\nparse_int({'no': 5, 'title': '가격이숫자', 'writer': '백난도', 'price': '12,000'})\",\n",
       "  \"# {'no':5,'title': '가격이 숫자', 'writer': '백난도', 'price': '12,000'} => 120000\\npparse_int = lambda book : \\\\\\n            int(book.get('price').replace(',','')) \\\\\\n                    if isinstance(book.get('price'), str) and \\\\\\n                                book.get('price').replace(',','').isdigit() else \\\\\\n            book.get('price') if isinstance(book.get('price'), int) else \\\\\\n            0\\n\\nparse_int({'no': 5, 'title': '가격이숫자', 'writer': '백난도', 'price': 'ㅁ'})\",\n",
       "  \"# {'no':5,'title': '가격이 숫자', 'writer': '백난도', 'price': '12,000'} => 120000\\nparse_int = lambda book : \\\\\\n            int(book.get('price').replace(',','')) \\\\\\n                    if isinstance(book.get('price'), str) and \\\\\\n                                book.get('price').replace(',','').isdigit() else \\\\\\n            book.get('price') if isinstance(book.get('price'), int) else \\\\\\n            0\\n\\nparse_int({'no': 5, 'title': '가격이숫자', 'writer': '백난도', 'price': 'ㅁ'})\",\n",
       "  \"copybooks = books.copy()\\ncopybooks.sort(key=lambda book : \\\\\\n            int(book.get('price').replace(',','')) \\\\\\n                    if isinstance(book.get('price'), str) and \\\\\\n                                book.get('price').replace(',','').isdigit() else \\\\\\n            book.get('price') if isinstance(book.get('price'), int) else \\\\\\n            0,\\n              reverse=True)\\ncopybooks\",\n",
       "  'globals()',\n",
       "  'a=10',\n",
       "  'globals() # 전역ㅂ녀수 리스트'],\n",
       " 'Out': {3: 8,\n",
       "  7: '짝수',\n",
       "  8: ('홀수', '짝수'),\n",
       "  9: (None, None),\n",
       "  10: (None, None),\n",
       "  11: (None, None),\n",
       "  12: ('홀수', '짝수'),\n",
       "  13: (4, 4),\n",
       "  14: (4, 4),\n",
       "  15: (4, 4),\n",
       "  16: (1000, 'negative'),\n",
       "  27: ('재시험', '유효하지 않음'),\n",
       "  29: ('D학점', '유효하지 않는 점수'),\n",
       "  30: (-1, 2),\n",
       "  31: [25, 15, 100, 4.0],\n",
       "  32: [10, 6, 16, 4.0],\n",
       "  33: [64, 82],\n",
       "  34: 53,\n",
       "  35: 5,\n",
       "  36: [10, 6, 16, 4.0, 64],\n",
       "  38: [1, 2, 3],\n",
       "  39: [1, 2, 3, 4, 5, 6, 7, 8, 9],\n",
       "  41: [2, 4, 6, 8, 10, 12, 14, 16, 18],\n",
       "  42: [2, 4, 6, 8, 10, 12, 14, 16, 18],\n",
       "  43: [2, 4, 6, 8, 10, 12, 14, 16, 18],\n",
       "  44: [2, 4, 6, 8, 10, 12, 14, 16, 18],\n",
       "  45: [2, 4, 6, 8, 10, 12, 14, 16, 18],\n",
       "  46: [2, 4, 6, 8, 10, 12, 14, 16, 18],\n",
       "  47: [2, 4, 6, 8, 10, 12, 14, 16, 18],\n",
       "  48: [2, 4, 6, 8, 10, 12, 14, 16, 18],\n",
       "  49: <map at 0x24589dedde0>,\n",
       "  50: [2, 4, 6, 8, 10, 12, 14, 16, 18],\n",
       "  67: ['2025', '01', '01'],\n",
       "  70: ({'year': 2025, 'month': 1, 'day': 1},\n",
       "   {'year': 1995, 'month': 12, 'day': 12}),\n",
       "  71: ({'year': 2025, 'month': 1, 'day': 1},\n",
       "   {'year': 1995, 'month': 12, 'day': 12}),\n",
       "  72: ({'year': 2025, 'month': 1, 'day': 1},\n",
       "   {'year': 1995, 'month': 12, 'day': 12}),\n",
       "  73: ({'year': 2025, 'month': 1, 'day': 1},\n",
       "   {'year': 1995, 'month': 12, 'day': 12}),\n",
       "  78: {'year': 2025, 'month': 1, 'day': 1},\n",
       "  84: {'name': '홍길동', 'year': 2000, 'month': 1, 'day': 1},\n",
       "  90: \"예제2 : members1을 members2로\\nmembers1 = [{'name':'홍길동', 'birth':'2000-01-0'},\\n            {'name':'신길동', 'birth':'1995-12-18'},]\\nmembers2 = [{'name':'홍길동', 'year':2000, 'month':1,'day':1},\\n            {'name':'신길동', 'year':1995, 'month':12, 'day':18},]\\n\",\n",
       "  95: [{'name': '홍길동', 'year': 2000, 'month': 1, 'day': 0},\n",
       "   {'name': '신길동', 'year': 1995, 'month': 12, 'day': 18}],\n",
       "  96: '2000-100-1',\n",
       "  97: '2000-10-1',\n",
       "  98: '2000-10-01',\n",
       "  99: '2000-09-01',\n",
       "  100: '2000-09-01',\n",
       "  102: {'birth': '2000-09-01'},\n",
       "  117: {'name': 'hong', 'birth': '2000-01-01'},\n",
       "  118: [{'name': '홍길동', 'birth': '2000-01-00'},\n",
       "   {'name': '신길동', 'birth': '1995-12-18'}],\n",
       "  119: {'name': 'hong', 'birth': '2000-01-01'},\n",
       "  120: [{'name': '홍길동', 'birth': '2000-01-00'},\n",
       "   {'name': '신길동', 'birth': '1995-12-18'}],\n",
       "  122: [1, 3, 5, 7, 9],\n",
       "  123: [1, 3, 5, 7, 9],\n",
       "  124: [1, 3, 5, 7, 9],\n",
       "  125: [1, 3, 5, 7, 9],\n",
       "  126: [1, 3.0, 100, -2.0],\n",
       "  127: [1, 3.0, 100, -2.0],\n",
       "  129: [1, 3.0, 100, -2.0],\n",
       "  133: [10, 6, 3, 1],\n",
       "  134: [(2, 'two'), (3, 'three'), (1, 'one'), (4, 'four')],\n",
       "  135: [(2, 'two'), (3, 'three'), (1, 'one'), (4, 'four')],\n",
       "  136: [(2, 'two'), (3, 'three'), (1, 'one'), (4, 'four')],\n",
       "  137: [(2, 'two'), (3, 'three'), (1, 'one'), (4, 'four')],\n",
       "  138: [(2, 'two'), (3, 'three'), (1, 'one'), (4, 'four')],\n",
       "  139: [[1, 100], [9, 9], [10, 1]],\n",
       "  153: 99,\n",
       "  159: [{'score': 100},\n",
       "   {'name': '홍', 'score': 99},\n",
       "   {'name': '박', 'score': 77},\n",
       "   {'name': '김', 'score': 50}],\n",
       "  160: [{'score': 100},\n",
       "   {'name': '홍', 'score': 99},\n",
       "   {'name': '박', 'score': 77},\n",
       "   {'name': '김', 'score': 50}],\n",
       "  161: [{'score': 100},\n",
       "   {'name': '홍', 'score': 99},\n",
       "   {'name': '박', 'score': 77},\n",
       "   {'name': '김', 'score': 50}],\n",
       "  162: [{'score': 100},\n",
       "   {'name': '홍', 'score': 99},\n",
       "   {'name': '박', 'score': 77},\n",
       "   {'name': '김', 'score': 50}],\n",
       "  163: [{'score': 100},\n",
       "   {'name': '홍', 'score': 99},\n",
       "   {'name': '박', 'score': 77},\n",
       "   {'name': '김', 'score': 50}],\n",
       "  177: [{'no': 5, 'title': '가격이숫자', 'writer': '백난도', 'price': 30200},\n",
       "   {'no': 6, 'title': '가격이없음', 'writer': '이길동'},\n",
       "   {'no': 4, 'title': '가격잘못', 'writer': '홍길동', 'price': 'ㅁ'},\n",
       "   {'no': 3, 'title': '단 한 번의 삶', 'writer': '김영하', 'price': '15,120'},\n",
       "   {'no': 2, 'title': '더트릭컬', 'writer': '폴빠', 'price': '19,800'},\n",
       "   {'no': 1, 'title': '흔한남매', 'writer': '백난도', 'price': '15,120'}],\n",
       "  178: [{'no': 5, 'title': '가격이숫자', 'writer': '백난도', 'price': 30200},\n",
       "   {'no': 6, 'title': '가격이없음', 'writer': '이길동'},\n",
       "   {'no': 4, 'title': '가격잘못', 'writer': '홍길동', 'price': 'ㅁ'},\n",
       "   {'no': 3, 'title': '단 한 번의 삶', 'writer': '김영하', 'price': '15,120'},\n",
       "   {'no': 2, 'title': '더트릭컬', 'writer': '폴빠', 'price': '19,800'},\n",
       "   {'no': 1, 'title': '흔한남매', 'writer': '백난도', 'price': '15,120'}],\n",
       "  179: [{'no': 5, 'title': '가격이숫자', 'writer': '백난도', 'price': 30200},\n",
       "   {'no': 6, 'title': '가격이없음', 'writer': '이길동'},\n",
       "   {'no': 4, 'title': '가격잘못', 'writer': '홍길동', 'price': 'ㅁ'},\n",
       "   {'no': 3, 'title': '단 한 번의 삶', 'writer': '김영하', 'price': '15,120'},\n",
       "   {'no': 2, 'title': '더트릭컬', 'writer': '폴빠', 'price': '19,800'},\n",
       "   {'no': 1, 'title': '흔한남매', 'writer': '백난도', 'price': '15,120'}],\n",
       "  184: 5000,\n",
       "  188: (None, 30200, None, None),\n",
       "  190: (None, 30200, 0, 0),\n",
       "  202: 0,\n",
       "  203: 0,\n",
       "  204: 0,\n",
       "  205: 0,\n",
       "  206: 0,\n",
       "  207: [{'no': 5, 'title': '가격이숫자', 'writer': '백난도', 'price': 30200},\n",
       "   {'no': 2, 'title': '더트릭컬', 'writer': '폴빠', 'price': '19,800'},\n",
       "   {'no': 3, 'title': '단 한 번의 삶', 'writer': '김영하', 'price': '15,120'},\n",
       "   {'no': 1, 'title': '흔한남매', 'writer': '백난도', 'price': '15,120'},\n",
       "   {'no': 6, 'title': '가격이없음', 'writer': '이길동'},\n",
       "   {'no': 4, 'title': '가격잘못', 'writer': '홍길동', 'price': 'ㅁ'}],\n",
       "  208: {...}},\n",
       " 'get_ipython': <bound method InteractiveShell.get_ipython of <ipykernel.zmqshell.ZMQInteractiveShell object at 0x000002458966F730>>,\n",
       " 'exit': <IPython.core.autocall.ZMQExitAutocall at 0x2458967fee0>,\n",
       " 'quit': <IPython.core.autocall.ZMQExitAutocall at 0x2458967fee0>,\n",
       " 'open': <function io.open(file, mode='r', buffering=-1, encoding=None, errors=None, newline=None, closefd=True, opener=None)>,\n",
       " '_': {...},\n",
       " '__': [{'no': 5, 'title': '가격이숫자', 'writer': '백난도', 'price': 30200},\n",
       "  {'no': 2, 'title': '더트릭컬', 'writer': '폴빠', 'price': '19,800'},\n",
       "  {'no': 3, 'title': '단 한 번의 삶', 'writer': '김영하', 'price': '15,120'},\n",
       "  {'no': 1, 'title': '흔한남매', 'writer': '백난도', 'price': '15,120'},\n",
       "  {'no': 6, 'title': '가격이없음', 'writer': '이길동'},\n",
       "  {'no': 4, 'title': '가격잘못', 'writer': '홍길동', 'price': 'ㅁ'}],\n",
       " '___': 0,\n",
       " '_i': 'a=10',\n",
       " '_ii': 'globals()',\n",
       " '_iii': \"copybooks = books.copy()\\ncopybooks.sort(key=lambda book : \\\\\\n            int(book.get('price').replace(',','')) \\\\\\n                    if isinstance(book.get('price'), str) and \\\\\\n                                book.get('price').replace(',','').isdigit() else \\\\\\n            book.get('price') if isinstance(book.get('price'), int) else \\\\\\n            0,\\n              reverse=True)\\ncopybooks\",\n",
       " '_i1': 'def func5(**args):\\n    print(args)\\n    print(type(args))\\n    for key, value in args.items():\\n        print(\"{} : {}\".format(key,value))',\n",
       " 'func5': <function __main__.func5(**args)>,\n",
       " '_i2': 'def func5(**args):\\n    print(args)\\n    print(type(args))\\n    if \\'address\\' not in args: # args에 address 키가 없으면  if문 True\\n        # args[\\'address\\'] = \\'서울시 관악구\\'\\n        # args.update({\\'address\\';\\'서울시 관악구\\'})\\n        args.update(address=\\'서울시 관악구\\')\\n    for key, value in args.items():\\n        print(\"{} : {}\".format(key,value))',\n",
       " '_i3': 'def add(a, b):\\n    return a+b\\nadd(3, 5)',\n",
       " 'add': <function __main__.<lambda>(a, b)>,\n",
       " '_3': 8,\n",
       " '_i4': 'def add(a, b):\\n    return a+b\\nprint(add(3, 5))\\nprint(type(add))',\n",
       " '_i5': 'add2 = lambda a, b : a + b\\nprint(add2(3, 5))\\nprint(type(add2))',\n",
       " 'add2': <function __main__.<lambda>(a, b)>,\n",
       " '_i6': '# ex1. 매개변수로 들어온 값이 짝수인지 홀수인지 return 함수를 람다식으로 만들어 보세요\\ndef even_odd_chk(num):\\n    if num%2:\\n        result = \"홀수\"\\n    else:\\n        result = \"짝수\"\\n    return result',\n",
       " 'even_odd_chk': <function __main__.<lambda>(num)>,\n",
       " '_i7': '# ex1. 매개변수로 들어온 값이 짝수인지 홀수인지 return 함수를 람다식으로 만들어 보세요\\ndef even_odd_chk(num):\\n    if num%2:\\n        result = \"홀수\"\\n    else:\\n        result = \"짝수\"\\n    return result\\neven_odd_chk(8)',\n",
       " '_7': '짝수',\n",
       " '_i8': '# ex1. 매개변수로 들어온 값이 짝수인지 홀수인지 return 함수를 람다식으로 만들어 보세요\\ndef even_odd_chk(num):\\n    if num%2:\\n        result = \"홀수\"\\n    else:\\n        result = \"짝수\"\\n    return result\\neven_odd_chk(5), even_odd_chk(-4)',\n",
       " '_8': ('홀수', '짝수'),\n",
       " '_i9': '# ex1. 매개변수로 들어온 값이 짝수인지 홀수인지 return 함수를 람다식으로 만들어 보세요\\ndef even_odd_chk(num):    \\n#     if num%2:\\n#         result = \"홀수\"\\n#     else:\\n#         result = \"짝수\"\\n#     return result\\n    result = \\'홀수\\' if num%2 else \"짝수\"\\neven_odd_chk(5), even_odd_chk(-4)',\n",
       " '_9': (None, None),\n",
       " '_i10': '# ex1. 매개변수로 들어온 값이 짝수인지 홀수인지 return 함수를 람다식으로 만들어 보세요\\ndef even_odd_chk(num):    \\n#     if num%2:\\n#         result = \"홀수\"\\n#     else:\\n#         result = \"짝수\"\\n#     return result\\n    result = \\'홀수\\' if num%2 else \"짝수\"\\neven_odd_chk(5), even_odd_chk(-4)',\n",
       " '_10': (None, None),\n",
       " '_i11': '# ex1. 매개변수로 들어온 값이 짝수인지 홀수인지 return 함수를 람다식으로 만들어 보세요\\ndef even_odd_chk(num):\\n    result = \\'홀수\\' if num%2 else \"짝수\"\\n#     if num%2:\\n#         result = \"홀수\"\\n#     else:\\n#         result = \"짝수\"\\n#     return result\\neven_odd_chk(5), even_odd_chk(-4)',\n",
       " '_11': (None, None),\n",
       " '_i12': '# ex1. 매개변수로 들어온 값이 짝수인지 홀수인지 return 함수를 람다식으로 만들어 보세요\\ndef even_odd_chk(num):\\n    result = \\'홀수\\' if num%2 else \"짝수\"\\n#     if num%2:\\n#         result = \"홀수\"\\n#     else:\\n#         result = \"짝수\"\\n#     return result\\n    result = \\'홀수\\' if num%2 else \"짝수\"\\neven_odd_chk = lambda num : \"홀수\" if num%2 else \"짝수\"\\neven_odd_chk(5), even_odd_chk(-4)',\n",
       " '_12': ('홀수', '짝수'),\n",
       " '_i13': '# ex2. 두 매개변수의 차이를 return하는 함수를 람다식으로 만들어 보세요\\ndiff = lambda a, b : a-b if a>b else b-a\\ndiff(5,1), diff(1,5)',\n",
       " 'diff': <function __main__.<lambda>(a, b)>,\n",
       " '_13': (4, 4),\n",
       " '_i14': '# ex2. 두 매개변수의 차이를 return하는 함수를 람다식으로 만들어 보세요\\ndef diff(a, b):\\n    if a>b:\\n        result = a-b\\n    else:\\n        a<b\\n        result = b-a\\n    return result\\ndiff = lambda a, b : a-b if a>b else b-a\\ndiff(5,1), diff(1,5)',\n",
       " '_14': (4, 4),\n",
       " '_i15': '# ex2. 두 매개변수의 차이를 return하는 함수를 람다식으로 만들어 보세요\\ndef diff(a, b):\\n    if a>b:\\n        result = a-b\\n    else:\\n        result = b-a\\n    return result\\ndiff = lambda a, b : a-b if a>b else b-a\\ndiff(5,1), diff(1,5)',\n",
       " '_15': (4, 4),\n",
       " '_i16': \"# ex3. 매개변수로 잔액을 받아, 잔액이 0 이상이면 잔액을 return, 음수면 'negative'를 return\\nex3 =lambda balance : balance if balance>0 else 'negative'\\nex3(1000), ex3(-100)\",\n",
       " 'ex3': <function __main__.<lambda>(balance)>,\n",
       " '_16': (1000, 'negative'),\n",
       " '_i17': \"# ex4. 점수를 입력 받아 80점 이상은 'A팀', 60점 이상은  'B팀', 60점 미만은 '재시험'\\n                        # 100점 초과, 0점 미만은 '유효하지 않음'을 return\\nex4 = lambda score : 'A팀' if 100>=score>=80 'B팀' elif score>=60 'C팀' elif 60>score>0 else '유효하지 않음'\\nex4(100)\",\n",
       " '_i18': \"# ex4. 점수를 입력 받아 80점 이상은 'A팀', 60점 이상은  'B팀', 60점 미만은 '재시험'\\n                        # 100점 초과, 0점 미만은 '유효하지 않음'을 return\\nex4 = lambda '팀' : '팀' if 100>=score>=80 'A' elif score>=60 'B' elif 60>score>0 'C' else '유효하지 않음'\\nex4(100)\",\n",
       " '_i19': \"# ex4. 점수를 입력 받아 80점 이상은 'A팀', 60점 이상은  'B팀', 60점 미만은 '재시험'\\n                        # 100점 초과, 0점 미만은 '유효하지 않음'을 return\\nex4 = lambda 팀 : 팀 if 100>=score>=80 'A' elif score>=60 'B' elif 60>score>0 'C' else '유효하지 않음'\\nex4(100)\",\n",
       " '_i20': \"# ex4. 점수를 입력 받아 80점 이상은 'A팀', 60점 이상은  'B팀', 60점 미만은 '재시험'\\n                        # 100점 초과, 0점 미만은 '유효하지 않음'을 return\\nex4 = lambda team : team if 100>=score>=80 'A' elif score>=60 'B' elif 60>score>0 'C' else '유효하지 않음'\\nex4(100)\",\n",
       " '_i21': \"# ex4. 점수를 입력 받아 80점 이상은 'A팀', 60점 이상은  'B팀', 60점 미만은 '재시험'\\n                        # 100점 초과, 0점 미만은 '유효하지 않음'을 return\\ndef levelCHK(score):\\n    if 80<=score=<100:\\n        return 'A팀'\\n    elif 60<=score=<80:\\n        return 'B'\\n    elif 0<=score=<60\\n        return '재시험'\\n    else:\\n        '유효하지 않음'\\n    \\nex4 = lambda score : 'A팀' if 80<=score=<100 else \\\\\\n                      'B팀' if 60<=score=<80  else \\\\\\n                      '재시험' if 0<=score=<60 else \\\\\\n                      '유효하지 않음')\\nlevelCHK(8), ex4(160)\",\n",
       " '_i22': \"# ex4. 점수를 입력 받아 80점 이상은 'A팀', 60점 이상은  'B팀', 60점 미만은 '재시험'\\n                        # 100점 초과, 0점 미만은 '유효하지 않음'을 return\\ndef levelCHK(score):\\n    if 80<=score=<100:\\n        return 'A팀'\\n    elif 60<=score=<80:\\n        return 'B'\\n    elif 0<=score=<60\\n        return '재시험'\\n    else:\\n        '유효하지 않음'\\n    \\nex4 = lambda score : 'A팀' if 80<=score=<100 else \\\\\\n                      'B팀' if 60<=score=<80  else \\\\\\n                      '재시험' if 0<=score=<60 else \\\\\\n                      '유효하지 않음'\\nlevelCHK(8), ex4(160)\",\n",
       " '_i23': \"# ex4. 점수를 입력 받아 80점 이상은 'A팀', 60점 이상은  'B팀', 60점 미만은 '재시험'\\n                        # 100점 초과, 0점 미만은 '유효하지 않음'을 return\\ndef levelCHK(score):\\n    if 80<=score=<100\\n        return 'A팀'\\n    elif 60<=score=<80\\n        return 'B'\\n    elif 0<=score=<60\\n        return '재시험'\\n    else:\\n        '유효하지 않음'\\n    \\nex4 = lambda score : 'A팀' if 80<=score=<100 else \\\\\\n                      'B팀' if 60<=score=<80  else \\\\\\n                      '재시험' if 0<=score=<60 else \\\\\\n                      '유효하지 않음'\\nlevelCHK(8), ex4(160)\",\n",
       " '_i24': \"# ex4. 점수를 입력 받아 80점 이상은 'A팀', 60점 이상은  'B팀', 60점 미만은 '재시험'\\n                        # 100점 초과, 0점 미만은 '유효하지 않음'을 return\\ndef levelCHK(score):\\n    if 80<=score=<100:\\n        return 'A팀'\\n    elif 60<=score=<80:\\n        return 'B'\\n    elif 0<=score=<60:\\n        return '재시험'\\n    else:\\n        '유효하지 않음'\\n    \\nex4 = lambda score : 'A팀' if 80<=score=<100 else \\\\\\n                      'B팀' if 60<=score=<80  else \\\\\\n                      '재시험' if 0<=score=<60 else \\\\\\n                      '유효하지 않음'\\nlevelCHK(8), ex4(160)\",\n",
       " '_i25': \"# ex4. 점수를 입력 받아 80점 이상은 'A팀', 60점 이상은  'B팀', 60점 미만은 '재시험'\\n                        # 100점 초과, 0점 미만은 '유효하지 않음'을 return\\ndef levelCHK(score):\\n    if 80<=score<100:\\n        return 'A팀'\\n    elif 60<=score=<80:\\n        return 'B'\\n    elif 0<=score=<60:\\n        return '재시험'\\n    else:\\n        '유효하지 않음'\\n    \\nex4 = lambda score : 'A팀' if 80<=score=<100 else \\\\\\n                      'B팀' if 60<=score=<80  else \\\\\\n                      '재시험' if 0<=score=<60 else \\\\\\n                      '유효하지 않음'\\nlevelCHK(8), ex4(160)\",\n",
       " '_i26': \"# ex4. 점수를 입력 받아 80점 이상은 'A팀', 60점 이상은  'B팀', 60점 미만은 '재시험'\\n                        # 100점 초과, 0점 미만은 '유효하지 않음'을 return\\ndef levelCHK(score):\\n    if 80<=score<=100:\\n        return 'A팀'\\n    elif 60<=score<=80:\\n        return 'B'\\n    elif 0<=score<=60:\\n        return '재시험'\\n    else:\\n        '유효하지 않음'\\n    \\nex4 = lambda score : 'A팀' if 80<=score=<100 else \\\\\\n                      'B팀' if 60<=score=<80  else \\\\\\n                      '재시험' if 0<=score=<60 else \\\\\\n                      '유효하지 않음'\\nlevelCHK(8), ex4(160)\",\n",
       " '_i27': \"# ex4. 점수를 입력 받아 80점 이상은 'A팀', 60점 이상은  'B팀', 60점 미만은 '재시험'\\n                        # 100점 초과, 0점 미만은 '유효하지 않음'을 return\\ndef levelCHK(score):\\n    if 80<=score<=100:\\n        return 'A팀'\\n    elif 60<=score<=80:\\n        return 'B'\\n    elif 0<=score<=60:\\n        return '재시험'\\n    else:\\n        '유효하지 않음'\\n    \\nex4 = lambda score : 'A팀' if 80<=score<=100 else \\\\\\n                      'B팀' if 60<=score<=80  else \\\\\\n                      '재시험' if 0<=score<=60 else \\\\\\n                      '유효하지 않음'\\nlevelCHK(8), ex4(160)\",\n",
       " 'levelCHK': <function __main__.levelCHK(score)>,\n",
       " 'ex4': <function __main__.<lambda>(score)>,\n",
       " '_27': ('재시험', '유효하지 않음'),\n",
       " '_i28': \"# 점수를 입력 받아 학점을 return\\nscore_grade = lambda score : 'A학점' if 90<=score=<100 else \\\\\\n                              'B학점' if 80<=score<90 else \\\\\\n                              'C학점' if 70<=score<80 else \\\\\\n                              'D학점' if 60<=score<70 else \\\\\\n                              'F학점' if score<60 else \\\\\\n                              '유효하지 않는 점수'\\nscore_grade(60), score_grade(120)\",\n",
       " '_i29': \"# 점수를 입력 받아 학점을 return\\nscore_grade = lambda score : 'A학점' if 90<=score<=100 else \\\\\\n                              'B학점' if 80<=score<90 else \\\\\\n                              'C학점' if 70<=score<80 else \\\\\\n                              'D학점' if 60<=score<70 else \\\\\\n                              'F학점' if score<60 else \\\\\\n                              '유효하지 않는 점수'\\nscore_grade(60), score_grade(120)\",\n",
       " 'score_grade': <function __main__.<lambda>(score)>,\n",
       " '_29': ('D학점', '유효하지 않는 점수'),\n",
       " '_i30': '# safe_index 함수를 람다식으로\\ndef safe_index(lst, item, start=0):\\n    return lst.index(item,start) if item in lst[start:] else -1\\n#     if item in lst[start:]:\\n#         return lst.index(item,start) # start번째부터 item이 있는 index를 반환\\n#     return -1\\nex5 = lambda lst, item, start=0 : lst.index(item,start) if item in lst[start:] else \\\\\\n                                   -1\\nlst = [1, 2, 3]\\nsafe_index(lst,4), ex5(lst, 3, 1)',\n",
       " 'safe_index': <function __main__.safe_index(lst, item, start=0)>,\n",
       " 'ex5': <function __main__.<lambda>(lst, item, start=0)>,\n",
       " 'lst': [1, 2, 3],\n",
       " '_30': (-1, 2),\n",
       " '_i31': \"# 람다식을 list에 들어갈 수 있음\\nadd = lambda a, b : a+b\\nsub = lambda a, b : a-b\\nmul = lambda a, b : a*b\\ndiv = lambda a, b : a/b if b else '두번째 인자가 0이면 못 나눠요'\\noperations =[add, sub, mul, div] # 사칙연산 함수들\\n\\ndef act_operations(a, b, operations=operations): # a,b의 연산 결과를 return \\n    result = []\\n    for op in operations:\\n        result.append(op(a, b))\\n    return result\\n\\nact_operations(20,5)\",\n",
       " 'sub': <function __main__.<lambda>(a, b)>,\n",
       " 'mul': <function __main__.<lambda>(a, b)>,\n",
       " 'div': <function __main__.<lambda>(a, b)>,\n",
       " 'operations': [<function __main__.<lambda>(a, b)>,\n",
       "  <function __main__.<lambda>(a, b)>,\n",
       "  <function __main__.<lambda>(a, b)>,\n",
       "  <function __main__.<lambda>(a, b)>,\n",
       "  <function __main__.<lambda>(x, y)>],\n",
       " 'act_operations': <function __main__.act_operations(a, b, operations=[<function <lambda> at 0x000002458BAB5120>, <function <lambda> at 0x000002458BAB5750>, <function <lambda> at 0x000002458BAB6560>, <function <lambda> at 0x000002458BAB4280>, <function <lambda> at 0x000002458BAB6DD0>])>,\n",
       " '_31': [25, 15, 100, 4.0],\n",
       " '_i32': 'act_operations(8,2)',\n",
       " '_32': [10, 6, 16, 4.0],\n",
       " '_i33': 'act_operations(8, 2, [lambda x,y : x**y, lambda x,y : 10*x+y] )',\n",
       " '_33': [64, 82],\n",
       " '_i34': '(lambda x,y : 10*x+y)(5,3)',\n",
       " '_34': 53,\n",
       " '_i35': 'operations.append(lambda x,y : x**y)\\nlen(operations)',\n",
       " '_35': 5,\n",
       " '_i36': 'act_operations(8, 2) # 기본값을 갖는 변스(기본 변수)가 리스트면 기본값은 호출할 시점',\n",
       " '_36': [10, 6, 16, 4.0, 64],\n",
       " '_i37': 'def map_template(func, L=[]):\\n    result = []\\n    for item in L:\\n        result.append(item)\\n    return result',\n",
       " 'map_template': <function __main__.map_template(func, L=[])>,\n",
       " '_i38': 'map_template(lambda a : a,[1, 2, 3])',\n",
       " '_38': [1, 2, 3],\n",
       " '_i39': 'list_data = [1,2,3,4,5,6,7,8,9]\\ndef x_2(x):\\n    return x*2\\nmap_template(x_2,list_data)',\n",
       " 'list_data': [1, 2, 3, 4, 5, 6, 7, 8, 9],\n",
       " 'x_2': <function __main__.<lambda>(x)>,\n",
       " '_39': [1, 2, 3, 4, 5, 6, 7, 8, 9],\n",
       " '_i40': 'def map_template(func, L=[]):\\n    result = []\\n    for item in L:\\n        result.append(func(item))\\n    return result',\n",
       " '_i41': 'list_data = [1,2,3,4,5,6,7,8,9]\\ndef x_2(x):\\n    return x*2\\nmap_template(x_2,list_data)',\n",
       " '_41': [2, 4, 6, 8, 10, 12, 14, 16, 18],\n",
       " '_i42': 'list_data = [1,2,3,4,5,6,7,8,9]\\ndef x_2(x):\\n    return x*2\\nx_2 = lambda x : x*2\\nmap_template(lambda x : x*2,list_data)',\n",
       " '_42': [2, 4, 6, 8, 10, 12, 14, 16, 18],\n",
       " '_i43': 'list_data = [1,2,3,4,5,6,7,8,9]\\ndef x_2(x):\\n    return x*2\\nx_2 = lambda x : x*2\\nmap_template(x_2,list_data)',\n",
       " '_43': [2, 4, 6, 8, 10, 12, 14, 16, 18],\n",
       " '_i44': 'map_template(lambda x : x*2,list_data)',\n",
       " '_44': [2, 4, 6, 8, 10, 12, 14, 16, 18],\n",
       " '_i45': 'map_template(lambda x : x*2, list_data)',\n",
       " '_45': [2, 4, 6, 8, 10, 12, 14, 16, 18],\n",
       " '_i46': 'list_data = [1,2,3,4,5,6,7,8,9]\\n# def x_2(x):\\n#     return x*2\\nx_2 = lambda x : x*2\\nmap_template(x_2, list_data)',\n",
       " '_46': [2, 4, 6, 8, 10, 12, 14, 16, 18],\n",
       " '_i47': 'map_template(lambda x : x*2, list_data)',\n",
       " '_47': [2, 4, 6, 8, 10, 12, 14, 16, 18],\n",
       " '_i48': '# 리스트 컴프리헨션\\n[item*2 for item in list_data]',\n",
       " '_48': [2, 4, 6, 8, 10, 12, 14, 16, 18],\n",
       " '_i49': 'map(lambda x : x*2, list_data)',\n",
       " '_49': <map at 0x24589dedde0>,\n",
       " '_i50': 'list(map(lambda x : x*2, list_data))',\n",
       " '_50': [2, 4, 6, 8, 10, 12, 14, 16, 18],\n",
       " '_i51': 'for data in map(lambda x : x*2, list_data):\\n    print(data,end=\" \")',\n",
       " 'data': 18,\n",
       " '_i52': \"'''\\n에제1, prices = ['5,000', '5000', '6,000', '1000','5,000', '5000', '6,000', '1000’]를 [5000,5000,6000,1000]식으로 바꾸시오\\n'''\\nprices = ['5,000', '5000', '6,000', '1000','5,000', '5000', '6,000', '1000’]\\ndef toint(value):\\n          return int(value.replace(',',''))\\ntotint('5000')\",\n",
       " '_i53': \"'''\\n에제1, prices = ['5,000', '5000', '6,000', '1000','5,000', '5000', '6,000', '1000’]를 [5000,5000,6000,1000]식으로 바꾸시오\\n'''\\n# prices = ['5,000', '5000', '6,000', '1000','5,000', '5000', '6,000', '1000’]\\ndef toint(value):\\n          return int(value.replace(',',''))\\ntotint('5000')\",\n",
       " 'toint': <function __main__.toint(value)>,\n",
       " '_i54': \"'''\\n에제1, prices = ['5,000', '5000', '6,000', '1000','5,000', '5000', '6,000', '1000’]를 [5000,5000,6000,1000]식으로 바꾸시오\\n'''\\nprices = ['5,000', '5000', '6,000', '1000', '5,000', '5000', '6,000', '1000’]\\ndef toint(value):\\n          return int(value.replace(',',''))\\nmap(lambda value : int(int(value.replace(',','')), prices)\\nfor price in prices_int:\\n    print(price, end=' ')\",\n",
       " '_i55': \"'''\\n에제1, prices = ['5,000', '5000', '6,000', '1000','5,000', '5000', '6,000', '1000’]를 [5000,5000,6000,1000]식으로 바꾸시오\\n'''\\nprices = ['5,000', '5000', '6,000', '1000', '5,000', '5000', '6,000', '1000']\\ndef toint(value):\\n          return int(value.replace(',',''))\\nmap(lambda value : int(int(value.replace(',','')), prices)\\nfor price in prices_int:\\n    print(price, end=' ')\",\n",
       " '_i56': \"'''\\n에제1, prices = ['5,000', '5000', '6,000', '1000','5,000', '5000', '6,000', '1000’]를 [5000,5000,6000,1000]식으로 바꾸시오\\n'''\\nprices = ['5,000', '5000', '6,000', '1000', '5,000', '5000', '6,000', '1000']\\ndef toint(value):\\n          return int(value.replace(',',''))\\nmap(lambda value : int(value.replace(',',''), prices)\\nfor price in prices_int:\\n    print(price, end=' ')\",\n",
       " '_i57': \"'''\\n에제1, prices = ['5,000', '5000', '6,000', '1000','5,000', '5000', '6,000', '1000’]를 [5000,5000,6000,1000]식으로 바꾸시오\\n'''\\nprices = ['5,000', '5000', '6,000', '1000', '5,000', '5000', '6,000', '1000']\\ndef toint(value):\\n          return int(value.replace(',',''))\\nmap(lambda value : int(value.replace(',',''), prices))\\nfor price in prices_int:\\n    print(price, end=' ')\",\n",
       " 'prices': ['5,000',\n",
       "  '5000',\n",
       "  '6,000',\n",
       "  '1000',\n",
       "  '5,000',\n",
       "  '5000',\n",
       "  '6,000',\n",
       "  '1000'],\n",
       " '_i58': \"'''\\n에제1, prices = ['5,000', '5000', '6,000', '1000','5,000', '5000', '6,000', '1000’]를 [5000,5000,6000,1000]식으로 바꾸시오\\n'''\\nprices = ['5,000', '5000', '6,000', '1000', '5,000', '5000', '6,000', '1000']\\ndef toint(value):\\n          return int(value.replace(',',''))\\nmap(lambda value : int(value.replace(',','')), prices))\\nfor price in prices_int:\\n    print(price, end=' ')\",\n",
       " '_i59': \"'''\\n에제1, prices = ['5,000', '5000', '6,000', '1000','5,000', '5000', '6,000', '1000’]를 [5000,5000,6000,1000]식으로 바꾸시오\\n'''\\nprices = ['5,000', '5000', '6,000', '1000', '5,000', '5000', '6,000', '1000']\\ndef toint(value):\\n          return int(value.replace(',',''))\\nmap(lambda value : int(value.replace(',','')), prices)\\nfor price in prices_int:\\n    print(price, end=' ')\",\n",
       " '_i60': \"'''\\n에제1, prices = ['5,000', '5000', '6,000', '1000','5,000', '5000', '6,000', '100']를 [5000,5000,6000,1000]식으로 바꾸시오\\n'''\\nprices = ['5,000', '5000', '6,000', '1000', '5,000', '5000', '6,000', '1000']\\ndef toint(value):\\n          return int(value.replace(',',''))\\nmap(lambda value : int(value.replace(',','')), prices)\\nfor price in price_int:\\n    print(price, end=' ')\",\n",
       " '_i61': \"'''\\n에제1, prices = ['5,000', '5000', '6,000', '1000','5,000', '5000', '6,000', '100']를 [5000,5000,6000,1000]식으로 바꾸시오\\n'''\\nprices = ['5,000', '5000', '6,000', '1000', '5,000', '5000', '6,000', '1000']\\ndef toint(value):\\n          return int(value.replace(',',''))\\nmap(lambda value : int(value.replace(',','')), prices)\\nfor price in prices_int:\\n    print(price, end=' ')\\nprint('5000')\",\n",
       " '_i62': \"'''\\n에제1, prices = ['5,000', '5000', '6,000', '1000','5,000', '5000', '6,000', '100']를 [5000,5000,6000,1000]식으로 바꾸시오\\n'''\\nprices = ['5,000', '5000', '6,000', '1000', '5,000', '5000', '6,000', '1000']\\ndef toint(value):\\n          return int(value.replace(',',''))\\nmap(lambda value : int(value.replace(',','')), prices)\\nprices_int=lambda value : int(value.replace(',','')), prices\\nfor price in prices_int:\\n    print(price, end=' ')\",\n",
       " 'prices_int': (<function __main__.<lambda>(value)>,\n",
       "  ['5,000', '5000', '6,000', '1000', '5,000', '5000', '6,000', '1000']),\n",
       " 'price': ['5,000', '5000', '6,000', '1000', '5,000', '5000', '6,000', '1000'],\n",
       " '_i63': '# \\'2000-01-01\\' => {\\'year\\':2000, \\'month\\':1, \\'day\\':1} \\ndef split_date(date):\\n    for date in members1:\\n        for idx,date in enumerate(members1):\\n            print(f\"year:{},month:{},day:{}\")\\n        ',\n",
       " '_i64': '# \\'2000-01-01\\' => {\\'year\\':2000, \\'month\\':1, \\'day\\':1} \\ndef split_date(date):\\n    for date in members1:\\n        for idx,date in enumerate(members1):\\n            print(f\"year:{date},month:{date},day:{date}\")\\n        ',\n",
       " 'split_date': <function __main__.split_date(data)>,\n",
       " '_i65': '# \\'2000-01-01\\' => {\\'year\\':2000, \\'month\\':1, \\'day\\':1} \\ndef split_date(date):\\n    for date in members1:\\n        for idx,date in enumerate(members1):\\n            print(f\"year:{date},month:{date},day:{date}\")\\nsplit_date(date)',\n",
       " '_i66': '# \\'2000-01-01\\' => {\\'year\\':2000, \\'month\\':1, \\'day\\':1} \\ndef split_date(date):\\n    for date in members1:\\n        for idx,date in enumerate(members1):\\n            print(f\"year:{date},month:{date},day:{date}\")\\nsplit_date(members1)',\n",
       " '_i67': \"# '2000-01-01' => {'year':2000, 'month':1, 'day':1} \\ndef split_date(date):\\n    split_date = date.split('-')\\n    return split_date\\nsplit_date('2025-01-01')\",\n",
       " '_67': ['2025', '01', '01'],\n",
       " '_i68': \"# '2000-01-01' => {'year':2000, 'month':1, 'day':1} \\ndef split_date(date):\\n    return {\\n            'year': int(date.split('-')[0])\\n            'month': int(date.split('-')[1]\\n            'day' : int(date.split('-')[2]\\n}\\nsplit_date('2025-01-01'),split_date('1995-12-12')\",\n",
       " '_i69': \"# '2000-01-01' => {'year':2000, 'month':1, 'day':1} \\ndef split_date(date):\\n    return {\\n            'year': int(date.split('-')[0])\\n            'month': int(date.split('-')[1]\\n            'day' : int(date.split('-')[2]\\n    }\\nsplit_date('2025-01-01'), split_date('1995-12-12')\",\n",
       " '_i70': \"# '2025-01-01' => {'year':2000, 'month':1,'day':1} \\ndef split_date(date):\\n    split_date = date.split('-')\\n    return {\\n        'year': int(split_date[0]),\\n        'month':int(split_date[1]),\\n        'day':int(split_date[2])\\n    }\\nsplit_date('2025-01-01'), split_date('1995-12-12')\",\n",
       " '_70': ({'year': 2025, 'month': 1, 'day': 1},\n",
       "  {'year': 1995, 'month': 12, 'day': 12}),\n",
       " '_i71': \"# '2025-01-01' => {'year':2000, 'month':1,'day':1} \\ndef split_date(date):\\n    split_date = date.split('-')\\n    return {\\n        'year': int(split_date[0]),\\n        'month':int(split_date[1]),\\n        'day':int(split_date[2])\\n    }\\nsplit_date('2025-01-01'), split_date('1995-12-12')\",\n",
       " '_71': ({'year': 2025, 'month': 1, 'day': 1},\n",
       "  {'year': 1995, 'month': 12, 'day': 12}),\n",
       " '_i72': \"# '2025-01-01' => {'year':2000, 'month':1,'day':1} \\ndef split_date(date):\\n    return {\\n        'year': int(date.split('-')[0]),\\n        'month':int(date.split('-')[1]),\\n        'day':int(date.split('-')[2])\\n    }\\nsplit_date('2025-01-01'), split_date('1995-12-12')\",\n",
       " '_72': ({'year': 2025, 'month': 1, 'day': 1},\n",
       "  {'year': 1995, 'month': 12, 'day': 12}),\n",
       " '_i73': \"# {'birth':'2025-01-01'} => {'year':2000, 'month':1,'day':1} \\ndef split_date(date):\\n    return {\\n        'year': int(date.split('-')[0]),\\n        'month':int(date.split('-')[1]),\\n        'day':int(date.split('-')[2])\\n    }\\nsplit_date('2025-01-01'), split_date('1995-12-12')\",\n",
       " '_73': ({'year': 2025, 'month': 1, 'day': 1},\n",
       "  {'year': 1995, 'month': 12, 'day': 12}),\n",
       " '_i74': \"# {'birth':'2025-01-01'} => {'year':2000, 'month':1,'day':1} \\ndef split_date(date):\\n    return {\\n        'year': int(data['birth'].split('-')[0]),\\n        'month':int(data['birth'].split('-')[1]),\\n        'day':int(data['birth'].split('-')[2])\\n    }\\nsplit_date('2025-01-01'), split_date('1995-12-12')\",\n",
       " '_i75': \"# {'birth':'2025-01-01'} => {'year':2000, 'month':1,'day':1} \\ndef split_date(date):\\n    return {\\n        'year': int(data['birth'].split('-')[0]),\\n        'month':int(data['birth'].split('-')[1]),\\n        'day':int(data['birth'].split('-')[2])\\n    }\\nsplit_date(birth':'2025-01-01'),\",\n",
       " '_i76': \"# {'birth':'2025-01-01'} => {'year':2000, 'month':1,'day':1} \\ndef split_date(date):\\n    return {\\n        'year': int(data['birth'].split('-')[0]),\\n        'month':int(data['birth'].split('-')[1]),\\n        'day':int(data['birth'].split('-')[2])\\n    }\\nsplit_date('birth':'2025-01-01'),\",\n",
       " '_i77': \"# {'birth':'2025-01-01'} => {'year':2000, 'month':1,'day':1} \\ndef split_date(date):\\n    return {\\n        'year': int(data['birth'].split('-')[0]),\\n        'month':int(data['birth'].split('-')[1]),\\n        'day':int(data['birth'].split('-')[2])\\n    }\\nsplit_date({'birth':'2025-01-01'})\",\n",
       " '_i78': \"# {'birth':'2025-01-01'} => {'year':2000, 'month':1,'day':1} \\ndef split_date(data):\\n    return {\\n        'year': int(data['birth'].split('-')[0]),\\n        'month':int(data['birth'].split('-')[1]),\\n        'day':int(data['birth'].split('-')[2])\\n    }\\nsplit_date({'birth':'2025-01-01'})\",\n",
       " '_78': {'year': 2025, 'month': 1, 'day': 1},\n",
       " '_i79': \"# {'name':'홍길동','birth':'2000-01-01'} =>{'name':'홍길동',''year':2000, 'month':1,'day':1}\\ndef split_date(data):\\n    if date in data\\n    return {\\n        'year': int(date.split('-')[0]),\\n        'month':int(date.split('-')[1]),\\n        'day':int(date.split('-')[2])\\n    }\\nsplit_date({'birth':'2025-01-01'})\",\n",
       " '_i80': \"# {'name':'홍길동','birth':'2000-01-01'} =>{'name':'홍길동',''year':2000, 'month':1,'day':1}\\ndef split_date(data):\\n    if date in data[birth]\\n    return {\\n        'year': int(date.split('-')[0]),\\n        'month':int(date.split('-')[1]),\\n        'day':int(date.split('-')[2])\\n    }\\nsplit_date({'birth':'2025-01-01'})\",\n",
       " '_i81': \"# {'name':'홍길동','birth':'2000-01-01'} =>{'name':'홍길동',''year':2000, 'month':1,'day':1}\\ndef split_date(data):\\n    if date in data[birth]\\n    return {\\n        'ear': int(data['birth'].split('-')[0]),\\n        'month':int(data['birth'].split('-')[1]),\\n        'day':int(data['birth'].split('-')[2])\\n    }\\nsplit_date({'birth':'2025-01-01'})\",\n",
       " '_i82': \"# {'name':'홍길동','birth':'2000-01-01'} =>{'name':'홍길동',''year':2000, 'month':1,'day':1}\\ndef split_date(data):\\n    if date in data[birth]:\\n    return {\\n        'ear': int(data['birth'].split('-')[0]),\\n        'month':int(data['birth'].split('-')[1]),\\n        'day':int(data['birth'].split('-')[2])\\n    }\\nsplit_date({'birth':'2025-01-01'})\",\n",
       " '_i83': \"# {'name':'홍길동','birth':'2000-01-01'} =>{'name':'홍길동',''year':2000, 'month':1,'day':1}\\ndef member_processing(member):\\n    return {\\n        'name': member.get('name','이름없음'), # member['name']\\n        'year': int(member.get('birth').split('-')[0]),\\n        'month': int(member.get('birth').split('-')[1]),\\n        'day': int(member.get('birth').split('-')[2]),\\n    }\\nmember_processing('name':'홍길동','birth':'2000-01-01')\",\n",
       " '_i84': \"# {'name':'홍길동','birth':'2000-01-01'} =>{'name':'홍길동',''year':2000, 'month':1,'day':1}\\ndef member_processing(member):\\n    return {\\n        'name' : member.get('name','이름없음'), # member['name']\\n        'year' : int(member.get('birth').split('-')[0]),\\n        'month': int(member.get('birth').split('-')[1]),\\n        'day'  : int(member.get('birth').split('-')[2]),\\n    }\\nmember_processing({'name':'홍길동','birth':'2000-01-01'})\",\n",
       " 'member_processing': <function __main__.member_processing(member)>,\n",
       " '_84': {'name': '홍길동', 'year': 2000, 'month': 1, 'day': 1},\n",
       " '_i85': \"members2 = list(map(lambda member : {\\n                              'name' : member.get('name','이름없음'),\\n                              'year' : int(member.get('birth').split('-')[0]),\\n                              'month': int(member.get('birth').split('-')[1]),\\n                              'day'  : int(member.get('birth').split('-')[2]),\\n                               }, members1) )\\nmembers2\",\n",
       " '_i86': \"members2 = list(map(lambda member : {\\n                              'name' : member.get('name','이름없음'),\\n                              'year' : int(member.get('birth').split('-')[0]),\\n                              'month': int(member.get('birth').split('-')[1]),\\n                              'day'  : int(member.get('birth').split('-')[2]),\\n                               }, members1\\n           ) \\n       )\\nmembers2\",\n",
       " '_i87': \"members2 = list(map(lambda member : {\\n                              'name' : member.get('name','이름없음'),\\n                              'year' : int(member.get('birth').split('-')[0]),\\n                              'month': int(member.get('birth').split('-')[1]),\\n                              'day'  : int(member.get('birth').split('-')[2]),\\n                               }, members1\\n                   )\\n               )\\nmembers2\",\n",
       " '_i88': \"members2 = list(map(lambda data : {\\n                              'name' : member.get('name','이름없음'),\\n                              'year' : int(member.get('birth').split('-')[0]),\\n                              'month': int(member.get('birth').split('-')[1]),\\n                              'day'  : int(member.get('birth').split('-')[2]),\\n                               }, members1\\n                   )\\n               )\\nmembers2\",\n",
       " '_i89': \"members2 = list(map(lambda data : {\\n                              'name' : data.get('name','이름없음'),\\n                              'year' : int(data.get('birth').split('-')[0]),\\n                              'month': int(data.get('birth').split('-')[1]),\\n                              'day'  : int(data.get('birth').split('-')[2]),\\n                               }, members1\\n                   )\\n               )\\nmembers2\",\n",
       " '_i90': \"'''예제2 : members1을 members2로\\nmembers1 = [{'name':'홍길동', 'birth':'2000-01-0'},\\n            {'name':'신길동', 'birth':'1995-12-18'},]\\nmembers2 = [{'name':'홍길동', 'year':2000, 'month':1,'day':1},\\n            {'name':'신길동', 'year':1995, 'month':12, 'day':18},]\\n'''\",\n",
       " '_90': \"예제2 : members1을 members2로\\nmembers1 = [{'name':'홍길동', 'birth':'2000-01-0'},\\n            {'name':'신길동', 'birth':'1995-12-18'},]\\nmembers2 = [{'name':'홍길동', 'year':2000, 'month':1,'day':1},\\n            {'name':'신길동', 'year':1995, 'month':12, 'day':18},]\\n\",\n",
       " '_i91': \"members2 = list(map(lambda members : {\\n                              'name' : members.get('name','이름없음'),\\n                              'year' : int(members.get('birth').split('-')[0]),\\n                              'month': int(members.get('birth').split('-')[1]),\\n                              'day'  : int(members.get('birth').split('-')[2]),\\n                               }, members1\\n                   )\\n               )\\nmembers2\",\n",
       " '_i92': \"members2 = list(map(lambda members : {\\n                              'name' : member.get('name','이름없음'),\\n                              'year' : int(member.get('birth').split('-')[0]),\\n                              'month': int(member.get('birth').split('-')[1]),\\n                              'day'  : int(member.get('birth').split('-')[2]),\\n                               }, members1\\n                   )\\n               )\\nmembers2\",\n",
       " '_i93': \"members1 = [{'name':'홍길동', 'birth':'2000-01-0'},\\n            {'name':'신길동', 'birth':'1995-12-18'},]\",\n",
       " 'members1': [{'name': '홍길동', 'birth': '2000-01-0'},\n",
       "  {'name': '신길동', 'birth': '1995-12-18'}],\n",
       " '_i94': \"members2 = list(map(lambda members : {\\n                              'name' : member.get('name','이름없음'),\\n                              'year' : int(member.get('birth').split('-')[0]),\\n                              'month': int(member.get('birth').split('-')[1]),\\n                              'day'  : int(member.get('birth').split('-')[2]),\\n                               }, members1\\n                   )\\n               )\\nmembers2\",\n",
       " '_i95': \"members2 = list(map(lambda member : {\\n                              'name' : member.get('name','이름없음'),\\n                              'year' : int(member.get('birth').split('-')[0]),\\n                              'month': int(member.get('birth').split('-')[1]),\\n                              'day'  : int(member.get('birth').split('-')[2]),\\n                               }, members1\\n                   )\\n               )\\nmembers2\",\n",
       " 'members2': [{'name': '홍길동', 'year': 2000, 'month': 1, 'day': 0},\n",
       "  {'name': '신길동', 'year': 1995, 'month': 12, 'day': 18}],\n",
       " '_95': [{'name': '홍길동', 'year': 2000, 'month': 1, 'day': 0},\n",
       "  {'name': '신길동', 'year': 1995, 'month': 12, 'day': 18}],\n",
       " '_i96': '# {\\'year\\':2000, \\'month\\':1, \\'day\\':1}  => \\'2025-01-01\\'\\ndef join_date(data):\\n    return \"{}-{}-{}\".format(data.get(\\'year\\'),data.get(\\'month\\'),data.get(\\'day\\'))\\njoin_date({\\'year\\':2000, \\'month\\':100, \\'day\\':1})',\n",
       " 'join_date': <function __main__.join_date(data)>,\n",
       " '_96': '2000-100-1',\n",
       " '_i97': '# {\\'year\\':2000, \\'month\\':1, \\'day\\':1}  => \\'2025-01-01\\'\\ndef join_date(data):\\n    return \"{}-{}-{}\".format(data.get(\\'year\\'),data.get(\\'month\\'),data.get(\\'day\\'))\\njoin_date({\\'year\\':2000, \\'month\\':10, \\'day\\':1})',\n",
       " '_97': '2000-10-1',\n",
       " '_i98': '# {\\'year\\':2000, \\'month\\':1, \\'day\\':1}  => \\'2025-01-01\\'\\ndef join_date(data):\\n    return \"{}-{:02}-{:02}\".format(data.get(\\'year\\'),data.get(\\'month\\'),data.get(\\'day\\'))\\njoin_date({\\'year\\':2000, \\'month\\':10, \\'day\\':1})',\n",
       " '_98': '2000-10-01',\n",
       " '_i99': '# {\\'year\\':2000, \\'month\\':1, \\'day\\':1}  => \\'2025-01-01\\'\\ndef join_date(data):\\n    return \"{}-{:02}-{:02}\".format(data.get(\\'year\\'),data.get(\\'month\\'),data.get(\\'day\\'))\\njoin_date({\\'year\\':2000, \\'month\\':9, \\'day\\':1})',\n",
       " '_99': '2000-09-01',\n",
       " '_i100': '# {\\'year\\':2000, \\'month\\':1, \\'day\\':1}  => \\'2025-01-01\\'\\ndef join_date(data):\\n    return \"{year}-{month:02}-{day:02}\".format(**data)\\njoin_date({\\'year\\':2000, \\'month\\':9, \\'day\\':1})',\n",
       " '_100': '2000-09-01',\n",
       " '_i101': '# {\\'year\\':2000, \\'month\\':1, \\'day\\':1}  => {\\'birth\\':\\'2025-01-01\\'}\\ndef join_date(data):\\n    return {\"birth\" : \"{year}-{month:02}-{day:02}\"}.format(**data)\\njoin_date({\\'year\\':2000, \\'month\\':9, \\'day\\':1})',\n",
       " '_i102': '# {\\'year\\':2000, \\'month\\':1, \\'day\\':1}  => {\\'birth\\':\\'2025-01-01\\'}\\ndef join_date(data):\\n    return {\"birth\" : \"{year}-{month:02}-{day:02}\".format(**data)}\\njoin_date({\\'year\\':2000, \\'month\\':9, \\'day\\':1})',\n",
       " '_102': {'birth': '2000-09-01'},\n",
       " '_i103': \"#{'name':'hong','year':2000, 'month':1. 'day':1} => {'name':'hong','birth':'2000-01-01'}\\ndef member_processing(member):\\n    return {\\n        'name' : member.get('name','이름없음'), # member['name']\\n        'year' : int(member.get('year').split('-')),\\n        'month': int(member.get('month').split('-')),\\n        'day'  : int(member.get('day').split('-')),\\n    }\\nmember_processing({'name':'hong','year':2000, 'month':1. 'day':1})\",\n",
       " '_i104': \"#{'name':'hong','year':2000, 'month':1. 'day':1} => {'name':'hong','birth':'2000-01-01'}\\ndef member_processing(member):\\n    return {\\n        'name' : member.get('name','이름없음'), # member['name']\\n        'year' : int(member.get('year').split('-')),\\n        'month': int(member.get('month').split('-')),\\n        'day'  : int(member.get('day').split('-')),\\n    }\\nmember_processing({'name':'hong','year':2000, 'month':1, 'day':1})\",\n",
       " '_i105': '#{\\'name\\':\\'hong\\',\\'year\\':2000, \\'month\\':1. \\'day\\':1} => {\\'name\\':\\'hong\\',\\'birth\\':\\'2000-01-01\\'}\\ndef member_processing(member):\\n    return {\\n        \\'name\\' : members.get(\\'name\\',\\'이름없음\\'),\\n        \\'birth\\' : {year}-{month:02}-{day:02}\".format(**member)\\n    }\\nmember_processing({\\'name\\':\\'hong\\',\\'year\\':2000, \\'month\\':1, \\'day\\':1})',\n",
       " '_i106': '#{\\'name\\':\\'hong\\',\\'year\\':2000, \\'month\\':1. \\'day\\':1} => {\\'name\\':\\'hong\\',\\'birth\\':\\'2000-01-01\\'}\\ndef member_processing(member):\\n    return {\\n        \\'name\\' : members.get(\\'name\\',\\'이름없음\\'),\\n        \\'birth\\' : \"{year}-{month:02}-{day:02}\".format(**member)\\n    }\\nmember_processing({\\'name\\':\\'hong\\',\\'year\\':2000, \\'month\\':1, \\'day\\':1})',\n",
       " '_i107': '#{\\'name\\':\\'hong\\',\\'year\\':2000, \\'month\\':1. \\'day\\':1} => {\\'name\\':\\'hong\\',\\'birth\\':\\'2000-01-01\\'}\\ndef member_processing(member):\\n    return {\\n        \\'name\\' : members.get(\\'name\\',\\'이름없음\\'),\\n        \\'birth\\' : \"{year}-{month:02}-{day:02}\".format(**member)\\n    }\\nmembers_processing({\\'name\\':\\'hong\\',\\'year\\':2000, \\'month\\':1, \\'day\\':1})',\n",
       " '_i108': '#{\\'name\\':\\'hong\\',\\'year\\':2000, \\'month\\':1. \\'day\\':1} => {\\'name\\':\\'hong\\',\\'birth\\':\\'2000-01-01\\'}\\ndef members_processing(member):\\n    return {\\n        \\'name\\' : members.get(\\'name\\',\\'이름없음\\'),\\n        \\'birth\\' : \"{year}-{month:02}-{day:02}\".format(**member)\\n    }\\nmembers_processing({\\'name\\':\\'hong\\',\\'year\\':2000, \\'month\\':1, \\'day\\':1})',\n",
       " 'members_processing': <function __main__.members_processing(member)>,\n",
       " '_i109': '#{\\'name\\':\\'hong\\',\\'year\\':2000, \\'month\\':1. \\'day\\':1} => {\\'name\\':\\'hong\\',\\'birth\\':\\'2000-01-01\\'}\\ndef members_processing(member):\\n    return {\\n        \\'name\\' : members.get(\\'name\\',\\'이름없음\\'),\\n        \\'birth\\' : \"{year}-{month:02}-{day:02}\".format(**member)\\n    }\\nmembers_processing(name\\':\\'hong\\',\\'year\\':2000, \\'month\\':1. \\'day\\':1)',\n",
       " '_i110': '#{\\'name\\':\\'hong\\',\\'year\\':2000, \\'month\\':1. \\'day\\':1} => {\\'name\\':\\'hong\\',\\'birth\\':\\'2000-01-01\\'}\\ndef members_processing(member):\\n    return {\\n        \\'name\\' : members.get(\\'name\\',\\'이름없음\\'),\\n        \\'birth\\' : \"{year}-{month:02}-{day:02}\".format(**member)\\n    }\\nmembers_processing(name\\':\\'hong\\',\\'year\\':2000, \\'month\\':1, \\'day\\':1)',\n",
       " '_i111': '#{\\'name\\':\\'hong\\',\\'year\\':2000, \\'month\\':1. \\'day\\':1} => {\\'name\\':\\'hong\\',\\'birth\\':\\'2000-01-01\\'}\\ndef members_processing(member):\\n    return {\\n        \\'name\\' : member.get(\\'name\\',\\'이름없음\\'),\\n        \\'birth\\' : \"{year}-{month:02}-{day:02}\".format(**member)\\n    }\\nmembers_processing(name\\':\\'hong\\',\\'year\\':2000, \\'month\\':1, \\'day\\':1)',\n",
       " '_i112': '#{\\'name\\':\\'hong\\',\\'year\\':2000, \\'month\\':1. \\'day\\':1} => {\\'name\\':\\'hong\\',\\'birth\\':\\'2000-01-01\\'}\\ndef members_processing(member):\\n    return {\\n        \\'name\\' : member.get(\\'name\\',\\'이름없음\\'),\\n        \\'birth\\' : \"{year}-{month:02}-{day:02}\".format(**member)\\n    }\\nmembers_processing(name\\':\\'hong\\',\\'year\\':2000, \\'month\\':1, \\'day\\':1)',\n",
       " '_i113': '#{\\'name\\':\\'hong\\',\\'year\\':2000, \\'month\\':1. \\'day\\':1} => {\\'name\\':\\'hong\\',\\'birth\\':\\'2000-01-01\\'}\\ndef members_processing(member):\\n    return {\\n        \\'name\\' : member.get(\\'name\\',\\'이름없음\\'),\\n        \\'birth\\' : \"{year}-{month:02}-{day:02}\".format(**member)\\n    }\\nmembers_processing(name\\':\\'hong\\', \\'year\\':2000, \\'month\\':1, \\'day\\':1)',\n",
       " '_i114': '#{\\'name\\':\\'hong\\',\\'year\\':2000, \\'month\\':1. \\'day\\':1} => {\\'name\\':\\'hong\\',\\'birth\\':\\'2000-01-01\\'}\\ndef members_processing(member):\\n    return {\\n        \\'name\\' : member.get(\\'name\\',\\'이름없음\\'),\\n        \\'birth\\' : \"{year}-{month:02}-{day:02}\".format(**member)\\n    }\\nmembers_processing(\\'name\\':\\'hong\\', \\'year\\':2000, \\'month\\':1, \\'day\\':1)',\n",
       " '_i115': '#{\\'name\\':\\'hong\\',\\'year\\':2000, \\'month\\':1. \\'day\\':1} => {\\'name\\':\\'hong\\',\\'birth\\':\\'2000-01-01\\'}\\ndef members_processing(member):\\n    return {\\n        \\'name\\' : member.get(\\'name\\',\\'이름없음\\'),\\n        \\'birth\\' : \"{year}-{month:02}-{day:02}\".format(**member)\\n    }\\nmembers_processing(\\'name\\' : \\'hong\\', \\'year\\' : 2000, \\'month\\' : 1, \\'day\\' : 1)',\n",
       " '_i116': '#{\\'name\\':\\'hong\\',\\'year\\':2000, \\'month\\':1. \\'day\\':1} => {\\'name\\':\\'hong\\',\\'birth\\':\\'2000-01-01\\'}\\ndef members_processing(member):\\n    return {\\n        \\'name\\' : member.get(\\'name\\',\\'이름없음\\'),\\n        \\'birth\\' : \"{year}-{month:02}-{day:02}\".format(**member)\\n    }\\nmembers_processing(\\'name\\' : \\'hong\\', \\'year\\' : 2000, \\'month\\' : 1, \\'day\\' : 1)',\n",
       " '_i117': '#{\\'name\\':\\'hong\\',\\'year\\':2000, \\'month\\':1. \\'day\\':1} => {\\'name\\':\\'hong\\',\\'birth\\':\\'2000-01-01\\'}\\ndef members_processing(member):\\n    return {\\n        \\'name\\' : member.get(\\'name\\',\\'이름없음\\'),\\n        \\'birth\\' : \"{year}-{month:02}-{day:02}\".format(**member)\\n    }\\nmembers_processing({\\'name\\' : \\'hong\\', \\'year\\' : 2000, \\'month\\' : 1, \\'day\\' : 1})',\n",
       " '_117': {'name': 'hong', 'birth': '2000-01-01'},\n",
       " '_i118': 'list (map(lambda member : {\\n        \\'name\\' : member.get(\\'name\\',\\'이름없음\\'),\\n        \\'birth\\' : \"{year}-{month:02}-{day:02}\".format(**member)\\n    }, members2))',\n",
       " '_118': [{'name': '홍길동', 'birth': '2000-01-00'},\n",
       "  {'name': '신길동', 'birth': '1995-12-18'}],\n",
       " '_i119': '#{\\'name\\':\\'hong\\',\\'year\\':2000, \\'month\\':1. \\'day\\':1} => {\\'name\\':\\'hong\\',\\'birth\\':\\'2000-01-01\\'}\\ndef members_processing(member):\\n    return {\\n        \\'name\\' : member.get(\\'name\\'),\\n        \\'birth\\' : \"{year}-{month:02}-{day:02}\".format(**member)\\n    }\\nmembers_processing({\\'name\\' : \\'hong\\', \\'year\\' : 2000, \\'month\\' : 1, \\'day\\' : 1})',\n",
       " '_119': {'name': 'hong', 'birth': '2000-01-01'},\n",
       " '_i120': 'list (map(lambda member : {\\n        \\'name\\' : member.get(\\'name\\'),\\n        \\'birth\\' : \"{year}-{month:02}-{day:02}\".format(**member)\\n    }, members2))',\n",
       " '_120': [{'name': '홍길동', 'birth': '2000-01-00'},\n",
       "  {'name': '신길동', 'birth': '1995-12-18'}],\n",
       " '_i121': 'def filter_template(func, L=[]):\\n    result =[]\\n    for item in L:\\n        if func(item):\\n            result.append(item)\\n    return result',\n",
       " 'filter_template': <function __main__.filter_template(func, L=[])>,\n",
       " '_i122': 'list_data = [1,2,3,4,5,6,7,8,9]\\ndef odd_chk(value):\\n    return value%2!=0\\n#     if value%2:\\n#         return True\\n#     else:\\n#         return False\\nfilter_template(lambda value : value%2!=0,list_data)',\n",
       " 'odd_chk': <function __main__.odd_chk(value)>,\n",
       " '_122': [1, 3, 5, 7, 9],\n",
       " '_i123': '# 리스트컴프리헨션\\n[value for value in list_data if value%2!=0]',\n",
       " '_123': [1, 3, 5, 7, 9],\n",
       " '_i124': 'filter_template(lambda value : value%2!=0,list_data)',\n",
       " '_124': [1, 3, 5, 7, 9],\n",
       " '_i125': 'list(filter(lambda value : value%2!=0,list_data))',\n",
       " '_125': [1, 3, 5, 7, 9],\n",
       " '_i126': '#  예제 : 다음 리스트에서 소수점 이하가 0인 수만 출력하시오(filter/리스트컴프리헨션)\\nL =[1, 1.2, 1.5, 3.0, 10.5, 100, -2.0, -12.2]\\nlist(filter(lambda x : x%1.0==0,L))',\n",
       " 'L': [1, 1.2, 1.5, 3.0, 10.5, 100, -2.0, -12.2],\n",
       " '_126': [1, 3.0, 100, -2.0],\n",
       " '_i127': '#  예제 : 다음 리스트에서 소수점 이하가 0인 수만 출력하시오(filter/리스트컴프리헨션)\\nL =[1, 1.2, 1.5, 3.0, 10.5, 100, -2.0, -12.2]\\nlist(filter(lambda x : x%1.0==0, L))',\n",
       " '_127': [1, 3.0, 100, -2.0],\n",
       " '_i128': '[item for item in L if item%l==0]',\n",
       " '_i129': '[item for item in L if item%1==0]',\n",
       " '_129': [1, 3.0, 100, -2.0],\n",
       " '_i130': 'p = [10, 3, 6, 1]\\np.sort(revers=true)\\np',\n",
       " 'p': [10, 6, 3, 1],\n",
       " '_i131': 'p = [10, 3, 6, 1]\\np.sort(revers=True)\\np',\n",
       " '_i132': 'p = [10, 3, 6, 1]\\np.sort(revers = True)\\np',\n",
       " '_i133': 'p = [10, 3, 6, 1]\\np.sort(reverse = True)\\np',\n",
       " '_133': [10, 6, 3, 1],\n",
       " '_i134': \"# 무조건 0번째 item을 기준으로 오름차순 정렬\\npairs = [(2, 'two'), (1, 'one'), (3, 'three'), (4, 'four')]\\npairs.sort()\\npairs\",\n",
       " 'pairs': [(2, 'two'), (3, 'three'), (1, 'one'), (4, 'four')],\n",
       " '_134': [(2, 'two'), (3, 'three'), (1, 'one'), (4, 'four')],\n",
       " '_i135': '# 1번째 item 기준으로 내림차순 정렬\\npairs.sort(key=lambda data:[1])\\npairs',\n",
       " '_135': [(2, 'two'), (3, 'three'), (1, 'one'), (4, 'four')],\n",
       " '_i136': '# 1번째 item 기준으로 내림차순 정렬\\npairs.sort(key=lambda data: data[1])\\npairs',\n",
       " '_136': [(2, 'two'), (3, 'three'), (1, 'one'), (4, 'four')],\n",
       " '_i137': '# 1번째 item 기준으로 내림차순 정렬\\npairs.sort(key=lambda data:data[1])\\npairs',\n",
       " '_137': [(2, 'two'), (3, 'three'), (1, 'one'), (4, 'four')],\n",
       " '_i138': '# 1번째 item 기준으로 내림차순 정렬\\npairs.sort(key=lambda data:data[1], reverse=True)\\npairs',\n",
       " '_138': [(2, 'two'), (3, 'three'), (1, 'one'), (4, 'four')],\n",
       " '_i139': '# 0번 item이 큰순(오름차순)\\nnumber_2d= [[9,9], [1,100], [10,1]]\\nnumber_2d.sort()\\nnumber_2d\\n# 합이 큰 순으로 정렬',\n",
       " 'number_2d': [[10, 200, 2], [1, 100], [9, 9]],\n",
       " '_139': [[1, 100], [9, 9], [10, 1]],\n",
       " '_i140': '# 0번 item이 큰순(오름차순)\\nnumber_2d= [[9,9], [1,100], [10,1]]\\nnumber_2d.sort()\\nnumber_2d\\n# 합이 큰 순으로 정렬\\nnumber_2d.sort(key=lambda data: if a,b in data a+b, reverse=True)',\n",
       " '_i141': '# 0번 item이 큰순(오름차순)\\nnumber_2d= [[9,9], [1,100], [10,1]]\\nnumber_2d.sort()\\nnumber_2d\\n# 합이 큰 순으로 정렬\\nnumber_2d.sort(key=lambda data: a,b in data a+b, reverse=True)',\n",
       " '_i142': '# 0번 item이 큰순(오름차순)\\nnumber_2d= [[9,9], [1,100], [10,1]]\\nnumber_2d.sort()\\nnumber_2d\\n# 합이 큰 순으로 정렬\\nnumber_2d.sort(key=lambda data: a,b in data return a+b, reverse=True)',\n",
       " '_i143': '# 0번 item이 큰순(오름차순)\\nnumber_2d= [[9,9], [1,100], [10,1]]\\nnumber_2d.sort()\\nnumber_2d\\n# 합이 큰 순으로 정렬\\nnumber_2d.sort(key=lambda data: a,b in data return [a+b], reverse=True)',\n",
       " '_i144': '# 0번 item이 큰순(오름차순)\\nnumber_2d= [[9,9], [1,100], [10,1]]\\nnumber_2d.sort()\\nnumber_2d\\n# 합이 큰 순으로 정렬\\nnumber_2d.sort([key=lambda data: a,b in data return a+b], reverse=True)',\n",
       " '_i145': '# 0번 item이 큰순(오름차순)\\nnumber_2d= [[9,9], [1,100], [10,200,2]]\\nnumber_2d.sort()\\nnumber_2d\\n# 합이 큰 순으로 정렬\\nnumber_2d.sort(key=lambda items : sum(items), reverse=True)\\nprint(number_2d)',\n",
       " '_i146': '# 0번 item이 큰순(오름차순)\\nnumber_2d= [[9,9], [1,100], [10,200,2]]\\nnumber_2d.sort()\\nprint(number_2d)\\n# 합이 큰 순으로 정렬\\nnumber_2d.sort(key=lambda items : sum(items), reverse=True)\\nprint(number_2d)',\n",
       " '_i147': \"students =[{'name':'홍', 'score':99},\\n          {'name':'김', 'score':50},\\n          {'name':'박', 'score':77},\\n          {'score':100}]\\nstudents.sort()\",\n",
       " 'students': [{'score': 100},\n",
       "  {'name': '홍', 'score': 99},\n",
       "  {'name': '박', 'score': 77},\n",
       "  {'name': '김', 'score': 50}],\n",
       " '_i148': \"students =[{'name':'홍', 'score':99},\\n          {'name':'김', 'score':50},\\n          {'name':'박', 'score':77},\\n          {'score':100}]\",\n",
       " '_i149': \"name_select = lambda data : data.get('name')\\nname_select({'name':'홍', 'score':99}\",\n",
       " '_i150': \"name_select = lambda data : data.get('score')\\nname_select({'name':'홍', 'score':99}\",\n",
       " '_i151': \"students =[{'name':'홍', 'score':99},\\n          {'name':'김', 'score':50},\\n          {'name':'박', 'score':77},\\n          {'score':100}]\",\n",
       " '_i152': \"name_select = lambda data : data.get('score')\\nname_select({'name':'홍', 'score':99}\",\n",
       " '_i153': \"name_select = lambda data : data.get('score')\\nname_select({'name':'홍', 'score':99})\",\n",
       " 'name_select': <function __main__.<lambda>(data)>,\n",
       " '_153': 99,\n",
       " '_i154': \"# students를 name순으로 정렬(ㄱㄴㄷ순)\\nstudents.sort(key=lambda data : data.get('name'))\",\n",
       " '_i155': \"# students를 name순으로 정렬(ㄱㄴㄷ순)\\nstudents.sort(key=lambda data : data.get('name',''))\",\n",
       " '_i156': \"# students를 name순으로 정렬(ㄱㄴㄷ순)\\nstudents.sort(key=lambda data : data.get('name',))\",\n",
       " '_i157': \"# students를 name순으로 정렬(ㄱㄴㄷ순)\\nstudents.sort(key=lambda data : data.get('name'))\",\n",
       " '_i158': '# students를 name순으로 정렬(ㄱㄴㄷ순)\\nstudents.sort(key=lambda data : data.get(\\'name\\',\"힣\"))',\n",
       " '_i159': '# students를 name순으로 정렬(ㄱㄴㄷ순)\\nstudents.sort(key=lambda data : data.get(\\'name\\',\"힣\"))\\nstudents',\n",
       " '_159': [{'score': 100},\n",
       "  {'name': '홍', 'score': 99},\n",
       "  {'name': '박', 'score': 77},\n",
       "  {'name': '김', 'score': 50}],\n",
       " '_i160': '# students를 score 큰 순 정렬\\nstudents.sort(key=lambda data : data.get(\\'score\\',\"힣\"))\\nstudents',\n",
       " '_160': [{'score': 100},\n",
       "  {'name': '홍', 'score': 99},\n",
       "  {'name': '박', 'score': 77},\n",
       "  {'name': '김', 'score': 50}],\n",
       " '_i161': '# students를 score 큰 순 정렬\\nstudents.sort(key=lambda data : data.get(\\'score\\',\"힣\"), reverse=True)\\nstudents',\n",
       " '_161': [{'score': 100},\n",
       "  {'name': '홍', 'score': 99},\n",
       "  {'name': '박', 'score': 77},\n",
       "  {'name': '김', 'score': 50}],\n",
       " '_i162': \"# students를 score 큰 순 정렬\\nstudents.sort(key=lambda data : data.get('score'), reverse=True)\\nstudents\",\n",
       " '_162': [{'score': 100},\n",
       "  {'name': '홍', 'score': 99},\n",
       "  {'name': '박', 'score': 77},\n",
       "  {'name': '김', 'score': 50}],\n",
       " '_i163': \"# students를 score 큰 순 정렬\\nstudents.sort(key=lambda data : data.get('score',0), reverse=True)\\nstudents\",\n",
       " '_163': [{'score': 100},\n",
       "  {'name': '홍', 'score': 99},\n",
       "  {'name': '박', 'score': 77},\n",
       "  {'name': '김', 'score': 50}],\n",
       " '_i164': \"books = \\\\\\n[{'no':1, 'title':'더트릭컬', 'writer':＇폴빠＇,＇price':'19,800'},\\n{'no':2, 'title’:'흔한남매', 'writer’:’백난도', 'price':'15,120'},\\n{'no':3, 'title':'단 한 번의 삶', 'writer':'김영하', 'price':'15,120'},\\n{'no':4, 'title':'가격잘못', 'writer':'홍길동', 'price':'ㅁ'},\\n{'no':5, 'title':'가격이숫자', 'writer':'백난도', 'price':30200},\\n{'no':6, 'title':'가격이없음', 'writer':'이길동'},] \",\n",
       " '_i165': \"books = \\\\\\n[{'no':1, 'title':'더트릭컬', 'writer':＇폴빠＇,＇price':'19,800'},\\n{'no':2, 'title’:'흔한남매', 'writer’:'백난도', 'price':'15,120'},\\n{'no':3, 'title':'단 한 번의 삶', 'writer':'김영하', 'price':'15,120'},\\n{'no':4, 'title':'가격잘못', 'writer':'홍길동', 'price':'ㅁ'},\\n{'no':5, 'title':'가격이숫자', 'writer':'백난도', 'price':30200},\\n{'no':6, 'title':'가격이없음', 'writer':'이길동'},] \",\n",
       " '_i166': \"books = \\\\\\n[{'no':1, 'title':'더트릭컬', 'writer':＇폴빠＇,＇price':'19,800'},\\n{'no':2, 'title’:'흔한남매', 'writer':'백난도', 'price':'15,120'},\\n{'no':3, 'title':'단 한 번의 삶', 'writer':'김영하', 'price':'15,120'},\\n{'no':4, 'title':'가격잘못', 'writer':'홍길동', 'price':'ㅁ'},\\n{'no':5, 'title':'가격이숫자', 'writer':'백난도', 'price':30200},\\n{'no':6, 'title':'가격이없음', 'writer':'이길동'},] \",\n",
       " '_i167': \"books = \\\\\\n[{'no':1, 'title':'더트릭컬', 'writer':＇폴빠＇,＇price':'19,800'},\\n{'no':2, 'title’:'흔한남매', 'writer':'백난도', 'price':'15,120'},\\n{'no':3, 'title':'단 한 번의 삶', 'writer':'김영하', 'price':'15,120'},\\n{'no':4, 'title':'가격잘못', 'writer':'홍길동', 'price':'ㅁ'},\\n{'no':5, 'title':'가격이숫자', 'writer':'백난도', 'price':30200},\\n{'no':6, 'title':'가격이없음', 'writer':'이길동'},] \",\n",
       " '_i168': \"books = \\\\\\n[{'no':1, 'title':'더트릭컬', 'writer':'폴빠',＇price':'19,800'},\\n{'no':2, 'title’:'흔한남매', 'writer':'백난도', 'price':'15,120'},\\n{'no':3, 'title':'단 한 번의 삶', 'writer':'김영하', 'price':'15,120'},\\n{'no':4, 'title':'가격잘못', 'writer':'홍길동', 'price':'ㅁ'},\\n{'no':5, 'title':'가격이숫자', 'writer':'백난도', 'price':30200},\\n{'no':6, 'title':'가격이없음', 'writer':'이길동'},] \",\n",
       " '_i169': \"books = \\\\\\n[{'no':1, 'title':'더트릭컬', 'writer': '폴빠',＇price':'19,800'},\\n{'no':2, 'title’:'흔한남매', 'writer':'백난도', 'price':'15,120'},\\n{'no':3, 'title':'단 한 번의 삶', 'writer':'김영하', 'price':'15,120'},\\n{'no':4, 'title':'가격잘못', 'writer':'홍길동', 'price':'ㅁ'},\\n{'no':5, 'title':'가격이숫자', 'writer':'백난도', 'price':30200},\\n{'no':6, 'title':'가격이없음', 'writer':'이길동'},] \",\n",
       " '_i170': \"books = \\\\\\n[{'no':1, 'title':'더트릭컬', 'writer': '폴빠',＇price':'19,800'},\\n{'no':2, 'title’:'흔한남매', 'writer':'백난도', 'price':'15,120'},\\n{'no':3, 'title':'단 한 번의 삶', 'writer':'김영하', 'price':'15,120'},\\n{'no':4, 'title':'가격잘못', 'writer':'홍길동', 'price':'ㅁ'},\\n{'no':5, 'title':'가격이숫자', 'writer':'백난도', 'price':30200},\\n{'no':6, 'title':'가격이없음', 'writer':'이길동'},] \",\n",
       " '_i171': \"books = \\\\\\n[{'no':1, 'title':’더트릭컬', 'writer':＇폴빠＇,＇price’:’19,800'},\\n{'no':2, 'title’:’흔한남매', 'writer’:’백난도', 'price’:’15,120'},\\n{'no':3, 'title':'단 한 번의 삶', 'writer':'김영하', 'price':'15,120'},\\n{'no':4, 'title':'가격잘못', 'writer':'홍길동', 'price':'ㅁ'},\\n{'no':5, 'title':'가격이숫자', 'writer':'백난도', 'price':30200},\\n{'no':6, 'title':'가격이없음', 'writer':'이길동’},]\",\n",
       " '_i172': \"books = \\\\\\n[{'no':1, 'title':’더트릭컬', 'writer':＇폴빠＇,＇price':'19,800'},\\n{'no':2, 'title’:’흔한남매', 'writer’:’백난도', 'price’:'15,120'},\\n{'no':3, 'title':'단 한 번의 삶', 'writer':'김영하', 'price':'15,120'},\\n{'no':4, 'title':'가격잘못', 'writer':'홍길동', 'price':'ㅁ'},\\n{'no':5, 'title':'가격이숫자', 'writer':'백난도', 'price':30200},\\n{'no':6, 'title':'가격이없음', 'writer':'이길동'},]\",\n",
       " '_i173': \"books = \\\\\\n[{'no':1, 'title':'더트릭컬', 'writer':＇폴빠＇,＇price':'19,800'},\\n{'no':2, 'title’:’흔한남매', 'writer’:’백난도', 'price’:'15,120'},\\n{'no':3, 'title':'단 한 번의 삶', 'writer':'김영하', 'price':'15,120'},\\n{'no':4, 'title':'가격잘못', 'writer':'홍길동', 'price':'ㅁ'},\\n{'no':5, 'title':'가격이숫자', 'writer':'백난도', 'price':30200},\\n{'no':6, 'title':'가격이없음', 'writer':'이길동'},]\",\n",
       " '_i174': \"books = \\\\\\n[{'no':1, 'title':'더트릭컬', 'writer':＇폴빠＇,＇price':'19,800'},\\n{'no':2, 'title’:’흔한남매', 'writer':'백난도', 'price’:'15,120'},\\n{'no':3, 'title':'단 한 번의 삶', 'writer':'김영하', 'price':'15,120'},\\n{'no':4, 'title':'가격잘못', 'writer':'홍길동', 'price':'ㅁ'},\\n{'no':5, 'title':'가격이숫자', 'writer':'백난도', 'price':30200},\\n{'no':6, 'title':'가격이없음', 'writer':'이길동'},]\",\n",
       " '_i175': \"books = \\\\\\n[{'no':1, 'title':'더트릭컬', 'writer':＇폴빠＇,＇price':'19,800'},\\n{'no':2, 'title’:’흔한남매', 'writer':'백난도', 'price’:'15,120'},\\n{'no':3, 'title':'단 한 번의 삶', 'writer':'김영하', 'price':'15,120'},\\n{'no':4, 'title':'가격잘못', 'writer':'홍길동', 'price':'ㅁ'},\\n{'no':5, 'title':'가격이숫자', 'writer':'백난도', 'price':30200},\\n{'no':6, 'title':'가격이없음', 'writer':'이길동'},]\",\n",
       " '_i176': \"books = \\\\\\n   [{'no':2, 'title':'더트릭컬', 'writer':'폴빠','price':'19,800'},\\n    {'no':1, 'title':'흔한남매', 'writer':'백난도', 'price':'15,120'},\\n    {'no':3, 'title':'단 한 번의 삶', 'writer':'김영하', 'price':'15,120'},\\n    {'no':4, 'title':'가격잘못', 'writer':'홍길동', 'price':'ㅁ'},\\n    {'no':5, 'title':'가격이숫자', 'writer':'백난도', 'price':30200},\\n    {'no':6, 'title':'가격이없음', 'writer':'이길동'},] \",\n",
       " 'books': [{'no': 5, 'title': '가격이숫자', 'writer': '백난도', 'price': 30200},\n",
       "  {'no': 6, 'title': '가격이없음', 'writer': '이길동'},\n",
       "  {'no': 4, 'title': '가격잘못', 'writer': '홍길동', 'price': 'ㅁ'},\n",
       "  {'no': 3, 'title': '단 한 번의 삶', 'writer': '김영하', 'price': '15,120'},\n",
       "  {'no': 2, 'title': '더트릭컬', 'writer': '폴빠', 'price': '19,800'},\n",
       "  {'no': 1, 'title': '흔한남매', 'writer': '백난도', 'price': '15,120'}],\n",
       " '_i177': 'books',\n",
       " '_177': [{'no': 5, 'title': '가격이숫자', 'writer': '백난도', 'price': 30200},\n",
       "  {'no': 6, 'title': '가격이없음', 'writer': '이길동'},\n",
       "  {'no': 4, 'title': '가격잘못', 'writer': '홍길동', 'price': 'ㅁ'},\n",
       "  {'no': 3, 'title': '단 한 번의 삶', 'writer': '김영하', 'price': '15,120'},\n",
       "  {'no': 2, 'title': '더트릭컬', 'writer': '폴빠', 'price': '19,800'},\n",
       "  {'no': 1, 'title': '흔한남매', 'writer': '백난도', 'price': '15,120'}],\n",
       " '_i178': \"# no 기준으로 sort\\nbooks.sort(key=lambda book : book['no'])\\nbooks\",\n",
       " '_178': [{'no': 5, 'title': '가격이숫자', 'writer': '백난도', 'price': 30200},\n",
       "  {'no': 6, 'title': '가격이없음', 'writer': '이길동'},\n",
       "  {'no': 4, 'title': '가격잘못', 'writer': '홍길동', 'price': 'ㅁ'},\n",
       "  {'no': 3, 'title': '단 한 번의 삶', 'writer': '김영하', 'price': '15,120'},\n",
       "  {'no': 2, 'title': '더트릭컬', 'writer': '폴빠', 'price': '19,800'},\n",
       "  {'no': 1, 'title': '흔한남매', 'writer': '백난도', 'price': '15,120'}],\n",
       " '_i179': \"# title 기준으로 sort\\nbooks.sort(key=lambda book : book['title'])\\nbooks\",\n",
       " '_179': [{'no': 5, 'title': '가격이숫자', 'writer': '백난도', 'price': 30200},\n",
       "  {'no': 6, 'title': '가격이없음', 'writer': '이길동'},\n",
       "  {'no': 4, 'title': '가격잘못', 'writer': '홍길동', 'price': 'ㅁ'},\n",
       "  {'no': 3, 'title': '단 한 번의 삶', 'writer': '김영하', 'price': '15,120'},\n",
       "  {'no': 2, 'title': '더트릭컬', 'writer': '폴빠', 'price': '19,800'},\n",
       "  {'no': 1, 'title': '흔한남매', 'writer': '백난도', 'price': '15,120'}],\n",
       " '_i180': \"# price 기준으로 sort\\nbooks.sort(key=lambda book : book['price'])\\nbooks\",\n",
       " '_i181': '# price 기준으로 sort\\nbooks.sort(key=lambda book : book.get(\"price\",0))\\nbooks',\n",
       " '_i182': \"# 30200=> 30200,'12,000'=> 12000, '5000'=>5000, 'ㅁ'=> 0, None=> 0\\ndef parse_int(price):\\n    print(type(price))\\nparse_int(None)\",\n",
       " 'parse_int': <function __main__.<lambda>(book)>,\n",
       " '_i183': \"# 30200=> 30200,'12,000'=> 12000, '5000'=>5000, 'ㅁ'=> 0, None=> 0\\ndef parse_int(price):\\n    print(type(price))\\nparse_int('5000')\",\n",
       " '_i184': \"# 30200=> 30200,'12,000'=> 12000, '5000'=>5000, 'ㅁ'=> 0, None=> 0\\ndef parse_int(price):\\n    if isinstance(price, str) and price.replace(',','').isdigit():\\n        return int(price.replace(',',''))\\nparse_int('5000')\",\n",
       " '_184': 5000,\n",
       " '_i185': \"# 30200=> 30200,'12,000'=> 12000, '5000'=>5000, 'ㅁ'=> 0, None=> 0\\ndef parse_int(price):\\n    if isinstance(price, str) and price.replace(',','').isdigit():\\n        return int(price.replace(',',''))\\nparse_int('ㅁ')\",\n",
       " '_i186': \"# 30200=> 30200,'12,000'=> 12000, '5000'=>5000, 'ㅁ'=> 0, None=> 0\\ndef parse_int(price):\\n    if isinstance(price, str) and price.replace(',','').isdigit():\\n        return int(price.replace(',',''))\\nprint(parse_int('ㅁ'))\",\n",
       " '_i187': \"# 30200=> 30200,'12,000'=> 12000, '5000'=>5000, 'ㅁ'=> 0, None=> 0\\ndef parse_int(price):\\n    if isinstance(price, str) and price.replace(',','').isdigit():\\n        return int(price.replace(',',''))\\nprint(parse_int('12,000'))\",\n",
       " '_i188': \"# 30200=> 30200,'12,000'=> 12000, '5000'=>5000, 'ㅁ'=> 0, None=> 0\\ndef parse_int(price):\\n    if isinstance(price, str) and price.replace(',','').isdigit():\\n        return int(price.replace(',',''))\\n    elif isinstance(price, int):\\n        return price\\nprint(parse_int('12,000')), parse_int(30200), parse_int('ㅁ'), parse_int('None')\",\n",
       " '_188': (None, 30200, None, None),\n",
       " '_i189': \"# 30200=> 30200,'12,000'=> 12000, '5000'=>5000, 'ㅁ'=> 0, None=> 0\\ndef parse_int(price):\\n    if isinstance(price, str) and price.replace(',','').isdigit():\\n        return int(price.replace(',',''))\\n    elif isinstance(price, int):\\n        return price\\n    else:\\n        return o\\nprint(parse_int('12,000')), parse_int(30200), parse_int('ㅁ'), parse_int('None')\",\n",
       " '_i190': \"# 30200=> 30200,'12,000'=> 12000, '5000'=>5000, 'ㅁ'=> 0, None=> 0\\ndef parse_int(price):\\n    if isinstance(price, str) and price.replace(',','').isdigit():\\n        return int(price.replace(',',''))\\n    elif isinstance(price, int):\\n        return price\\n    else:\\n        return 0\\nprint(parse_int('12,000')), parse_int(30200), parse_int('ㅁ'), parse_int('None')\",\n",
       " '_190': (None, 30200, 0, 0),\n",
       " '_i191': \"# 30200=> 30200,'12,000'=> 12000, '5000'=>5000, 'ㅁ'=> 0, None=> 0\\ndef parse_int(price):\\n    if isinstance(price, str) and price.replace(',','').isdigit():\\n        return int(price.replace(',',''))\\n    elif isinstance(price, int):\\n        return price\\n    else:\\n        return 0\\nprint(parse_int('12,000')), parse_int(30200), parse_int('ㅁ'), parse_int('None'))\",\n",
       " '_i192': \"# 30200=> 30200,'12,000'=> 12000, '5000'=>5000, 'ㅁ'=> 0, None=> 0\\ndef parse_int(price):\\n    if isinstance(price, str) and price.replace(',','').isdigit():\\n        return int(price.replace(',',''))\\n    elif isinstance(price, int):\\n        return price\\n    else:\\n        return 0\\nprint(parse_int('12,000'), parse_int(30200), parse_int('ㅁ'), parse_int('None'))\",\n",
       " '_i193': \"# 30200=> 30200,'12,000'=> 12000, '5000'=>5000, 'ㅁ'=> 0, None=> 0\\ndef parse_int(price):\\n    if isinstance(price, str) and price.replace(',','').isdigit():\\n        return int(price.replace(',',''))\\n    elif isinstance(price, int):\\n        return price\\n    else:\\n        return 0\\n    \\nparse_int = lambda price :\\n            int(price.replace(',',''))\\n            if isinstance(price, str) and price.replace(',','').isdigit() else \\\\\\n            price if isinstance(price, int\\nprint(parse_int('12,000'), parse_int(30200), parse_int('ㅁ'), parse_int('None'))\",\n",
       " '_i194': \"# 30200=> 30200,'12,000'=> 12000, '5000'=>5000, 'ㅁ'=> 0, None=> 0\\ndef parse_int(price):\\n    if isinstance(price, str) and price.replace(',','').isdigit():\\n        return int(price.replace(',',''))\\n    elif isinstance(price, int):\\n        return price\\n    else:\\n        return 0\\n    \\nparse_int = lambda price :\\n            int(price.replace(',',''))\\n            if isinstance(price, str) and price.replace(',','').isdigit() else \\\\\\n            price if isinstance(price, int) else 0\\nprint(parse_int('12,000'), parse_int(30200), parse_int('ㅁ'), parse_int('None'))\",\n",
       " '_i195': \"# 30200=> 30200,'12,000'=> 12000, '5000'=>5000, 'ㅁ'=> 0, None=> 0\\ndef parse_int(price):\\n    if isinstance(price, str) and price.replace(',','').isdigit():\\n        return int(price.replace(',',''))\\n    elif isinstance(price, int):\\n        return price\\n    else:\\n        return 0\\n    \\nparse_int = lambda price : \\\\\\n            int(price.replace(',','')) \\\\\\n            if isinstance(price, str) and price.replace(',','').isdigit() else \\\\\\n            price if isinstance(price, int) else 0\\nprint(parse_int('12,000'), parse_int(30200), parse_int('ㅁ'), parse_int('None'))\",\n",
       " '_i196': \"# {'no':5,'title': '가격이 숫자', 'writer': '백난도', 'price': '12,000'} => 120000\\nparse_int = lambda price : \\\\\\n            int(book.get('price').replace(',','')) \\\\\\n                if isinstance(book.get('price'), str) and \\\\\\n                    book.get('price').replace(',','').isdigit() else \\\\\\n            price if isinstance(book.get('price'), int) else \\\\\\n            0\\n\\nparse_int(no':5,'title': '가격이 숫자', 'writer': '백난도', 'price': 'ㅁ')\",\n",
       " '_i197': \"# {'no':5,'title': '가격이 숫자', 'writer': '백난도', 'price': '12,000'} => 120000\\nparse_int = lambda price : \\\\\\n            int(book.get('price').replace(',','')) \\\\\\n                if isinstance(book.get('price'), str) and \\\\\\n                    book.get('price').replace(',','').isdigit() else \\\\\\n            book.get('price') if isinstance(book.get('price'), int) else \\\\\\n            0\\n\\nparse_int(no':5,'title': '가격이 숫자', 'writer': '백난도', 'price': 'ㅁ')\",\n",
       " '_i198': \"# {'no':5,'title': '가격이 숫자', 'writer': '백난도', 'price': '12,000'} => 120000\\nparse_int = lambda price : \\\\\\n            int(book.get('price').replace(',','')) \\\\\\n                if isinstance(book.get('price'), str) and \\\\\\n                    book.get('price').replace(',','').isdigit() else \\\\\\n            book.get('price') if isinstance(book.get('price'), int) else \\\\\\n            0\\n\\nparse_int({'no': 5, 'title': '가격이숫자', 'writer': '백난도', 'price': 'ㅁ'})\",\n",
       " '_i199': \"# {'no':5,'title': '가격이 숫자', 'writer': '백난도', 'price': '12,000'} => 120000\\nparse_int = lambda price : \\\\\\n            int(book.get('price').replace(',','')) \\\\\\n                if isinstance(book.get('price'), str) and \\\\\\n                    book.get('price').replace(',','').isdigit() else \\\\\\n            book.get('price') if isinstance(book.get('price'), int) else \\\\\\n            0\\n\\nparse_int({'no': 5, 'title': '가격이숫자', 'writer': '백난도', 'price': '12,000'})\",\n",
       " '_i200': \"# {'no':5,'title': '가격이 숫자', 'writer': '백난도', 'price': '12,000'} => 120000\\npparse_int = lambda book : \\\\\\n            int(book.get('price').replace(',','')) \\\\\\n                    if isinstance(book.get('price'), str) and \\\\\\n                                book.get('price').replace(',','').isdigit() else \\\\\\n            price if isinstance(book.get('price'), int) else \\\\\\n            0\\n\\nparse_int({'no': 5, 'title': '가격이숫자', 'writer': '백난도', 'price': '12,000'})\",\n",
       " 'pparse_int': <function __main__.<lambda>(book)>,\n",
       " '_i201': \"# 30200=> 30200,'12,000'=> 12000, '5000'=>5000, 'ㅁ'=> 0, None=> 0\\ndef parse_int(price):\\n    if isinstance(price, str) and price.replace(',','').isdigit():\\n        return int(price.replace(',',''))\\n    elif isinstance(price, int):\\n        return price\\n    else:\\n        return 0\\n    \\nparse_int = lambda price : \\\\\\n            int(price.replace(',','')) \\\\\\n            if isinstance(price, str) and price.replace(',','').isdigit() else \\\\\\n            price if isinstance(price, int) else \\\\\\n            0\\nprint(parse_int('12,000'), parse_int(30200), parse_int('ㅁ'), parse_int('None'))\",\n",
       " '_i202': \"# {'no':5,'title': '가격이 숫자', 'writer': '백난도', 'price': '12,000'} => 120000\\npparse_int = lambda book : \\\\\\n            int(book.get('price').replace(',','')) \\\\\\n                    if isinstance(book.get('price'), str) and \\\\\\n                                book.get('price').replace(',','').isdigit() else \\\\\\n            price if isinstance(book.get('price'), int) else \\\\\\n            0\\n\\nparse_int({'no': 5, 'title': '가격이숫자', 'writer': '백난도', 'price': '12,000'})\",\n",
       " '_202': 0,\n",
       " '_i203': \"# {'no':5,'title': '가격이 숫자', 'writer': '백난도', 'price': '12,000'} => 120000\\npparse_int = lambda book : \\\\\\n            int(book.get('price').replace(',','')) \\\\\\n                    if isinstance(book.get('price'), str) and \\\\\\n                                book.get('price').replace(',','').isdigit() else \\\\\\n            book.get('price') if isinstance(book.get('price'), int) else \\\\\\n            0\\n\\nparse_int({'no': 5, 'title': '가격이숫자', 'writer': '백난도', 'price': '12,000'})\",\n",
       " '_203': 0,\n",
       " '_i204': \"# {'no':5,'title': '가격이 숫자', 'writer': '백난도', 'price': '12,000'} => 120000\\npparse_int = lambda book : \\\\\\n            int(book.get('price').replace(',','')) \\\\\\n                    if isinstance(book.get('price'), str) and \\\\\\n                                book.get('price').replace(',','').isdigit() else \\\\\\n            book.get('price') if isinstance(book.get('price'), int) else \\\\\\n            0\\n\\nparse_int({'no': 5, 'title': '가격이숫자', 'writer': '백난도', 'price': '12,000'})\",\n",
       " '_204': 0,\n",
       " '_i205': \"# {'no':5,'title': '가격이 숫자', 'writer': '백난도', 'price': '12,000'} => 120000\\npparse_int = lambda book : \\\\\\n            int(book.get('price').replace(',','')) \\\\\\n                    if isinstance(book.get('price'), str) and \\\\\\n                                book.get('price').replace(',','').isdigit() else \\\\\\n            book.get('price') if isinstance(book.get('price'), int) else \\\\\\n            0\\n\\nparse_int({'no': 5, 'title': '가격이숫자', 'writer': '백난도', 'price': 'ㅁ'})\",\n",
       " '_205': 0,\n",
       " '_i206': \"# {'no':5,'title': '가격이 숫자', 'writer': '백난도', 'price': '12,000'} => 120000\\nparse_int = lambda book : \\\\\\n            int(book.get('price').replace(',','')) \\\\\\n                    if isinstance(book.get('price'), str) and \\\\\\n                                book.get('price').replace(',','').isdigit() else \\\\\\n            book.get('price') if isinstance(book.get('price'), int) else \\\\\\n            0\\n\\nparse_int({'no': 5, 'title': '가격이숫자', 'writer': '백난도', 'price': 'ㅁ'})\",\n",
       " '_206': 0,\n",
       " '_i207': \"copybooks = books.copy()\\ncopybooks.sort(key=lambda book : \\\\\\n            int(book.get('price').replace(',','')) \\\\\\n                    if isinstance(book.get('price'), str) and \\\\\\n                                book.get('price').replace(',','').isdigit() else \\\\\\n            book.get('price') if isinstance(book.get('price'), int) else \\\\\\n            0,\\n              reverse=True)\\ncopybooks\",\n",
       " 'copybooks': [{'no': 5, 'title': '가격이숫자', 'writer': '백난도', 'price': 30200},\n",
       "  {'no': 2, 'title': '더트릭컬', 'writer': '폴빠', 'price': '19,800'},\n",
       "  {'no': 3, 'title': '단 한 번의 삶', 'writer': '김영하', 'price': '15,120'},\n",
       "  {'no': 1, 'title': '흔한남매', 'writer': '백난도', 'price': '15,120'},\n",
       "  {'no': 6, 'title': '가격이없음', 'writer': '이길동'},\n",
       "  {'no': 4, 'title': '가격잘못', 'writer': '홍길동', 'price': 'ㅁ'}],\n",
       " '_207': [{'no': 5, 'title': '가격이숫자', 'writer': '백난도', 'price': 30200},\n",
       "  {'no': 2, 'title': '더트릭컬', 'writer': '폴빠', 'price': '19,800'},\n",
       "  {'no': 3, 'title': '단 한 번의 삶', 'writer': '김영하', 'price': '15,120'},\n",
       "  {'no': 1, 'title': '흔한남매', 'writer': '백난도', 'price': '15,120'},\n",
       "  {'no': 6, 'title': '가격이없음', 'writer': '이길동'},\n",
       "  {'no': 4, 'title': '가격잘못', 'writer': '홍길동', 'price': 'ㅁ'}],\n",
       " '_i208': 'globals()',\n",
       " '_208': {...},\n",
       " '_i209': 'a=10',\n",
       " 'a': 10,\n",
       " '_i210': 'globals() # 전역ㅂ녀수 리스트'}"
      ]
     },
     "execution_count": 210,
     "metadata": {},
     "output_type": "execute_result"
    }
   ],
   "source": [
    "globals() # 전역ㅂ녀수 리스트"
   ]
  },
  {
   "cell_type": "code",
   "execution_count": 211,
   "id": "372eb9c9",
   "metadata": {},
   "outputs": [
    {
     "data": {
      "text/plain": [
       "False"
      ]
     },
     "execution_count": 211,
     "metadata": {},
     "output_type": "execute_result"
    }
   ],
   "source": [
    "all([True, True, True, False]) # 모든 요소가 다 True인지 여부"
   ]
  },
  {
   "cell_type": "code",
   "execution_count": null,
   "id": "2e645615",
   "metadata": {},
   "outputs": [],
   "source": [
    "# 6절 연습문제"
   ]
  },
  {
   "cell_type": "markdown",
   "id": "dbc21f91",
   "metadata": {},
   "source": [
    "## 실습형"
   ]
  },
  {
   "cell_type": "code",
   "execution_count": 20,
   "id": "6f5b0886",
   "metadata": {},
   "outputs": [
    {
     "data": {
      "text/plain": [
       "(10, 1)"
      ]
     },
     "execution_count": 20,
     "metadata": {},
     "output_type": "execute_result"
    }
   ],
   "source": [
    "# 실습형 1:\n",
    "def get_max_min(data_list):\n",
    "    max_value = max(data_list)\n",
    "    min_value = min(data_list)\n",
    "    return (max_value, min_value)\n",
    "data_list =[1, 2, 4, 8, 10]\n",
    "get_max_min(data_list)"
   ]
  },
  {
   "cell_type": "code",
   "execution_count": 12,
   "id": "3d85d4c1",
   "metadata": {},
   "outputs": [
    {
     "name": "stdout",
     "output_type": "stream",
     "text": [
      "Enter your weight : 100\n",
      "Enter your height : 1.72\n",
      "getBMI(kg, m): 100 , 1.72\n",
      "입력하신 BMI지수 33는 고도비만\n"
     ]
    }
   ],
   "source": [
    "# 실습형2:\n",
    "weight = int(input('Enter your weight : ')) \n",
    "height = float(input('Enter your height : ') )\n",
    "print(\"getBMI(kg, m):\", weight,\",\",height)\n",
    "BMI= int(weight/(height**2))\n",
    "if BMI<18.5:\n",
    "    grade = '마른체형'\n",
    "elif 18.5<=BMI<=25:\n",
    "    grade = '표준'\n",
    "elif 25<=BMI<=30:\n",
    "    grade = '비만'\n",
    "elif 30<BMI:\n",
    "    grade = '고도비만'\n",
    "print(f\"입력하신 BMI지수 {BMI}는 {grade}\")"
   ]
  },
  {
   "cell_type": "code",
   "execution_count": 213,
   "id": "664488ba",
   "metadata": {},
   "outputs": [
    {
     "data": {
      "text/plain": [
       "{'넓이': 6.0, '둘레': 12.0}"
      ]
     },
     "execution_count": 213,
     "metadata": {},
     "output_type": "execute_result"
    }
   ],
   "source": [
    "# 실습형 3: 직각삼각형 w, h로 area, perimeter(넓이, 둘레)\n",
    "import math\n",
    "def get_trianle(w, h):\n",
    "    area = w * h * 0.5\n",
    "    # math.sqrt() : 제곱근\n",
    "    perimeter = w + h + math.sqrt(w*w + h*h)\n",
    "    # return area, perimeter\n",
    "    return {'넓이':area, '둘레':perimeter}\n",
    "get_trianle(3, 4)"
   ]
  },
  {
   "cell_type": "code",
   "execution_count": 26,
   "id": "64c68319",
   "metadata": {},
   "outputs": [
    {
     "name": "stdout",
     "output_type": "stream",
     "text": [
      "55\n"
     ]
    }
   ],
   "source": [
    "# 실습형 4\n",
    "def mysum(fRom,end):\n",
    "    sum=0\n",
    "    for i in range(fRom,end+1):\n",
    "        sum += i\n",
    "    print(sum)\n",
    "mysum(1,10)"
   ]
  },
  {
   "cell_type": "code",
   "execution_count": 48,
   "id": "4b2568ea",
   "metadata": {},
   "outputs": [
    {
     "name": "stdout",
     "output_type": "stream",
     "text": [
      "['seo', 'dae', 'kwa', 'jej']\n"
     ]
    }
   ],
   "source": [
    "#실습형 5\n",
    "def get_abbrs(lst):\n",
    "    lst2=[]\n",
    "    for city in lst:\n",
    "        lst2.append(city[:3])\n",
    "    print(lst2)\n",
    "   \n",
    "lst=['seoul','daegu','kwaqngju','jeju']\n",
    "get_abbrs(lst)"
   ]
  },
  {
   "cell_type": "code",
   "execution_count": null,
   "id": "497f7fae",
   "metadata": {},
   "outputs": [],
   "source": [
    "# 실습형 6\n",
    "lambda x,y = x ** y"
   ]
  },
  {
   "cell_type": "code",
   "execution_count": 58,
   "id": "1750a235",
   "metadata": {},
   "outputs": [
    {
     "data": {
      "text/plain": [
       "[1, 4, 9, 16, 25]"
      ]
     },
     "execution_count": 58,
     "metadata": {},
     "output_type": "execute_result"
    }
   ],
   "source": [
    "# 실습형 7 ex=[1,2,3,4,5]\n",
    "list=[1,2,3,4,5]\n",
    "def map_template(func, list):\n",
    "    result = []\n",
    "    for num in list:\n",
    "        result.append(func(num))\n",
    "    return result\n",
    "x_2 = lambda x : x**2\n",
    "map_template(x_2, list)\n",
    "\n",
    "[num**2 for num in list]   "
   ]
  },
  {
   "cell_type": "code",
   "execution_count": null,
   "id": "f574e440",
   "metadata": {},
   "outputs": [],
   "source": [
    "#실습형 8\n",
    "(*)은 언패킹"
   ]
  },
  {
   "cell_type": "code",
   "execution_count": null,
   "id": "bf325116",
   "metadata": {},
   "outputs": [],
   "source": [
    "# 실습형 9\n",
    "2024-9-6"
   ]
  },
  {
   "cell_type": "code",
   "execution_count": null,
   "id": "ac2ccbe3",
   "metadata": {},
   "outputs": [],
   "source": [
    "# 실습형 10\n"
   ]
  },
  {
   "cell_type": "code",
   "execution_count": null,
   "id": "9f6b789d",
   "metadata": {},
   "outputs": [],
   "source": [
    "# 실습형 11\n"
   ]
  },
  {
   "cell_type": "markdown",
   "id": "cc232939",
   "metadata": {},
   "source": [
    "## 서술형"
   ]
  },
  {
   "cell_type": "code",
   "execution_count": null,
   "id": "d5586962",
   "metadata": {},
   "outputs": [],
   "source": [
    "# 서술형 1\n",
    "2"
   ]
  },
  {
   "cell_type": "code",
   "execution_count": null,
   "id": "15091de3",
   "metadata": {},
   "outputs": [],
   "source": [
    "# 서술형 2"
   ]
  },
  {
   "cell_type": "code",
   "execution_count": null,
   "id": "1e39ed3a",
   "metadata": {},
   "outputs": [],
   "source": [
    "# 서술형 3\n",
    "200"
   ]
  },
  {
   "cell_type": "code",
   "execution_count": null,
   "id": "bda31813",
   "metadata": {},
   "outputs": [],
   "source": [
    "# 서술형 4"
   ]
  },
  {
   "cell_type": "code",
   "execution_count": null,
   "id": "5ac0ff5a",
   "metadata": {},
   "outputs": [],
   "source": [
    "# 서술형 5\n",
    "9"
   ]
  },
  {
   "cell_type": "code",
   "execution_count": null,
   "id": "e0f8da6b",
   "metadata": {},
   "outputs": [],
   "source": [
    "# 서술형 6\n",
    "1"
   ]
  },
  {
   "cell_type": "code",
   "execution_count": null,
   "id": "1bd3a1ef",
   "metadata": {},
   "outputs": [],
   "source": [
    "# 서술형 7\n",
    "4"
   ]
  },
  {
   "cell_type": "code",
   "execution_count": null,
   "id": "0fe2bfdd",
   "metadata": {},
   "outputs": [],
   "source": [
    "# 서술형 8\n",
    "- lambda\n"
   ]
  },
  {
   "cell_type": "code",
   "execution_count": null,
   "id": "79231f45",
   "metadata": {},
   "outputs": [],
   "source": []
  }
 ],
 "metadata": {
  "kernelspec": {
   "display_name": "Python 3 (ipykernel)",
   "language": "python",
   "name": "python3"
  },
  "language_info": {
   "codemirror_mode": {
    "name": "ipython",
    "version": 3
   },
   "file_extension": ".py",
   "mimetype": "text/x-python",
   "name": "python",
   "nbconvert_exporter": "python",
   "pygments_lexer": "ipython3",
   "version": "3.10.9"
  },
  "toc": {
   "base_numbering": 1,
   "nav_menu": {},
   "number_sections": false,
   "sideBar": true,
   "skip_h1_title": false,
   "title_cell": "Table of Contents",
   "title_sidebar": "Contents",
   "toc_cell": false,
   "toc_position": {},
   "toc_section_display": true,
   "toc_window_display": true
  }
 },
 "nbformat": 4,
 "nbformat_minor": 5
}
