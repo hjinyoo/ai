{
 "cells": [
  {
   "cell_type": "code",
   "execution_count": null,
   "id": "678882b2",
   "metadata": {},
   "outputs": [],
   "source": [
    "from IPython.display import display, HTML\n",
    "display(HTML(\"\"\"\n",
    "<style>\n",
    "div.container{width:90% !important;}\n",
    "div.cell.code_cell.rendered{width:100%;}\n",
    "div.input_prompt{padding:0px;}\n",
    "div.CodeMirror {font-family:Consolas; font-size:12pt;}\n",
    "div.text_cell_render.rendered_html{font-size:12pt;}\n",
    "div.output {font-size:12pt; font-weight:bold;}\n",
    "div.input {font-family:Consolas; font-size:12pt;}\n",
    "div.prompt {min-width:70px;}\n",
    "div#toc-wrapper{padding-top:120px;}\n",
    "div.text_cell_render ul li{font-size:12pt;padding:5px;}\n",
    "table.dataframe{font-size:12px;}\n",
    "</style>\n",
    "\"\"\"))"
   ]
  },
  {
   "cell_type": "markdown",
   "id": "aef5bfba",
   "metadata": {},
   "source": [
    "<b><font size=\"6\" color=\"red\">ch.1. 파이썬 개요 및 환경설정</font></b>\n",
    "\n",
    "# 1. 마크다운이란?\n",
    "- 코드와 함께 문서화를 할 수 있음\n",
    "- 다양한 문서화 문법 ex. README.md\n",
    "\n",
    "# 2. 주피터 노트북 사용법\n",
    "- shift+enter : 포코스된 셀이 실행되고, 커서가 다음셀로 이동\n",
    "- alt+enter :포커스된 셀이 실행되고, 다음 셀이 생성된 후, 다음 셀로 이동\n",
    "- ctrl+enter : 포커스된 셀이 실행되고, 포커스 이동이 없음\n",
    "- enter : 다시 편집 상태로 돌아감"
   ]
  },
  {
   "cell_type": "code",
   "execution_count": null,
   "id": "289fdfb2",
   "metadata": {},
   "outputs": [],
   "source": [
    "# 셀 하나하나에 파이썬 소스 입력 -> 실행"
   ]
  },
  {
   "cell_type": "code",
   "execution_count": null,
   "id": "62f8b9b8",
   "metadata": {},
   "outputs": [],
   "source": [
    "# print()함수를 이용해서 출력 (블럭 잡고 ctrl+/ : 블럭 주석 토글)\n",
    "# print('hello,python')\n",
    "# print('홍길동')\n",
    "print(\"hello, python\\n홍길동\")"
   ]
  },
  {
   "cell_type": "code",
   "execution_count": null,
   "id": "25cf8336",
   "metadata": {},
   "outputs": [],
   "source": [
    "age = 25\n",
    "duration = '2' # 문자\n",
    "print(age + int(duration))\n",
    "print(str(age) + duration)\n",
    "# view 메뉴 -> toggle line number 선택"
   ]
  },
  {
   "cell_type": "code",
   "execution_count": null,
   "id": "3058546a",
   "metadata": {},
   "outputs": [],
   "source": [
    "# for i in range(10):\n",
    "#     print(i)\n",
    "# stop 기능\n",
    "# kernel 메뉴의 restart"
   ]
  },
  {
   "cell_type": "code",
   "execution_count": null,
   "id": "5619ab6c",
   "metadata": {},
   "outputs": [],
   "source": [
    "print = 5\n",
    "print"
   ]
  },
  {
   "cell_type": "code",
   "execution_count": null,
   "id": "12710def",
   "metadata": {},
   "outputs": [],
   "source": [
    "print('')"
   ]
  },
  {
   "cell_type": "code",
   "execution_count": null,
   "id": "8dc2c876",
   "metadata": {},
   "outputs": [],
   "source": [
    "# 실수로 함수에 할당된 print 변수를 삭제\n",
    "del print\n",
    "# 실수로 할당된 "
   ]
  },
  {
   "cell_type": "code",
   "execution_count": 1,
   "id": "017a5611",
   "metadata": {},
   "outputs": [
    {
     "name": "stdout",
     "output_type": "stream",
     "text": [
      "hello\n"
     ]
    }
   ],
   "source": [
    "print('hello')"
   ]
  },
  {
   "cell_type": "markdown",
   "id": "16a2f75f",
   "metadata": {},
   "source": [
    "# 3. esc키 누르고\n",
    "- dd : 셀 삭제\n",
    "- a : 윗셀 추가\n",
    "- b : 아랫셀 추가\n",
    "- m : 마크 다운\n",
    "- y : 코드셀로 변경\n",
    "- h : 핫키(단축키 안내)\n",
    "- o : 해당셀의 실행 결과 접기/펴기"
   ]
  },
  {
   "cell_type": "code",
   "execution_count": null,
   "id": "1ee2a1b2",
   "metadata": {},
   "outputs": [],
   "source": [
    "# 주피터 노트북에서 cmd 명령어 수핼\n",
    "!dir"
   ]
  },
  {
   "cell_type": "code",
   "execution_count": null,
   "id": "098cc099",
   "metadata": {},
   "outputs": [],
   "source": [
    "# 매직 명령어(주피터 노트북 자체 명령어)\n",
    "%ls"
   ]
  },
  {
   "cell_type": "code",
   "execution_count": null,
   "id": "66ed29c2",
   "metadata": {},
   "outputs": [],
   "source": []
  }
 ],
 "metadata": {
  "kernelspec": {
   "display_name": "Python 3 (ipykernel)",
   "language": "python",
   "name": "python3"
  },
  "language_info": {
   "codemirror_mode": {
    "name": "ipython",
    "version": 3
   },
   "file_extension": ".py",
   "mimetype": "text/x-python",
   "name": "python",
   "nbconvert_exporter": "python",
   "pygments_lexer": "ipython3",
   "version": "3.10.9"
  },
  "toc": {
   "base_numbering": 1,
   "nav_menu": {},
   "number_sections": false,
   "sideBar": true,
   "skip_h1_title": false,
   "title_cell": "Table of Contents",
   "title_sidebar": "Contents",
   "toc_cell": false,
   "toc_position": {},
   "toc_section_display": true,
   "toc_window_display": true
  }
 },
 "nbformat": 4,
 "nbformat_minor": 5
}
