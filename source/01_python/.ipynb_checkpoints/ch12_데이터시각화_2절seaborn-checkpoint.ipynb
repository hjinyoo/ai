{
 "cells": [
  {
   "cell_type": "code",
   "execution_count": 1,
   "id": "f443df2d",
   "metadata": {},
   "outputs": [
    {
     "data": {
      "text/html": [
       "\n",
       "<style>\n",
       "div.container{width:99% !important;}\n",
       "div.cell.code_cell.rendered{width:100%;}\n",
       "div.input_prompt{padding:0px;}\n",
       "div.CodeMirror {font-family:Consolas; font-size:22pt;}\n",
       "div.text_cell_render.rendered_html{font-size:18pt;}\n",
       "div.output {font-size:22pt; font-weight:bold;}\n",
       "div.input {font-family:Consolas; font-size:22pt;}\n",
       "div.prompt {min-width:70px;}\n",
       "div#toc-wrapper{padding-top:120px;}\n",
       "div.text_cell_render ul li{font-size:22pt;padding:5px;}\n",
       "table.dataframe{font-size:22px;}\n",
       "</style>\n"
      ],
      "text/plain": [
       "<IPython.core.display.HTML object>"
      ]
     },
     "metadata": {},
     "output_type": "display_data"
    }
   ],
   "source": [
    "from IPython.display import display, HTML\n",
    "display(HTML(\"\"\"\n",
    "<style>\n",
    "div.container{width:99% !important;}\n",
    "div.cell.code_cell.rendered{width:100%;}\n",
    "div.input_prompt{padding:0px;}\n",
    "div.CodeMirror {font-family:Consolas; font-size:22pt;}\n",
    "div.text_cell_render.rendered_html{font-size:18pt;}\n",
    "div.output {font-size:22pt; font-weight:bold;}\n",
    "div.input {font-family:Consolas; font-size:22pt;}\n",
    "div.prompt {min-width:70px;}\n",
    "div#toc-wrapper{padding-top:120px;}\n",
    "div.text_cell_render ul li{font-size:22pt;padding:5px;}\n",
    "table.dataframe{font-size:22px;}\n",
    "</style>\n",
    "\"\"\"))"
   ]
  },
  {
   "cell_type": "markdown",
   "id": "7dc6b7c0",
   "metadata": {},
   "source": [
    "<b><font size=\"6\" color=\"red\">ch12. 데이터 시각화</font></b>"
   ]
  },
  {
   "cell_type": "code",
   "execution_count": null,
   "id": "56f9e137",
   "metadata": {},
   "outputs": [],
   "source": [
    "# 패키지 import\n",
    "import matplotlib.pyplot as plt\n",
    "import seaborn as sns\n",
    "# 그래프 저장시 해상도 높게\n",
    "%config InlineBackend.figure_format = 'retina'\n",
    "# 한글설정(windows mac)\n",
    "plt.rc('font', family='Malgun Gothic') # 윈도우즈\n",
    "# plt.rc('font', family='AppleGothic') # mac\n",
    "plt.rc('axes', unicode_minus=False) # 축의 - 깨짐 방지\n",
    "# warning 안보이게\n",
    "import warnings\n",
    "warnings.filterwarnings(action='ignore') # warning 안 보이게"
   ]
  },
  {
   "cell_type": "markdown",
   "id": "b52be9fe",
   "metadata": {},
   "source": [
    "# 2절 seaborn\n",
    "- matplotlib을 기반으로 만든 고수준 그래픽 라이브러리\n",
    "    * 공식 사이트 : https://seaborn.pydata.org/\n",
    "    * 그래프 API : https://seaborn.pydata.org/api.html\n",
    "- Seaborn으로 그래프 그리기 위한 단계\n",
    "    1. 데이터 준비\n",
    "    2. 미적속성 설정\n",
    "    3. 함수를 이용해서 그래프 그리기(관계형=수치형, 범주형, 쌍관계, 밀도, 회귀, 다중그래프)\n",
    "    4. 그래프 출력(show), 저장(savefig)\n",
    "## 2.1 데이터 준비하기\n",
    "- iris, titanic"
   ]
  },
  {
   "cell_type": "code",
   "execution_count": null,
   "id": "b97ae27d",
   "metadata": {},
   "outputs": [],
   "source": [
    "iris = sns.load_dataset('iris')\n",
    "iris.shape"
   ]
  },
  {
   "cell_type": "code",
   "execution_count": null,
   "id": "4704ca9e",
   "metadata": {},
   "outputs": [],
   "source": [
    "iris.info() # dtype, 전체행수, 결측치를제외한데이터수, 메모리사용량"
   ]
  },
  {
   "cell_type": "code",
   "execution_count": null,
   "id": "d5ec79c2",
   "metadata": {},
   "outputs": [],
   "source": [
    "titanic = sns.load_dataset('titanic')\n",
    "titanic.head()\n",
    "# pclass : 티켓class\n",
    "# sibsp: 통승한 형제나 배우자 / parch:동승한부모/자식수/embarked:탑승지\n",
    "# deck : 데크"
   ]
  },
  {
   "cell_type": "code",
   "execution_count": null,
   "id": "225982d9",
   "metadata": {},
   "outputs": [],
   "source": [
    "titanic.info()"
   ]
  },
  {
   "cell_type": "markdown",
   "id": "579bd72e",
   "metadata": {},
   "source": [
    "## 2.2 미적 속성 설정하기(style, context, palette, figsize,...)\n",
    "### 1) 그래프 스타일 지정\n",
    "- white, whitegrid, darkgrid, dark, ticks\n",
    "### 2) 컨텍스트 지정(배율)\n",
    "- notebook(기본값 1.0), paper(0.8), talk(1.3), poster(1.8)\n",
    "### 3) 컬러팔레트\n",
    "- https://matplotlib.org/stable/tutorials/colors/colormaps.html (colormap) 21, 54page\n",
    "- https://seaborn.pydata.org/generated/seaborn.color_palette.html#seaborn.color_palette\n",
    "- https://seaborn.pydata.org/tutorial/color_palettes.html\n",
    "\n",
    "https://stackoverflow.com/questions/30490740/move-legend-outside-figure-in-seaborn-tsplot : 범례사용"
   ]
  },
  {
   "cell_type": "code",
   "execution_count": null,
   "id": "4b5eba70",
   "metadata": {},
   "outputs": [],
   "source": [
    "# 기본 미적 속성 설정\n",
    "sns.set(style='darkgrid', \n",
    "        context='notebook',\n",
    "        palette='Set2',\n",
    "        rc={'figure.figsize':(10,3)})\n",
    "plt.rc('font', family='Malgun Gothic') # 윈도우즈\n",
    "plt.rc('axes', unicode_minus=False) # 축의 - 깨짐 방지\n",
    "\n",
    "ax = sns.scatterplot(data=iris, x='petal_length', y='petal_width', hue='species',\n",
    "               palette='hsv')\n",
    "sns.move_legend(ax, \"upper left\", bbox_to_anchor=(1, 1))\n",
    "ax.set(title='상관관계가 높은 두 변수',\n",
    "      ylabel='꽃잎너비')\n",
    "ax.set_xlabel('꽃잎 길이', fontsize=20)\n",
    "ax.set_xticks([1, 3, 5, 7])\n",
    "plt.show()"
   ]
  },
  {
   "cell_type": "code",
   "execution_count": null,
   "id": "6725c577",
   "metadata": {},
   "outputs": [],
   "source": [
    "# 기본 미적 속성 설정\n",
    "sns.set(style='darkgrid', \n",
    "        context='notebook',\n",
    "        palette='Set2',\n",
    "        rc={'figure.figsize':(10,3)}) \n",
    "plt.rc('font', family='Malgun Gothic') # 윈도우즈\n",
    "plt.rc('axes', unicode_minus=False) # 축의 - 깨짐 방지"
   ]
  },
  {
   "cell_type": "markdown",
   "id": "3037821e",
   "metadata": {},
   "source": [
    "## 2.3 seaborn 함수로 그래프 그리기\n",
    "### 1) 관계형 그래프\n",
    "- scatterplot, lineplot, relplot(서브플롯제공) : x가 수치형"
   ]
  },
  {
   "cell_type": "code",
   "execution_count": null,
   "id": "b297ff43",
   "metadata": {},
   "outputs": [],
   "source": [
    "# 종별 다른색상과 다른 스타일로 scatter\n",
    "sns.scatterplot(data=iris, x='petal_length', y='petal_width', hue='species',\n",
    "               style='species', palette='Set1')\n",
    "plt.show()"
   ]
  },
  {
   "cell_type": "code",
   "execution_count": null,
   "id": "2804bdd7",
   "metadata": {},
   "outputs": [],
   "source": [
    "# 종별 다른색상과 다른 스타일로 lineplot\n",
    "sns.lineplot(data=iris, x='petal_length', y='petal_width', hue='species',\n",
    "               style='species', palette='Set1')\n",
    "plt.show()"
   ]
  },
  {
   "cell_type": "code",
   "execution_count": null,
   "id": "cf543120",
   "metadata": {},
   "outputs": [],
   "source": [
    "# 종별 lineplot을 서브플롯으로\n",
    "sns.relplot(data=iris, x='petal_length', y='petal_width', hue='species',\n",
    "           kind='line', # 서브플롯으로 그려질 그래프 종류(기본값:scatter)\n",
    "           col='species', # col단위로 서브플롯 표현\n",
    "           #col_wrap=2,    # 한줄에 표현될 서브플롯 수 \n",
    "           #facet_kws={'sharey':False} # 축공유\n",
    "           )\n",
    "plt.show()"
   ]
  },
  {
   "cell_type": "code",
   "execution_count": null,
   "id": "35fcafae",
   "metadata": {},
   "outputs": [],
   "source": [
    "# 종별 scatterplot을 서브플롯으로\n",
    "g = sns.relplot(data=iris, x='petal_length', y='petal_width', hue='species',\n",
    "           kind='scatter', # 서브플롯으로 그려질 그래프 종류(기본값:scatter)\n",
    "           col='species', # col단위로 서브플롯 표현\n",
    "           #col_wrap=2,    # 한줄에 표현될 서브플롯 수 \n",
    "           #facet_kws={'sharey':False} # 축공유\n",
    "           )\n",
    "# 크기 조정\n",
    "g.fig.set_size_inches(10,3)\n",
    "plt.show()"
   ]
  },
  {
   "cell_type": "code",
   "execution_count": null,
   "id": "0559f3c1",
   "metadata": {},
   "outputs": [],
   "source": [
    "# ax[0]에는 scatter, ax[1]에는 line\n",
    "fig, ax = plt.subplots(ncols=2)\n",
    "sns.scatterplot(data=iris, x='petal_length', y='petal_width', hue='species', ax=ax[0])\n",
    "sns.lineplot(data=iris, x='petal_length', y='petal_width', hue='species', ax=ax[1])\n",
    "plt.show()"
   ]
  },
  {
   "cell_type": "markdown",
   "id": "2264a372",
   "metadata": {},
   "source": [
    "### 2) 범주형 그래프\n",
    "- stripplot(무작위로 흩뿌림), swarmplot(겹치지않음) - 점도표\n",
    "- barplot, pointplot(막대대신 marker가 있는 선)\n",
    "- countplot(bar는 y의 평균값이높이, count는 x의 빈도수 높이)\n",
    "- boxplot, violinplot, boxenplot => catplot(서브플롯)"
   ]
  },
  {
   "cell_type": "code",
   "execution_count": null,
   "id": "9c23b26b",
   "metadata": {},
   "outputs": [],
   "source": [
    "# x축이 범주형일때의 산점도\n",
    "sns.stripplot(data=iris, x='species', y='petal_width', hue='species', palette='Set1')\n",
    "plt.show()"
   ]
  },
  {
   "cell_type": "code",
   "execution_count": null,
   "id": "51aec746",
   "metadata": {},
   "outputs": [],
   "source": [
    "# x축이 범주형일때의 산점도(중첩되지 않게)\n",
    "sns.swarmplot(data=iris, x='species', y='petal_width', hue='species', palette='Set1')\n",
    "plt.show()"
   ]
  },
  {
   "cell_type": "code",
   "execution_count": null,
   "id": "ecb3fac9",
   "metadata": {},
   "outputs": [],
   "source": [
    "# 내림차순으로 정렬된 iris 범주형 산점도\n",
    "sns.swarmplot(data=iris.sort_values('petal_width', ascending=False),\n",
    "             x='species', y='petal_width', hue='species', palette='Set1')\n",
    "plt.show()"
   ]
  },
  {
   "cell_type": "code",
   "execution_count": null,
   "id": "50463574",
   "metadata": {},
   "outputs": [],
   "source": [
    "# x축의 순서를 임의로 정할 수 있음\n",
    "sns.swarmplot(data=iris,\n",
    "             x='species', y='petal_width', hue='species', palette='Set1',\n",
    "             order=['versicolor','setosa','virginica'])\n",
    "plt.show()"
   ]
  },
  {
   "cell_type": "code",
   "execution_count": null,
   "id": "2038f352",
   "metadata": {},
   "outputs": [],
   "source": [
    "# barplot : 각 범주별 평균값과 그에 대한 신뢰구간(신뢰구간제외:errorbar=None)\n",
    "sns.barplot(data=iris, x='species', y='sepal_width',\n",
    "           errorbar=None)\n",
    "sns.lineplot(data=iris, x='species', y='sepal_width', color='k')\n",
    "plt.show()"
   ]
  },
  {
   "cell_type": "code",
   "execution_count": null,
   "id": "2137cb09",
   "metadata": {},
   "outputs": [],
   "source": [
    "sns.pointplot(data=iris, x='species', y='sepal_width')\n",
    "plt.show()"
   ]
  },
  {
   "cell_type": "code",
   "execution_count": null,
   "id": "8a930a2c",
   "metadata": {},
   "outputs": [],
   "source": [
    "titanic.head()"
   ]
  },
  {
   "cell_type": "code",
   "execution_count": null,
   "id": "8e72548a",
   "metadata": {},
   "outputs": [],
   "source": [
    "# 성별 평균 생존율을 막대그래프\n",
    "sns.barplot(data=titanic, x='sex', y='survived',\n",
    "           order=['female','male'],\n",
    "           palette='Pastel2')\n",
    "plt.show()"
   ]
  },
  {
   "cell_type": "code",
   "execution_count": null,
   "id": "fc5cb93b",
   "metadata": {},
   "outputs": [],
   "source": [
    "# 남여 데이터 수\n",
    "titanic.groupby('sex')['survived'].count()"
   ]
  },
  {
   "cell_type": "code",
   "execution_count": null,
   "id": "9dba7f2d",
   "metadata": {},
   "outputs": [],
   "source": [
    "# 남여 데이터 수 (정렬)\n",
    "titanic['sex'].value_counts()"
   ]
  },
  {
   "cell_type": "code",
   "execution_count": null,
   "id": "8d3848e6",
   "metadata": {},
   "outputs": [],
   "source": [
    "# class별 생존률\n",
    "sns.barplot(data=titanic, x='sex', y='survived', hue='class')"
   ]
  },
  {
   "cell_type": "code",
   "execution_count": null,
   "id": "6a4e71ba",
   "metadata": {},
   "outputs": [],
   "source": [
    "# class 별 성별 생존률을 서브플롯\n",
    "g = sns.catplot(data=titanic,\n",
    "               x='sex',\n",
    "               y='survived',\n",
    "               hue='class',\n",
    "               kind='bar', # 기본값은 strip\n",
    "               col='class',\n",
    "               facet_kws={'sharex':False})\n",
    "g.fig.set_size_inches(10,3)"
   ]
  },
  {
   "cell_type": "code",
   "execution_count": null,
   "id": "79e7b556",
   "metadata": {},
   "outputs": [],
   "source": [
    "# deck별 데이터수를 막대그래프로(countplot)\n",
    "sns.countplot(data=titanic, x='deck')\n",
    "plt.show()"
   ]
  },
  {
   "cell_type": "code",
   "execution_count": null,
   "id": "5ae6946c",
   "metadata": {},
   "outputs": [],
   "source": [
    "# deck별 갯수\n",
    "titanic['deck'].value_counts()"
   ]
  },
  {
   "cell_type": "code",
   "execution_count": null,
   "id": "8b5a8655",
   "metadata": {},
   "outputs": [],
   "source": [
    "# deck별 데이터수를 막대그래프로(countplot)\n",
    "sns.countplot(data=titanic, x='deck', order=titanic['deck'].value_counts().index)\n",
    "plt.show()"
   ]
  },
  {
   "cell_type": "code",
   "execution_count": null,
   "id": "73e1c734",
   "metadata": {},
   "outputs": [],
   "source": [
    "# boxplot\n",
    "sns.boxplot(data=titanic, x='sex', y='age')\n",
    "plt.show()"
   ]
  },
  {
   "cell_type": "code",
   "execution_count": null,
   "id": "18b845ca",
   "metadata": {},
   "outputs": [],
   "source": [
    "sns.violinplot(data=titanic, x='sex', y='age')\n",
    "plt.show()"
   ]
  },
  {
   "cell_type": "code",
   "execution_count": null,
   "id": "27168a2d",
   "metadata": {},
   "outputs": [],
   "source": [
    "sns.boxenplot(data=titanic, x='sex', y='age')\n",
    "plt.show()"
   ]
  },
  {
   "cell_type": "markdown",
   "id": "67484ff2",
   "metadata": {},
   "source": [
    "### 3) 쌍관계 그래프\n",
    "- pairplot : 모든 수치형 변수 쌍에 대해 산점도와 히스토그램을 보여줌"
   ]
  },
  {
   "cell_type": "code",
   "execution_count": null,
   "id": "b9ada251",
   "metadata": {},
   "outputs": [],
   "source": [
    "sns.pairplot(data=iris, hue='species')\n",
    "plt.show()"
   ]
  },
  {
   "cell_type": "markdown",
   "id": "8d4aa5d8",
   "metadata": {},
   "source": [
    "### 4) 밀도그래프"
   ]
  },
  {
   "cell_type": "code",
   "execution_count": null,
   "id": "f3569647",
   "metadata": {},
   "outputs": [],
   "source": [
    "import numpy as np\n",
    "x = np.random.randn(10000) # 평균0, 표준편차1인 정규분포를 이루는 10000개 데이터\n",
    "sns.histplot(x, kde=False) # kde=False분포를 매끄럽게\n",
    "plt.show()"
   ]
  },
  {
   "cell_type": "code",
   "execution_count": null,
   "id": "d7f69fd8",
   "metadata": {},
   "outputs": [],
   "source": [
    "sns.distplot(x)\n",
    "plt.show()"
   ]
  },
  {
   "cell_type": "markdown",
   "id": "21c0b6db",
   "metadata": {},
   "source": [
    "### 5) 회귀 그래프"
   ]
  },
  {
   "cell_type": "code",
   "execution_count": null,
   "id": "deb91b9b",
   "metadata": {},
   "outputs": [],
   "source": [
    "corr = iris.corr(numeric_only=True)\n",
    "corr"
   ]
  },
  {
   "cell_type": "code",
   "execution_count": null,
   "id": "b2574fcc",
   "metadata": {},
   "outputs": [],
   "source": [
    "sns.heatmap(corr, vmin=-1, vmax=1, annot=True, fmt='.3f', cmap='Greens', cbar=False)\n",
    "plt.show()"
   ]
  },
  {
   "cell_type": "code",
   "execution_count": null,
   "id": "6c9923fb",
   "metadata": {},
   "outputs": [],
   "source": [
    "np.ones_like(corr, dtype=bool) # corr과 구조가 같은 1로 채워진 배열"
   ]
  },
  {
   "cell_type": "code",
   "execution_count": null,
   "id": "4aaf5ae2",
   "metadata": {},
   "outputs": [],
   "source": [
    "sns.set(style='white')\n",
    "\n",
    "mask = np.triu(np.ones_like(corr, dtype=bool) )\n",
    "sns.heatmap(corr, vmin=-1, vmax=1, annot=True, fmt='.3f', cmap='Greens', mask=mask)\n",
    "plt.show()"
   ]
  },
  {
   "cell_type": "code",
   "execution_count": null,
   "id": "bab36a71",
   "metadata": {},
   "outputs": [],
   "source": [
    "# 회귀그래프 : regplot(hue사용불가), lmplot(hue사용가능)\n",
    "sns.regplot(data=iris, x='petal_length', y='petal_width')\n",
    "plt.show()"
   ]
  },
  {
   "cell_type": "code",
   "execution_count": null,
   "id": "cf11619e",
   "metadata": {},
   "outputs": [],
   "source": [
    "g = sns.lmplot(data=iris, x='petal_length', y='petal_width', hue='species',\n",
    "          col='species')\n",
    "g.fig.set_size_inches(10,3)\n",
    "plt.show()"
   ]
  },
  {
   "cell_type": "markdown",
   "id": "805c647a",
   "metadata": {},
   "source": [
    "## 2.4 다중그래프를 위한 FacetGrid"
   ]
  },
  {
   "cell_type": "code",
   "execution_count": null,
   "id": "6b46942d",
   "metadata": {},
   "outputs": [],
   "source": [
    "g = sns.FacetGrid(iris, col='species', hue='species')\n",
    "g.map(sns.scatterplot, 'petal_length', 'petal_width')\n",
    "plt.show()"
   ]
  },
  {
   "cell_type": "code",
   "execution_count": null,
   "id": "0f48a0de",
   "metadata": {},
   "outputs": [],
   "source": [
    "g = sns.relplot(iris, x='petal_length', y='petal_width', hue='species', col='species')\n",
    "g.fig.set_size_inches(10,3)\n",
    "plt.show()"
   ]
  },
  {
   "cell_type": "code",
   "execution_count": null,
   "id": "2d26272a",
   "metadata": {},
   "outputs": [],
   "source": []
  },
  {
   "cell_type": "code",
   "execution_count": null,
   "id": "9d766b35",
   "metadata": {},
   "outputs": [],
   "source": []
  },
  {
   "cell_type": "code",
   "execution_count": null,
   "id": "7638c4a9",
   "metadata": {},
   "outputs": [],
   "source": []
  },
  {
   "cell_type": "code",
   "execution_count": null,
   "id": "c574932f",
   "metadata": {},
   "outputs": [],
   "source": []
  },
  {
   "cell_type": "code",
   "execution_count": null,
   "id": "fe153d0e",
   "metadata": {},
   "outputs": [],
   "source": []
  }
 ],
 "metadata": {
  "kernelspec": {
   "display_name": "Python 3 (ipykernel)",
   "language": "python",
   "name": "python3"
  },
  "language_info": {
   "codemirror_mode": {
    "name": "ipython",
    "version": 3
   },
   "file_extension": ".py",
   "mimetype": "text/x-python",
   "name": "python",
   "nbconvert_exporter": "python",
   "pygments_lexer": "ipython3",
   "version": "3.10.9"
  }
 },
 "nbformat": 4,
 "nbformat_minor": 5
}
