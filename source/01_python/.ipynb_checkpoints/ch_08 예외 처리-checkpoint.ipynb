{
 "cells": [
  {
   "cell_type": "code",
   "execution_count": null,
   "id": "2b6e3bf6",
   "metadata": {},
   "outputs": [],
   "source": [
    "from IPython.display import display, HTML\n",
    "display(HTML(\"\"\"\n",
    "<style>\n",
    "div.container{width:90% !important;}\n",
    "div.cell.code_cell.rendered{width:100%;}\n",
    "div.input_prompt{padding:0px;}\n",
    "div.CodeMirror {font-family:Consolas; font-size:12pt;}\n",
    "div.text_cell_render.rendered_html{font-size:12pt;}\n",
    "div.output {font-size:12pt; font-weight:bold;}\n",
    "div.input {font-family:Consolas; font-size:12pt;}\n",
    "div.prompt {min-width:70px;}\n",
    "div#toc-wrapper{padding-top:120px;}\n",
    "div.text_cell_render ul li{font-size:12pt;padding:5px;}\n",
    "table.dataframe{font-size:12px;}\n",
    "</style>\n",
    "\"\"\"))"
   ]
  },
  {
   "cell_type": "markdown",
   "id": "3bbf071d",
   "metadata": {},
   "source": [
    "<b><font size=\"6\" color=\"red\">ch08.예외 처리</font></b>\n",
    "- 에러\n",
    "    (1) 문법에러 : 문법적으로 나타나는 에러(프로그램을 수정)\n",
    "    (2) 실행에러(실행시 에러)\n",
    "        * 시스템에러 : 프로그래머의 의지와 상관없이 나타나는 에러\n",
    "        * 예외 : 정상적으로 동작하는 프로그램으로서 나타나는 에러(MILD한 에러)\n",
    "# 1절. 예외처리 필요성\n",
    "- 예외가 날 가능성이 있는 부분에 대해서 미리 예상하고, 그에 대한 처리를 프로그래밍하는 것\n",
    "    (필요한 이유 : 좀 더 안정적인 시스템)\n",
    "```\n",
    "    ex. 파일을 다룰 때, 파일이 없거나, 쓰기 금지, 파일 인코딩방법에 인한 오류\n",
    "    ex. 데이터 베이스 프로그래밍 시 제약조건 등에 의한 CRUD 명령 수행 오류. DBMS 서버 오류\n",
    "    ex. 네트워크 프로그래밍 시 네트워크 연결 오류\n",
    "    ex. 리스트나 튜플의 인덱스를 벗어난 참조에 의한 오류\n",
    "```"
   ]
  },
  {
   "cell_type": "code",
   "execution_count": null,
   "id": "2e17648d",
   "metadata": {},
   "outputs": [],
   "source": [
    "# 파일명(ch08.txt, ch02.txt)은 사용자에게 입력받아 해당 파일 내용을 출력\n",
    "filename = input('파일명은 ?')\n",
    "f = open('data/' + filename, 'r') # 파일을 연다(스트림객체 생성)\n",
    "f.read()"
   ]
  },
  {
   "cell_type": "code",
   "execution_count": null,
   "id": "a6cb4f12",
   "metadata": {},
   "outputs": [],
   "source": [
    "f.close()"
   ]
  },
  {
   "cell_type": "code",
   "execution_count": null,
   "id": "38b82c6b",
   "metadata": {},
   "outputs": [],
   "source": [
    "# 예외발생 : 파일이 잘못되었을 경우\n",
    "filename = input('파일명은 ?')\n",
    "f = open('data/' + filename, 'r') # 파일을 연다(스트림객체를 생성)\n",
    "print(f.read())\n",
    "f.close()"
   ]
  },
  {
   "cell_type": "code",
   "execution_count": null,
   "id": "b00dc304",
   "metadata": {},
   "outputs": [],
   "source": [
    "# 예외발생 : 인코딩방식 에러\n",
    "# 한글 인코딩 방법 :\n",
    "# 한글 완성형(euc-kr < cp949) : 한글 1만 1172자 중 2,850자만 코드표현법\n",
    "# 한글 조합형(utf-8) : ch08.txt\n",
    "filename = input('파일명은 ?')\n",
    "f = open('data/' + filename, 'r', encoding = 'utf-8') # 파일을 연다(cp949코드가 기본 encoding 방식)\n",
    "print(f.read())\n",
    "f.close()"
   ]
  },
  {
   "cell_type": "code",
   "execution_count": null,
   "id": "5a9f1b5f",
   "metadata": {},
   "outputs": [],
   "source": [
    "4/0"
   ]
  },
  {
   "cell_type": "code",
   "execution_count": null,
   "id": "95fa3489",
   "metadata": {},
   "outputs": [],
   "source": [
    "a = [1,2,3]\n",
    "a[3]"
   ]
  },
  {
   "cell_type": "markdown",
   "id": "34a66330",
   "metadata": {},
   "source": [
    "# 2절 try~except로 예외처리\n",
    "## 2.1 try~except\n",
    "```\n",
    "try:\n",
    "    예외가 발생할 가능성이 있는 명령어들\n",
    "except:\n",
    "    예외가 발생했을 경우 실행할 명령어들\n",
    "```"
   ]
  },
  {
   "cell_type": "code",
   "execution_count": null,
   "id": "63fd0f62",
   "metadata": {},
   "outputs": [],
   "source": [
    "# 100을 입력받은 정수값으로 나눠 출력\n",
    "# ValueError: invalid literal for int() with base 10: '삼' (정수를 입력하지 않은 경우)\n",
    "#ZeroDivisionError: division by zero (0을 입력한 경우 예외 객체의 타입과 메시지)\n",
    "x = int(input('100을 나눌 정수를 입력하세요 :'))\n",
    "print(\"100을 입력한 정수로 나누면 {:.3f}\".format(100/x))"
   ]
  },
  {
   "cell_type": "code",
   "execution_count": null,
   "id": "617bb05b",
   "metadata": {},
   "outputs": [],
   "source": [
    "# 100을 입력받은 정수값으로 나눠 출력\n",
    "# ValueError: invalid literal for int() with base 10: '삼' (정수를 입력하지 않은 경우)\n",
    "#ZeroDivisionError: division by zero (0을 입력한 경우 예외 객체의 타입과 메시지)\n",
    "# try절에 예외가 발생되지 않으면 except절은 수행되지 않음\n",
    "# try절에 예외가 발생되면 , try절 수행을 멈추고 except절을 수행\n",
    "try:\n",
    "    x = int(input('100을 나눌 정수를 입력하세요 :'))\n",
    "    print(\"100을 입력한 정수로 나누면 {:.3f}\".format(100/x))\n",
    "except:\n",
    "    print('유효한 정수가 아닙니다')"
   ]
  },
  {
   "cell_type": "code",
   "execution_count": 1,
   "id": "94b14750",
   "metadata": {},
   "outputs": [
    {
     "name": "stdout",
     "output_type": "stream",
     "text": [
      "100을 나눌 정수를 입력하세요 :a\n",
      "유효한 정수가 아닙니다\n",
      "100을 나눌 정수를 입력하세요 :10\n",
      "100을 입력한 정수로 나누면 10.000\n"
     ]
    }
   ],
   "source": [
    "# 100을 나눌 유효한 정수를 입력할때까지 입력받아 100을 나눈 결과를 출력\n",
    "# ValueError: invalid literal for int() with base 10: '삼' (정수를 입력하지 않은 경우)\n",
    "#ZeroDivisionError: division by zero (0을 입력한 경우 예외 객체의 타입과 메시지)\n",
    "while True:\n",
    "    try:        \n",
    "        x = int(input('100을 나눌 정수를 입력하세요 :'))\n",
    "        print(\"100을 입력한 정수로 나누면 {:.3f}\".format(100/x))\n",
    "        break\n",
    "    except:\n",
    "        print('유효한 정수가 아닙니다')"
   ]
  },
  {
   "cell_type": "markdown",
   "id": "ac420309",
   "metadata": {},
   "source": [
    "## 2.2 지정된 예외 처리\n",
    "```\n",
    "try:\n",
    "    예외가 발생할 수도 있는 명령어\n",
    "except (예외타입1,예외타입3):\n",
    "    해당 예외가 발생할 경우 실행할 명령어\n",
    "except 예외타입2:\n",
    "    해당 예외가 발생할 경우 실행할 명령어\n",
    "```"
   ]
  },
  {
   "cell_type": "code",
   "execution_count": null,
   "id": "d5628781",
   "metadata": {},
   "outputs": [],
   "source": [
    "# 수를 입력받아 100을 나눈 결과를 출력\n",
    "# ValueError: invalid literal for int() with base 10: '삼' (정수를 입력하지 않은 경우)\n",
    "#ZeroDivisionError: division by zero (0을 입력한 경우 예외 객체의 타입과 메시지)\n",
    "\n",
    "try:        \n",
    "    x = int(input('100을 나눌 정수를 입력하세요 :'))\n",
    "    print(\"100을 입력한 정수로 나누면 {:.3f}\".format(100/x))\n",
    "except ZeroDivisionError:\n",
    "    print('0 으로는 나눌 수 없습니다')\n",
    "except Exception:\n",
    "    print('정수를 입력하지 않았습니다')"
   ]
  },
  {
   "cell_type": "code",
   "execution_count": null,
   "id": "b2e984b6",
   "metadata": {},
   "outputs": [],
   "source": [
    "try:        \n",
    "    x = int(input('100을 나눌 정수를 입력하세요 :'))\n",
    "    print(\"100을 입력한 정수로 나누면 {:.3f}\".format(100/x))\n",
    "except (ZeroDivisionError, ValueError):\n",
    "    print('나눌 수 있는 유효한 수가 아닙니다')\n",
    "except Exception:\n",
    "    print('기타 다른 예외입니다')"
   ]
  },
  {
   "cell_type": "markdown",
   "id": "bc6e259e",
   "metadata": {},
   "source": [
    "# 2.3 예외 인수(e)\n",
    "```\n",
    "try:\n",
    "    예외가 발생할 수도 있는 명령어\n",
    "except 예외타입 as e:\n",
    "    print(e)\n",
    "    print(e.args[0]) # 예외메시지 출력\n",
    "```"
   ]
  },
  {
   "cell_type": "code",
   "execution_count": null,
   "id": "91d3f69f",
   "metadata": {},
   "outputs": [],
   "source": [
    "try:        \n",
    "    x = int(input('100을 나눌 정수를 입력하세요 :'))\n",
    "    print(\"100을 입력한 정수로 나누면 {:.3f}\".format(100/x))\n",
    "except (ZeroDivisionError, ValueError) as e:\n",
    "    print('예외 유형 :', type(e))\n",
    "    print('예외 메세지 :', e)\n",
    "    print('예외 메세지 :', e.__str__())\n",
    "    print('예외 메세지 :', e.args)\n",
    "except Exception:\n",
    "    print('기타 다른 예외입니다')"
   ]
  },
  {
   "cell_type": "markdown",
   "id": "603ee2bf",
   "metadata": {},
   "source": [
    "```\n",
    "try:\n",
    "    예외 발생 가능 명령어\n",
    "except [예외타입 [as e]]:\n",
    "    예외타입 발생시 명령어\n",
    "[else:\n",
    "    try절 수행하다 예외가 발생 안되면  else절 수행\n",
    "    try절 수행하다 예외사 발생하면 except절 수행(else절 수행 안 함)\n",
    "]\n",
    "[finally:\n",
    "    try절에서 예외가 발생하든 안 하든 마지막에 수행\n",
    "]\n",
    "```"
   ]
  },
  {
   "cell_type": "code",
   "execution_count": null,
   "id": "a8348abd",
   "metadata": {},
   "outputs": [],
   "source": [
    "try:\n",
    "    file = open('data/ch08.txt','r', encoding=\"utf-8\")\n",
    "    print(file.read())\n",
    "except FileNotFoundError as e:\n",
    "    print('해당 폴더나 파일이 없습니다')\n",
    "    print(e)\n",
    "except UnicodeDecodeError as e:\n",
    "    print(e)\n",
    "finally:\n",
    "    file.close()"
   ]
  },
  {
   "cell_type": "markdown",
   "id": "ae5ce859",
   "metadata": {},
   "source": [
    "# 3절 raise\n",
    "- 강제 예외 발생"
   ]
  },
  {
   "cell_type": "code",
   "execution_count": null,
   "id": "b896e9e3",
   "metadata": {},
   "outputs": [],
   "source": [
    "raise ZeroDivisionError(\"0으로 나누려고 했네\")"
   ]
  },
  {
   "cell_type": "code",
   "execution_count": null,
   "id": "59eee549",
   "metadata": {},
   "outputs": [],
   "source": [
    "# 사용자 정의 예외 : Exception클래스로부터 상속받아 구현\n",
    "class LenthZeroError(Exception):\n",
    "    '길이가 0일때 발생하는 예외'\n",
    "    def __init__(self, message):\n",
    "        super().__init__(message)"
   ]
  },
  {
   "cell_type": "code",
   "execution_count": null,
   "id": "1816e7d1",
   "metadata": {},
   "outputs": [],
   "source": [
    "def insert(*data): # 튜플 매개변수\n",
    "    print('data = ', data)\n",
    "    if len(data)==0:\n",
    "        raise LenthZeroError(\"매개변수의 갯수가 0이면 예외에요(사용자 정의 예외)\")\n",
    "        for item in data:\n",
    "            print(item, end=' ')\n",
    "        print('등을 입력하였습니다')"
   ]
  },
  {
   "cell_type": "code",
   "execution_count": null,
   "id": "0dce7a2a",
   "metadata": {},
   "outputs": [],
   "source": [
    "insert(1,2,'3')"
   ]
  },
  {
   "cell_type": "code",
   "execution_count": null,
   "id": "b9c5ce37",
   "metadata": {},
   "outputs": [],
   "source": [
    "data = ()\n",
    "try:\n",
    "    insert(*data)\n",
    "except Exception as e:\n",
    "    print(e)\n",
    "else:\n",
    "    print('예외가 발생 안 할 때만 실행')\n",
    "finally:\n",
    "    print('예외가 발샐하든 안 하든 무조건 실행')"
   ]
  },
  {
   "cell_type": "markdown",
   "id": "aa976423",
   "metadata": {},
   "source": [
    "# 4절 추상클래스\n",
    "- 추상클래스 : 추상메소드가 1개 이상 포함된 클래스를 추상클래스.\n",
    "- 추상메소드 : 호출할 수 없는 메소드. 상속받은 클래스에서의 재정의를 강요할 때\n",
    "- python에서 추상메소드는 @abstractmethod나 raise를 이용"
   ]
  },
  {
   "cell_type": "code",
   "execution_count": null,
   "id": "5b3a640a",
   "metadata": {},
   "outputs": [],
   "source": [
    "class Shape:\n",
    "    def __init__(self):\n",
    "        raise NotImplementedError(\"추상클래스 역할\")\n",
    "    def calc_area(self):\n",
    "        raise NotImplementedError(\"추상메소드 역할\")"
   ]
  },
  {
   "cell_type": "code",
   "execution_count": null,
   "id": "75c0e881",
   "metadata": {},
   "outputs": [],
   "source": [
    "from abc import ABC, abstractmethod\n",
    "class Shape(ABC):\n",
    "    @abstractmethod\n",
    "    def __init__(self):\n",
    "        pass\n",
    "    @abstractmethod\n",
    "    def calc_area(self):\n",
    "        pass"
   ]
  },
  {
   "cell_type": "code",
   "execution_count": null,
   "id": "ee016724",
   "metadata": {},
   "outputs": [],
   "source": [
    "import numpy as np\n",
    "class Circle(Shape):\n",
    "    def __init__(self, radius=3):\n",
    "        self.radius = radius\n",
    "    def calc_area(self):\n",
    "        '원의 넓이를 return'\n",
    "        return np.pi * (self.radius**2)"
   ]
  },
  {
   "cell_type": "code",
   "execution_count": null,
   "id": "5ee86c71",
   "metadata": {},
   "outputs": [],
   "source": [
    "myCircle = Circle(5)\n",
    "myCircle.calc_area()"
   ]
  },
  {
   "cell_type": "markdown",
   "id": "2c58a6a0",
   "metadata": {},
   "source": [
    "# 5절 파일 정리 작업(with절 이용)"
   ]
  },
  {
   "cell_type": "code",
   "execution_count": null,
   "id": "c6e22e66",
   "metadata": {},
   "outputs": [],
   "source": [
    "try:\n",
    "    f = open('data/ch08.txt','r', encoding='utf-8')\n",
    "    lines = f.readlines() # 한줄한줄 모든 줄을 한꺼번에 list로 읽어오기\n",
    "    print(lines)\n",
    "except FileNotFoundError as e:\n",
    "    print(e)\n",
    "finally:\n",
    "    f.close()"
   ]
  },
  {
   "cell_type": "code",
   "execution_count": null,
   "id": "f1fed069",
   "metadata": {},
   "outputs": [],
   "source": [
    "f = open('data/ch08.txt','r', encoding='utf-8')\n",
    "lines = f.readlines() # 한줄한줄 모든 줄을 한꺼번에 list로 읽어오기\n",
    "print(lines)\n",
    "f.close()"
   ]
  },
  {
   "cell_type": "code",
   "execution_count": null,
   "id": "bcdf970a",
   "metadata": {},
   "outputs": [],
   "source": [
    "# with절 이후에는 자동적으로 close()실행\n",
    "with open('data/ch08.txt','r', encoding='utf-8') as f:\n",
    "    lines = f.readlines()\n",
    "print(lines)"
   ]
  },
  {
   "cell_type": "code",
   "execution_count": null,
   "id": "60b18390",
   "metadata": {},
   "outputs": [],
   "source": [
    "try:\n",
    "    with open(\"data/ch08.txt\",'r',encoding='utf-8') as f:\n",
    "        lines = f.readlines()\n",
    "    print(lines)\n",
    "except (FileNotFoundError, UnicodeDecodeError) as e:\n",
    "    print(e)"
   ]
  },
  {
   "cell_type": "markdown",
   "id": "7bb269c8",
   "metadata": {},
   "source": [
    "# 6절 연습문제"
   ]
  },
  {
   "cell_type": "markdown",
   "id": "f508f1be",
   "metadata": {},
   "source": [
    "## 실습형"
   ]
  },
  {
   "cell_type": "code",
   "execution_count": 10,
   "id": "3e33e458",
   "metadata": {},
   "outputs": [
    {
     "name": "stdout",
     "output_type": "stream",
     "text": [
      "첫번째 숫자를 입력하세요 :10\n",
      "두번째 숫자를 입력하세요 :9\n",
      "입력한 수는 10.0와 9.0입니다.\n",
      "10.0을 9.0로 나누면 1.11입니다\n"
     ]
    }
   ],
   "source": [
    "#1\n",
    "while True:\n",
    "    try:\n",
    "        x = float(input(\"첫번째 숫자를 입력하세요 :\"))\n",
    "        y = float(input(\"두번째 숫자를 입력하세요 :\"))\n",
    "        print(\"입력한 수는 {}와 {}입니다.\".format(x,y))\n",
    "        print(\"{}을 {}로 나누면 {:.2f}입니다\".format(x,y,x/y))\n",
    "        break\n",
    "    except (ZeroDivisionError, ValueError):\n",
    "        print(\"유효한 숫자가 아닙니다. 다시 시도하세요\")"
   ]
  },
  {
   "cell_type": "code",
   "execution_count": 7,
   "id": "0f4c9740",
   "metadata": {},
   "outputs": [
    {
     "name": "stdout",
     "output_type": "stream",
     "text": [
      "첫번째 숫자를 입력하세요 :10\n",
      "두번째 숫자를 입력하세요 :9\n",
      "입력한 수는 10.0와 9.0입니다.\n",
      "10.0을 9.0로 나누면 1.11입니다\n"
     ]
    }
   ],
   "source": [
    "#2\n",
    "while True:\n",
    "    try:\n",
    "        x = float(input(\"첫번째 숫자를 입력하세요 :\"))\n",
    "        y = float(input(\"두번째 숫자를 입력하세요 :\"))\n",
    "        print(\"입력한 수는 {}와 {}입니다.\".format(x,y))\n",
    "        print(\"{}을 {}로 나누면 {:.2f}입니다\".format(x,y,x/y))\n",
    "        break\n",
    "    except ValueError:\n",
    "        print(\"유효한 숫자가 아닙니다. 다시 시도하세요\")\n",
    "    except ZeroDivisionError:\n",
    "        print(\"0으로 나눌 수 없습니다. 다시 시도하세요\")"
   ]
  },
  {
   "cell_type": "code",
   "execution_count": null,
   "id": "264708a8",
   "metadata": {},
   "outputs": [],
   "source": [
    "keepgoing = True # 메일 받은 내용(만약 break를 사용하기 싫다면)\n",
    "while keepgoing:\n",
    "    try:\n",
    "        num1 = float(input('첫번째 숫자를 입력하세요'))\n",
    "        num2 = float(input('두번째 숫자를 입력하세요'))\n",
    "        print('입력한 수는 {}와 {}'.format(num1, num2))\n",
    "        print('{}을 {}로 나누면 {}입니다'.format(num1, num2, num1/num2))\n",
    "        keepgoing = None\n",
    "    except ValueError:\n",
    "        print('유효한 숫자가 아닙니다. 다시 시도하세요')\n",
    "    except ZeroDivisionError:\n",
    "        print('0으로 나눌 수 없습니다. 다시 시도하세요')"
   ]
  },
  {
   "cell_type": "code",
   "execution_count": null,
   "id": "e9185e14",
   "metadata": {},
   "outputs": [],
   "source": [
    "while True: # 메일 받은 내용1(0을 나눠도 안 되게)\n",
    "    try:\n",
    "        first = int(input('첫번째 숫자를 입력하세요:'))\n",
    "        second = int(input('두번째 숫자를 입력하세요'))\n",
    "        sum = first/second\n",
    "        if sum==0:\n",
    "            raise ZeroDivisionError()\n",
    "        print(f'입력한 수는 {first}와 {second}입니다.')\n",
    "        print(f'{first}을 {second}로 나누면 {sum}입니다')\n",
    "        break\n",
    "    except Exception:\n",
    "        print('유효한 숫자가 아닙니다. 다시 시도하세요.')"
   ]
  },
  {
   "cell_type": "code",
   "execution_count": null,
   "id": "c6c08cab",
   "metadata": {},
   "outputs": [],
   "source": []
  },
  {
   "cell_type": "code",
   "execution_count": null,
   "id": "d5539153",
   "metadata": {},
   "outputs": [],
   "source": []
  },
  {
   "cell_type": "code",
   "execution_count": null,
   "id": "e8ce121f",
   "metadata": {},
   "outputs": [],
   "source": []
  },
  {
   "cell_type": "code",
   "execution_count": null,
   "id": "41cf2df6",
   "metadata": {},
   "outputs": [],
   "source": []
  }
 ],
 "metadata": {
  "kernelspec": {
   "display_name": "Python 3 (ipykernel)",
   "language": "python",
   "name": "python3"
  },
  "language_info": {
   "codemirror_mode": {
    "name": "ipython",
    "version": 3
   },
   "file_extension": ".py",
   "mimetype": "text/x-python",
   "name": "python",
   "nbconvert_exporter": "python",
   "pygments_lexer": "ipython3",
   "version": "3.10.9"
  },
  "toc": {
   "base_numbering": 1,
   "nav_menu": {},
   "number_sections": false,
   "sideBar": true,
   "skip_h1_title": false,
   "title_cell": "Table of Contents",
   "title_sidebar": "Contents",
   "toc_cell": false,
   "toc_position": {
    "height": "calc(100% - 180px)",
    "left": "10px",
    "top": "150px",
    "width": "268.267px"
   },
   "toc_section_display": true,
   "toc_window_display": true
  }
 },
 "nbformat": 4,
 "nbformat_minor": 5
}
