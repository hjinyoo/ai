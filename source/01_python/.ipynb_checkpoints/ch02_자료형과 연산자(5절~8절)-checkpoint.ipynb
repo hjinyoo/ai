{
 "cells": [
  {
   "cell_type": "code",
   "execution_count": null,
   "id": "dd53ae1d",
   "metadata": {},
   "outputs": [],
   "source": [
    "from IPython.display import display, HTML\n",
    "display(HTML(\"\"\"\n",
    "<style>\n",
    "div.container{width:90% !important;}\n",
    "div.cell.code_cell.rendered{width:100%;}\n",
    "div.input_prompt{padding:0px;}\n",
    "div.CodeMirror {font-family:Consolas; font-size:12pt;}\n",
    "div.text_cell_render.rendered_html{font-size:12pt;}\n",
    "div.output {font-size:12pt; font-weight:bold;}\n",
    "div.input {font-family:Consolas; font-size:12pt;}\n",
    "div.prompt {min-width:70px;}\n",
    "div#toc-wrapper{padding-top:120px;}\n",
    "div.text_cell_render ul li{font-size:12pt;padding:5px;}\n",
    "table.dataframe{font-size:12px;}\n",
    "</style>\n",
    "\"\"\"))"
   ]
  },
  {
   "cell_type": "markdown",
   "id": "d18510fa",
   "metadata": {},
   "source": [
    "<b><font size=\"6\" color=\"red\">ch02_자료형과 연산자</font></b>\n",
    "# 5절. 연산자\n",
    "## 5.1 산술연산자: +,-,*,/(결과 float),//(몫),%(나머지),**(제곱)"
   ]
  },
  {
   "cell_type": "code",
   "execution_count": null,
   "id": "2a0b7e76",
   "metadata": {},
   "outputs": [],
   "source": [
    "print(\"10*5승=\", 10**5)\n",
    "print(\"5/2(결과 실수) =\",5/2)\n",
    "print(\"5//2(몫)=\",5//2)\n",
    "print(\"5%2(나머지)=\",5%2)"
   ]
  },
  {
   "cell_type": "code",
   "execution_count": null,
   "id": "470fcd99",
   "metadata": {},
   "outputs": [],
   "source": [
    "# 정수끼리 연산은 결과가 정수(단/ 제외)\n",
    "# 정수와 실수, 실수끼리 연산 결과는 실수\n",
    "print(\"4**2 =\", 4**2.0)"
   ]
  },
  {
   "cell_type": "code",
   "execution_count": null,
   "id": "e0074649",
   "metadata": {},
   "outputs": [],
   "source": [
    "# quiz1. 정수를 입력 받아 짝수인지 홀수인지 여부를 출력 \n",
    "num = int(input(\"정수를 입력하세요:\"))\n",
    "result = num % 2 # -1, 0, 1\n",
    "if result:\n",
    "    temp = \"홀수\"\n",
    "else:\n",
    "    temp = \"짝수\"\n",
    "print(f'입력하신 수는 {num}, 2로 나눈 나머지는 {result}라서 {temp}를 입력하셨습니다')"
   ]
  },
  {
   "cell_type": "code",
   "execution_count": null,
   "id": "d9594128",
   "metadata": {},
   "outputs": [],
   "source": [
    "# quiz2. 정수를 입력 받아 5의 배수인지 여부를 출력\n",
    "num = int(input(\"정수를 입력하세요:\"))\n",
    "result = num % 5\n",
    "if result:\n",
    "    temp = \"5의 배수가 아닌 것\"\n",
    "else:\n",
    "    temp = \"5의 배수\"\n",
    "print(f'입력하신 수는 {num}, 5로 나눈 나머지는 {result}라서 {temp}를 입력하셨습니다')"
   ]
  },
  {
   "cell_type": "code",
   "execution_count": null,
   "id": "3cc1f51c",
   "metadata": {},
   "outputs": [],
   "source": [
    "# quiz3. 국,영,수 점수를 입력받아 다음셀에서 다음과 같이 출력하도록 구현하시오\n",
    "kor = int(input('국어?'))\n",
    "eng = int(input('영어?'))\n",
    "mat = int(input('수학?'))\n",
    "sum = kor+eng+mat\n",
    "avg = sum/3"
   ]
  },
  {
   "cell_type": "code",
   "execution_count": null,
   "id": "18dbede6",
   "metadata": {},
   "outputs": [],
   "source": [
    "print(\"국어 : {:3d}\\t영어 : {:3d}\\t수학 : {:3}\".format(kor,eng, mat))\n",
    "print(\"총점 : {:3d}\\t평균 : {:5.1f}\".format(sum,avg))"
   ]
  },
  {
   "cell_type": "markdown",
   "id": "6c096db2",
   "metadata": {},
   "source": [
    "## 5.2 할당 연산자:=,+=,-=,/=,*=,//=,%="
   ]
  },
  {
   "cell_type": "code",
   "execution_count": null,
   "id": "5c4b3467",
   "metadata": {},
   "outputs": [],
   "source": [
    "a = 10\n",
    "a += 5 # a = a + 5와 동일\n",
    "print(f\"a={a}\")"
   ]
  },
  {
   "cell_type": "code",
   "execution_count": null,
   "id": "617d4032",
   "metadata": {},
   "outputs": [],
   "source": [
    "a -= 5 # a = a -5\n",
    "print(\"5빼기 :\", a) # 10\n",
    "a *= 10 # a = a*10\n",
    "print(\"10배 :\",a) #100\n",
    "a //= 5 # a = a//5\n",
    "print(\"5나눈 몫 :\", a)"
   ]
  },
  {
   "cell_type": "markdown",
   "id": "4e825f4f",
   "metadata": {},
   "source": [
    "## 5.3 논리연산자:&,and,|,or,not"
   ]
  },
  {
   "cell_type": "code",
   "execution_count": null,
   "id": "deab671a",
   "metadata": {},
   "outputs": [],
   "source": [
    "# & : 논리연산자, 비트연산자\n",
    "print( (10>3) & (10>5) ) # 논리연산 True & True\n",
    "print( 12 & 1 ) # 비트 연산 1 1 0 0 (12)\n",
    "                       #     0 0 0 1 (1)\n",
    "                       # &:  0 0 0 0 "
   ]
  },
  {
   "cell_type": "code",
   "execution_count": null,
   "id": "bd4bdbe2",
   "metadata": {},
   "outputs": [],
   "source": [
    "# and : 논리연산자.    False로 판별되는 첫번째 항의 결과 반환\n",
    "        # 모든 항이 True면, 마지막 항의 결과 반환\n",
    "print( (10>3) and (10>5) ) \n",
    "print( 12 and 1 )"
   ]
  },
  {
   "cell_type": "code",
   "execution_count": null,
   "id": "549cd849",
   "metadata": {},
   "outputs": [],
   "source": [
    "# | : 논리연산, 비트연산\n",
    "result = True | False\n",
    "print('논리연산(연산자 안뒤에 논리형일 때) :', result)\n",
    "result = False | 3 # 0000 (0)\n",
    "                    # 0011 (3)\n",
    "print('비트연산(연산자 앞이나 뒤에 숫자일 때) :', result)"
   ]
  },
  {
   "cell_type": "code",
   "execution_count": null,
   "id": "97deed9b",
   "metadata": {},
   "outputs": [],
   "source": [
    "# or : 논리연산.  참으로 판별되는 첫번째 항의 결과 반환\n",
    "        # 모든 항이 거짓이면 마지막항의 결과 반환\n",
    "print(False or 0 or '' or None or [])\n",
    "print(False or 0 or 'Hong' or None or [])"
   ]
  },
  {
   "cell_type": "code",
   "execution_count": null,
   "id": "a4d0272e",
   "metadata": {},
   "outputs": [],
   "source": [
    "not 10>5"
   ]
  },
  {
   "cell_type": "markdown",
   "id": "ce19b67f",
   "metadata": {},
   "source": [
    "## 5.4 비교연산자:>,>=,<,<=,==(같다), !=(다르다)"
   ]
  },
  {
   "cell_type": "code",
   "execution_count": null,
   "id": "8b1ca6ea",
   "metadata": {},
   "outputs": [],
   "source": [
    "# 비교연산자는 이항,상항, 사항, ...다항연산자\n",
    "x = 95\n",
    "print( (90<=x) & (x<=100) )\n",
    "print(90<= x <=100)\n",
    "print(90<= x <=100 > 10)"
   ]
  },
  {
   "cell_type": "code",
   "execution_count": null,
   "id": "98133096",
   "metadata": {},
   "outputs": [],
   "source": [
    "# 비교연산자의 순위가 비트연산자(|,&)의 순위보다 낮다\n",
    "print( (10>5) & (10>7) )\n",
    "print( 10>5 & 10>7 ) # 괄호가 없으면 우선순위가 높은 5&10부터 실행\n",
    "print( 10 > 0 > 7 )\n",
    "# 0101(5) & 1010(10)"
   ]
  },
  {
   "cell_type": "code",
   "execution_count": null,
   "id": "d5b64cc1",
   "metadata": {},
   "outputs": [],
   "source": [
    "address = \"목동\"\n",
    "age = 29\n",
    "print( (address==\"목동\") & (age<=30))\n",
    "print( address==\"목동\" and age<=30)"
   ]
  },
  {
   "cell_type": "code",
   "execution_count": null,
   "id": "9aa6c174",
   "metadata": {},
   "outputs": [],
   "source": [
    "# 문자는 ASCII 코드 순으로 비교 : 특수문자 < 숫자문자 < 대문자 < 소문자(abc순)\n",
    "\"김길동\" < \"홍길동\""
   ]
  },
  {
   "cell_type": "code",
   "execution_count": null,
   "id": "a048d949",
   "metadata": {},
   "outputs": [],
   "source": [
    "\"scott\" < \"tiger\""
   ]
  },
  {
   "cell_type": "markdown",
   "id": "e4716685",
   "metadata": {},
   "source": [
    "## 5.5 비트연산:&,|,^(XOR),~(반대)\n",
    "\n",
    "'''\n",
    "x     y    x&y     x|y     x^y     ~x\n",
    "-------------------------------------------\n",
    "0     0      0         0        0         1\n",
    "0     1      0         1        1         1  \n",
    "1     0      0         1        1         0\n",
    "1     1      1         1        0         0\n",
    "\n",
    "'''"
   ]
  },
  {
   "cell_type": "code",
   "execution_count": null,
   "id": "5d73c89c",
   "metadata": {},
   "outputs": [],
   "source": [
    "a = 15 # 1111(8+4+2+1)\n",
    "b =  2 # 0010\n",
    "print(\"  a = {0:2} : {0:04b}\".format(a))\n",
    "print(\"  b = {0:2} : {0:04b}\".format(b))\n",
    "print(\"a&b = {0:2} : {0:04b}\".format(a&b))\n",
    "print(\"a|b = {0:2} : {0:04b}\".format(a|b))\n",
    "print(\"a^b = {0:2} : {0:04b}\".format(a^b))"
   ]
  },
  {
   "cell_type": "markdown",
   "id": "71858140",
   "metadata": {},
   "source": [
    "## 6절 문자열 다루기\n",
    "- 문자열 변수.[from:to:step]: 일부문자 추출\n",
    "- len(문자열 변수) : 문자수\n",
    "- upper() : 대문자로\n",
    "- lower() : 소문자로\n",
    "- title() : 각 어절의 앞 글자만 대문자로\n",
    "- capitalze() : 첫 문자만 대문지로\n",
    "- count(\"찾을문자\") : \"찾을문자\"가 몇개 들어 있는지 갯수 반환\n",
    "- find(\"찾을문자\") :\"찾을문자\"가 왼쪽부터 몇번째에 있는지 index를 변환\n",
    "- rfind(\"찾을문자\") : \"찾을문자\"가 오른쪽부터 몇번째인에 있는지 index를 변환\n",
    "- cf. index(\"찾을문자\") : \"찾을문자\"가 왼쪽부터 몇번째에 있는지 index를 변환\n",
    "- startswith(\"특정문자\") : \"특정문자\"로 시작는지 여부 반환\n",
    "- endswith(\"특정문자\") : \"특정문자\"로 끝나는지 여부 반환\n",
    "\n",
    "- strip() : 좌우공백제거(trim)\n",
    "- lstrip() : 왼쪽공백제거\n",
    "- rstrip() : 오른쪽공백제거\n",
    "- split() : 문자열을 공백이나 다른 문자 기준으로 나누어 리스트 반환\n",
    "- isdigit() :문자열이 숫자문자열인지 여부 반환\n",
    "- islower() : 문자열이 소문자인지 여부 반환\n",
    "- isupper() : 문자열이 대문자인지 여부 반환\n",
    "- replace(oldStr,newStr) : oldStr을 newStr로 변경"
   ]
  },
  {
   "cell_type": "code",
   "execution_count": null,
   "id": "223437b4",
   "metadata": {},
   "outputs": [],
   "source": [
    "temp = \"python is easy. python is smart. python\"\n",
    "temp, len(temp)"
   ]
  },
  {
   "cell_type": "code",
   "execution_count": null,
   "id": "b8502196",
   "metadata": {},
   "outputs": [],
   "source": [
    "temp = \"python is easy. python is smart. python\"\n",
    "    # 0123456789012345678901234567890123\n",
    "print(\"대문자로 :\", temp.upper())\n",
    "print(\"소문자로 :\", temp.lower())\n",
    "print(\"title() :\", temp.title())\n",
    "print(\"capitalize() :\", temp.capitalize())\n",
    "print(\"c가 몇번 나오는지 :\", temp.count(\"c\"))\n",
    "print(\"python이 몇번 나오는지 :\", temp.count(\"python\"))\n",
    "print(\"대소문자 구분없이 python이 몇번 :\", temp.lower().count(\"python\"))\n",
    "print(\"대소문자 구분없이 python이 몇번 :\", temp.upper().count(\"PYTHON\"))\n",
    "print(\"대소문자 구분없이 python이 몇번 :\", temp.title().count(\"python\"))\n",
    "print(\"python이 나오는 첫 index 위치:\", temp.find(\"python\"))\n",
    "print(\"python이 나오는 마지막 index 위치:\", temp.rfind(\"python\"))\n",
    "print(\"C가 나오는 index위치 :\", temp.find(\"C\")) #찾을 문자가 없는 경우 -1\n",
    "print(\"python이 나오는 첫 index 위치 :\",temp.index(\"python\"))\n",
    "# print(\"java가 나오는 첫 index 위치 :\",temp.index(\"java\")) 찾을 문자가 없을 경우 에러\n",
    "print(\"python으로 시작하는지 여부 :\", temp.startswith(\"python\"))\n",
    "print(\"대소문자 구분없이 python으로 시작하는지 여부 :\", temp.lower().startswith(\"python\"))\n",
    "print(\"python으로 끝나는지 여부 :\", temp.endswith(\"python\"))\n",
    "print(\"n으로 끝나는지 여부 :\", temp.endswith(\"n\"))\n",
    "print(\"python을 R로 변경 :\", temp.replace(\"python\",\"R\"))\n",
    "print(temp)"
   ]
  },
  {
   "cell_type": "code",
   "execution_count": 6,
   "id": "965112aa",
   "metadata": {},
   "outputs": [
    {
     "name": "stdout",
     "output_type": "stream",
     "text": [
      "좌우 공백 제거 : [python is easy]\n",
      "왼쪽 공백 제거 : [python is easy    ]\n",
      "오른쪽 공백 제거 : [    python is easy]\n",
      "isdigit(숫자문자)인지 여부 : False\n",
      "replace 후 isdigit : True\n",
      "대문자인지 여부 : False\n",
      "소문자인지 여부 : True\n"
     ]
    }
   ],
   "source": [
    "temp =\"    python is easy    \"\n",
    "notdigit = \"1,000\"\n",
    "print(\"좌우 공백 제거 : [{}]\".format(temp.strip()) )\n",
    "print(\"왼쪽 공백 제거 : [{}]\".format(temp.lstrip()) )\n",
    "print(\"오른쪽 공백 제거 : [{}]\".format(temp.rstrip()) )\n",
    "print(\"isdigit(숫자문자)인지 여부 :\", notdigit.isdigit() )\n",
    "print(\"replace 후 isdigit :\", notdigit.replace(\",\", \"\").isdigit())\n",
    "print(\"대문자인지 여부 :\", temp.isupper())\n",
    "print(\"소문자인지 여부 :\", temp.islower())"
   ]
  },
  {
   "cell_type": "code",
   "execution_count": 9,
   "id": "2e53242a",
   "metadata": {},
   "outputs": [
    {
     "name": "stdout",
     "output_type": "stream",
     "text": [
      "space단위로 names 분리(list로 반환) : ['홍길동', '김길동', '박길동', '주길동', '고길동']\n",
      "홍길동 김길동\n"
     ]
    }
   ],
   "source": [
    "names = \"홍길동 김길동    박길동 주길동 고길동\"\n",
    "name_list = names.split()\n",
    "print(\"space단위로 names 분리(list로 반환) :\", names.split())\n",
    "print(name_list[0], name_list[1])"
   ]
  },
  {
   "cell_type": "code",
   "execution_count": 12,
   "id": "e2e6a621",
   "metadata": {},
   "outputs": [
    {
     "name": "stdout",
     "output_type": "stream",
     "text": [
      "['2025', '09', '17']\n",
      "년도 : 2025\n",
      "월 : 09\n",
      "일 : 17\n"
     ]
    }
   ],
   "source": [
    "date_str = \"2025-09-17\"\n",
    "date_list = date_str.split(\"-\")\n",
    "print(date_list)\n",
    "print(\"년도 :\", date_list[0])\n",
    "print(\"월 :\", date_list[1])\n",
    "print(\"일 :\", date_list[2])"
   ]
  },
  {
   "cell_type": "code",
   "execution_count": 16,
   "id": "3873c319",
   "metadata": {},
   "outputs": [
    {
     "data": {
      "text/plain": [
       "('A', 'B', 'C')"
      ]
     },
     "execution_count": 16,
     "metadata": {},
     "output_type": "execute_result"
    }
   ],
   "source": [
    "str_ = \"ABC\"\n",
    "str_ =[\"A\", \"B\", \"C\"]\n",
    "str_[0], str_[1], str_[2]"
   ]
  },
  {
   "cell_type": "code",
   "execution_count": 24,
   "id": "5fffa486",
   "metadata": {},
   "outputs": [
    {
     "name": "stdout",
     "output_type": "stream",
     "text": [
      "분리된 temp : ['Python', '웹(HTML/CSS/JS)', 'Oracle/MySQL(DBMS)', 'DL/ML', 'LLM(RAG)']\n",
      "join temp : Python/웹(HTML/CSS/JS)/Oracle/MySQL(DBMS)/DL/ML/LLM(RAG)\n"
     ]
    }
   ],
   "source": [
    "# ' - '을 \"/\"로 바꾸기\n",
    "temp =\"Python - 웹(HTML/CSS/JS) - Oracle/MySQL(DBMS) - DL/ML - LLM(RAG)\"\n",
    "# temp.replace(\" - \", \"/\")\n",
    "# split()와 join() 이용하여 replace역할\n",
    "splited_temp = temp.split(\" - \")\n",
    "print(\"분리된 temp :\", splited_temp)\n",
    "joinded_temp = \"/\".join(splited_temp)\n",
    "print(\"join temp :\", joinded_temp)"
   ]
  },
  {
   "cell_type": "code",
   "execution_count": 4,
   "id": "83d2079c",
   "metadata": {},
   "outputs": [],
   "source": [
    "# 문자열을 다룰 수 있는 함수들 목록\n",
    "temp = \"a\"\n",
    "# dir(str)"
   ]
  },
  {
   "cell_type": "markdown",
   "id": "f2e9db2d",
   "metadata": {},
   "source": [
    "# 7절 시간, 날짜 다루기"
   ]
  },
  {
   "cell_type": "code",
   "execution_count": 27,
   "id": "6c42a5bb",
   "metadata": {},
   "outputs": [
    {
     "data": {
      "text/plain": [
       "'C:\\\\Users\\\\Admin\\\\anaconda3\\\\lib\\\\datetime.py'"
      ]
     },
     "execution_count": 27,
     "metadata": {},
     "output_type": "execute_result"
    }
   ],
   "source": [
    "import datetime\n",
    "datetime.__file__"
   ]
  },
  {
   "cell_type": "code",
   "execution_count": 1,
   "id": "ef3755c8",
   "metadata": {},
   "outputs": [],
   "source": [
    "# datetime모듈(datetime.py)안의 datetime, date, time만 load\n",
    "from datetime import datetime, date, time"
   ]
  },
  {
   "cell_type": "markdown",
   "id": "51ec318e",
   "metadata": {},
   "source": [
    "## 7.1시간과 날짜"
   ]
  },
  {
   "cell_type": "code",
   "execution_count": 3,
   "id": "60d3e282",
   "metadata": {},
   "outputs": [],
   "source": [
    "# 특정 시점을 갖는 datetime 객체 생성\n",
    "thatday = datetime(2025, 9, 11, 9, 30)"
   ]
  },
  {
   "cell_type": "code",
   "execution_count": 7,
   "id": "06e7cac1",
   "metadata": {},
   "outputs": [
    {
     "name": "stdout",
     "output_type": "stream",
     "text": [
      "25년09월11일(Thursday) 09:30:00\n",
      "25년09월11일(Thursday) 09:30:00\n",
      "Thu Sep 11 09:30:00 2025\n"
     ]
    }
   ],
   "source": [
    "# 날짜를 문자열로 전환\n",
    "print(\"{:%y년%m월%d일(%A) %H:%M:%S}\".format(thatday))\n",
    "print(thatday.strftime(\"%y년%m월%d일(%A) %H:%M:%S\"))\n",
    "print(thatday.ctime()) #ctime() : 사람이 읽기 쉬운 "
   ]
  },
  {
   "cell_type": "code",
   "execution_count": 9,
   "id": "61598d49",
   "metadata": {},
   "outputs": [
    {
     "name": "stdout",
     "output_type": "stream",
     "text": [
      "2025-09-17 14:24:45.464751\n",
      "Wed Sep 17 14:24:45 2025\n",
      "25년09월17일(Wednesday) 14:24:45\n"
     ]
    }
   ],
   "source": [
    "# 지금을 저장하는 datetime 객체 생성\n",
    "now = datetime.now()\n",
    "print(now)\n",
    "print(now.ctime())\n",
    "print(now.strftime(\"%y년%m월%d일(%A) %H:%M:%S\"))"
   ]
  },
  {
   "cell_type": "code",
   "execution_count": 10,
   "id": "cfc0916f",
   "metadata": {},
   "outputs": [
    {
     "name": "stdout",
     "output_type": "stream",
     "text": [
      "6 days, 4:54:45.464751\n",
      "6\n"
     ]
    }
   ],
   "source": [
    "diff = now-thatday\n",
    "print(diff)\n",
    "print(diff.days)"
   ]
  },
  {
   "cell_type": "markdown",
   "id": "a48e1a47",
   "metadata": {},
   "source": [
    "## 7.2 날짜"
   ]
  },
  {
   "cell_type": "code",
   "execution_count": 11,
   "id": "0cafd9f1",
   "metadata": {},
   "outputs": [
    {
     "data": {
      "text/plain": [
       "datetime.date(2025, 9, 11)"
      ]
     },
     "execution_count": 11,
     "metadata": {},
     "output_type": "execute_result"
    }
   ],
   "source": [
    "# 특정한 날짜를 갖는 date객체 생성\n",
    "someday = date(2025, 9, 11)\n",
    "someday"
   ]
  },
  {
   "cell_type": "code",
   "execution_count": 12,
   "id": "56f51b14",
   "metadata": {},
   "outputs": [
    {
     "name": "stdout",
     "output_type": "stream",
     "text": [
      "2025-09-11\n",
      "2025년 09월 11일 00:00\n"
     ]
    }
   ],
   "source": [
    "print(someday)\n",
    "print(someday.strftime(\"%Y년 %m월 %d일 %H:%M\"))"
   ]
  },
  {
   "cell_type": "code",
   "execution_count": 13,
   "id": "5f480ac5",
   "metadata": {},
   "outputs": [
    {
     "name": "stdout",
     "output_type": "stream",
     "text": [
      "True\n"
     ]
    }
   ],
   "source": [
    "# 오늘은 갖는 date 객체 생성\n",
    "today1 = date.today()\n",
    "today2 = datetime.now().date()\n",
    "print(today1==today2)"
   ]
  },
  {
   "cell_type": "code",
   "execution_count": 15,
   "id": "5b2cd1eb",
   "metadata": {},
   "outputs": [
    {
     "name": "stdout",
     "output_type": "stream",
     "text": [
      "2025년09월17일 00:00\n",
      "2025년09월17일 00:00\n"
     ]
    }
   ],
   "source": [
    "print(today1.strftime(\"%Y년%m월%d일 %H:%M\"))\n",
    "print(today2.strftime(\"%Y년%m월%d일 %H:%M\"))"
   ]
  },
  {
   "cell_type": "code",
   "execution_count": 16,
   "id": "f4e572cd",
   "metadata": {},
   "outputs": [
    {
     "name": "stdout",
     "output_type": "stream",
     "text": [
      "-6 days, 0:00:00\n",
      "-6\n"
     ]
    }
   ],
   "source": [
    "diff = someday - today1\n",
    "print(diff)\n",
    "print(diff.days)"
   ]
  },
  {
   "cell_type": "markdown",
   "id": "bb4094ee",
   "metadata": {},
   "source": [
    "## 7.3 시간"
   ]
  },
  {
   "cell_type": "code",
   "execution_count": 17,
   "id": "f6c4c2c1",
   "metadata": {},
   "outputs": [
    {
     "data": {
      "text/plain": [
       "datetime.time(14, 39)"
      ]
     },
     "execution_count": 17,
     "metadata": {},
     "output_type": "execute_result"
    }
   ],
   "source": [
    "# 특정한 시간을 저장하는 time 객체 생성\n",
    "t = time(14, 39, 0)\n",
    "t"
   ]
  },
  {
   "cell_type": "code",
   "execution_count": 22,
   "id": "edbc59d1",
   "metadata": {},
   "outputs": [
    {
     "name": "stdout",
     "output_type": "stream",
     "text": [
      "PM 02:39\n"
     ]
    }
   ],
   "source": [
    "# print(t.strftime((\"%Y년 %m월 %d일 %p %I:%M\"))\n",
    "print(t.strftime(\"%p %I:%M\"))"
   ]
  },
  {
   "cell_type": "code",
   "execution_count": 23,
   "id": "2c71d51f",
   "metadata": {},
   "outputs": [
    {
     "name": "stdout",
     "output_type": "stream",
     "text": [
      "14:46:26.781086\n"
     ]
    }
   ],
   "source": [
    "# 현재시간\n",
    "nowtime = datetime.now().time()\n",
    "print(nowtime)"
   ]
  },
  {
   "cell_type": "markdown",
   "id": "ee265873",
   "metadata": {},
   "source": [
    "## 8절. 연습문제"
   ]
  },
  {
   "cell_type": "code",
   "execution_count": 27,
   "id": "6b6e8f7c",
   "metadata": {},
   "outputs": [
    {
     "name": "stdout",
     "output_type": "stream",
     "text": [
      "홍길동님의 나이는 23살입니다\n"
     ]
    }
   ],
   "source": [
    "# 1. [출력형식 : 홍갈동님의 나이는 23살입니다]\n",
    "name = \"홍길동\"\n",
    "age = 23\n",
    "print(\"{}님의 나이는 {}살입니다\".format(name,age))"
   ]
  },
  {
   "cell_type": "code",
   "execution_count": 30,
   "id": "02de9d99",
   "metadata": {},
   "outputs": [
    {
     "name": "stdout",
     "output_type": "stream",
     "text": [
      "첫번째 숫자?15\n",
      "두번째 숫자?9\n",
      "덧셈 : 24\n",
      "뺼셈 : 6\n",
      "곱셈 : 135\n",
      "나눗셈 : 1.6666666666666667\n",
      "몫 : 1\n",
      "나머지 : 6\n"
     ]
    }
   ],
   "source": [
    "# 2. 정수입력받아 산술연산결과 출력\n",
    "a = int(input(\"첫번째 숫자?\"))\n",
    "b = int(input(\"두번째 숫자?\"))\n",
    "print(\"덧셈 :\",a + b)\n",
    "print(\"뺼셈 :\",a - b)\n",
    "print(\"곱셈 :\",a * b)\n",
    "print(\"나눗셈 :\",a/b)\n",
    "print(\"몫 :\",a//b)\n",
    "print(\"나머지 :\",a%b)"
   ]
  },
  {
   "cell_type": "code",
   "execution_count": null,
   "id": "7e59b31d",
   "metadata": {},
   "outputs": [],
   "source": [
    "# 3.\n",
    "message =\"Hello World\"\n",
    "message.split()\n",
    "name_list = names.split()\n",
    "print(\"space단위로 message 분리(list로 반환) :\", names.split())\n",
    "print(name_list[0], name_list[1])"
   ]
  },
  {
   "cell_type": "markdown",
   "id": "a97397cc",
   "metadata": {},
   "source": []
  },
  {
   "cell_type": "code",
   "execution_count": null,
   "id": "78fa745b",
   "metadata": {},
   "outputs": [],
   "source": []
  },
  {
   "cell_type": "code",
   "execution_count": null,
   "id": "dec4d375",
   "metadata": {},
   "outputs": [],
   "source": []
  },
  {
   "cell_type": "code",
   "execution_count": null,
   "id": "6134a1b4",
   "metadata": {},
   "outputs": [],
   "source": []
  }
 ],
 "metadata": {
  "kernelspec": {
   "display_name": "Python 3 (ipykernel)",
   "language": "python",
   "name": "python3"
  },
  "language_info": {
   "codemirror_mode": {
    "name": "ipython",
    "version": 3
   },
   "file_extension": ".py",
   "mimetype": "text/x-python",
   "name": "python",
   "nbconvert_exporter": "python",
   "pygments_lexer": "ipython3",
   "version": "3.10.9"
  },
  "toc": {
   "base_numbering": 1,
   "nav_menu": {},
   "number_sections": false,
   "sideBar": true,
   "skip_h1_title": false,
   "title_cell": "Table of Contents",
   "title_sidebar": "Contents",
   "toc_cell": false,
   "toc_position": {
    "height": "calc(100% - 180px)",
    "left": "10px",
    "top": "150px",
    "width": "382.391px"
   },
   "toc_section_display": true,
   "toc_window_display": true
  }
 },
 "nbformat": 4,
 "nbformat_minor": 5
}
