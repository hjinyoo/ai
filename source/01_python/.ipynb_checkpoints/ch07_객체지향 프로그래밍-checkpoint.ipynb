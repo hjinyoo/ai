{
 "cells": [
  {
   "cell_type": "code",
   "execution_count": 1,
   "id": "e95fd87a",
   "metadata": {},
   "outputs": [
    {
     "data": {
      "text/html": [
       "\n",
       "<style>\n",
       "div.container{width:90% !important;}\n",
       "div.cell.code_cell.rendered{width:100%;}\n",
       "div.input_prompt{padding:0px;}\n",
       "div.CodeMirror {font-family:Consolas; font-size:12pt;}\n",
       "div.text_cell_render.rendered_html{font-size:12pt;}\n",
       "div.output {font-size:12pt; font-weight:bold;}\n",
       "div.input {font-family:Consolas; font-size:12pt;}\n",
       "div.prompt {min-width:70px;}\n",
       "div#toc-wrapper{padding-top:120px;}\n",
       "div.text_cell_render ul li{font-size:12pt;padding:5px;}\n",
       "table.dataframe{font-size:12px;}\n",
       "</style>\n"
      ],
      "text/plain": [
       "<IPython.core.display.HTML object>"
      ]
     },
     "metadata": {},
     "output_type": "display_data"
    }
   ],
   "source": [
    "from IPython.display import display, HTML\n",
    "display(HTML(\"\"\"\n",
    "<style>\n",
    "div.container{width:90% !important;}\n",
    "div.cell.code_cell.rendered{width:100%;}\n",
    "div.input_prompt{padding:0px;}\n",
    "div.CodeMirror {font-family:Consolas; font-size:12pt;}\n",
    "div.text_cell_render.rendered_html{font-size:12pt;}\n",
    "div.output {font-size:12pt; font-weight:bold;}\n",
    "div.input {font-family:Consolas; font-size:12pt;}\n",
    "div.prompt {min-width:70px;}\n",
    "div#toc-wrapper{padding-top:120px;}\n",
    "div.text_cell_render ul li{font-size:12pt;padding:5px;}\n",
    "table.dataframe{font-size:12px;}\n",
    "</style>\n",
    "\"\"\"))"
   ]
  },
  {
   "cell_type": "markdown",
   "id": "4cfd701d",
   "metadata": {},
   "source": [
    "<b><font size=\"6\" color=\"red\">ch07.객체지향 프로그래밍</font></b>"
   ]
  },
  {
   "cell_type": "code",
   "execution_count": 3,
   "id": "93d78147",
   "metadata": {},
   "outputs": [
    {
     "name": "stdout",
     "output_type": "stream",
     "text": [
      "홍길동 남자\n",
      "{'name': '홍낄동', 'gender': '남자', 'acadedmy': 'MBC'}\n",
      "{'name': '김길숙', 'gender': '여자', 'acadedmy': 'MBC'}\n"
     ]
    }
   ],
   "source": [
    "person1 = {'name':'홍길동', 'gender':'남자', 'acadedmy':'MBC'}\n",
    "person2 = {'name':'김길숙', 'gender':'여자', 'acadedmy':'MBC'}\n",
    "print(person1['name'],person1.get('gender'))\n",
    "person1['name'] = '홍낄동'\n",
    "print(person1)\n",
    "print(person2)\n",
    "# person1.my_function()"
   ]
  },
  {
   "cell_type": "code",
   "execution_count": 14,
   "id": "dee190a0",
   "metadata": {},
   "outputs": [
    {
     "name": "stdout",
     "output_type": "stream",
     "text": [
      "MBC의 김길숙님은 여자입니다\n",
      "MBC의 홍길동님은 남자입니다\n",
      "MBC의 홍홍홍님은 여자입니다\n",
      "MBC의 홍길동님은 남자입니다\n"
     ]
    }
   ],
   "source": [
    "class Person:\n",
    "    academy = 'MBC' # 클래스변수\n",
    "    def __init__(self, name, gender): #생성자 함수\n",
    "        self.name = name\n",
    "        self.gender = gender\n",
    "    def print_info(self):\n",
    "        print(\"{}의 {}님은 {}입니다\".format(self.academy, self.name, self.gender))\n",
    "        \n",
    "p1 = Person(\"김길숙\", \"여자\") # 객채변수(인스턴스) 생성\n",
    "p1.print_info()\n",
    "p2 = Person(\"홍길동\", \"남자\")\n",
    "p2.print_info()\n",
    "p1.name = \"홍홍홍\"\n",
    "p1.print_info()\n",
    "p2.print_info()"
   ]
  },
  {
   "cell_type": "code",
   "execution_count": 9,
   "id": "c0cf2a3f",
   "metadata": {},
   "outputs": [
    {
     "name": "stdout",
     "output_type": "stream",
     "text": [
      "SBS의 홍길동님은 남자입니다\n",
      "MBC의 홍홍홍님은 여자입니다\n"
     ]
    }
   ],
   "source": [
    "p2.academy = 'SBS'\n",
    "p2.print_info()\n",
    "p1.print_info()"
   ]
  },
  {
   "cell_type": "markdown",
   "id": "9f9c284a",
   "metadata": {},
   "source": [
    "# 1절 객체와 클래스\n",
    "```\n",
    "class 클래스명(상속받을 클래스명):\n",
    "    \"독스트링\"\n",
    "    변수나 함수들을 선언\n",
    "```"
   ]
  },
  {
   "cell_type": "code",
   "execution_count": 18,
   "id": "f3346306",
   "metadata": {},
   "outputs": [
    {
     "data": {
      "text/plain": [
       "__main__.Person"
      ]
     },
     "execution_count": 18,
     "metadata": {},
     "output_type": "execute_result"
    }
   ],
   "source": [
    "class Person:\n",
    "    \"Person 클래스는 어쩌구저쩌구 여러줄 설명하는 독스트링\"\n",
    "    pass\n",
    "#     def __init__(self, name,): \n",
    "#     pass\n",
    "p1 = Person()\n",
    "type(p1)"
   ]
  },
  {
   "cell_type": "code",
   "execution_count": 15,
   "id": "bf806c71",
   "metadata": {},
   "outputs": [
    {
     "name": "stdout",
     "output_type": "stream",
     "text": [
      "<__main__.Person object at 0x000002949266D5D0>\n",
      "<__main__.Person object at 0x000002949266D5D0>\n"
     ]
    }
   ],
   "source": [
    "print(p1)\n",
    "print(p1.__str__())"
   ]
  },
  {
   "cell_type": "code",
   "execution_count": 16,
   "id": "23304444",
   "metadata": {},
   "outputs": [
    {
     "data": {
      "text/plain": [
       "True"
      ]
     },
     "execution_count": 16,
     "metadata": {},
     "output_type": "execute_result"
    }
   ],
   "source": [
    "isinstance(p1, Person)"
   ]
  },
  {
   "cell_type": "code",
   "execution_count": 19,
   "id": "8c73da75",
   "metadata": {},
   "outputs": [
    {
     "data": {
      "text/plain": [
       "'Person 클래스는 어쩌구저쩌구 여러줄 설명하는 독스트링'"
      ]
     },
     "execution_count": 19,
     "metadata": {},
     "output_type": "execute_result"
    }
   ],
   "source": [
    "p1.__doc__"
   ]
  },
  {
   "cell_type": "markdown",
   "id": "fb2e3841",
   "metadata": {},
   "source": [
    "# 2절 생성자(`__init__()`)와 소멸자 (`__del__`)\n",
    "- 생성자 : __init__(self, [매개변수1, 매개변수2..]) 객체가 생성될 때 자동 실행\n",
    "        객체 생성시 필요한 코드(인스턴스 변수 생성과 초기화)를 포함한다\n",
    "- 소멸자 : __del__(self) - 객체가 소멸될 때 자동실행\n",
    "        객체 소멸시 필요한 코드를 포함\n",
    "        인스턴스(객체)의 레퍼런스 카운트가 0이 될 때 실행"
   ]
  },
  {
   "cell_type": "code",
   "execution_count": 2,
   "id": "6e5c7d06",
   "metadata": {},
   "outputs": [],
   "source": [
    "class Person:\n",
    "    def __init__(self, name, gender):\n",
    "        self.name = name # 인스턴스 변수를 초기화\n",
    "        self.gender = gender\n",
    "        print(\"Person형 객체를 생성\")\n",
    "    def __del__(self):\n",
    "        print(\"Person형 객체 소멸\")\n",
    "    def print_info(self):\n",
    "        print(\"{}님은 {}입니다\".format(self.name, self.gender))\n",
    "    def __str__(self): # 오버라이딩(함수의 재정의)\n",
    "        return \"{}님은 {}입니다\".format(self.name, self.gender)"
   ]
  },
  {
   "cell_type": "code",
   "execution_count": 4,
   "id": "97eccfd2",
   "metadata": {},
   "outputs": [
    {
     "name": "stdout",
     "output_type": "stream",
     "text": [
      "Person형 객체를 생성\n",
      "Person형 객체 소멸\n"
     ]
    }
   ],
   "source": [
    "p1 = Person(\"신사임당\", \"여자\")"
   ]
  },
  {
   "cell_type": "code",
   "execution_count": 41,
   "id": "67d89ed7",
   "metadata": {},
   "outputs": [
    {
     "name": "stdout",
     "output_type": "stream",
     "text": [
      "신사임당님은 여자입니다\n"
     ]
    }
   ],
   "source": [
    "p1.print_info()"
   ]
  },
  {
   "cell_type": "code",
   "execution_count": 42,
   "id": "5ff60e2f",
   "metadata": {},
   "outputs": [
    {
     "name": "stdout",
     "output_type": "stream",
     "text": [
      "신사임당님은 여자입니다\n",
      "신사임당님은 여자입니다\n"
     ]
    }
   ],
   "source": [
    "print(p1)\n",
    "print(p1.__str__())"
   ]
  },
  {
   "cell_type": "code",
   "execution_count": 5,
   "id": "a49048cd",
   "metadata": {},
   "outputs": [
    {
     "data": {
      "text/plain": [
       "(__main__.Person, True)"
      ]
     },
     "execution_count": 5,
     "metadata": {},
     "output_type": "execute_result"
    }
   ],
   "source": [
    "type(p1), isinstance(p1, Person)"
   ]
  },
  {
   "cell_type": "code",
   "execution_count": 6,
   "id": "ee99e84c",
   "metadata": {},
   "outputs": [
    {
     "name": "stdout",
     "output_type": "stream",
     "text": [
      "Person형 객체 소멸\n"
     ]
    }
   ],
   "source": [
    "del p1"
   ]
  },
  {
   "cell_type": "code",
   "execution_count": 13,
   "id": "03b42e28",
   "metadata": {},
   "outputs": [
    {
     "name": "stdout",
     "output_type": "stream",
     "text": [
      "Person형 객체를 생성\n"
     ]
    }
   ],
   "source": [
    "p2 = Person(\"홍길동\", \"남자\")"
   ]
  },
  {
   "cell_type": "code",
   "execution_count": 14,
   "id": "3dbb65fb",
   "metadata": {},
   "outputs": [],
   "source": [
    "p3 = p2"
   ]
  },
  {
   "cell_type": "code",
   "execution_count": 15,
   "id": "ecb57538",
   "metadata": {},
   "outputs": [],
   "source": [
    "del p2"
   ]
  },
  {
   "cell_type": "code",
   "execution_count": 16,
   "id": "5de3159f",
   "metadata": {},
   "outputs": [
    {
     "name": "stdout",
     "output_type": "stream",
     "text": [
      "Person형 객체 소멸\n"
     ]
    }
   ],
   "source": [
    "del p3"
   ]
  },
  {
   "cell_type": "markdown",
   "id": "442c617a",
   "metadata": {},
   "source": [
    "- **오버라이딩**(함수의 재정의)\n",
    "- 파이썬은 **오버로딩**(함수의 중복정의) 불가\n",
    "- 생성자함수 **오버로딩** 불가"
   ]
  },
  {
   "cell_type": "code",
   "execution_count": 26,
   "id": "8ec184d9",
   "metadata": {},
   "outputs": [],
   "source": [
    "class Person:\n",
    "    # 생성자함수의 오버로딩 불가. 대신 기본값을 갖는 매개변수 이용\n",
    "    def __init__(self, name=\"홍길동\", gender=\"남자\"):\n",
    "        self.name = name # 인스턴스 변수를 초기화\n",
    "        self.gender = gender\n",
    "        print(\"Person형 객체를 생성\")\n",
    "#     def __init__(self, name):\n",
    "#         self.name = name\n",
    "#         self.gender =\"남자\"\n",
    "    def print_info(self):\n",
    "        print(\"{}님은 {}입니다\".format(self.name, self.gender))\n",
    "    def __str__(self): # 오버라이딩(함수의 재정의)\n",
    "        return \"{}님은 {}입니다\".format(self.name, self.gender)"
   ]
  },
  {
   "cell_type": "code",
   "execution_count": 29,
   "id": "e0c810f3",
   "metadata": {},
   "outputs": [
    {
     "name": "stdout",
     "output_type": "stream",
     "text": [
      "Person형 객체를 생성\n",
      "Person형 객체를 생성\n",
      "Person형 객체를 생성\n",
      "Person형 객체를 생성\n",
      "Person형 객체를 생성\n"
     ]
    }
   ],
   "source": [
    "p1 = Person(\"홍길동\", \"남자\")\n",
    "p2 = Person(\"강감찬\")\n",
    "p3 = Person()\n",
    "p4 = Person(\"여자\")\n",
    "p5 = Person(gender=\"여자\",name=\"홍이쁨\")"
   ]
  },
  {
   "cell_type": "code",
   "execution_count": 30,
   "id": "0a03a3d8",
   "metadata": {},
   "outputs": [
    {
     "name": "stdout",
     "output_type": "stream",
     "text": [
      "p1= 홍길동님은 남자입니다\n",
      "p2= 강감찬님은 남자입니다\n",
      "p3= 홍길동님은 남자입니다\n",
      "p4= 여자님은 남자입니다\n",
      "p5= 홍이쁨님은 여자입니다\n"
     ]
    }
   ],
   "source": [
    "print('p1=',p1)\n",
    "print('p2=',p2)\n",
    "print('p3=',p3)\n",
    "print('p4=',p4)\n",
    "print('p5=',p5)"
   ]
  },
  {
   "cell_type": "markdown",
   "id": "45ebc6d5",
   "metadata": {},
   "source": [
    "# 3절 변수와 메소드(함수)\n",
    "- 인스턴스변수 vs 클래스변수 vs static변수(정적변수)\n",
    "- 인스턴스메소드(self) vs 클래스메소드(cls) vs static메소드()"
   ]
  },
  {
   "cell_type": "code",
   "execution_count": 45,
   "id": "51a7338e",
   "metadata": {},
   "outputs": [
    {
     "name": "stdout",
     "output_type": "stream",
     "text": [
      "MBC\n",
      "p1객체변수(인스턴스) = MBC의 홍길동님은 남자입니다\n",
      "p2객체변수(인스턴스) = MBC의 홍길동님은 남자입니다\n",
      "p1객체변수(인스턴스) = SBS의 홍길동님은 남자입니다\n",
      "p2객체변수(인스턴스) = 다른데의 홍길동님은 남자입니다\n"
     ]
    }
   ],
   "source": [
    "# 클래스변수는 클래스 내부에 선언되며, 생성된 모든 인스턴스(객체)에 동일한 값을 가진다\n",
    "# 인스턴스(객체).클래스변수로 수정하면 해당 인스턴스(객체)만 반영\n",
    "# 클래스명.클래스변수로 수정하면 모든 인스턴스에 반영\n",
    "class Person:\n",
    "    academy = 'MBC' # 클래스변수\n",
    "    def __init__(self, name=\"홍길동\", gender=\"남자\"): #생성자 함수\n",
    "        self.name = name\n",
    "        self.gender = gender\n",
    "    def __str__(self):\n",
    "        return \"{}의 {}님은 {}입니다\".format(self.academy, self.name, self.gender)\n",
    "print(Person.academy)\n",
    "p1 = Person()\n",
    "p2 = Person()\n",
    "print('p1객체변수(인스턴스) =', p1)\n",
    "print('p2객체변수(인스턴스) =', p2)\n",
    "p1.academy =\"SBS\" # 인스턴스.클래스변수로 수정하면 해당 인스턴스(객체)만 반영\n",
    "Person.academy=\"다른데\"\n",
    "print('p1객체변수(인스턴스) =', p1)\n",
    "print('p2객체변수(인스턴스) =', p2)\n",
    "# print(Person.__str__())"
   ]
  },
  {
   "cell_type": "markdown",
   "id": "79237d5d",
   "metadata": {},
   "source": [
    "※ 인스턴스 메소드 vs 클래스 메소드 vs static 메소드\n",
    "- 인스턴스 메소드 : 첫 번째 인자에 self를 꼭 명시. 객체를 통해서만 호출할 수 있는 메소드\n",
    "- 클래스 메소드 : 메소드 위에 @classmethod를 명시. 첫번째 인자에 clz(cls)를 명시\n",
    "- static 메소드 : 메소드 위에 @staticmethod를 명시. 디폴트 인자 없음"
   ]
  },
  {
   "cell_type": "code",
   "execution_count": 48,
   "id": "540b2e49",
   "metadata": {},
   "outputs": [],
   "source": [
    "class Person:\n",
    "    academy = \"MBC\" # 클래스 변수\n",
    "    def __init__(self, name=\"홍길동\", gender=\"남자\"):\n",
    "        self.name = name\n",
    "        self.gender = gender\n",
    "    def print_info(self): # 인스턴스 메소드: 객체변수.print_info()로 호출\n",
    "        print(\"일반(인스턴스)메소드 - {}의 {}님은 {}입니다\".format(self.academy,\n",
    "                                                    self.name,\n",
    "                                                    self.gender))\n",
    "    def change_info(self, name=\"익명\", gender=\"여자\"):\n",
    "        self.name = name\n",
    "        self.gender = gender\n",
    "        print(\"일반(인스턴스)메소드를 통해 {}로 이름변경. {}로 성별변경\".format(self.name, \n",
    "                                                          self.gender))\n",
    "    @classmethod\n",
    "    def do_(clz): # clz=> Person의미. 클래스 변수를 이용한 로직\n",
    "        clz.academy = 'classAcademy'\n",
    "        print(\"클래스메소드에서 {}로 클래스변수 변경\".format(clz.academy))\n",
    "    @classmethod\n",
    "    def done_(clz, academy): # clz=> Person의미. 클래스 변수를 이용한 로직\n",
    "        clz.academy = academy\n",
    "        print(\"클래스메소드에서 {}로 클래스변수 변경\".format(clz.academy))\n",
    "    @staticmethod\n",
    "    def that_(): # 클래스변수보다는 로직이 우선일 경우\n",
    "        Person.academy = \"staticAcademy\"\n",
    "        print(\"static 메소드에서 {}로 클래스 변수 변경\".format(Person.academy))"
   ]
  },
  {
   "cell_type": "code",
   "execution_count": 49,
   "id": "4902b647",
   "metadata": {},
   "outputs": [
    {
     "name": "stdout",
     "output_type": "stream",
     "text": [
      "일반(인스턴스)메소드 - MBC의 홍길동님은 남자입니다\n"
     ]
    }
   ],
   "source": [
    "p1 = Person()\n",
    "p1.print_info()"
   ]
  },
  {
   "cell_type": "code",
   "execution_count": 50,
   "id": "1806e8d6",
   "metadata": {},
   "outputs": [
    {
     "name": "stdout",
     "output_type": "stream",
     "text": [
      "static 메소드에서 staticAcademy로 클래스 변수 변경\n"
     ]
    }
   ],
   "source": [
    "Person.that_()"
   ]
  },
  {
   "cell_type": "code",
   "execution_count": 51,
   "id": "c259662e",
   "metadata": {},
   "outputs": [
    {
     "name": "stdout",
     "output_type": "stream",
     "text": [
      "일반(인스턴스)메소드 - staticAcademy의 홍길동님은 남자입니다\n"
     ]
    }
   ],
   "source": [
    "p1.print_info()"
   ]
  },
  {
   "cell_type": "code",
   "execution_count": 52,
   "id": "06b94b24",
   "metadata": {},
   "outputs": [
    {
     "name": "stdout",
     "output_type": "stream",
     "text": [
      "일반(인스턴스)메소드를 통해 익명로 이름변경. 여자로 성별변경\n",
      "일반(인스턴스)메소드 - staticAcademy의 익명님은 여자입니다\n"
     ]
    }
   ],
   "source": [
    "p1.change_info()\n",
    "p1.print_info()"
   ]
  },
  {
   "cell_type": "code",
   "execution_count": 53,
   "id": "3d8e8291",
   "metadata": {},
   "outputs": [
    {
     "name": "stdout",
     "output_type": "stream",
     "text": [
      "일반(인스턴스)메소드 - staticAcademy의 홍길동님은 남자입니다\n"
     ]
    }
   ],
   "source": [
    "p2 = Person()\n",
    "p2.print_info()"
   ]
  },
  {
   "cell_type": "code",
   "execution_count": 54,
   "id": "ec4f9b92",
   "metadata": {},
   "outputs": [
    {
     "name": "stdout",
     "output_type": "stream",
     "text": [
      "클래스메소드에서 classAcademy로 클래스변수 변경\n",
      "일반(인스턴스)메소드 - classAcademy의 익명님은 여자입니다\n",
      "일반(인스턴스)메소드 - classAcademy의 홍길동님은 남자입니다\n"
     ]
    }
   ],
   "source": [
    "Person.do_()\n",
    "p1.print_info()\n",
    "p2.print_info()"
   ]
  },
  {
   "cell_type": "code",
   "execution_count": 55,
   "id": "88608014",
   "metadata": {},
   "outputs": [
    {
     "name": "stdout",
     "output_type": "stream",
     "text": [
      "클래스메소드에서 SBS로 클래스변수 변경\n",
      "일반(인스턴스)메소드 - SBS의 익명님은 여자입니다\n",
      "일반(인스턴스)메소드 - SBS의 홍길동님은 남자입니다\n"
     ]
    }
   ],
   "source": [
    "Person.done_(\"SBS\")\n",
    "p1.print_info()\n",
    "p2.print_info()"
   ]
  },
  {
   "cell_type": "markdown",
   "id": "2fd3336b",
   "metadata": {},
   "source": [
    "# 4절 상속과 재정의\n",
    "- 클래스 재사용\n",
    "- 상속을 이용하면 부모클래스의 모든 속성을 자식클래스로 물려줄 수 있음\n",
    "```\n",
    "class 자식클래스명(부모클래스명):\n",
    "    \n",
    "```"
   ]
  },
  {
   "cell_type": "code",
   "execution_count": 2,
   "id": "b4a01c95",
   "metadata": {},
   "outputs": [],
   "source": [
    "class Person:\n",
    "    def __init__(self, name, gender):\n",
    "        self.name = name # 인스턴스 변수를 초기화\n",
    "        self.gender = gender\n",
    "        print(\"Person객체 생성합니다(부모클래스)\")\n",
    "    def print_info(self):\n",
    "        print(self)\n",
    "    def __str__(self): # 오버라이딩(함수의 재정의)\n",
    "        return \"{}님은 {}입니다\".format(self.name, self.gender)"
   ]
  },
  {
   "cell_type": "code",
   "execution_count": 3,
   "id": "78e204c6",
   "metadata": {},
   "outputs": [],
   "source": [
    "class Student(Person):\n",
    "    def __init__(self, name, gender, major):\n",
    "        self.name = name\n",
    "        self.gender = gender\n",
    "        self.major = major\n",
    "        print(\"Student 객체 생성합니다(자식클래스)\")\n",
    "    # 재정의(override) : 부모클래스에서 정의한 함수를 자식클래스에서 다시 정의\n",
    "    def __str__(self):\n",
    "        return \"{}님은 {}입니다. 전공은 {}입니다\".format(self.name, \n",
    "                                              self.gender, \n",
    "                                              self.major)"
   ]
  },
  {
   "cell_type": "code",
   "execution_count": 64,
   "id": "1e9bb2da",
   "metadata": {},
   "outputs": [
    {
     "name": "stdout",
     "output_type": "stream",
     "text": [
      "Person객체 생성합니다(부모클래스)\n",
      "홍길동님은 남자입니다\n",
      "True\n"
     ]
    }
   ],
   "source": [
    "p1 = Person(\"홍길동\",\"남자\")\n",
    "print(p1)\n",
    "print(isinstance(p1, Person))"
   ]
  },
  {
   "cell_type": "code",
   "execution_count": 65,
   "id": "69c6b4c4",
   "metadata": {},
   "outputs": [
    {
     "name": "stdout",
     "output_type": "stream",
     "text": [
      "Student 객체 생성합니다(자식클래스)\n",
      "홍길숙님은 여자입니다. 전공은 AI입니다\n"
     ]
    }
   ],
   "source": [
    "s1 = Student(\"홍길숙\",\"여자\",\"AI\")\n",
    "print(s1)"
   ]
  },
  {
   "cell_type": "code",
   "execution_count": 66,
   "id": "83f0944e",
   "metadata": {},
   "outputs": [
    {
     "name": "stdout",
     "output_type": "stream",
     "text": [
      "홍길숙님은 여자입니다. 전공은 AI입니다\n"
     ]
    }
   ],
   "source": [
    "s1.print_info()"
   ]
  },
  {
   "cell_type": "code",
   "execution_count": 67,
   "id": "35385eaa",
   "metadata": {},
   "outputs": [
    {
     "name": "stdout",
     "output_type": "stream",
     "text": [
      "True\n",
      "True\n"
     ]
    }
   ],
   "source": [
    "print(isinstance(s1, Student))\n",
    "print(isinstance(s1, Person))"
   ]
  },
  {
   "cell_type": "markdown",
   "id": "ae344d44",
   "metadata": {},
   "source": [
    "### super() 이용\n",
    "- super() : \"부모클래스의\"를 의미"
   ]
  },
  {
   "cell_type": "code",
   "execution_count": 6,
   "id": "72041a9f",
   "metadata": {},
   "outputs": [],
   "source": [
    "class Person:\n",
    "    def __init__(self, name, gender):\n",
    "        self.name = name # 인스턴스 변수를 초기화\n",
    "        self.gender = gender\n",
    "        print(\"Person객체 생성합니다(부모클래스)\")\n",
    "    def print_info(self):\n",
    "        print(self)\n",
    "    def __str__(self): # 오버라이딩(함수의 재정의)\n",
    "        return \"{}님은 {}입니다\".format(self.name, self.gender)\n",
    "class Student(Person):\n",
    "    def __init__(self, name, gender, major):\n",
    "        super().__init__(name, gender)\n",
    "        self.major = major\n",
    "        print(\"Student 객체 생성합니다(자식클래스)\")\n",
    "    # 재정의(override) : 부모클래스에서 정의한 함수를 자식클래스에서 다시 정의\n",
    "    def __str__(self):\n",
    "        return super().__str__() + \". 전공은 {}입니다\".format(self.major)    "
   ]
  },
  {
   "cell_type": "code",
   "execution_count": 7,
   "id": "39cc2d61",
   "metadata": {},
   "outputs": [
    {
     "name": "stdout",
     "output_type": "stream",
     "text": [
      "Person객체 생성합니다(부모클래스)\n",
      "Student 객체 생성합니다(자식클래스)\n",
      "아무개님은 여자입니다. 전공은 AI입니다\n",
      "아무개님은 여자입니다. 전공은 AI입니다\n"
     ]
    }
   ],
   "source": [
    "s2 = Student(\"아무개\",\"여자\", \"AI\")\n",
    "print(s2)\n",
    "s2.print_info()"
   ]
  },
  {
   "cell_type": "markdown",
   "id": "4fefa1ca",
   "metadata": {},
   "source": [
    "### static변수(정적변수) : 여러객체들 사이에 데이터를 공유하고 싶을 때 사용\n",
    "- static 변수 : 앞에 under score 2개(__) 붙임. 클래스명._클래스명__static변수명으로 참조\n",
    "- static변수는 클래스 내부에서만 접근하도록 하려는 용도"
   ]
  },
  {
   "cell_type": "code",
   "execution_count": 15,
   "id": "e76a4187",
   "metadata": {},
   "outputs": [],
   "source": [
    "class Student(Person):\n",
    "    'name, gender에 major변수를 갖는 Student 타입. Student객체를 몇번 생성했는지 공유'\n",
    "    __count = 0 # static변수\n",
    "    def __init__(self, name, gender, major):\n",
    "        super().__init__(name, gender)\n",
    "        self.major = major\n",
    "        Student._Student__count += 1 # 객체가 생성될 때마다 __count 1 증가\n",
    "    def __del__(self):\n",
    "        Student._Student__count -= 1 # 객체가 소멸될 때마다 __count 1 감소\n",
    "    def __str__(self):\n",
    "        return super().__str__() + \", 전공은 {} - 객체 {} 생성\".format(self.major,\n",
    "                                                               Student._Student__count)\n",
    "    @classmethod\n",
    "    def get_count(cls): # 클래스변수나 static변수를 이용하는 로직\n",
    "        return cls.__count\n",
    "        #return Student._Student__count"
   ]
  },
  {
   "cell_type": "code",
   "execution_count": 16,
   "id": "c3f8c455",
   "metadata": {},
   "outputs": [
    {
     "name": "stdout",
     "output_type": "stream",
     "text": [
      "Person객체 생성합니다(부모클래스)\n",
      "홍길동님은 남자입니다, 전공은 컴공 - 객체 1 생성\n",
      "객체 갯수 : 1\n",
      "객체 갯수 : 1\n"
     ]
    }
   ],
   "source": [
    "s1 = Student(\"홍길동\", \"남자\", \"컴공\")\n",
    "print(s1)\n",
    "print(\"객체 갯수 :\", Student.get_count())\n",
    "print(\"객체 갯수 :\", s1.get_count()) # 클래스 메소드는 클래스명."
   ]
  },
  {
   "cell_type": "code",
   "execution_count": 19,
   "id": "30e5cc33",
   "metadata": {},
   "outputs": [
    {
     "name": "stdout",
     "output_type": "stream",
     "text": [
      "Person객체 생성합니다(부모클래스)\n",
      "홍길숙님은 여자입니다, 전공은 컴공 - 객체 2 생성\n",
      "객체 갯수 : 2\n"
     ]
    }
   ],
   "source": [
    "s2 = Student(\"홍길숙\", \"여자\", \"컴공\")\n",
    "print(s2)\n",
    "print(\"객체 갯수 :\", s1.get_count())"
   ]
  },
  {
   "cell_type": "code",
   "execution_count": 20,
   "id": "3120cdbc",
   "metadata": {},
   "outputs": [
    {
     "name": "stdout",
     "output_type": "stream",
     "text": [
      "객체 갯수 : 2\n"
     ]
    }
   ],
   "source": [
    "print(\"객체 갯수 :\", Student.get_count())"
   ]
  },
  {
   "cell_type": "code",
   "execution_count": 21,
   "id": "78cfe138",
   "metadata": {},
   "outputs": [],
   "source": [
    "del s2"
   ]
  },
  {
   "cell_type": "code",
   "execution_count": 22,
   "id": "e3976dcc",
   "metadata": {},
   "outputs": [
    {
     "name": "stdout",
     "output_type": "stream",
     "text": [
      "객체 갯수 : 1\n"
     ]
    }
   ],
   "source": [
    "print(\"객체 갯수 :\", Student.get_count())"
   ]
  },
  {
   "cell_type": "markdown",
   "id": "ffc1683b",
   "metadata": {},
   "source": [
    "# 5절 연습문제\n",
    "## 실습형"
   ]
  },
  {
   "cell_type": "code",
   "execution_count": 42,
   "id": "c6809b50",
   "metadata": {},
   "outputs": [],
   "source": [
    "#1\n",
    "class Shape:\n",
    "    def __init__(self, x=0, y=0):\n",
    "        self.x = x\n",
    "        self.y = y\n",
    "    def move(self): # x축으로 얼마 move할지, y축으로 얼마 move할지를 받아 move\n",
    "        self.x += x\n",
    "        self.y += y\n",
    "    def cal_area(self): #호출시 강제로 예외 발생\n",
    "        raise Exception(\"예외메시지\")\n",
    "    def __str__(self):\n",
    "        return \"x좌표, y좌표 :{}, {}\".format(self.x, self.y)"
   ]
  },
  {
   "cell_type": "code",
   "execution_count": null,
   "id": "30c2c8ab",
   "metadata": {},
   "outputs": [],
   "source": [
    "@staticmethod\n",
    "    def staticmethod_():\n",
    "        \n",
    "        print('도형 클래스의 staticmethod 호출')"
   ]
  },
  {
   "cell_type": "code",
   "execution_count": 43,
   "id": "34fd7891",
   "metadata": {},
   "outputs": [
    {
     "name": "stdout",
     "output_type": "stream",
     "text": [
      "x좌표, y좌표 :1, 3\n"
     ]
    }
   ],
   "source": [
    "t1 = Shape(1,3)\n",
    "print(t1)"
   ]
  },
  {
   "cell_type": "code",
   "execution_count": null,
   "id": "68fbb17a",
   "metadata": {},
   "outputs": [],
   "source": []
  },
  {
   "cell_type": "code",
   "execution_count": null,
   "id": "28d565e8",
   "metadata": {},
   "outputs": [],
   "source": []
  },
  {
   "cell_type": "code",
   "execution_count": null,
   "id": "692bbf11",
   "metadata": {},
   "outputs": [],
   "source": []
  },
  {
   "cell_type": "code",
   "execution_count": null,
   "id": "e3027f7b",
   "metadata": {},
   "outputs": [],
   "source": []
  }
 ],
 "metadata": {
  "kernelspec": {
   "display_name": "Python 3 (ipykernel)",
   "language": "python",
   "name": "python3"
  },
  "language_info": {
   "codemirror_mode": {
    "name": "ipython",
    "version": 3
   },
   "file_extension": ".py",
   "mimetype": "text/x-python",
   "name": "python",
   "nbconvert_exporter": "python",
   "pygments_lexer": "ipython3",
   "version": "3.10.9"
  },
  "toc": {
   "base_numbering": 1,
   "nav_menu": {},
   "number_sections": false,
   "sideBar": true,
   "skip_h1_title": false,
   "title_cell": "Table of Contents",
   "title_sidebar": "Contents",
   "toc_cell": false,
   "toc_position": {
    "height": "calc(100% - 180px)",
    "left": "10px",
    "top": "150px",
    "width": "293px"
   },
   "toc_section_display": true,
   "toc_window_display": true
  }
 },
 "nbformat": 4,
 "nbformat_minor": 5
}
