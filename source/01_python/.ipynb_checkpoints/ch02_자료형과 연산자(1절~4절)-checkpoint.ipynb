{
 "cells": [
  {
   "cell_type": "code",
   "execution_count": 1,
   "id": "41836f1f",
   "metadata": {},
   "outputs": [
    {
     "data": {
      "text/html": [
       "\n",
       "<style>\n",
       "div.container{width:90% !important;}\n",
       "div.cell.code_cell.rendered{width:100%;}\n",
       "div.input_prompt{padding:0px;}\n",
       "div.CodeMirror {font-family:Consolas; font-size:12pt;}\n",
       "div.text_cell_render.rendered_html{font-size:12pt;}\n",
       "div.output {font-size:12pt; font-weight:bold;}\n",
       "div.input {font-family:Consolas; font-size:12pt;}\n",
       "div.prompt {min-width:70px;}\n",
       "div#toc-wrapper{padding-top:120px;}\n",
       "div.text_cell_render ul li{font-size:12pt;padding:5px;}\n",
       "table.dataframe{font-size:12px;}\n",
       "</style>\n"
      ],
      "text/plain": [
       "<IPython.core.display.HTML object>"
      ]
     },
     "metadata": {},
     "output_type": "display_data"
    }
   ],
   "source": [
    "from IPython.display import display, HTML\n",
    "display(HTML(\"\"\"\n",
    "<style>\n",
    "div.container{width:90% !important;}\n",
    "div.cell.code_cell.rendered{width:100%;}\n",
    "div.input_prompt{padding:0px;}\n",
    "div.CodeMirror {font-family:Consolas; font-size:12pt;}\n",
    "div.text_cell_render.rendered_html{font-size:12pt;}\n",
    "div.output {font-size:12pt; font-weight:bold;}\n",
    "div.input {font-family:Consolas; font-size:12pt;}\n",
    "div.prompt {min-width:70px;}\n",
    "div#toc-wrapper{padding-top:120px;}\n",
    "div.text_cell_render ul li{font-size:12pt;padding:5px;}\n",
    "table.dataframe{font-size:12px;}\n",
    "</style>\n",
    "\"\"\"))"
   ]
  },
  {
   "cell_type": "markdown",
   "id": "1fe32ef5",
   "metadata": {},
   "source": [
    "<b><font size=\"6\" color=\"red\">ch.1. 자료형과 연산자</font></b>\n",
    "# 1절. 변수\n",
    "- 변수 : 프로그램 작업 처리를 위해, 값을 저장할 수 있는 메모리 공간\n",
    "- 파이썬은 변수 선언을 위한 타입이 없고, 별도의 선언 과정도 없음\n",
    "\n",
    "## 1.1 변수 할당\n",
    "- 할당 연산자(=)을 이용해서 값을 할당하면 자료형(타입)이 셋팅\n",
    "- **파이썬에서의 변수는 객체로 저장"
   ]
  },
  {
   "cell_type": "code",
   "execution_count": 3,
   "id": "c4f9859c",
   "metadata": {},
   "outputs": [
    {
     "name": "stdout",
     "output_type": "stream",
     "text": [
      "넓이: 78.5\n"
     ]
    }
   ],
   "source": [
    "r = 5\n",
    "area = 3.14 * r * r\n",
    "print(\"넓이:\", area)"
   ]
  },
  {
   "cell_type": "code",
   "execution_count": 4,
   "id": "7372d94d",
   "metadata": {},
   "outputs": [
    {
     "name": "stdout",
     "output_type": "stream",
     "text": [
      "넓이 : 78.53981633974483\n"
     ]
    }
   ],
   "source": [
    "import numpy as np # numpy패키지를 np라는 이름으로 사용\n",
    "area = np.pi * r * r\n",
    "print('넓이 :', area)"
   ]
  },
  {
   "cell_type": "code",
   "execution_count": 12,
   "id": "d608a2ed",
   "metadata": {},
   "outputs": [
    {
     "name": "stdout",
     "output_type": "stream",
     "text": [
      "area의 주소 :  2475049010544\n",
      "area의 타입 : <class 'str'>\n"
     ]
    }
   ],
   "source": [
    "print('area의 주소 : ', id(area))\n",
    "print('area의 타입 :', type(area))"
   ]
  },
  {
   "cell_type": "code",
   "execution_count": 6,
   "id": "3884ae49",
   "metadata": {},
   "outputs": [
    {
     "data": {
      "text/plain": [
       "False"
      ]
     },
     "execution_count": 6,
     "metadata": {},
     "output_type": "execute_result"
    }
   ],
   "source": [
    "area.is_integer()"
   ]
  },
  {
   "cell_type": "code",
   "execution_count": 13,
   "id": "f860711c",
   "metadata": {},
   "outputs": [
    {
     "name": "stdout",
     "output_type": "stream",
     "text": [
      "area의 주소 :  2474932765200\n",
      "area의 타입 : <class 'int'>\n"
     ]
    }
   ],
   "source": [
    "area = 10\n",
    "print('area의 주소 : ', id(area))\n",
    "print('area의 타입 :' , type(area))"
   ]
  },
  {
   "cell_type": "code",
   "execution_count": 14,
   "id": "8f964d99",
   "metadata": {},
   "outputs": [
    {
     "name": "stdout",
     "output_type": "stream",
     "text": [
      "area의 주소 :  2475049012176\n",
      "area의 타입 : <class 'str'>\n"
     ]
    }
   ],
   "source": [
    "area = \"파이썬\"\n",
    "print('area의 주소 : ', id(area))\n",
    "print('area의 타입 :' , type(area))"
   ]
  },
  {
   "cell_type": "markdown",
   "id": "78fadbee",
   "metadata": {},
   "source": [
    "## 1.2 변수(함수) 이름 규칙\n",
    "- 문자로 시작\n",
    "- 문자(특수문자는 _ 외에는 불가), 숫자, _로 변수명 작성\n",
    "- 함수명은 변수명으로 가능하나 피한다. 꼭 써야한다면 str_식으로 사용한다.\n",
    "- 파이썬 예약어(for, if, ...)는 변수명 사용 불가\n",
    "- 한글 변수는 꼭 필요시에만 사용"
   ]
  },
  {
   "cell_type": "code",
   "execution_count": 15,
   "id": "dae6da0f",
   "metadata": {},
   "outputs": [
    {
     "name": "stdout",
     "output_type": "stream",
     "text": [
      "홍길동 홍길동\n"
     ]
    }
   ],
   "source": [
    "# member.name = 홍길동\n",
    "member_name = \"홍길동\"\n",
    "memberName = \"홍길동\"\n",
    "print(member_name, memberName)"
   ]
  },
  {
   "cell_type": "code",
   "execution_count": 16,
   "id": "1e4960f8",
   "metadata": {},
   "outputs": [
    {
     "name": "stdout",
     "output_type": "stream",
     "text": [
      "<class 'complex'>\n"
     ]
    }
   ],
   "source": [
    "# 숫자 : 정수, 실수, 복소수\n",
    "i = 1 +3j\n",
    "print(type(i))"
   ]
  },
  {
   "cell_type": "code",
   "execution_count": 17,
   "id": "873a8d91",
   "metadata": {},
   "outputs": [
    {
     "data": {
      "text/plain": [
       "True"
      ]
     },
     "execution_count": 17,
     "metadata": {},
     "output_type": "execute_result"
    }
   ],
   "source": [
    "isinstance(i, complex) # 변수가 complex 타입의 객체인지?"
   ]
  },
  {
   "cell_type": "code",
   "execution_count": 18,
   "id": "1f0d22cc",
   "metadata": {},
   "outputs": [
    {
     "data": {
      "text/plain": [
       "False"
      ]
     },
     "execution_count": 18,
     "metadata": {},
     "output_type": "execute_result"
    }
   ],
   "source": [
    "isinstance(i, int) # i변수가 int 타입의 객체인지?"
   ]
  },
  {
   "cell_type": "markdown",
   "id": "7dc8be04",
   "metadata": {},
   "source": [
    "## 1.3 다중 변수 선언"
   ]
  },
  {
   "cell_type": "code",
   "execution_count": null,
   "id": "2d943ac7",
   "metadata": {},
   "outputs": [],
   "source": [
    "a = 10\n",
    "b = 20"
   ]
  },
  {
   "cell_type": "code",
   "execution_count": 19,
   "id": "60a078b5",
   "metadata": {},
   "outputs": [
    {
     "name": "stdout",
     "output_type": "stream",
     "text": [
      "10 20\n"
     ]
    }
   ],
   "source": [
    "a, b =10 ,20\n",
    "print(a, b)"
   ]
  },
  {
   "cell_type": "code",
   "execution_count": 20,
   "id": "7866a068",
   "metadata": {},
   "outputs": [
    {
     "name": "stdout",
     "output_type": "stream",
     "text": [
      "20 30\n"
     ]
    }
   ],
   "source": [
    "a, b = b, a+b # 다중 변수 할당 시 순차적 할당이 아니고, 일괄 동시 할당\n",
    "print(a, b)"
   ]
  },
  {
   "cell_type": "markdown",
   "id": "d99b110e",
   "metadata": {},
   "source": [
    "## 1.4 도움말"
   ]
  },
  {
   "cell_type": "code",
   "execution_count": 21,
   "id": "8bb992cb",
   "metadata": {
    "scrolled": false
   },
   "outputs": [
    {
     "name": "stdout",
     "output_type": "stream",
     "text": [
      "Help on built-in function print in module builtins:\n",
      "\n",
      "print(...)\n",
      "    print(value, ..., sep=' ', end='\\n', file=sys.stdout, flush=False)\n",
      "    \n",
      "    Prints the values to a stream, or to sys.stdout by default.\n",
      "    Optional keyword arguments:\n",
      "    file:  a file-like object (stream); defaults to the current sys.stdout.\n",
      "    sep:   string inserted between values, default a space.\n",
      "    end:   string appended after the last value, default a newline.\n",
      "    flush: whether to forcibly flush the stream.\n",
      "\n"
     ]
    }
   ],
   "source": [
    "help(print)"
   ]
  },
  {
   "cell_type": "code",
   "execution_count": null,
   "id": "d8388ea8",
   "metadata": {},
   "outputs": [],
   "source": [
    "help() # help 빠져나오기 : q / 결과접기/펴기 : esc + o"
   ]
  },
  {
   "cell_type": "code",
   "execution_count": null,
   "id": "5aa6760b",
   "metadata": {},
   "outputs": [],
   "source": [
    "# 도움말 기능 : shift + tab 키\n",
    "print()"
   ]
  },
  {
   "cell_type": "code",
   "execution_count": 5,
   "id": "91c0fed5",
   "metadata": {},
   "outputs": [],
   "source": [
    "def add(x, y=0):\n",
    "    '''\n",
    "    매개변수(x, y) 2개를 받아 두자리 숫자로 만드는 함수\n",
    "    x = 10의 자리 수가 되고\n",
    "    y = 1의 자리수가 됨(default값 0)\n",
    "    '''\n",
    "    return x*10 + y"
   ]
  },
  {
   "cell_type": "code",
   "execution_count": 6,
   "id": "1e91cb00",
   "metadata": {},
   "outputs": [
    {
     "data": {
      "text/plain": [
       "34"
      ]
     },
     "execution_count": 6,
     "metadata": {},
     "output_type": "execute_result"
    }
   ],
   "source": [
    "add(3, 4)"
   ]
  },
  {
   "cell_type": "code",
   "execution_count": 7,
   "id": "aba5dec6",
   "metadata": {},
   "outputs": [
    {
     "data": {
      "text/plain": [
       "30"
      ]
     },
     "execution_count": 7,
     "metadata": {},
     "output_type": "execute_result"
    }
   ],
   "source": [
    "add(3)"
   ]
  },
  {
   "cell_type": "markdown",
   "id": "67955ae2",
   "metadata": {},
   "source": [
    "# 2절. 화면 i/o"
   ]
  },
  {
   "cell_type": "code",
   "execution_count": 8,
   "id": "c05f69b3",
   "metadata": {},
   "outputs": [
    {
     "name": "stdout",
     "output_type": "stream",
     "text": [
      "<bound method Kernel.raw_input of <ipykernel.ipkernel.IPythonKernel object at 0x000002F0C4C8C3D0>>\n"
     ]
    }
   ],
   "source": [
    "# input() : 사용자로부터 값을 입력받기 위한 함수, 입력값은 문자(str)로 받음\n",
    "first = input\n",
    "print(first)"
   ]
  },
  {
   "cell_type": "code",
   "execution_count": 9,
   "id": "3fdcfb6f",
   "metadata": {},
   "outputs": [
    {
     "name": "stdout",
     "output_type": "stream",
     "text": [
      "첫번째 숫자는?8\n",
      "두번째 숫자는?2\n"
     ]
    }
   ],
   "source": [
    "first = input('첫번째 숫자는?')\n",
    "second =input('두번째 숫자는?')"
   ]
  },
  {
   "cell_type": "code",
   "execution_count": 10,
   "id": "e0b01a0f",
   "metadata": {},
   "outputs": [
    {
     "name": "stdout",
     "output_type": "stream",
     "text": [
      "두 수의 합은 82\n"
     ]
    }
   ],
   "source": [
    "print('두 수의 합은', first+second)"
   ]
  },
  {
   "cell_type": "code",
   "execution_count": 11,
   "id": "e8778225",
   "metadata": {},
   "outputs": [
    {
     "name": "stdout",
     "output_type": "stream",
     "text": [
      "첫번째 숫자는?8\n",
      "두번째 숫자는?2\n"
     ]
    }
   ],
   "source": [
    "first = int(input('첫번째 숫자는?'))\n",
    "second =int(input('두번째 숫자는?'))"
   ]
  },
  {
   "cell_type": "code",
   "execution_count": 12,
   "id": "8f53a969",
   "metadata": {},
   "outputs": [
    {
     "name": "stdout",
     "output_type": "stream",
     "text": [
      "두 수의 합은 10\n"
     ]
    }
   ],
   "source": [
    "print('두 수의 합은', first+second)"
   ]
  },
  {
   "cell_type": "code",
   "execution_count": 21,
   "id": "18d6083c",
   "metadata": {},
   "outputs": [
    {
     "name": "stdout",
     "output_type": "stream",
     "text": [
      "first-8-second-2\thello python\n"
     ]
    }
   ],
   "source": [
    "print('first', first, 'second', second, sep='-',end='\\t')\n",
    "print('hello','python', sep=' ')"
   ]
  },
  {
   "cell_type": "markdown",
   "id": "4306c54c",
   "metadata": {},
   "source": [
    "# 3절. 기본 자료형\n",
    "- 자료형 : 변수가 가져야 할 값의 형식. 자료형의 따라 값의 크기와 저장 방식 달라짐\n",
    "- 자료형에 따라 수행할 수 있는 몀령어들이 달라짐\n",
    "   \n",
    "    * `숫자` : int, float(소수점 4, 0), compiex(허수부 j)\n",
    "    * `문자` : str(\"\",'')\n",
    "    * `논리` : bool(true/false)\n",
    "    \n",
    "## 3.1 숫자형"
   ]
  },
  {
   "cell_type": "code",
   "execution_count": 23,
   "id": "b2cb6f4a",
   "metadata": {},
   "outputs": [
    {
     "name": "stdout",
     "output_type": "stream",
     "text": [
      "9223372036854775807\n"
     ]
    }
   ],
   "source": [
    "import sys\n",
    "print(sys.maxsize) # 정수의 최댓값 : 2**63 - 1"
   ]
  },
  {
   "cell_type": "code",
   "execution_count": 24,
   "id": "a2c5eae3",
   "metadata": {},
   "outputs": [
    {
     "data": {
      "text/plain": [
       "9223372036854775807"
      ]
     },
     "execution_count": 24,
     "metadata": {},
     "output_type": "execute_result"
    }
   ],
   "source": [
    "2**63 - 1"
   ]
  },
  {
   "cell_type": "code",
   "execution_count": 27,
   "id": "4bc4ae84",
   "metadata": {},
   "outputs": [
    {
     "name": "stdout",
     "output_type": "stream",
     "text": [
      "9223372036854775907\n",
      "<class 'int'>\n"
     ]
    }
   ],
   "source": [
    "i = sys.maxsize +100\n",
    "print(i)\n",
    "print(type(i))"
   ]
  },
  {
   "cell_type": "code",
   "execution_count": 28,
   "id": "73e3443b",
   "metadata": {},
   "outputs": [
    {
     "name": "stdout",
     "output_type": "stream",
     "text": [
      "1.2e-20\n",
      "1.2e-20\n"
     ]
    }
   ],
   "source": [
    "# f = 0.0000000000000000000012\n",
    "f = 1.2e-20 #지수형 1.2*10의 -20승\n",
    "print(f)\n",
    "b= 1.2e-20 #지수형 1.2*10의 20승\n",
    "print(b)"
   ]
  },
  {
   "cell_type": "code",
   "execution_count": 29,
   "id": "e43b899e",
   "metadata": {},
   "outputs": [
    {
     "name": "stdout",
     "output_type": "stream",
     "text": [
      "f= 2.0\n"
     ]
    }
   ],
   "source": [
    "# 파이썬에서는 /의 결과는 무조건 실수\n",
    "f = 4/2\n",
    "print('f=',f)"
   ]
  },
  {
   "cell_type": "code",
   "execution_count": 31,
   "id": "2f2a1d12",
   "metadata": {},
   "outputs": [
    {
     "name": "stdout",
     "output_type": "stream",
     "text": [
      "f= 1\n",
      "f= 1\n"
     ]
    }
   ],
   "source": [
    "# 자바나 C, C++처럼 정수/정수 결과를 정수로\n",
    "f =int(3/2) # int() : int로 형변환(내림)\n",
    "print('f=',f)\n",
    "f = 3//2 # 몫연산자\n",
    "print('f=',f)"
   ]
  },
  {
   "cell_type": "markdown",
   "id": "e10d445e",
   "metadata": {},
   "source": [
    "## 3.2 문자형\n",
    "겹따옴표(\"~\")나 홑따옴표('~') 이용"
   ]
  },
  {
   "cell_type": "code",
   "execution_count": 33,
   "id": "f89e1975",
   "metadata": {},
   "outputs": [
    {
     "name": "stdout",
     "output_type": "stream",
     "text": [
      "홍길동 '짱' 서울시 관악구 \"신림\"동\n"
     ]
    }
   ],
   "source": [
    "# name =  '홍길동\\'짱'\\'  # 홍길동 '짱'\n",
    "name = \"홍길동 '짱'\"\n",
    "address = '서울시 관악구 \"신림\"동'    # 서울시 관억구 \"신림\"동\n",
    "print(name, address)"
   ]
  },
  {
   "cell_type": "code",
   "execution_count": 35,
   "id": "bd9370a0",
   "metadata": {},
   "outputs": [
    {
     "name": "stdout",
     "output_type": "stream",
     "text": [
      "여러줄\t짜리 내용을 저장 \n",
      "줄바꿈 문자를 쓰면됨\n",
      "줄바꿈\n"
     ]
    }
   ],
   "source": [
    "# escape 문자(탈출문자) : \\n \\t\n",
    "text = '여러줄\\t짜리 내용을 저장 \\n줄바꿈 문자를 쓰면됨\\n줄바꿈'\n",
    "print(text)"
   ]
  },
  {
   "cell_type": "code",
   "execution_count": 36,
   "id": "eadd80ff",
   "metadata": {},
   "outputs": [
    {
     "name": "stdout",
     "output_type": "stream",
     "text": [
      "여러줄\n",
      "짜리 내용을 저장\n",
      "줄바꿈 문자를 쓰면됨\n",
      "줄바꿈\n"
     ]
    }
   ],
   "source": [
    "text = '''여러줄\\n짜리 내용을 저장\n",
    "줄바꿈 문자를 쓰면됨\n",
    "줄바꿈'''\n",
    "print(text)"
   ]
  },
  {
   "cell_type": "markdown",
   "id": "869a9121",
   "metadata": {},
   "source": [
    "### ※ 문자열 연산(+,*)"
   ]
  },
  {
   "cell_type": "code",
   "execution_count": 37,
   "id": "369f64db",
   "metadata": {},
   "outputs": [
    {
     "name": "stdout",
     "output_type": "stream",
     "text": [
      "홍길동동해번쩍\n",
      "홍길동 동해번쩍\n"
     ]
    }
   ],
   "source": [
    "\"\"\"\n",
    "    여러줄 주석 용도\n",
    "    2025.09.12 문자열 연산 by 아무개\n",
    "\"\"\"\n",
    "name1 = \"홍길동\"\n",
    "name2 = \"동해번쩍\"\n",
    "print(name1+name2)\n",
    "print(name1, name2)"
   ]
  },
  {
   "cell_type": "code",
   "execution_count": 39,
   "id": "7acfc9d2",
   "metadata": {},
   "outputs": [
    {
     "name": "stdout",
     "output_type": "stream",
     "text": [
      "홍길동홍길동홍길동\n"
     ]
    }
   ],
   "source": [
    "print(name1 * 3)"
   ]
  },
  {
   "cell_type": "markdown",
   "id": "3249505d",
   "metadata": {},
   "source": [
    "### ※ raw 데이터\n",
    "- 용도 : 정규표현식 이용, 디렉토리 경로를 표현시 이용"
   ]
  },
  {
   "cell_type": "code",
   "execution_count": 41,
   "id": "e0f7f168",
   "metadata": {},
   "outputs": [
    {
     "name": "stdout",
     "output_type": "stream",
     "text": [
      "Hello\\nWorld\n"
     ]
    }
   ],
   "source": [
    "# raw 데이터 : 데이터 처리시 이스케이프 문자(\\n, \\t, \\', \\\")를 그대로 저장\n",
    "print(r'Hello\\nWorld')"
   ]
  },
  {
   "cell_type": "markdown",
   "id": "41a0b5d3",
   "metadata": {},
   "source": [
    "정규표현식(regex)\n",
    "    1. 참조 : https://goo.gl/HLntbd 위키백과\n",
    "    2. 간략문법\n",
    "        \\d (숫자와 매치. [0-9]와 동일)\n",
    "        \\D (숫자가 아닌 것)\n",
    "        \\w (영문자나 숫자 [a-zA-Z0-9]와 동일)\n",
    "        \\W (영문자나 숫자가 아닌 문자)\n",
    "        . (문자)\n",
    "        \\. (.)\n",
    "        \\- (-)\n",
    "        {2,} (2번 이상 반복)\n",
    "        {2, 4} (2~4회 반복)\n",
    "        ?      (0번이나 1번 의미)\n",
    "        +      (1번 이상 반복)\n",
    "        *      (0번 이상 반복)\n",
    "    3. 정규표현식 연습장 : https://regexr.com\n",
    "        ex1. 전화번호 : 02 888 7777 / 028887777 / 010-9999-9999 /010.9999.9999/\n",
    "                        02)999-9999\n",
    "                        => 0\\d{1,2}[ \\-\\.)]?\\d{3,4}[ \\-\\.]?\\d{4}\n",
    "        ex2. 이메일 : abc@naver.com / abc@sns.co.kr\n",
    "                        => \\w+@\\w+(\\.\\w+){1,2}\n",
    "        ex3. 주민번호 : 981212-1052525\n",
    "                        => \\d{2}(0[1-9]|1[0-2])(0[1-9]|[12]\\d|30|31)-[1-4]\\d{6}\n",
    "    4. 소스 구현"
   ]
  },
  {
   "cell_type": "code",
   "execution_count": 42,
   "id": "e1409c6a",
   "metadata": {},
   "outputs": [
    {
     "name": "stdout",
     "output_type": "stream",
     "text": [
      "이름:홍길동, 주소:서울, 전화:02-888-8888, 핸드폰:010-9999-9999, 특징:동해번쩍 서해번쩍혈액형:Bㅋㅋ ㅋㅋZZ\n"
     ]
    }
   ],
   "source": [
    "import re\n",
    "data = \"이름:홍길동, 주소:서울, 전화:02-888-8888, \\\n",
    "핸드폰:010-9999-9999, 특징:동해번쩍 서해번쩍\\\n",
    "혈액형:Bㅋㅋ ㅋㅋZZ\"\n",
    "print(data)"
   ]
  },
  {
   "cell_type": "code",
   "execution_count": 47,
   "id": "83b5cae5",
   "metadata": {},
   "outputs": [
    {
     "data": {
      "text/plain": [
       "['02-888-8888', '010-9999-9999']"
      ]
     },
     "execution_count": 47,
     "metadata": {},
     "output_type": "execute_result"
    }
   ],
   "source": [
    "# 정규표현식 처리에서는 raw 데아터 처리를 하지 않아도 실행은 되나\n",
    "#실수를 줄이고, 가독성을 높이는 용도로 raw 데이터 처리를 사용\n",
    "tel_pattern = r\"0\\d{1,2}[ \\-\\.)]?\\d{3,4}[ \\-\\.]?\\d{4}\"\n",
    "tels = re.findall(tel_pattern, data) # 해당 패턴응 다 찾아줌. 없으면 빈 list\n",
    "tels"
   ]
  },
  {
   "cell_type": "code",
   "execution_count": 51,
   "id": "c645db36",
   "metadata": {},
   "outputs": [
    {
     "data": {
      "text/plain": [
       "[]"
      ]
     },
     "execution_count": 51,
     "metadata": {},
     "output_type": "execute_result"
    }
   ],
   "source": [
    "email_pattern = r\"\\w+@\\w+(\\.\\w+){1,2}\"\n",
    "emails = re.findall(email_pattern, data)\n",
    "emails"
   ]
  },
  {
   "cell_type": "code",
   "execution_count": 53,
   "id": "9717fb51",
   "metadata": {},
   "outputs": [
    {
     "data": {
      "text/plain": [
       "<re.Match object; span=(18, 29), match='02-888-8888'>"
      ]
     },
     "execution_count": 53,
     "metadata": {},
     "output_type": "execute_result"
    }
   ],
   "source": [
    "# 정규표현식 패턴과 처음 match되는 것을 찾아줘\n",
    "firstTel = re.search(tel_pattern, data)\n",
    "firstTel"
   ]
  },
  {
   "cell_type": "code",
   "execution_count": 55,
   "id": "64507093",
   "metadata": {},
   "outputs": [
    {
     "name": "stdout",
     "output_type": "stream",
     "text": [
      "02-888-8888\n",
      "02-888-8888\n"
     ]
    }
   ],
   "source": [
    "print(data[18:29]) # 문자열 슬라이싱\n",
    "print(firstTel.group(0))"
   ]
  },
  {
   "cell_type": "code",
   "execution_count": 56,
   "id": "0e47c5e9",
   "metadata": {},
   "outputs": [
    {
     "data": {
      "text/plain": [
       "<re.Match object; span=(18, 29), match='02-888-8888'>"
      ]
     },
     "execution_count": 56,
     "metadata": {},
     "output_type": "execute_result"
    }
   ],
   "source": [
    "tel_pattern = r\"(\\d{2,3})-(\\d{3,4})-(\\d{4})\"\n",
    "firstPhone = re.search(tel_pattern, data)\n",
    "firstPhone"
   ]
  },
  {
   "cell_type": "code",
   "execution_count": 57,
   "id": "e27fd765",
   "metadata": {},
   "outputs": [
    {
     "name": "stdout",
     "output_type": "stream",
     "text": [
      "전체 전화번호 : 02-888-8888\n",
      "국번 : 02\n",
      "중간번호 : 888\n",
      "끝번호 : 8888\n"
     ]
    }
   ],
   "source": [
    "print('전체 전화번호 :', firstPhone.group(0))\n",
    "print('국번 :', firstPhone.group(1))\n",
    "print('중간번호 :', firstPhone.group(2))\n",
    "print('끝번호 :', firstPhone.group(3))"
   ]
  },
  {
   "cell_type": "code",
   "execution_count": 58,
   "id": "cb773b71",
   "metadata": {},
   "outputs": [
    {
     "data": {
      "text/plain": [
       "'이름:홍길동, 주소:서울, 전화:02-888-8888, 핸드폰:010-9999-9999, 특징:동해번쩍 서해번쩍혈액형:Bㅋㅋ ㅋㅋZZ'"
      ]
     },
     "execution_count": 58,
     "metadata": {},
     "output_type": "execute_result"
    }
   ],
   "source": [
    "# data에서 특정한 데이터 없애기\n",
    "re.sub(r\"[^가-힣0-9A-Z\\S]\", ' ', data)"
   ]
  },
  {
   "cell_type": "code",
   "execution_count": null,
   "id": "879f1073",
   "metadata": {},
   "outputs": [],
   "source": []
  },
  {
   "cell_type": "code",
   "execution_count": null,
   "id": "8412eb43",
   "metadata": {},
   "outputs": [],
   "source": []
  },
  {
   "cell_type": "code",
   "execution_count": null,
   "id": "98542a89",
   "metadata": {},
   "outputs": [],
   "source": []
  }
 ],
 "metadata": {
  "kernelspec": {
   "display_name": "Python 3 (ipykernel)",
   "language": "python",
   "name": "python3"
  },
  "language_info": {
   "codemirror_mode": {
    "name": "ipython",
    "version": 3
   },
   "file_extension": ".py",
   "mimetype": "text/x-python",
   "name": "python",
   "nbconvert_exporter": "python",
   "pygments_lexer": "ipython3",
   "version": "3.10.9"
  },
  "toc": {
   "base_numbering": 1,
   "nav_menu": {},
   "number_sections": false,
   "sideBar": true,
   "skip_h1_title": false,
   "title_cell": "Table of Contents",
   "title_sidebar": "Contents",
   "toc_cell": false,
   "toc_position": {
    "height": "calc(100% - 180px)",
    "left": "10px",
    "top": "150px",
    "width": "382.391px"
   },
   "toc_section_display": true,
   "toc_window_display": true
  }
 },
 "nbformat": 4,
 "nbformat_minor": 5
}
