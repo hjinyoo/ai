{
 "cells": [
  {
   "cell_type": "code",
   "execution_count": 1,
   "id": "7149d8ca",
   "metadata": {},
   "outputs": [
    {
     "data": {
      "text/html": [
       "\n",
       "<style>\n",
       "div.container{width:99% !important;}\n",
       "div.cell.code_cell.rendered{width:100%;}\n",
       "div.input_prompt{padding:0px;}\n",
       "div.CodeMirror {font-family:Consolas; font-size:22pt;}\n",
       "div.text_cell_render.rendered_html{font-size:18pt;}\n",
       "div.output {font-size:22pt; font-weight:bold;}\n",
       "div.input {font-family:Consolas; font-size:22pt;}\n",
       "div.prompt {min-width:70px;}\n",
       "div#toc-wrapper{padding-top:120px;}\n",
       "div.text_cell_render ul li{font-size:22pt;padding:5px;}\n",
       "table.dataframe{font-size:22px;}\n",
       "</style>\n"
      ],
      "text/plain": [
       "<IPython.core.display.HTML object>"
      ]
     },
     "metadata": {},
     "output_type": "display_data"
    }
   ],
   "source": [
    "from IPython.display import display, HTML\n",
    "display(HTML(\"\"\"\n",
    "<style>\n",
    "div.container{width:99% !important;}\n",
    "div.cell.code_cell.rendered{width:100%;}\n",
    "div.input_prompt{padding:0px;}\n",
    "div.CodeMirror {font-family:Consolas; font-size:22pt;}\n",
    "div.text_cell_render.rendered_html{font-size:18pt;}\n",
    "div.output {font-size:22pt; font-weight:bold;}\n",
    "div.input {font-family:Consolas; font-size:22pt;}\n",
    "div.prompt {min-width:70px;}\n",
    "div#toc-wrapper{padding-top:120px;}\n",
    "div.text_cell_render ul li{font-size:22pt;padding:5px;}\n",
    "table.dataframe{font-size:22px;}\n",
    "</style>\n",
    "\"\"\"))"
   ]
  },
  {
   "cell_type": "markdown",
   "id": "e1cd2450",
   "metadata": {},
   "source": [
    "<b><font size=\"6\" color=\"red\">ch11. 데이터프레임과 시리즈(pandas)</font></b>\n",
    "- pip install pandas\n",
    "# 1절 판다스 패키지\n",
    "- 데이터 분석을 위해 반드시 알아야 할 패키지. 넘파이를 기반으로 하며,\n",
    "  다른 많은 라이브러리와 잘 통합되도록 설계\n",
    "- 2차원 구조를 갖는 데이터프레임, 1차원 구조를 갖는 시리즈를 제공\n",
    "\n",
    "- 판다스 장점 : 데이터프레임생성, 파일io, 레이블링, 부분데이터 추출, 크기변경(행이나 열 삽입, 삭제), 데이터 분할, 병합, 데이터구조변경, 결측치 처리\n",
    "- https://pypi.python.org/pypi/pandas(package index)\n",
    "- http://pandas.pydata.org/pandas-docs/stable/api.html(API reference)"
   ]
  },
  {
   "cell_type": "code",
   "execution_count": 2,
   "id": "d7269e99",
   "metadata": {},
   "outputs": [
    {
     "data": {
      "text/plain": [
       "'1.5.3'"
      ]
     },
     "execution_count": 2,
     "metadata": {},
     "output_type": "execute_result"
    }
   ],
   "source": [
    "import pandas as pd\n",
    "pd.__version__"
   ]
  },
  {
   "cell_type": "code",
   "execution_count": 3,
   "id": "7f8f932f",
   "metadata": {},
   "outputs": [
    {
     "data": {
      "text/html": [
       "<div>\n",
       "<style scoped>\n",
       "    .dataframe tbody tr th:only-of-type {\n",
       "        vertical-align: middle;\n",
       "    }\n",
       "\n",
       "    .dataframe tbody tr th {\n",
       "        vertical-align: top;\n",
       "    }\n",
       "\n",
       "    .dataframe thead th {\n",
       "        text-align: right;\n",
       "    }\n",
       "</style>\n",
       "<table border=\"1\" class=\"dataframe\">\n",
       "  <thead>\n",
       "    <tr style=\"text-align: right;\">\n",
       "      <th></th>\n",
       "      <th>name</th>\n",
       "      <th>age</th>\n",
       "      <th>email</th>\n",
       "      <th>address</th>\n",
       "    </tr>\n",
       "  </thead>\n",
       "  <tbody>\n",
       "    <tr>\n",
       "      <th>0</th>\n",
       "      <td>홍길동</td>\n",
       "      <td>30</td>\n",
       "      <td>hg@hong.com</td>\n",
       "      <td>서울</td>\n",
       "    </tr>\n",
       "    <tr>\n",
       "      <th>1</th>\n",
       "      <td>박길동</td>\n",
       "      <td>20</td>\n",
       "      <td>pg@hong.com</td>\n",
       "      <td>부산</td>\n",
       "    </tr>\n",
       "    <tr>\n",
       "      <th>2</th>\n",
       "      <td>신길동</td>\n",
       "      <td>25</td>\n",
       "      <td>sg@hong.com</td>\n",
       "      <td>대전</td>\n",
       "    </tr>\n",
       "  </tbody>\n",
       "</table>\n",
       "</div>"
      ],
      "text/plain": [
       "  name  age        email address\n",
       "0  홍길동   30  hg@hong.com      서울\n",
       "1  박길동   20  pg@hong.com      부산\n",
       "2  신길동   25  sg@hong.com      대전"
      ]
     },
     "metadata": {},
     "output_type": "display_data"
    },
    {
     "name": "stdout",
     "output_type": "stream",
     "text": [
      "<class 'pandas.core.frame.DataFrame'>\n"
     ]
    }
   ],
   "source": [
    "data = pd.read_json(\"data/ch09_member1.json\",\n",
    "                    encoding='cp949') # 기본 encoding은 utf-8 \n",
    "display(data)\n",
    "print(type(data))"
   ]
  },
  {
   "cell_type": "code",
   "execution_count": 4,
   "id": "612951ed",
   "metadata": {},
   "outputs": [
    {
     "data": {
      "text/html": [
       "<div>\n",
       "<style scoped>\n",
       "    .dataframe tbody tr th:only-of-type {\n",
       "        vertical-align: middle;\n",
       "    }\n",
       "\n",
       "    .dataframe tbody tr th {\n",
       "        vertical-align: top;\n",
       "    }\n",
       "\n",
       "    .dataframe thead th {\n",
       "        text-align: right;\n",
       "    }\n",
       "</style>\n",
       "<table border=\"1\" class=\"dataframe\">\n",
       "  <thead>\n",
       "    <tr style=\"text-align: right;\">\n",
       "      <th></th>\n",
       "      <th>name</th>\n",
       "      <th>age</th>\n",
       "      <th>email</th>\n",
       "      <th>address</th>\n",
       "    </tr>\n",
       "  </thead>\n",
       "  <tbody>\n",
       "    <tr>\n",
       "      <th>0</th>\n",
       "      <td>신길동</td>\n",
       "      <td>30</td>\n",
       "      <td>sg@hong.com</td>\n",
       "      <td>서울</td>\n",
       "    </tr>\n",
       "    <tr>\n",
       "      <th>1</th>\n",
       "      <td>홍길동</td>\n",
       "      <td>20</td>\n",
       "      <td>ho@hong.com</td>\n",
       "      <td>수원</td>\n",
       "    </tr>\n",
       "    <tr>\n",
       "      <th>2</th>\n",
       "      <td>마길동</td>\n",
       "      <td>25</td>\n",
       "      <td>ma@hong.com</td>\n",
       "      <td>안양</td>\n",
       "    </tr>\n",
       "  </tbody>\n",
       "</table>\n",
       "</div>"
      ],
      "text/plain": [
       "  name  age        email address\n",
       "0  신길동   30  sg@hong.com      서울\n",
       "1  홍길동   20  ho@hong.com      수원\n",
       "2  마길동   25  ma@hong.com      안양"
      ]
     },
     "execution_count": 4,
     "metadata": {},
     "output_type": "execute_result"
    }
   ],
   "source": [
    "member4 = pd.read_csv('data/ch09_member4.csv') # 기본 encoding=utf-8\n",
    "member4"
   ]
  },
  {
   "cell_type": "code",
   "execution_count": 5,
   "id": "d15ef5dc",
   "metadata": {},
   "outputs": [
    {
     "data": {
      "text/html": [
       "<div>\n",
       "<style scoped>\n",
       "    .dataframe tbody tr th:only-of-type {\n",
       "        vertical-align: middle;\n",
       "    }\n",
       "\n",
       "    .dataframe tbody tr th {\n",
       "        vertical-align: top;\n",
       "    }\n",
       "\n",
       "    .dataframe thead th {\n",
       "        text-align: right;\n",
       "    }\n",
       "</style>\n",
       "<table border=\"1\" class=\"dataframe\">\n",
       "  <thead>\n",
       "    <tr style=\"text-align: right;\">\n",
       "      <th></th>\n",
       "      <th>name</th>\n",
       "      <th>age</th>\n",
       "      <th>email</th>\n",
       "      <th>address</th>\n",
       "    </tr>\n",
       "  </thead>\n",
       "  <tbody>\n",
       "    <tr>\n",
       "      <th>0</th>\n",
       "      <td>홍길동</td>\n",
       "      <td>20</td>\n",
       "      <td>kildong@hong.com</td>\n",
       "      <td>서울시 관악구</td>\n",
       "    </tr>\n",
       "    <tr>\n",
       "      <th>1</th>\n",
       "      <td>김길동</td>\n",
       "      <td>40</td>\n",
       "      <td>kimdong@hong.com</td>\n",
       "      <td>서울시 영등포구</td>\n",
       "    </tr>\n",
       "    <tr>\n",
       "      <th>2</th>\n",
       "      <td>신길동</td>\n",
       "      <td>30</td>\n",
       "      <td>sindong@hong.com</td>\n",
       "      <td>서울시 동작구</td>\n",
       "    </tr>\n",
       "  </tbody>\n",
       "</table>\n",
       "</div>"
      ],
      "text/plain": [
       "  name  age             email   address\n",
       "0  홍길동   20  kildong@hong.com   서울시 관악구\n",
       "1  김길동   40  kimdong@hong.com  서울시 영등포구\n",
       "2  신길동   30  sindong@hong.com   서울시 동작구"
      ]
     },
     "execution_count": 5,
     "metadata": {},
     "output_type": "execute_result"
    }
   ],
   "source": [
    "member1 = pd.read_csv('data/ch09_member1.csv',\n",
    "                     header=None,\n",
    "                     names=['name', 'age', 'email', 'address'])\n",
    "member1"
   ]
  },
  {
   "cell_type": "markdown",
   "id": "18ccf557",
   "metadata": {},
   "source": [
    "# 2절 데이터프레임 만들기\n",
    "## 2.1 딕셔너리 리스트를 이용해서 데이터프레임 만들기"
   ]
  },
  {
   "cell_type": "code",
   "execution_count": 6,
   "id": "82cb6830",
   "metadata": {},
   "outputs": [
    {
     "data": {
      "text/html": [
       "<div>\n",
       "<style scoped>\n",
       "    .dataframe tbody tr th:only-of-type {\n",
       "        vertical-align: middle;\n",
       "    }\n",
       "\n",
       "    .dataframe tbody tr th {\n",
       "        vertical-align: top;\n",
       "    }\n",
       "\n",
       "    .dataframe thead th {\n",
       "        text-align: right;\n",
       "    }\n",
       "</style>\n",
       "<table border=\"1\" class=\"dataframe\">\n",
       "  <thead>\n",
       "    <tr style=\"text-align: right;\">\n",
       "      <th></th>\n",
       "      <th>kor</th>\n",
       "      <th>mat</th>\n",
       "    </tr>\n",
       "  </thead>\n",
       "  <tbody>\n",
       "    <tr>\n",
       "      <th>0</th>\n",
       "      <td>100</td>\n",
       "      <td>95</td>\n",
       "    </tr>\n",
       "    <tr>\n",
       "      <th>1</th>\n",
       "      <td>90</td>\n",
       "      <td>99</td>\n",
       "    </tr>\n",
       "  </tbody>\n",
       "</table>\n",
       "</div>"
      ],
      "text/plain": [
       "   kor  mat\n",
       "0  100   95\n",
       "1   90   99"
      ]
     },
     "execution_count": 6,
     "metadata": {},
     "output_type": "execute_result"
    }
   ],
   "source": [
    "d = [{'kor':100, 'mat':95}, {'kor':90, 'mat':99}]\n",
    "df = pd.DataFrame(data=d)\n",
    "df"
   ]
  },
  {
   "cell_type": "code",
   "execution_count": 7,
   "id": "f2465411",
   "metadata": {},
   "outputs": [
    {
     "data": {
      "text/plain": [
       "{'kor': {0: 100, 1: 90}, 'mat': {0: 95, 1: 99}}"
      ]
     },
     "execution_count": 7,
     "metadata": {},
     "output_type": "execute_result"
    }
   ],
   "source": [
    "df.to_dict() # 데이터프레임을 딕셔너리로"
   ]
  },
  {
   "cell_type": "code",
   "execution_count": 8,
   "id": "6346e8a1",
   "metadata": {},
   "outputs": [
    {
     "data": {
      "text/plain": [
       "array([[100,  95],\n",
       "       [ 90,  99]], dtype=int64)"
      ]
     },
     "execution_count": 8,
     "metadata": {},
     "output_type": "execute_result"
    }
   ],
   "source": [
    "df.to_numpy() # 데이터프레임을 넘파이배열\n",
    "df.values   # 데이터프레임을 넘파이배열"
   ]
  },
  {
   "cell_type": "code",
   "execution_count": 9,
   "id": "4578b7fd",
   "metadata": {},
   "outputs": [
    {
     "data": {
      "text/plain": [
       "kor    int64\n",
       "mat    int64\n",
       "dtype: object"
      ]
     },
     "execution_count": 9,
     "metadata": {},
     "output_type": "execute_result"
    }
   ],
   "source": [
    "df.dtypes # 열의 타입"
   ]
  },
  {
   "cell_type": "code",
   "execution_count": 10,
   "id": "70e5eef6",
   "metadata": {},
   "outputs": [
    {
     "name": "stdout",
     "output_type": "stream",
     "text": [
      "<class 'pandas.core.frame.DataFrame'>\n",
      "RangeIndex: 2 entries, 0 to 1\n",
      "Data columns (total 2 columns):\n",
      " #   Column  Non-Null Count  Dtype\n",
      "---  ------  --------------  -----\n",
      " 0   kor     2 non-null      int64\n",
      " 1   mat     2 non-null      int64\n",
      "dtypes: int64(2)\n",
      "memory usage: 160.0 bytes\n"
     ]
    }
   ],
   "source": [
    "df.info() # ★"
   ]
  },
  {
   "cell_type": "code",
   "execution_count": 11,
   "id": "157a3093",
   "metadata": {},
   "outputs": [
    {
     "data": {
      "text/plain": [
       "dtype('int64')"
      ]
     },
     "execution_count": 11,
     "metadata": {},
     "output_type": "execute_result"
    }
   ],
   "source": [
    "df['kor'].dtype"
   ]
  },
  {
   "cell_type": "code",
   "execution_count": 12,
   "id": "46edad52",
   "metadata": {},
   "outputs": [],
   "source": [
    "# 타입변경(열마다)\n",
    "import numpy as np\n",
    "df['kor'].astype(np.float64)\n",
    "df['kor'] = df['kor'].astype('float64') # kor열의 타입을 float64로"
   ]
  },
  {
   "cell_type": "code",
   "execution_count": 13,
   "id": "37e4fe07",
   "metadata": {},
   "outputs": [
    {
     "name": "stdout",
     "output_type": "stream",
     "text": [
      "<class 'pandas.core.frame.DataFrame'>\n",
      "RangeIndex: 2 entries, 0 to 1\n",
      "Data columns (total 2 columns):\n",
      " #   Column  Non-Null Count  Dtype  \n",
      "---  ------  --------------  -----  \n",
      " 0   kor     2 non-null      float64\n",
      " 1   mat     2 non-null      int64  \n",
      "dtypes: float64(1), int64(1)\n",
      "memory usage: 160.0 bytes\n"
     ]
    }
   ],
   "source": [
    "df.info()"
   ]
  },
  {
   "cell_type": "code",
   "execution_count": 14,
   "id": "0bc03fc1",
   "metadata": {},
   "outputs": [
    {
     "data": {
      "text/html": [
       "<div>\n",
       "<style scoped>\n",
       "    .dataframe tbody tr th:only-of-type {\n",
       "        vertical-align: middle;\n",
       "    }\n",
       "\n",
       "    .dataframe tbody tr th {\n",
       "        vertical-align: top;\n",
       "    }\n",
       "\n",
       "    .dataframe thead th {\n",
       "        text-align: right;\n",
       "    }\n",
       "</style>\n",
       "<table border=\"1\" class=\"dataframe\">\n",
       "  <thead>\n",
       "    <tr style=\"text-align: right;\">\n",
       "      <th></th>\n",
       "      <th>kor</th>\n",
       "      <th>mat</th>\n",
       "      <th>eng</th>\n",
       "    </tr>\n",
       "  </thead>\n",
       "  <tbody>\n",
       "    <tr>\n",
       "      <th>0</th>\n",
       "      <td>100.0</td>\n",
       "      <td>95.0</td>\n",
       "      <td>NaN</td>\n",
       "    </tr>\n",
       "    <tr>\n",
       "      <th>1</th>\n",
       "      <td>90.0</td>\n",
       "      <td>99.0</td>\n",
       "      <td>NaN</td>\n",
       "    </tr>\n",
       "    <tr>\n",
       "      <th>2</th>\n",
       "      <td>92.0</td>\n",
       "      <td>NaN</td>\n",
       "      <td>99.0</td>\n",
       "    </tr>\n",
       "  </tbody>\n",
       "</table>\n",
       "</div>"
      ],
      "text/plain": [
       "     kor   mat   eng\n",
       "0  100.0  95.0   NaN\n",
       "1   90.0  99.0   NaN\n",
       "2   92.0   NaN  99.0"
      ]
     },
     "execution_count": 14,
     "metadata": {},
     "output_type": "execute_result"
    }
   ],
   "source": [
    "d = [{'kor':100.0, 'mat':95}, {'kor':90, 'mat':99}, {'kor':92, 'eng':99}]\n",
    "df = pd.DataFrame(data=d)\n",
    "df"
   ]
  },
  {
   "cell_type": "code",
   "execution_count": 15,
   "id": "028225df",
   "metadata": {},
   "outputs": [
    {
     "name": "stdout",
     "output_type": "stream",
     "text": [
      "<class 'pandas.core.frame.DataFrame'>\n",
      "RangeIndex: 3 entries, 0 to 2\n",
      "Data columns (total 3 columns):\n",
      " #   Column  Non-Null Count  Dtype  \n",
      "---  ------  --------------  -----  \n",
      " 0   kor     3 non-null      float64\n",
      " 1   mat     2 non-null      float64\n",
      " 2   eng     1 non-null      float64\n",
      "dtypes: float64(3)\n",
      "memory usage: 200.0 bytes\n"
     ]
    }
   ],
   "source": [
    "df.info()"
   ]
  },
  {
   "cell_type": "code",
   "execution_count": 16,
   "id": "51631adc",
   "metadata": {},
   "outputs": [
    {
     "data": {
      "text/plain": [
       "float"
      ]
     },
     "execution_count": 16,
     "metadata": {},
     "output_type": "execute_result"
    }
   ],
   "source": [
    "type(np.nan) # np.nan결측치"
   ]
  },
  {
   "cell_type": "code",
   "execution_count": 17,
   "id": "7530f805",
   "metadata": {},
   "outputs": [
    {
     "data": {
      "text/html": [
       "<div>\n",
       "<style scoped>\n",
       "    .dataframe tbody tr th:only-of-type {\n",
       "        vertical-align: middle;\n",
       "    }\n",
       "\n",
       "    .dataframe tbody tr th {\n",
       "        vertical-align: top;\n",
       "    }\n",
       "\n",
       "    .dataframe thead th {\n",
       "        text-align: right;\n",
       "    }\n",
       "</style>\n",
       "<table border=\"1\" class=\"dataframe\">\n",
       "  <thead>\n",
       "    <tr style=\"text-align: right;\">\n",
       "      <th></th>\n",
       "      <th>kor</th>\n",
       "      <th>mat</th>\n",
       "      <th>eng</th>\n",
       "    </tr>\n",
       "  </thead>\n",
       "  <tbody>\n",
       "    <tr>\n",
       "      <th>0</th>\n",
       "      <td>100</td>\n",
       "      <td>95.0</td>\n",
       "      <td>NaN</td>\n",
       "    </tr>\n",
       "    <tr>\n",
       "      <th>1</th>\n",
       "      <td>90</td>\n",
       "      <td>99.0</td>\n",
       "      <td>NaN</td>\n",
       "    </tr>\n",
       "    <tr>\n",
       "      <th>2</th>\n",
       "      <td>92</td>\n",
       "      <td>NaN</td>\n",
       "      <td>99.0</td>\n",
       "    </tr>\n",
       "  </tbody>\n",
       "</table>\n",
       "</div>"
      ],
      "text/plain": [
       "   kor   mat   eng\n",
       "0  100  95.0   NaN\n",
       "1   90  99.0   NaN\n",
       "2   92   NaN  99.0"
      ]
     },
     "execution_count": 17,
     "metadata": {},
     "output_type": "execute_result"
    }
   ],
   "source": [
    "df['kor'] = df['kor'].astype('int32')\n",
    "df"
   ]
  },
  {
   "cell_type": "code",
   "execution_count": 18,
   "id": "525b880e",
   "metadata": {},
   "outputs": [],
   "source": [
    "# 결측치는 int로 형변환 불가(결측치를 대체값으로 치환 후 변환)\n",
    "# df['mat'] = df['mat'].astype('int32')"
   ]
  },
  {
   "cell_type": "markdown",
   "id": "83975854",
   "metadata": {},
   "source": [
    "## 2.2 리스트를 이용해서 데이터프레임 만들기"
   ]
  },
  {
   "cell_type": "code",
   "execution_count": 19,
   "id": "3bbbb906",
   "metadata": {},
   "outputs": [
    {
     "data": {
      "text/html": [
       "<div>\n",
       "<style scoped>\n",
       "    .dataframe tbody tr th:only-of-type {\n",
       "        vertical-align: middle;\n",
       "    }\n",
       "\n",
       "    .dataframe tbody tr th {\n",
       "        vertical-align: top;\n",
       "    }\n",
       "\n",
       "    .dataframe thead th {\n",
       "        text-align: right;\n",
       "    }\n",
       "</style>\n",
       "<table border=\"1\" class=\"dataframe\">\n",
       "  <thead>\n",
       "    <tr style=\"text-align: right;\">\n",
       "      <th></th>\n",
       "      <th>kor</th>\n",
       "      <th>mat</th>\n",
       "    </tr>\n",
       "  </thead>\n",
       "  <tbody>\n",
       "    <tr>\n",
       "      <th>0</th>\n",
       "      <td>100</td>\n",
       "      <td>99</td>\n",
       "    </tr>\n",
       "    <tr>\n",
       "      <th>1</th>\n",
       "      <td>90</td>\n",
       "      <td>100</td>\n",
       "    </tr>\n",
       "  </tbody>\n",
       "</table>\n",
       "</div>"
      ],
      "text/plain": [
       "   kor  mat\n",
       "0  100   99\n",
       "1   90  100"
      ]
     },
     "execution_count": 19,
     "metadata": {},
     "output_type": "execute_result"
    }
   ],
   "source": [
    "kor = [100,90,95,90,65]\n",
    "mat = [99,100,95,98,94]\n",
    "df = pd.DataFrame({'kor':kor, 'mat':mat})\n",
    "df.head(2) # 상위 2행만"
   ]
  },
  {
   "cell_type": "code",
   "execution_count": 20,
   "id": "f807efef",
   "metadata": {},
   "outputs": [
    {
     "data": {
      "text/plain": [
       "array([[100,  99],\n",
       "       [ 90, 100],\n",
       "       [ 95,  95],\n",
       "       [ 90,  98],\n",
       "       [ 65,  94]])"
      ]
     },
     "execution_count": 20,
     "metadata": {},
     "output_type": "execute_result"
    }
   ],
   "source": [
    "np.c_[kor, mat]"
   ]
  },
  {
   "cell_type": "code",
   "execution_count": 21,
   "id": "f001bf89",
   "metadata": {},
   "outputs": [
    {
     "data": {
      "text/html": [
       "<div>\n",
       "<style scoped>\n",
       "    .dataframe tbody tr th:only-of-type {\n",
       "        vertical-align: middle;\n",
       "    }\n",
       "\n",
       "    .dataframe tbody tr th {\n",
       "        vertical-align: top;\n",
       "    }\n",
       "\n",
       "    .dataframe thead th {\n",
       "        text-align: right;\n",
       "    }\n",
       "</style>\n",
       "<table border=\"1\" class=\"dataframe\">\n",
       "  <thead>\n",
       "    <tr style=\"text-align: right;\">\n",
       "      <th></th>\n",
       "      <th>국어</th>\n",
       "      <th>수학</th>\n",
       "    </tr>\n",
       "  </thead>\n",
       "  <tbody>\n",
       "    <tr>\n",
       "      <th>0</th>\n",
       "      <td>100</td>\n",
       "      <td>99</td>\n",
       "    </tr>\n",
       "    <tr>\n",
       "      <th>1</th>\n",
       "      <td>90</td>\n",
       "      <td>100</td>\n",
       "    </tr>\n",
       "    <tr>\n",
       "      <th>2</th>\n",
       "      <td>95</td>\n",
       "      <td>95</td>\n",
       "    </tr>\n",
       "    <tr>\n",
       "      <th>3</th>\n",
       "      <td>90</td>\n",
       "      <td>98</td>\n",
       "    </tr>\n",
       "    <tr>\n",
       "      <th>4</th>\n",
       "      <td>65</td>\n",
       "      <td>94</td>\n",
       "    </tr>\n",
       "  </tbody>\n",
       "</table>\n",
       "</div>"
      ],
      "text/plain": [
       "    국어   수학\n",
       "0  100   99\n",
       "1   90  100\n",
       "2   95   95\n",
       "3   90   98\n",
       "4   65   94"
      ]
     },
     "execution_count": 21,
     "metadata": {},
     "output_type": "execute_result"
    }
   ],
   "source": [
    "df = pd.DataFrame(data=np.c_[kor, mat], columns=['국어','수학'])\n",
    "df"
   ]
  },
  {
   "cell_type": "code",
   "execution_count": 22,
   "id": "7e4c1516",
   "metadata": {},
   "outputs": [
    {
     "data": {
      "text/plain": [
       "(5, 2)"
      ]
     },
     "execution_count": 22,
     "metadata": {},
     "output_type": "execute_result"
    }
   ],
   "source": [
    "df.shape"
   ]
  },
  {
   "cell_type": "code",
   "execution_count": 23,
   "id": "4df7a69c",
   "metadata": {},
   "outputs": [
    {
     "data": {
      "text/html": [
       "<div>\n",
       "<style scoped>\n",
       "    .dataframe tbody tr th:only-of-type {\n",
       "        vertical-align: middle;\n",
       "    }\n",
       "\n",
       "    .dataframe tbody tr th {\n",
       "        vertical-align: top;\n",
       "    }\n",
       "\n",
       "    .dataframe thead th {\n",
       "        text-align: right;\n",
       "    }\n",
       "</style>\n",
       "<table border=\"1\" class=\"dataframe\">\n",
       "  <thead>\n",
       "    <tr style=\"text-align: right;\">\n",
       "      <th></th>\n",
       "      <th>책이름</th>\n",
       "      <th>저자</th>\n",
       "      <th>가격</th>\n",
       "      <th>할인율</th>\n",
       "    </tr>\n",
       "  </thead>\n",
       "  <tbody>\n",
       "    <tr>\n",
       "      <th>0</th>\n",
       "      <td>트렌드 코리아2026</td>\n",
       "      <td>김난도</td>\n",
       "      <td>18000</td>\n",
       "      <td>10</td>\n",
       "    </tr>\n",
       "    <tr>\n",
       "      <th>1</th>\n",
       "      <td>사탄탱고</td>\n",
       "      <td>라슬로</td>\n",
       "      <td>17820</td>\n",
       "      <td>10</td>\n",
       "    </tr>\n",
       "    <tr>\n",
       "      <th>2</th>\n",
       "      <td>미술관 여행자</td>\n",
       "      <td>카미유주노</td>\n",
       "      <td>29700</td>\n",
       "      <td>10</td>\n",
       "    </tr>\n",
       "  </tbody>\n",
       "</table>\n",
       "</div>"
      ],
      "text/plain": [
       "           책이름     저자     가격  할인율\n",
       "0  트렌드 코리아2026    김난도  18000   10\n",
       "1         사탄탱고    라슬로  17820   10\n",
       "2      미술관 여행자  카미유주노  29700   10"
      ]
     },
     "execution_count": 23,
     "metadata": {},
     "output_type": "execute_result"
    }
   ],
   "source": [
    "l = [['트렌드 코리아2026', '김난도', 18000, 10],\n",
    "     ['사탄탱고', '라슬로', 17820, 10],\n",
    "     ['미술관 여행자', '카미유주노', 29700, 10]]\n",
    "df = pd.DataFrame(l, columns=['책이름','저자','가격','할인율'])\n",
    "df"
   ]
  },
  {
   "cell_type": "code",
   "execution_count": 24,
   "id": "d7b483f1",
   "metadata": {},
   "outputs": [],
   "source": [
    "# %ls : ipython 매직명령어\n",
    "# !dir : 쉘명령어"
   ]
  },
  {
   "cell_type": "code",
   "execution_count": 25,
   "id": "015e9a0a",
   "metadata": {},
   "outputs": [
    {
     "name": "stderr",
     "output_type": "stream",
     "text": [
      "지정된 파일을 찾을 수 없습니다.\n"
     ]
    }
   ],
   "source": [
    "%ls \"C:\\ai\\downloads\\shareData\\상가정보\""
   ]
  },
  {
   "cell_type": "code",
   "execution_count": 26,
   "id": "9429f4b8",
   "metadata": {},
   "outputs": [
    {
     "ename": "FileNotFoundError",
     "evalue": "[Errno 2] No such file or directory: 'C:\\\\ai\\\\downloads\\\\shareData\\\\상가정보\\\\소상공인시장진흥공단_상가(상권)정보_서울_202503.csv'",
     "output_type": "error",
     "traceback": [
      "\u001b[1;31m---------------------------------------------------------------------------\u001b[0m",
      "\u001b[1;31mFileNotFoundError\u001b[0m                         Traceback (most recent call last)",
      "Cell \u001b[1;32mIn[26], line 1\u001b[0m\n\u001b[1;32m----> 1\u001b[0m df \u001b[38;5;241m=\u001b[39m \u001b[43mpd\u001b[49m\u001b[38;5;241;43m.\u001b[39;49m\u001b[43mread_csv\u001b[49m\u001b[43m(\u001b[49m\u001b[38;5;124;43mr\u001b[39;49m\u001b[38;5;124;43m'\u001b[39;49m\u001b[38;5;124;43mC:\u001b[39;49m\u001b[38;5;124;43m\\\u001b[39;49m\u001b[38;5;124;43mai\u001b[39;49m\u001b[38;5;124;43m\\\u001b[39;49m\u001b[38;5;124;43mdownloads\u001b[39;49m\u001b[38;5;124;43m\\\u001b[39;49m\u001b[38;5;124;43mshareData\u001b[39;49m\u001b[38;5;124;43m\\\u001b[39;49m\u001b[38;5;124;43m상가정보\u001b[39;49m\u001b[38;5;124;43m\\\u001b[39;49m\u001b[38;5;124;43m소상공인시장진흥공단_상가(상권)정보_서울_202503.csv\u001b[39;49m\u001b[38;5;124;43m'\u001b[39;49m\u001b[43m,\u001b[49m\n\u001b[0;32m      2\u001b[0m \u001b[43m                 \u001b[49m\u001b[43mencoding\u001b[49m\u001b[38;5;241;43m=\u001b[39;49m\u001b[38;5;124;43m'\u001b[39;49m\u001b[38;5;124;43mutf-8\u001b[39;49m\u001b[38;5;124;43m'\u001b[39;49m\u001b[43m,\u001b[49m\u001b[43m \u001b[49m\u001b[43msep\u001b[49m\u001b[38;5;241;43m=\u001b[39;49m\u001b[38;5;124;43m'\u001b[39;49m\u001b[38;5;124;43m,\u001b[39;49m\u001b[38;5;124;43m'\u001b[39;49m\u001b[43m,\u001b[49m\u001b[43m \u001b[49m\u001b[38;5;66;43;03m# 기본값 생략가능\u001b[39;49;00m\n\u001b[0;32m      3\u001b[0m \u001b[43m                 \u001b[49m\u001b[43mnrows\u001b[49m\u001b[38;5;241;43m=\u001b[39;49m\u001b[38;5;241;43m70\u001b[39;49m\u001b[43m)\u001b[49m \u001b[38;5;66;03m# 처음 70행만 가져오기\u001b[39;00m\n\u001b[0;32m      4\u001b[0m df\u001b[38;5;241m.\u001b[39mshape\n",
      "File \u001b[1;32m~\\anaconda3\\lib\\site-packages\\pandas\\util\\_decorators.py:211\u001b[0m, in \u001b[0;36mdeprecate_kwarg.<locals>._deprecate_kwarg.<locals>.wrapper\u001b[1;34m(*args, **kwargs)\u001b[0m\n\u001b[0;32m    209\u001b[0m     \u001b[38;5;28;01melse\u001b[39;00m:\n\u001b[0;32m    210\u001b[0m         kwargs[new_arg_name] \u001b[38;5;241m=\u001b[39m new_arg_value\n\u001b[1;32m--> 211\u001b[0m \u001b[38;5;28;01mreturn\u001b[39;00m func(\u001b[38;5;241m*\u001b[39margs, \u001b[38;5;241m*\u001b[39m\u001b[38;5;241m*\u001b[39mkwargs)\n",
      "File \u001b[1;32m~\\anaconda3\\lib\\site-packages\\pandas\\util\\_decorators.py:331\u001b[0m, in \u001b[0;36mdeprecate_nonkeyword_arguments.<locals>.decorate.<locals>.wrapper\u001b[1;34m(*args, **kwargs)\u001b[0m\n\u001b[0;32m    325\u001b[0m \u001b[38;5;28;01mif\u001b[39;00m \u001b[38;5;28mlen\u001b[39m(args) \u001b[38;5;241m>\u001b[39m num_allow_args:\n\u001b[0;32m    326\u001b[0m     warnings\u001b[38;5;241m.\u001b[39mwarn(\n\u001b[0;32m    327\u001b[0m         msg\u001b[38;5;241m.\u001b[39mformat(arguments\u001b[38;5;241m=\u001b[39m_format_argument_list(allow_args)),\n\u001b[0;32m    328\u001b[0m         \u001b[38;5;167;01mFutureWarning\u001b[39;00m,\n\u001b[0;32m    329\u001b[0m         stacklevel\u001b[38;5;241m=\u001b[39mfind_stack_level(),\n\u001b[0;32m    330\u001b[0m     )\n\u001b[1;32m--> 331\u001b[0m \u001b[38;5;28;01mreturn\u001b[39;00m func(\u001b[38;5;241m*\u001b[39margs, \u001b[38;5;241m*\u001b[39m\u001b[38;5;241m*\u001b[39mkwargs)\n",
      "File \u001b[1;32m~\\anaconda3\\lib\\site-packages\\pandas\\io\\parsers\\readers.py:950\u001b[0m, in \u001b[0;36mread_csv\u001b[1;34m(filepath_or_buffer, sep, delimiter, header, names, index_col, usecols, squeeze, prefix, mangle_dupe_cols, dtype, engine, converters, true_values, false_values, skipinitialspace, skiprows, skipfooter, nrows, na_values, keep_default_na, na_filter, verbose, skip_blank_lines, parse_dates, infer_datetime_format, keep_date_col, date_parser, dayfirst, cache_dates, iterator, chunksize, compression, thousands, decimal, lineterminator, quotechar, quoting, doublequote, escapechar, comment, encoding, encoding_errors, dialect, error_bad_lines, warn_bad_lines, on_bad_lines, delim_whitespace, low_memory, memory_map, float_precision, storage_options)\u001b[0m\n\u001b[0;32m    935\u001b[0m kwds_defaults \u001b[38;5;241m=\u001b[39m _refine_defaults_read(\n\u001b[0;32m    936\u001b[0m     dialect,\n\u001b[0;32m    937\u001b[0m     delimiter,\n\u001b[1;32m   (...)\u001b[0m\n\u001b[0;32m    946\u001b[0m     defaults\u001b[38;5;241m=\u001b[39m{\u001b[38;5;124m\"\u001b[39m\u001b[38;5;124mdelimiter\u001b[39m\u001b[38;5;124m\"\u001b[39m: \u001b[38;5;124m\"\u001b[39m\u001b[38;5;124m,\u001b[39m\u001b[38;5;124m\"\u001b[39m},\n\u001b[0;32m    947\u001b[0m )\n\u001b[0;32m    948\u001b[0m kwds\u001b[38;5;241m.\u001b[39mupdate(kwds_defaults)\n\u001b[1;32m--> 950\u001b[0m \u001b[38;5;28;01mreturn\u001b[39;00m \u001b[43m_read\u001b[49m\u001b[43m(\u001b[49m\u001b[43mfilepath_or_buffer\u001b[49m\u001b[43m,\u001b[49m\u001b[43m \u001b[49m\u001b[43mkwds\u001b[49m\u001b[43m)\u001b[49m\n",
      "File \u001b[1;32m~\\anaconda3\\lib\\site-packages\\pandas\\io\\parsers\\readers.py:605\u001b[0m, in \u001b[0;36m_read\u001b[1;34m(filepath_or_buffer, kwds)\u001b[0m\n\u001b[0;32m    602\u001b[0m _validate_names(kwds\u001b[38;5;241m.\u001b[39mget(\u001b[38;5;124m\"\u001b[39m\u001b[38;5;124mnames\u001b[39m\u001b[38;5;124m\"\u001b[39m, \u001b[38;5;28;01mNone\u001b[39;00m))\n\u001b[0;32m    604\u001b[0m \u001b[38;5;66;03m# Create the parser.\u001b[39;00m\n\u001b[1;32m--> 605\u001b[0m parser \u001b[38;5;241m=\u001b[39m TextFileReader(filepath_or_buffer, \u001b[38;5;241m*\u001b[39m\u001b[38;5;241m*\u001b[39mkwds)\n\u001b[0;32m    607\u001b[0m \u001b[38;5;28;01mif\u001b[39;00m chunksize \u001b[38;5;129;01mor\u001b[39;00m iterator:\n\u001b[0;32m    608\u001b[0m     \u001b[38;5;28;01mreturn\u001b[39;00m parser\n",
      "File \u001b[1;32m~\\anaconda3\\lib\\site-packages\\pandas\\io\\parsers\\readers.py:1442\u001b[0m, in \u001b[0;36mTextFileReader.__init__\u001b[1;34m(self, f, engine, **kwds)\u001b[0m\n\u001b[0;32m   1439\u001b[0m     \u001b[38;5;28mself\u001b[39m\u001b[38;5;241m.\u001b[39moptions[\u001b[38;5;124m\"\u001b[39m\u001b[38;5;124mhas_index_names\u001b[39m\u001b[38;5;124m\"\u001b[39m] \u001b[38;5;241m=\u001b[39m kwds[\u001b[38;5;124m\"\u001b[39m\u001b[38;5;124mhas_index_names\u001b[39m\u001b[38;5;124m\"\u001b[39m]\n\u001b[0;32m   1441\u001b[0m \u001b[38;5;28mself\u001b[39m\u001b[38;5;241m.\u001b[39mhandles: IOHandles \u001b[38;5;241m|\u001b[39m \u001b[38;5;28;01mNone\u001b[39;00m \u001b[38;5;241m=\u001b[39m \u001b[38;5;28;01mNone\u001b[39;00m\n\u001b[1;32m-> 1442\u001b[0m \u001b[38;5;28mself\u001b[39m\u001b[38;5;241m.\u001b[39m_engine \u001b[38;5;241m=\u001b[39m \u001b[38;5;28;43mself\u001b[39;49m\u001b[38;5;241;43m.\u001b[39;49m\u001b[43m_make_engine\u001b[49m\u001b[43m(\u001b[49m\u001b[43mf\u001b[49m\u001b[43m,\u001b[49m\u001b[43m \u001b[49m\u001b[38;5;28;43mself\u001b[39;49m\u001b[38;5;241;43m.\u001b[39;49m\u001b[43mengine\u001b[49m\u001b[43m)\u001b[49m\n",
      "File \u001b[1;32m~\\anaconda3\\lib\\site-packages\\pandas\\io\\parsers\\readers.py:1735\u001b[0m, in \u001b[0;36mTextFileReader._make_engine\u001b[1;34m(self, f, engine)\u001b[0m\n\u001b[0;32m   1733\u001b[0m     \u001b[38;5;28;01mif\u001b[39;00m \u001b[38;5;124m\"\u001b[39m\u001b[38;5;124mb\u001b[39m\u001b[38;5;124m\"\u001b[39m \u001b[38;5;129;01mnot\u001b[39;00m \u001b[38;5;129;01min\u001b[39;00m mode:\n\u001b[0;32m   1734\u001b[0m         mode \u001b[38;5;241m+\u001b[39m\u001b[38;5;241m=\u001b[39m \u001b[38;5;124m\"\u001b[39m\u001b[38;5;124mb\u001b[39m\u001b[38;5;124m\"\u001b[39m\n\u001b[1;32m-> 1735\u001b[0m \u001b[38;5;28mself\u001b[39m\u001b[38;5;241m.\u001b[39mhandles \u001b[38;5;241m=\u001b[39m \u001b[43mget_handle\u001b[49m\u001b[43m(\u001b[49m\n\u001b[0;32m   1736\u001b[0m \u001b[43m    \u001b[49m\u001b[43mf\u001b[49m\u001b[43m,\u001b[49m\n\u001b[0;32m   1737\u001b[0m \u001b[43m    \u001b[49m\u001b[43mmode\u001b[49m\u001b[43m,\u001b[49m\n\u001b[0;32m   1738\u001b[0m \u001b[43m    \u001b[49m\u001b[43mencoding\u001b[49m\u001b[38;5;241;43m=\u001b[39;49m\u001b[38;5;28;43mself\u001b[39;49m\u001b[38;5;241;43m.\u001b[39;49m\u001b[43moptions\u001b[49m\u001b[38;5;241;43m.\u001b[39;49m\u001b[43mget\u001b[49m\u001b[43m(\u001b[49m\u001b[38;5;124;43m\"\u001b[39;49m\u001b[38;5;124;43mencoding\u001b[39;49m\u001b[38;5;124;43m\"\u001b[39;49m\u001b[43m,\u001b[49m\u001b[43m \u001b[49m\u001b[38;5;28;43;01mNone\u001b[39;49;00m\u001b[43m)\u001b[49m\u001b[43m,\u001b[49m\n\u001b[0;32m   1739\u001b[0m \u001b[43m    \u001b[49m\u001b[43mcompression\u001b[49m\u001b[38;5;241;43m=\u001b[39;49m\u001b[38;5;28;43mself\u001b[39;49m\u001b[38;5;241;43m.\u001b[39;49m\u001b[43moptions\u001b[49m\u001b[38;5;241;43m.\u001b[39;49m\u001b[43mget\u001b[49m\u001b[43m(\u001b[49m\u001b[38;5;124;43m\"\u001b[39;49m\u001b[38;5;124;43mcompression\u001b[39;49m\u001b[38;5;124;43m\"\u001b[39;49m\u001b[43m,\u001b[49m\u001b[43m \u001b[49m\u001b[38;5;28;43;01mNone\u001b[39;49;00m\u001b[43m)\u001b[49m\u001b[43m,\u001b[49m\n\u001b[0;32m   1740\u001b[0m \u001b[43m    \u001b[49m\u001b[43mmemory_map\u001b[49m\u001b[38;5;241;43m=\u001b[39;49m\u001b[38;5;28;43mself\u001b[39;49m\u001b[38;5;241;43m.\u001b[39;49m\u001b[43moptions\u001b[49m\u001b[38;5;241;43m.\u001b[39;49m\u001b[43mget\u001b[49m\u001b[43m(\u001b[49m\u001b[38;5;124;43m\"\u001b[39;49m\u001b[38;5;124;43mmemory_map\u001b[39;49m\u001b[38;5;124;43m\"\u001b[39;49m\u001b[43m,\u001b[49m\u001b[43m \u001b[49m\u001b[38;5;28;43;01mFalse\u001b[39;49;00m\u001b[43m)\u001b[49m\u001b[43m,\u001b[49m\n\u001b[0;32m   1741\u001b[0m \u001b[43m    \u001b[49m\u001b[43mis_text\u001b[49m\u001b[38;5;241;43m=\u001b[39;49m\u001b[43mis_text\u001b[49m\u001b[43m,\u001b[49m\n\u001b[0;32m   1742\u001b[0m \u001b[43m    \u001b[49m\u001b[43merrors\u001b[49m\u001b[38;5;241;43m=\u001b[39;49m\u001b[38;5;28;43mself\u001b[39;49m\u001b[38;5;241;43m.\u001b[39;49m\u001b[43moptions\u001b[49m\u001b[38;5;241;43m.\u001b[39;49m\u001b[43mget\u001b[49m\u001b[43m(\u001b[49m\u001b[38;5;124;43m\"\u001b[39;49m\u001b[38;5;124;43mencoding_errors\u001b[39;49m\u001b[38;5;124;43m\"\u001b[39;49m\u001b[43m,\u001b[49m\u001b[43m \u001b[49m\u001b[38;5;124;43m\"\u001b[39;49m\u001b[38;5;124;43mstrict\u001b[39;49m\u001b[38;5;124;43m\"\u001b[39;49m\u001b[43m)\u001b[49m\u001b[43m,\u001b[49m\n\u001b[0;32m   1743\u001b[0m \u001b[43m    \u001b[49m\u001b[43mstorage_options\u001b[49m\u001b[38;5;241;43m=\u001b[39;49m\u001b[38;5;28;43mself\u001b[39;49m\u001b[38;5;241;43m.\u001b[39;49m\u001b[43moptions\u001b[49m\u001b[38;5;241;43m.\u001b[39;49m\u001b[43mget\u001b[49m\u001b[43m(\u001b[49m\u001b[38;5;124;43m\"\u001b[39;49m\u001b[38;5;124;43mstorage_options\u001b[39;49m\u001b[38;5;124;43m\"\u001b[39;49m\u001b[43m,\u001b[49m\u001b[43m \u001b[49m\u001b[38;5;28;43;01mNone\u001b[39;49;00m\u001b[43m)\u001b[49m\u001b[43m,\u001b[49m\n\u001b[0;32m   1744\u001b[0m \u001b[43m\u001b[49m\u001b[43m)\u001b[49m\n\u001b[0;32m   1745\u001b[0m \u001b[38;5;28;01massert\u001b[39;00m \u001b[38;5;28mself\u001b[39m\u001b[38;5;241m.\u001b[39mhandles \u001b[38;5;129;01mis\u001b[39;00m \u001b[38;5;129;01mnot\u001b[39;00m \u001b[38;5;28;01mNone\u001b[39;00m\n\u001b[0;32m   1746\u001b[0m f \u001b[38;5;241m=\u001b[39m \u001b[38;5;28mself\u001b[39m\u001b[38;5;241m.\u001b[39mhandles\u001b[38;5;241m.\u001b[39mhandle\n",
      "File \u001b[1;32m~\\anaconda3\\lib\\site-packages\\pandas\\io\\common.py:865\u001b[0m, in \u001b[0;36mget_handle\u001b[1;34m(path_or_buf, mode, encoding, compression, memory_map, is_text, errors, storage_options)\u001b[0m\n\u001b[0;32m    856\u001b[0m         handle \u001b[38;5;241m=\u001b[39m \u001b[38;5;28mopen\u001b[39m(\n\u001b[0;32m    857\u001b[0m             handle,\n\u001b[0;32m    858\u001b[0m             ioargs\u001b[38;5;241m.\u001b[39mmode,\n\u001b[1;32m   (...)\u001b[0m\n\u001b[0;32m    861\u001b[0m             newline\u001b[38;5;241m=\u001b[39m\u001b[38;5;124m\"\u001b[39m\u001b[38;5;124m\"\u001b[39m,\n\u001b[0;32m    862\u001b[0m         )\n\u001b[0;32m    863\u001b[0m     \u001b[38;5;28;01melse\u001b[39;00m:\n\u001b[0;32m    864\u001b[0m         \u001b[38;5;66;03m# Binary mode\u001b[39;00m\n\u001b[1;32m--> 865\u001b[0m         handle \u001b[38;5;241m=\u001b[39m \u001b[38;5;28;43mopen\u001b[39;49m\u001b[43m(\u001b[49m\u001b[43mhandle\u001b[49m\u001b[43m,\u001b[49m\u001b[43m \u001b[49m\u001b[43mioargs\u001b[49m\u001b[38;5;241;43m.\u001b[39;49m\u001b[43mmode\u001b[49m\u001b[43m)\u001b[49m\n\u001b[0;32m    866\u001b[0m     handles\u001b[38;5;241m.\u001b[39mappend(handle)\n\u001b[0;32m    868\u001b[0m \u001b[38;5;66;03m# Convert BytesIO or file objects passed with an encoding\u001b[39;00m\n",
      "\u001b[1;31mFileNotFoundError\u001b[0m: [Errno 2] No such file or directory: 'C:\\\\ai\\\\downloads\\\\shareData\\\\상가정보\\\\소상공인시장진흥공단_상가(상권)정보_서울_202503.csv'"
     ]
    }
   ],
   "source": [
    "df = pd.read_csv(r'C:\\ai\\downloads\\shareData\\상가정보\\소상공인시장진흥공단_상가(상권)정보_서울_202503.csv',\n",
    "                 encoding='utf-8', sep=',', # 기본값 생략가능\n",
    "                 nrows=70) # 처음 70행만 가져오기\n",
    "df.shape"
   ]
  },
  {
   "cell_type": "code",
   "execution_count": null,
   "id": "44544205",
   "metadata": {},
   "outputs": [],
   "source": [
    "df.head(1) # 상위 "
   ]
  },
  {
   "cell_type": "code",
   "execution_count": null,
   "id": "2ff62635",
   "metadata": {},
   "outputs": [],
   "source": [
    "# 판다스 디스플레이 옵션\n",
    "pd.options.display.max_columns = 39 # 39열까지 display가능. 기본값 20\n",
    "pd.options.display.max_rows = 70    # 70행까지 display가능. 기본값 60"
   ]
  },
  {
   "cell_type": "code",
   "execution_count": null,
   "id": "c3e87bd1",
   "metadata": {},
   "outputs": [],
   "source": [
    "df.head(1)"
   ]
  },
  {
   "cell_type": "code",
   "execution_count": null,
   "id": "1e07eac3",
   "metadata": {},
   "outputs": [],
   "source": [
    "df.head(1).T"
   ]
  },
  {
   "cell_type": "markdown",
   "id": "5630f463",
   "metadata": {},
   "source": [
    "## 2.3 read_csv"
   ]
  },
  {
   "cell_type": "code",
   "execution_count": null,
   "id": "3bde7e7e",
   "metadata": {},
   "outputs": [],
   "source": [
    "# help(pd.read_csv)\n",
    "# pd.read_csv() # 함수 안에서 shift+tab+tab\n",
    "pd.read_csv?"
   ]
  },
  {
   "cell_type": "code",
   "execution_count": null,
   "id": "d47908ba",
   "metadata": {},
   "outputs": [],
   "source": [
    "# (1) csv 파일 불러오기(기본값)\n",
    "member = pd.read_csv('data/ch11_member.csv',\n",
    "                     #, encoding='utf-8', sep=',', comment주석처리x\n",
    "                    )\n",
    "member.info()"
   ]
  },
  {
   "cell_type": "code",
   "execution_count": null,
   "id": "e0a0a644",
   "metadata": {},
   "outputs": [],
   "source": [
    "# 문자형로 읽어들인 Birth를 datetime형으로\n",
    "# 형변환 : astype('int64'), astype('datetime64' : 비추)\n",
    "#         to_datetime()함수\n",
    "# member['Birth'].astype('datetime64') 비추\n",
    "member['Birth'] = pd.to_datetime(member['Birth'])\n",
    "member.head(1)"
   ]
  },
  {
   "cell_type": "code",
   "execution_count": null,
   "id": "4f654138",
   "metadata": {},
   "outputs": [],
   "source": [
    "member.info()"
   ]
  },
  {
   "cell_type": "code",
   "execution_count": null,
   "id": "8b342f48",
   "metadata": {},
   "outputs": [],
   "source": [
    "member['Age'] = member['Age'].astype(np.int16)\n",
    "member.dtypes"
   ]
  },
  {
   "cell_type": "code",
   "execution_count": null,
   "id": "eb76985d",
   "metadata": {},
   "outputs": [],
   "source": [
    "# (2) 특정행을 제외하고 csv 파일 읽어오기\n",
    "member = pd.read_csv('data/ch11_membercp949.csv',\n",
    "                     encoding='cp949',\n",
    "                     skiprows=[1,6]) # 1,6번째 행 제외하고 읽어오기(시작은 1부터)\n",
    "member"
   ]
  },
  {
   "cell_type": "code",
   "execution_count": null,
   "id": "e45eda36",
   "metadata": {},
   "outputs": [],
   "source": [
    "# (3) 상위몇행만 sep문자는 ,아닌 csv파일 읽어오기\n",
    "member = pd.read_csv('data/ch11_membersep.csv', \n",
    "                     nrows=5, # 상위 5행만\n",
    "                     sep='|')\n",
    "member"
   ]
  },
  {
   "cell_type": "code",
   "execution_count": null,
   "id": "ec2ecacc",
   "metadata": {},
   "outputs": [],
   "source": [
    "# (4) 주석(#)제외, datetime형 필드를 지정하여 csv 파일 읽어오기\n",
    "member = pd.read_csv('data/ch11_membertab.csv',\n",
    "                     sep='\\t',              # 구분자 설정\n",
    "                     comment='#',           # 주석제외\n",
    "                     parse_dates=['Birth']) # datetime64형으로 읽어올 필드지정\n",
    "member.info()"
   ]
  },
  {
   "cell_type": "markdown",
   "id": "b0a4ab26",
   "metadata": {},
   "source": [
    "## 2.4 패키지에서 가져오기 : iris 데이터\n",
    "- iris 가져오기 방법1 : sklearn(머신러닝 패키지)\n",
    "- iris 가져오기 방법2 : statsmodels (R데이터)\n",
    "- iris 가져오기 방법3 : seaborn(시각화패키지)\n",
    "### 2.4.1 iris 방법1 : sklearn\n",
    "- sklearn.datasets 모듈 데이터(iris)를 데이터 프레임으로 변환"
   ]
  },
  {
   "cell_type": "code",
   "execution_count": null,
   "id": "e5198e57",
   "metadata": {},
   "outputs": [],
   "source": [
    "from sklearn import datasets #머신러닝을 공부하기 위한 학습 데이터셋 제공\n",
    "# sklearn 패키지에서 제공되는 데이터셋은 딕셔너리형식으로 제공\n",
    "iris = datasets.load_iris()\n",
    "print(type(iris)) # Bunch타입(딕셔너리를 상속받은 타입) 딕셔너리처럼 동작\n",
    "# print(iris.DESCR) # iris 데이터셋의 설명\n",
    "print(iris.keys())"
   ]
  },
  {
   "cell_type": "code",
   "execution_count": null,
   "id": "972fd7ad",
   "metadata": {},
   "outputs": [],
   "source": [
    "iris.data # 독립변수\n",
    "iris['data'][:3] # 상위 3행"
   ]
  },
  {
   "cell_type": "code",
   "execution_count": null,
   "id": "30779be7",
   "metadata": {},
   "outputs": [],
   "source": [
    "# 데이터프레임의 열이름(비추)\n",
    "iris.feature_names"
   ]
  },
  {
   "cell_type": "code",
   "execution_count": null,
   "id": "e044f21d",
   "metadata": {},
   "outputs": [],
   "source": [
    "# 데이터프레임의 열이름(강추)\n",
    "[col[:-5].replace(' ', '_') for col in iris.feature_names]"
   ]
  },
  {
   "cell_type": "code",
   "execution_count": null,
   "id": "f2253f2d",
   "metadata": {},
   "outputs": [],
   "source": [
    "iris.target # ML/DL 학습시 타겟변수(종속변수)\n",
    "iris['target']"
   ]
  },
  {
   "cell_type": "code",
   "execution_count": null,
   "id": "c4bcd619",
   "metadata": {},
   "outputs": [],
   "source": [
    "iris.target_names"
   ]
  },
  {
   "cell_type": "code",
   "execution_count": null,
   "id": "1f7044fa",
   "metadata": {},
   "outputs": [],
   "source": [
    "iris.target_names[iris.target] # 데이터프레임에 쓸 타겟변수(가장 오른쪽 열)"
   ]
  },
  {
   "cell_type": "code",
   "execution_count": null,
   "id": "b2ce08bd",
   "metadata": {},
   "outputs": [],
   "source": [
    "# 독립변수\n",
    "data = iris.data\n",
    "# 종속변수\n",
    "target = iris.target_names[iris.target].reshape(-1,1)\n",
    "print(data[:3], target[:3])"
   ]
  },
  {
   "cell_type": "code",
   "execution_count": null,
   "id": "49366ed8",
   "metadata": {},
   "outputs": [],
   "source": [
    "print('독립변수 shape :', data.shape)\n",
    "print('타겟변수 shape :', target.shape)"
   ]
  },
  {
   "cell_type": "code",
   "execution_count": null,
   "id": "a6b525ca",
   "metadata": {},
   "outputs": [],
   "source": [
    "# 1. 독립변수와 종속변수를 stack한 후 데이터프레임으로\n",
    "df =pd.DataFrame(np.hstack((data, target)),\n",
    "                 columns=iris.feature_names + ['species'])\n",
    "df.head(1)"
   ]
  },
  {
   "cell_type": "code",
   "execution_count": null,
   "id": "4fb057b3",
   "metadata": {},
   "outputs": [],
   "source": [
    "# df.sepal length (cm)\n",
    "# df['sepal length (cm)']\n",
    "df.columns = [col[:-5].replace(' ','_') for col in iris.feature_names] + ['species']\n",
    "df.head(1)"
   ]
  },
  {
   "cell_type": "code",
   "execution_count": null,
   "id": "e04b7e3a",
   "metadata": {},
   "outputs": [],
   "source": [
    "df.sepal_length"
   ]
  },
  {
   "cell_type": "code",
   "execution_count": null,
   "id": "ea1b8693",
   "metadata": {},
   "outputs": [],
   "source": [
    "# 2. 독립변수, 종속변수를 따로 데이터프레임으로 생성 -> 두 데이터프레임을 연결"
   ]
  },
  {
   "cell_type": "code",
   "execution_count": null,
   "id": "58a9e25b",
   "metadata": {},
   "outputs": [],
   "source": [
    "X =pd.DataFrame(iris.data,columns=[col[:-5].replace(' ','_') for col in iris.feature_names])\n",
    "X.head(1)"
   ]
  },
  {
   "cell_type": "code",
   "execution_count": null,
   "id": "b0df15c5",
   "metadata": {},
   "outputs": [],
   "source": [
    "y = pd.DataFrame(iris.target_names[iris.target], columns=['species'])\n",
    "y.head(1)"
   ]
  },
  {
   "cell_type": "code",
   "execution_count": null,
   "id": "5e0b50f7",
   "metadata": {},
   "outputs": [],
   "source": [
    "print('X의 shape :', X.shape)\n",
    "print('y의 shape :', y.shape)\n",
    "print('X의 index :', X.index)\n",
    "print('y의 index :', y.index)"
   ]
  },
  {
   "cell_type": "code",
   "execution_count": null,
   "id": "26835f89",
   "metadata": {},
   "outputs": [],
   "source": [
    "iris_df = pd.concat( [X, y], axis=1 ) # 두개의 데이터프레임을 열로 연결\n",
    "iris_df.info()"
   ]
  },
  {
   "cell_type": "markdown",
   "id": "6973e9da",
   "metadata": {},
   "source": [
    "### 2.4.2 iris 방법2 : statsmodels"
   ]
  },
  {
   "cell_type": "code",
   "execution_count": null,
   "id": "6b01db7e",
   "metadata": {},
   "outputs": [],
   "source": [
    "# R패키지의 기본 데이터 가져오기\n",
    "from statsmodels.api import datasets\n",
    "iris_dataset = datasets.get_rdataset('iris',\n",
    "                                     package='datasets',\n",
    "                                     cache=True) # 한번 다운로드한 데이터를 pc에 저장\n",
    "iris_dataset"
   ]
  },
  {
   "cell_type": "code",
   "execution_count": null,
   "id": "9f8d0a81",
   "metadata": {},
   "outputs": [],
   "source": [
    "iris = iris_dataset.data\n",
    "iris.head() # 상위5행"
   ]
  },
  {
   "cell_type": "raw",
   "id": "6f9ea8c2",
   "metadata": {},
   "source": [
    "iris['Sepal.Length']\n",
    "# iris.Sepal.Length # 열이름에 .이 있으면 iris.Sepal.Length 접근불가"
   ]
  },
  {
   "cell_type": "code",
   "execution_count": null,
   "id": "efee9c21",
   "metadata": {},
   "outputs": [],
   "source": [
    "iris.columns = [col.replace('.','_').lower() for col in iris.columns]\n",
    "iris.head(1)"
   ]
  },
  {
   "cell_type": "markdown",
   "id": "bcd02f24",
   "metadata": {},
   "source": [
    "### 2.3.3 iris 방법3 : seaborn"
   ]
  },
  {
   "cell_type": "code",
   "execution_count": null,
   "id": "2913f3b4",
   "metadata": {},
   "outputs": [],
   "source": [
    "import seaborn as sns\n",
    "iris = sns.load_dataset('iris')\n",
    "iris.head(1)"
   ]
  },
  {
   "cell_type": "code",
   "execution_count": null,
   "id": "5d886a5d",
   "metadata": {},
   "outputs": [],
   "source": [
    "# 데이터프레임을 파일로 출력(4k)\n",
    "iris.to_csv('data/ch11_iris.csv',\n",
    "            sep=',',encoding='utf-8', # 기본값\n",
    "            index=False) # 행이름이 생략되서 출력"
   ]
  },
  {
   "cell_type": "code",
   "execution_count": null,
   "id": "84a67992",
   "metadata": {},
   "outputs": [],
   "source": [
    "iris.to_csv('data/ch11_iris.csv.gz', # 889B\n",
    "            index=False,\n",
    "            compression='infer') # 파일 확장자에 맞게 압축"
   ]
  },
  {
   "cell_type": "code",
   "execution_count": null,
   "id": "ab6e9e13",
   "metadata": {},
   "outputs": [],
   "source": [
    "import pandas as pd\n",
    "# read_iris = pd.read_csv('data/ch11_iris.csv')\n",
    "read_iris = pd.read_csv('data/ch11_iris.csv.gz', compression='infer')\n",
    "read_iris.head(1)"
   ]
  },
  {
   "cell_type": "markdown",
   "id": "2fb4be41",
   "metadata": {},
   "source": [
    "# 3절 이름(열, 행) 지정하기\n",
    "## 3.1 열이름 지정하기"
   ]
  },
  {
   "cell_type": "code",
   "execution_count": null,
   "id": "6dc7e933",
   "metadata": {},
   "outputs": [],
   "source": [
    "member = pd.read_csv('data/ch11_member.csv',\n",
    "                     comment='#',\n",
    "                     parse_dates=['Birth'])\n",
    "member.head(1)"
   ]
  },
  {
   "cell_type": "code",
   "execution_count": null,
   "id": "65e91c1f",
   "metadata": {},
   "outputs": [],
   "source": [
    "member.columns = ['이름','나이','메일','주소','생일']\n",
    "member.head(1)"
   ]
  },
  {
   "cell_type": "markdown",
   "id": "e0a0c2de",
   "metadata": {},
   "source": [
    "## 3.2 행이름 지정"
   ]
  },
  {
   "cell_type": "code",
   "execution_count": null,
   "id": "12dbfe08",
   "metadata": {},
   "outputs": [],
   "source": [
    "member.index"
   ]
  },
  {
   "cell_type": "code",
   "execution_count": null,
   "id": "af59fb28",
   "metadata": {},
   "outputs": [],
   "source": [
    "member.index = range(11,16)\n",
    "member"
   ]
  },
  {
   "cell_type": "code",
   "execution_count": null,
   "id": "9fcd9618",
   "metadata": {},
   "outputs": [],
   "source": [
    "member.index = ['동','서','남','북','중']\n",
    "member"
   ]
  },
  {
   "cell_type": "code",
   "execution_count": null,
   "id": "e28f6644",
   "metadata": {},
   "outputs": [],
   "source": [
    "member['이름']"
   ]
  },
  {
   "cell_type": "code",
   "execution_count": null,
   "id": "a45cca6e",
   "metadata": {},
   "outputs": [],
   "source": [
    "# member['이름']['동'] 비추\n",
    "member.loc['동','이름'] # 행과 열이름으로 부분 데이터 조회: loc"
   ]
  },
  {
   "cell_type": "code",
   "execution_count": null,
   "id": "62eba643",
   "metadata": {},
   "outputs": [],
   "source": [
    "# index를 이름열로 (실행결과가 출력되서 나오면 return될뿐, member는 안 바뀜)\n",
    "# member를 수정하려면 (1)할당 (2) inplace 매개변수에 True(기본값 False)\n",
    "member1 = member.set_index('이름')\n",
    "member1.head(1)"
   ]
  },
  {
   "cell_type": "code",
   "execution_count": null,
   "id": "d94e8d44",
   "metadata": {},
   "outputs": [],
   "source": [
    "member.set_index('이름',inplace=True)"
   ]
  },
  {
   "cell_type": "code",
   "execution_count": null,
   "id": "b4aa1065",
   "metadata": {},
   "outputs": [],
   "source": [
    "member"
   ]
  },
  {
   "cell_type": "code",
   "execution_count": null,
   "id": "ef6c03fc",
   "metadata": {},
   "outputs": [],
   "source": [
    "member.index"
   ]
  },
  {
   "cell_type": "code",
   "execution_count": null,
   "id": "290f2bd2",
   "metadata": {},
   "outputs": [],
   "source": [
    "#인덱스를 컬럼으로 편입시키기\n",
    "member.reset_index(inplace=True)"
   ]
  },
  {
   "cell_type": "code",
   "execution_count": null,
   "id": "94814327",
   "metadata": {},
   "outputs": [],
   "source": [
    "member.index = [0, 1, 2, 0, 2]\n",
    "member"
   ]
  },
  {
   "cell_type": "code",
   "execution_count": null,
   "id": "ad9a6ad9",
   "metadata": {},
   "outputs": [],
   "source": [
    "# 기존 index를 새로운 열에 편입시키지 않고 제거한 후, 새로운 숫자 index로 초기화\n",
    "# member.index = range(len(member))\n",
    "member = member.reset_index(drop=True)\n",
    "member"
   ]
  },
  {
   "cell_type": "code",
   "execution_count": null,
   "id": "1973ad63",
   "metadata": {},
   "outputs": [],
   "source": [
    "# datetime열에서 날짜 및 시간에 관련된 정보를 추출 : 시리즈.dt\n",
    "member['생일'].dt.year"
   ]
  },
  {
   "cell_type": "code",
   "execution_count": null,
   "id": "a5ce5c00",
   "metadata": {},
   "outputs": [],
   "source": [
    "member['생일'].dt.month"
   ]
  },
  {
   "cell_type": "code",
   "execution_count": null,
   "id": "9235dcf4",
   "metadata": {},
   "outputs": [],
   "source": [
    "member['생일'].dt.weekday # 0월, 1화, ... 5:토, 6:일"
   ]
  },
  {
   "cell_type": "markdown",
   "id": "5b98a0d5",
   "metadata": {},
   "source": [
    "## 3.3 레벨이름 지정하기"
   ]
  },
  {
   "cell_type": "code",
   "execution_count": null,
   "id": "76c03641",
   "metadata": {},
   "outputs": [],
   "source": [
    "member"
   ]
  },
  {
   "cell_type": "code",
   "execution_count": null,
   "id": "9c1f0f54",
   "metadata": {},
   "outputs": [],
   "source": [
    "print(member.columns)\n",
    "print(member.columns.name)"
   ]
  },
  {
   "cell_type": "code",
   "execution_count": null,
   "id": "a7023635",
   "metadata": {},
   "outputs": [],
   "source": [
    "member.columns.name = '정보'\n",
    "member"
   ]
  },
  {
   "cell_type": "code",
   "execution_count": null,
   "id": "004a3dbd",
   "metadata": {},
   "outputs": [],
   "source": [
    "member.columns = [['기본정보','기본정보','기본정보','추가정보','추가정보'],\n",
    "                  ['이름','나이','메일','주소','생일']]\n",
    "member.columns.names = ['대분류','소분류']\n",
    "member"
   ]
  },
  {
   "cell_type": "code",
   "execution_count": null,
   "id": "ac26296d",
   "metadata": {},
   "outputs": [],
   "source": [
    "member.index = [['좌우','좌우','상하','상하','상하'],\n",
    "                ['동','서','남','북','중']]\n",
    "member.index.names = ['레벨1','레벨2']\n",
    "member"
   ]
  },
  {
   "cell_type": "code",
   "execution_count": null,
   "id": "4a0c4f94",
   "metadata": {},
   "outputs": [],
   "source": [
    "member.loc[('상하','중'),'기본정보']"
   ]
  },
  {
   "cell_type": "code",
   "execution_count": null,
   "id": "c7a874fc",
   "metadata": {},
   "outputs": [],
   "source": [
    "member.loc[('상하','북'),('기본정보','이름')]"
   ]
  },
  {
   "cell_type": "code",
   "execution_count": null,
   "id": "37a77dd5",
   "metadata": {},
   "outputs": [],
   "source": [
    "member.loc['상하','기본정보']"
   ]
  },
  {
   "cell_type": "markdown",
   "id": "a33ba3e5",
   "metadata": {},
   "source": [
    "# 4절 부분데이터 조회"
   ]
  },
  {
   "cell_type": "code",
   "execution_count": null,
   "id": "c7114c92",
   "metadata": {},
   "outputs": [],
   "source": [
    "member = pd.read_csv('data/ch11_member.csv',\n",
    "                     comment='#',\n",
    "                     parse_dates=['Birth'])\n",
    "member"
   ]
  },
  {
   "cell_type": "markdown",
   "id": "7e720770",
   "metadata": {},
   "source": [
    "## 4.1 단일 열 조회"
   ]
  },
  {
   "cell_type": "code",
   "execution_count": null,
   "id": "e65eb76f",
   "metadata": {},
   "outputs": [],
   "source": [
    "member['Name']\n",
    "member.Name"
   ]
  },
  {
   "cell_type": "code",
   "execution_count": null,
   "id": "5ba91440",
   "metadata": {},
   "outputs": [],
   "source": [
    "# member[0] # 행이름으로 []로 조회할 경우 에러"
   ]
  },
  {
   "cell_type": "code",
   "execution_count": null,
   "id": "262b7aa2",
   "metadata": {},
   "outputs": [],
   "source": [
    "member[['Name','Address']]"
   ]
  },
  {
   "cell_type": "markdown",
   "id": "84425a42",
   "metadata": {},
   "source": [
    "## 4.2 loc을 이용한 조회\n",
    "- df.loc[행이름, 열이름] : 행이름, 열이름으로 조회\n",
    "    * 행이름과 열이름자리에 슬라이싱 from:to : from부터 to까지(to 포함)\n",
    "    * 행이름과 열이름자리에 리스트"
   ]
  },
  {
   "cell_type": "code",
   "execution_count": null,
   "id": "5dcac4b7",
   "metadata": {},
   "outputs": [],
   "source": [
    "member.loc[0:2]\n",
    "member.loc[0:2,]\n",
    "member.loc[0:2, :] \n",
    "member.loc[0:2, ...] # 모든열을 다 출력할 경우 열 생략가능"
   ]
  },
  {
   "cell_type": "code",
   "execution_count": null,
   "id": "e9b48894",
   "metadata": {},
   "outputs": [],
   "source": [
    "member.index = ['동','서','남','북','중']\n",
    "member.loc['동':'남']"
   ]
  },
  {
   "cell_type": "code",
   "execution_count": null,
   "id": "5e79c1c5",
   "metadata": {},
   "outputs": [],
   "source": [
    "member.loc['동':'남', 'Name':'Address'] # 동~남행, Name~Address열까지"
   ]
  },
  {
   "cell_type": "code",
   "execution_count": null,
   "id": "19c34c9a",
   "metadata": {},
   "outputs": [],
   "source": [
    "# 동,남행, Name,Email,Address열\n",
    "member.loc[['동','남'], ['Name','Email','Address']]"
   ]
  },
  {
   "cell_type": "code",
   "execution_count": null,
   "id": "391e4350",
   "metadata": {},
   "outputs": [],
   "source": [
    "member.loc[:,'Name']"
   ]
  },
  {
   "cell_type": "markdown",
   "id": "fa2a8ea6",
   "metadata": {},
   "source": [
    "## 4.3 iloc을 이용한 조회\n",
    "- df.iloc[행순번, 열순번] : 행이름, 열이름으로 조회\n",
    "    * 행순번과 열순번자리에 슬라이싱 from:to:by : from부터 to 앞까지 by씩 (to 미포함)\n",
    "    * 행순번과 열순번자리에 리스트"
   ]
  },
  {
   "cell_type": "code",
   "execution_count": null,
   "id": "7a2ee88d",
   "metadata": {},
   "outputs": [],
   "source": [
    "member"
   ]
  },
  {
   "cell_type": "code",
   "execution_count": null,
   "id": "7d8b0e0e",
   "metadata": {},
   "outputs": [],
   "source": [
    "# 동행(0)부터 남행(2)까지 모든 열\n",
    "member.iloc[0:3]\n",
    "member.iloc[0:3,]\n",
    "member.iloc[0:3, :]\n",
    "member.iloc[0:3, ...]"
   ]
  },
  {
   "cell_type": "code",
   "execution_count": null,
   "id": "ef94096d",
   "metadata": {},
   "outputs": [],
   "source": [
    "# 0번째 행\n",
    "type(member.iloc[0])"
   ]
  },
  {
   "cell_type": "code",
   "execution_count": null,
   "id": "e41d1998",
   "metadata": {},
   "outputs": [],
   "source": [
    "# 동행부터 남행까지 Name(0)부터 Address(3)열까지\n",
    "member.iloc[0:3, 0:4]\n",
    "member.iloc[0:3, 0:-1]"
   ]
  },
  {
   "cell_type": "code",
   "execution_count": null,
   "id": "ac59dc48",
   "metadata": {},
   "outputs": [],
   "source": [
    "# 짝수번째 행의 마지막 열을 제외하고 출력\n",
    "member.iloc[::2, :-1]"
   ]
  },
  {
   "cell_type": "code",
   "execution_count": null,
   "id": "c7ad9f57",
   "metadata": {},
   "outputs": [],
   "source": [
    "# 마지막행부터 처음행까지 거꾸로 출력\n",
    "member.iloc[::-1]"
   ]
  },
  {
   "cell_type": "code",
   "execution_count": null,
   "id": "c0f37129",
   "metadata": {},
   "outputs": [],
   "source": [
    "# 동(0)행과 남(2)행, Name(0)열, Email(2), Address(3)열\n",
    "member.iloc[[0,2], [0,2,3]]"
   ]
  },
  {
   "cell_type": "code",
   "execution_count": null,
   "id": "960825d4",
   "metadata": {},
   "outputs": [],
   "source": [
    "# Name(0)열\n",
    "member.iloc[:,0]\n",
    "member.iloc[...,0]"
   ]
  },
  {
   "cell_type": "markdown",
   "id": "12ee4b4d",
   "metadata": {},
   "source": [
    "## 4.4 조건으로 조회하기"
   ]
  },
  {
   "cell_type": "code",
   "execution_count": null,
   "id": "b758daca",
   "metadata": {},
   "outputs": [],
   "source": [
    "member"
   ]
  },
  {
   "cell_type": "code",
   "execution_count": null,
   "id": "b0ee7d8c",
   "metadata": {},
   "outputs": [],
   "source": [
    "member['Name']=='홍길남'"
   ]
  },
  {
   "cell_type": "code",
   "execution_count": null,
   "id": "2f46de68",
   "metadata": {},
   "outputs": [],
   "source": [
    "# Name이 홍길남인 행을 모두\n",
    "member[member['Name']=='홍길남']\n",
    "member.loc[member['Name']=='홍길남']\n",
    "member.loc[ [False, False, True, False, False] ]"
   ]
  },
  {
   "cell_type": "code",
   "execution_count": null,
   "id": "43ac53e6",
   "metadata": {},
   "outputs": [],
   "source": [
    "# Name이 홍길남의 이름과 나이 Email\n",
    "member.loc[member['Name']=='홍길남', 'Name':'Email']"
   ]
  },
  {
   "cell_type": "code",
   "execution_count": null,
   "id": "25557d1c",
   "metadata": {},
   "outputs": [],
   "source": [
    "# Name이 홍길남의 이름과 Email\n",
    "member.loc[member['Name']=='홍길남', ['Name','Email']]"
   ]
  },
  {
   "cell_type": "code",
   "execution_count": null,
   "id": "4a8fdb2e",
   "metadata": {},
   "outputs": [],
   "source": [
    "# 23세 이상 데이터 조회(모든열)\n",
    "member.loc[member['Age']>=23]"
   ]
  },
  {
   "cell_type": "code",
   "execution_count": null,
   "id": "18b8dfb1",
   "metadata": {},
   "outputs": [],
   "source": [
    "# 23세 이상의 Name, Age, email\n",
    "member.loc[member['Age']>=23, 'Name':'Email']"
   ]
  },
  {
   "cell_type": "code",
   "execution_count": null,
   "id": "66250a80",
   "metadata": {},
   "outputs": [],
   "source": [
    "# 23세 이상의 Name, Age, Address\n",
    "member.loc[member['Age']>=23, ['Name','Age','Address']]"
   ]
  },
  {
   "cell_type": "code",
   "execution_count": null,
   "id": "b1b5411b",
   "metadata": {},
   "outputs": [],
   "source": [
    "# ~ : 반대\n",
    "member[~(member[\"Age\"]>=23)]"
   ]
  },
  {
   "cell_type": "code",
   "execution_count": null,
   "id": "78126b16",
   "metadata": {},
   "outputs": [],
   "source": [
    "address = '서울시 관악구'\n",
    "print('서울시로 시작하는지 여부 :', address.startswith('서울시'))\n",
    "print('중구가 포함되어 있는지 여부 :', address.find('중구')!=-1)"
   ]
  },
  {
   "cell_type": "code",
   "execution_count": null,
   "id": "b5a054d7",
   "metadata": {},
   "outputs": [],
   "source": [
    "# member['Address'].startswith('서울시')"
   ]
  },
  {
   "cell_type": "markdown",
   "id": "29681501",
   "metadata": {},
   "source": [
    "※ 시리즈에 문자함수를 쓰기 위해 참조 :\n",
    "https://pandas.pydata.org/pandas-docs/stable/reference/series.html#string-handling"
   ]
  },
  {
   "cell_type": "code",
   "execution_count": null,
   "id": "7c7e8ca4",
   "metadata": {},
   "outputs": [],
   "source": [
    "# 서울시로 시작하는 데이터\n",
    "member['Address'].str.startswith('서울시')"
   ]
  },
  {
   "cell_type": "code",
   "execution_count": null,
   "id": "1d5483a0",
   "metadata": {},
   "outputs": [],
   "source": [
    "member[member['Address'].str.startswith('서울시')]"
   ]
  },
  {
   "cell_type": "code",
   "execution_count": null,
   "id": "13e9c0c5",
   "metadata": {},
   "outputs": [],
   "source": [
    "# Address에 중구를 포함하는 데이터(방법1)\n",
    "member['Address'].str.find('중구')!=-1"
   ]
  },
  {
   "cell_type": "code",
   "execution_count": null,
   "id": "0e12ba9a",
   "metadata": {},
   "outputs": [],
   "source": [
    "# Address에 중구를 포함하는 데이터(방법2)\n",
    "member[member['Address'].str.contains('중구')]"
   ]
  },
  {
   "cell_type": "code",
   "execution_count": null,
   "id": "a29bbcc8",
   "metadata": {},
   "outputs": [],
   "source": [
    "# 시리즈.isin([])\n",
    "# 이름이 홍길동이거나 홍길남인 데이터\n",
    "member.loc[member['Name'].isin(['홍길동','홍길남'])]\n",
    "member[member['Name'].isin(['홍길동','홍길남'])]"
   ]
  },
  {
   "cell_type": "code",
   "execution_count": null,
   "id": "f2fe912a",
   "metadata": {},
   "outputs": [],
   "source": [
    "# 이름이 홍길동이거나 홍길남이 데이터의 이름, 주소, 생일\n",
    "member.loc[member['Name'].isin(['홍길동','홍길남']), ['Name','Address','Birth']]"
   ]
  },
  {
   "cell_type": "code",
   "execution_count": null,
   "id": "34ad2b0b",
   "metadata": {},
   "outputs": [],
   "source": [
    "# 2000년 이전에 태어난 데이터\n",
    "member[member['Birth'].dt.year < 2000]"
   ]
  },
  {
   "cell_type": "code",
   "execution_count": null,
   "id": "1216efd5",
   "metadata": {},
   "outputs": [],
   "source": [
    "# 조건 연산자를 이용해서 추출(조건2개)\n",
    "import numpy as np\n",
    "import pandas as pd\n",
    "data = pd.DataFrame({'eng':[np.nan, 80, np.nan, 85],\n",
    "                     'kor':[100, 80, 60, np.nan]})\n",
    "display(data)\n",
    "# 영어 80이상이고 국어 80이상인 데이터 추출\n",
    "data[(data['eng']>=80) & (data['kor']>=80)]"
   ]
  },
  {
   "cell_type": "code",
   "execution_count": null,
   "id": "3babd79c",
   "metadata": {},
   "outputs": [],
   "source": [
    "# 결측치 확인 방법1\n",
    "data.info()"
   ]
  },
  {
   "cell_type": "code",
   "execution_count": null,
   "id": "48139bea",
   "metadata": {},
   "outputs": [],
   "source": [
    "# 결측치 확인 방법2\n",
    "data.isna() # 결측치 여부"
   ]
  },
  {
   "cell_type": "code",
   "execution_count": null,
   "id": "aa71e57a",
   "metadata": {},
   "outputs": [],
   "source": [
    "True + True + False"
   ]
  },
  {
   "cell_type": "code",
   "execution_count": null,
   "id": "9eadcb2e",
   "metadata": {},
   "outputs": [],
   "source": [
    "data.isna().sum() # 각 열의 결측치 갯수"
   ]
  },
  {
   "cell_type": "markdown",
   "id": "95b73e80",
   "metadata": {},
   "source": [
    "※ 데이터 프레임의 부분 데이터 조회방법\n",
    "- df[열이름] : 특정열 조회\n",
    "- df[조건] : 조건에 맞는 모든 행 조회\n",
    "- df.loc[행이름, 열이름]\n",
    "    - 행이름, 열이름 자리에 슬라이싱, 리스트\n",
    "    - 열이름 생략시 모든 열\n",
    "    - 행이름 자리에 조건\n",
    "- df.iloc[행순번, 열순번]\n",
    "    - 행순번, 열순번 자리에 슬라이싱, 리스트\n",
    "    - 열순번 생략시 모든 열"
   ]
  },
  {
   "cell_type": "markdown",
   "id": "0162db62",
   "metadata": {},
   "source": [
    "- 데이터프레임 조건 추출 quiz"
   ]
  },
  {
   "cell_type": "code",
   "execution_count": null,
   "id": "cb4785f5",
   "metadata": {},
   "outputs": [],
   "source": [
    "# iris 가져오기(sklearn, statsmodels, seaborn)\n",
    "import seaborn as sns\n",
    "iris = sns.load_dataset('iris')\n",
    "iris"
   ]
  },
  {
   "cell_type": "code",
   "execution_count": null,
   "id": "65c7f186",
   "metadata": {},
   "outputs": [],
   "source": [
    "# 1. sepal_length 열만 출력\n",
    "iris[['sepal_length']]\n",
    "# 2. 0~10행까지 마지막 열을 제외한 데이터 (loc, iloc)\n",
    "iris.loc[0:10,'sepal_length':'petal_width']\n",
    "iris.iloc[0:11:,:-1]\n",
    "# 3. 3~10 행중에 'sepal_length'와 'petal_length' 열만 (loc, iloc)\n",
    "iris.loc[3:10,['sepal_length','petal_length']]\n",
    "iris.iloc[3:11,[0,2]]\n",
    "# 4. 0번째, 50번째, 100번째 행의 모든 열 (loc, iloc)\n",
    "iris.loc[0:100:50,:]\n",
    "iris.iloc[0:101:50,:]\n",
    "# 5. 0번째, 25, 50번째, 75번, 100번째, 125번째 행의 petal_length와 petal_width (loc, iloc)\n",
    "iris.loc[0:125:25, ['sepal_length','petal_length']]\n",
    "iris.iloc[0:126:25, [0,2]]\n",
    "# 6. species가 versicolor인 데이터의 모든 열\n",
    "iris.loc[iris['species']=='versicolor']\n",
    "# 7. species가 setosa인 데이터 최초 5개 행만 출력\n",
    "a=iris.loc[iris['species']=='setosa']\n",
    "a.head(5)\n",
    "# 8. sepal_length가 6.5이상인 데이터 최초 5개 행만 출력\n",
    "iris.loc[iris['sepal_length']>=7.2, ['sepal_length','petal_length']]\n",
    "# 9. sepal_length가 7.2이상인 데이터의 'sepal_length'와 'sepal_width'와 'petal_length'\n",
    "iris.loc[iris['sepal_length']>=7.2, ['sepal_length','petal_length']]\n",
    "# 10. versicolor종중에서 sepal_length가 6.5보다 큰 데이터의 모든 열\n",
    "iris[(iris['species']=='versicolor') & (iris['sepal_length']>6.5)]"
   ]
  },
  {
   "cell_type": "code",
   "execution_count": null,
   "id": "d7ccd72a",
   "metadata": {},
   "outputs": [],
   "source": [
    "# 1. sepal_length 열만 출력\n",
    "iris['sepal_length']"
   ]
  },
  {
   "cell_type": "code",
   "execution_count": null,
   "id": "bacc6806",
   "metadata": {},
   "outputs": [],
   "source": [
    "# 2. 0~10행까지 마지막 열을 제외한 데이터 (loc, iloc)\n",
    "iris.loc[0:10, 'sepal_length':'petal_width']\n",
    "df.loc[0:10, df.columns[:-1]] # 메일 받은 내용\n",
    "iris.iloc[0:11, :-1]"
   ]
  },
  {
   "cell_type": "code",
   "execution_count": null,
   "id": "dac78c77",
   "metadata": {},
   "outputs": [],
   "source": [
    "# 3. 3~10 행중에 'sepal_length'와 'petal_length' 열만 (loc, iloc)\n",
    "iris.loc[3:10, ['sepal_length','petal_length']]\n",
    "iris.iloc[3:11, [0,2]]"
   ]
  },
  {
   "cell_type": "code",
   "execution_count": null,
   "id": "5b87f879",
   "metadata": {},
   "outputs": [],
   "source": [
    "# 4. 0번째, 50번째, 100번째 행의 모든 열 (loc, iloc)\n",
    "iris.loc[0:100:50]\n",
    "iris.loc[[0, 50,100]]\n",
    "iris.iloc[0:101:50]"
   ]
  },
  {
   "cell_type": "code",
   "execution_count": null,
   "id": "d1d5db29",
   "metadata": {},
   "outputs": [],
   "source": [
    "# 5. 0번째, 25, 50번째, 75번, 100번째, 125번째 행의 petal_length와 petal_width (loc, iloc)\n",
    "iris.loc[0:125:25, 'petal_length':'petal_width']\n",
    "iris.iloc[0:126:25, 2:-1]"
   ]
  },
  {
   "cell_type": "code",
   "execution_count": null,
   "id": "18c0dcf3",
   "metadata": {},
   "outputs": [],
   "source": [
    "# 6. species가 versicolor인 데이터의 모든 열\n",
    "iris[iris['species']=='versicolor']"
   ]
  },
  {
   "cell_type": "code",
   "execution_count": null,
   "id": "45281724",
   "metadata": {},
   "outputs": [],
   "source": [
    "# 7. species가 setosa인 데이터 최초 5개 행만 출력\n",
    "iris[iris['species']=='setosa'].head()\n",
    "iris[iris['species']=='setosa'].iloc[:5]"
   ]
  },
  {
   "cell_type": "code",
   "execution_count": null,
   "id": "f06a5a4c",
   "metadata": {},
   "outputs": [],
   "source": [
    "# 8. sepal_length가 6.5이상인 데이터 최초 5개 행만 출력\n",
    "iris[iris['sepal_length']>=6.5].head()\n",
    "iris[iris['sepal_length']>=6.5].iloc[:5]"
   ]
  },
  {
   "cell_type": "code",
   "execution_count": null,
   "id": "ed339457",
   "metadata": {},
   "outputs": [],
   "source": [
    "# 9. sepal_length가 7.2이상인 데이터의 'sepal_length'와 'sepal_width'와 'petal_length'\n",
    "iris.loc[iris['sepal_length']>=7.2, 'sepal_length':'petal_length']\n",
    "iris[iris['sepal_length']>=7.2][['sepal_length','sepal_width','petal_length']]"
   ]
  },
  {
   "cell_type": "code",
   "execution_count": null,
   "id": "a99ee443",
   "metadata": {},
   "outputs": [],
   "source": [
    "# 10. versicolor종중에서 sepal_length가 6.5보다 큰 데이터의 모든 열\n",
    "iris[(iris['species']=='versicolor') & (iris['sepal_length']>6.5)]"
   ]
  },
  {
   "cell_type": "code",
   "execution_count": null,
   "id": "28731709",
   "metadata": {},
   "outputs": [],
   "source": [
    "import numpy as np"
   ]
  },
  {
   "cell_type": "code",
   "execution_count": null,
   "id": "9a6201a1",
   "metadata": {},
   "outputs": [],
   "source": [
    "iris[np.logical_and(iris['species']=='versicolor',\n",
    "               iris['sepal_length']>6.5)]"
   ]
  },
  {
   "cell_type": "markdown",
   "id": "19af4450",
   "metadata": {},
   "source": [
    "# 5절 데이터 삭제 및 추가\n",
    "## 5.1 데이터프레임의 요소삭제\n",
    "- df.drop(삭제할열이름이나 행이름,axis)\n",
    "    * axis=0일때는 행삭제, axis=1일때는 열삭제"
   ]
  },
  {
   "cell_type": "code",
   "execution_count": null,
   "id": "62e892f4",
   "metadata": {},
   "outputs": [],
   "source": [
    "member"
   ]
  },
  {
   "cell_type": "code",
   "execution_count": null,
   "id": "9296c043",
   "metadata": {},
   "outputs": [],
   "source": [
    "# 1) 단일 행 삭제\n",
    "member.drop('중') # axis=0(기본값) : 해당 행 삭제 \n",
    "# 삭제한 결과를 member 적용 (1)할당 member = member.drop('중', axis=0)\n",
    "#                        (2)member.drop('중', axis=0, inplace=True)"
   ]
  },
  {
   "cell_type": "code",
   "execution_count": null,
   "id": "781ed29c",
   "metadata": {},
   "outputs": [],
   "source": [
    "# 2) 복수 행 삭제\n",
    "member.drop(['동','서','남'])"
   ]
  },
  {
   "cell_type": "code",
   "execution_count": null,
   "id": "8465a532",
   "metadata": {},
   "outputs": [],
   "source": [
    "# 3) 열 삭제\n",
    "member.drop(['Name', 'Email'], axis=1)"
   ]
  },
  {
   "cell_type": "markdown",
   "id": "cff18b59",
   "metadata": {},
   "source": [
    "## 5.2 데이터프레임의 요소 추가"
   ]
  },
  {
   "cell_type": "code",
   "execution_count": null,
   "id": "efac15c0",
   "metadata": {},
   "outputs": [],
   "source": [
    "# 1) 열 추가\n",
    "member['nickname'] = '빼곰이'\n",
    "member"
   ]
  },
  {
   "cell_type": "code",
   "execution_count": null,
   "id": "1baead93",
   "metadata": {},
   "outputs": [],
   "source": [
    "# 2) 리스트를 이용한 열 추가\n",
    "member['favorite_no'] = [3,2,7,None,12]\n",
    "member"
   ]
  },
  {
   "cell_type": "code",
   "execution_count": null,
   "id": "b27db5e2",
   "metadata": {},
   "outputs": [],
   "source": [
    "# 3) favorite_num열에 결측치를 할당 후 원하는 데이터\n",
    "member['favorite_num'] = np.nan\n",
    "member.iloc[::2, -1] = 7\n",
    "member.head(1)"
   ]
  },
  {
   "cell_type": "code",
   "execution_count": null,
   "id": "4f91e11f",
   "metadata": {},
   "outputs": [],
   "source": [
    "member.drop(['Email', 'Birth','favorite_no','favorite_num'], axis=1, inplace=True)\n",
    "member"
   ]
  },
  {
   "cell_type": "code",
   "execution_count": null,
   "id": "1450da21",
   "metadata": {},
   "outputs": [],
   "source": [
    "# 4) 딕셔너리로 행 추가\n",
    "new_member = pd.DataFrame([\n",
    "    {'Name':'홍길쑥','Age':30,'Address':'서울','nickname':'빼곰이'}\n",
    "  ])\n",
    "pd.concat( [member, new_member] ).reset_index(drop=True) # 두 데이터 프레임 연결\n",
    "member"
   ]
  },
  {
   "cell_type": "markdown",
   "id": "54a448d9",
   "metadata": {},
   "source": [
    "# 6절 병합과 연결\n",
    "## merge()를 이용한 데이터프레임 병합"
   ]
  },
  {
   "cell_type": "code",
   "execution_count": null,
   "id": "a4fa4c04",
   "metadata": {},
   "outputs": [],
   "source": [
    "df1 = pd.DataFrame({'key':['a','b','c','d'],\n",
    "                    'c1':[1,2,3,4]})\n",
    "df2 = pd.DataFrame({'key':['a','b','c','f'],\n",
    "                    'c2':[10,20,30,40]})\n",
    "df1.merge(df2) # how='inner' 기본값: 내부조인(양쪽이 다 일치하는 데이터만 병합)"
   ]
  },
  {
   "cell_type": "code",
   "execution_count": null,
   "id": "bf1ad5e7",
   "metadata": {},
   "outputs": [],
   "source": [
    "df1.merge(df2, how='left') # 왼쪽의 df1 데이터는 모두 남기고 오른쪽 df2가 매칭되도록"
   ]
  },
  {
   "cell_type": "code",
   "execution_count": null,
   "id": "fba5acde",
   "metadata": {},
   "outputs": [],
   "source": [
    "df1.merge(df2, how='right') # 오른쪽의 df2 데이터는 모두 남기고 왼쪽 df1가 매칭되도록"
   ]
  },
  {
   "cell_type": "code",
   "execution_count": null,
   "id": "96a98f6c",
   "metadata": {},
   "outputs": [],
   "source": [
    "df1.merge(df2, how='outer') # 양쪽 데이터 df1, df2 데이터 모두 남김"
   ]
  },
  {
   "cell_type": "code",
   "execution_count": null,
   "id": "b48875cc",
   "metadata": {},
   "outputs": [],
   "source": [
    "df3 = pd.DataFrame({'key3':['a','b','c','d'],\n",
    "                    'c1':[1,2,3,4]})\n",
    "df4 = pd.DataFrame({'key4':['a','b','c','f'],\n",
    "                    'c2':[10,20,30,40]})\n",
    "df3.merge(df4, left_on='key3', right_on='key4', how='inner')"
   ]
  },
  {
   "cell_type": "markdown",
   "id": "baa6b875",
   "metadata": {},
   "source": [
    "## 6.2 concat()을 이용한 데이터프레임 연결\n",
    "- pd.concat( [df1, df2, df3..], axis)\n",
    "    * axis=0 (기본값) : 위아래로 연결\n",
    "    * axis=1 : 좌우로 연결"
   ]
  },
  {
   "cell_type": "code",
   "execution_count": null,
   "id": "f54d1878",
   "metadata": {},
   "outputs": [],
   "source": [
    "df3 = pd.DataFrame({'key3':['a','b','c','d'],\n",
    "                    'c1':[1,2,3,4]})\n",
    "df4 = pd.DataFrame({'key4':['a','b','c','f'],\n",
    "                    'c2':[10,20,30,40]})\n",
    "pd.concat([df3, df4],axis=1) # 좌우 연결"
   ]
  },
  {
   "cell_type": "code",
   "execution_count": null,
   "id": "84901101",
   "metadata": {},
   "outputs": [],
   "source": [
    "df3 = pd.DataFrame({'key':['a','b','c','d'],\n",
    "                    'c1':[1,2,3,4]})\n",
    "df4 = pd.DataFrame({'key':['a','b','c','f'],\n",
    "                    'c1':[10,20,30,40]})\n",
    "pd.concat([df3, df4]).reset_index(drop=True)"
   ]
  },
  {
   "cell_type": "markdown",
   "id": "9f55402f",
   "metadata": {},
   "source": [
    "# 7절 정렬(행이름, 열이름, 값에 의한 정렬)\n",
    "- df.sort_index(axis) : 행 또는 열이름으로 정렬\n",
    "- df.sort_values(by=[정렬기준이 될 열이름], ascending=T/F) : 특정 열 값에 의한 정렬"
   ]
  },
  {
   "cell_type": "code",
   "execution_count": null,
   "id": "6a264da7",
   "metadata": {},
   "outputs": [],
   "source": [
    "member = pd.read_csv('data/ch11_member.csv',comment='#')\n",
    "member.index = ['동', '서', '남', '북', '중']\n",
    "member"
   ]
  },
  {
   "cell_type": "markdown",
   "id": "a6e1d7c6",
   "metadata": {},
   "source": [
    "## 7.1 행이름으로 정렬"
   ]
  },
  {
   "cell_type": "code",
   "execution_count": null,
   "id": "3f3aa5bc",
   "metadata": {},
   "outputs": [],
   "source": [
    "# ascending=True 오름차순(기본값) / ascending=False(내림차순)\n",
    "member.sort_index(axis=0, inplace=True)\n",
    "member"
   ]
  },
  {
   "cell_type": "markdown",
   "id": "c546ae4d",
   "metadata": {},
   "source": [
    "## 7.2 열이름으로 정렬"
   ]
  },
  {
   "cell_type": "code",
   "execution_count": null,
   "id": "ea3a156e",
   "metadata": {},
   "outputs": [],
   "source": [
    "member = member.sort_index(axis=1) # axis='columns'\n",
    "member"
   ]
  },
  {
   "cell_type": "markdown",
   "id": "10611a76",
   "metadata": {},
   "source": [
    "## 7.3 값에 의한 정렬"
   ]
  },
  {
   "cell_type": "code",
   "execution_count": null,
   "id": "9dbc5fa1",
   "metadata": {},
   "outputs": [],
   "source": [
    "member.sort_values(by='Age') # Age기준으로 오름차순 정렬(ascending=True)"
   ]
  },
  {
   "cell_type": "code",
   "execution_count": null,
   "id": "d4ec8cba",
   "metadata": {},
   "outputs": [],
   "source": [
    "member.sort_values(by='Age', ascending=False)"
   ]
  },
  {
   "cell_type": "code",
   "execution_count": null,
   "id": "b3d70ca0",
   "metadata": {},
   "outputs": [],
   "source": [
    "# Age기준으로 오름차순, Age같으면 Email 기준 내림차순 정렬\n",
    "member.loc[:, 'Age'] = [20,20,30,30,30]\n",
    "member"
   ]
  },
  {
   "cell_type": "code",
   "execution_count": null,
   "id": "cb71e203",
   "metadata": {},
   "outputs": [],
   "source": [
    "# Age 기준으로 오름차순, Age같으면 Email 기준 내림차순 정렬\n",
    "member.sort_values(by=['Age','Email'], ascending=[False, True])"
   ]
  },
  {
   "cell_type": "markdown",
   "id": "3a048a5d",
   "metadata": {},
   "source": [
    "# 8절 기초 통계 분석\n",
    "    - 판다스는 기초통계(데이터 요약), statsmodels:난이도 있는 통계\n",
    "- count : Nan을 제외한 데이터 수\n",
    "- min : 최소값\n",
    "- max \n",
    "- sum\n",
    "- cumsum : 누적합\n",
    "- cumprod : 누적곱\n",
    "- mean : 평균\n",
    "- median : 중위수\n",
    "- std : 표준편차\n",
    "- var : 분산\n",
    "- quantile : 분위수(0사분사위수=최소값, 1사분위수, 2사분위수(중위값), 3사분위수, 4사분위수=최대값)\n",
    "    * 이상치 구하는 용도 : Q1-1.5*IQR ~ Q3+1.5*IQR 이외의 데이터는 이상치\n",
    "- describe : 요약통계량\n",
    "- corr : 상관관계(계수)\n",
    "- rolling(n).mean() : n개씩 평균 출력 - 데이터 변동이 많을 때 추세(패턴)을 부드럽게 보고 싶을 때"
   ]
  },
  {
   "cell_type": "code",
   "execution_count": 1,
   "id": "7a0da06b",
   "metadata": {},
   "outputs": [
    {
     "data": {
      "text/html": [
       "<div>\n",
       "<style scoped>\n",
       "    .dataframe tbody tr th:only-of-type {\n",
       "        vertical-align: middle;\n",
       "    }\n",
       "\n",
       "    .dataframe tbody tr th {\n",
       "        vertical-align: top;\n",
       "    }\n",
       "\n",
       "    .dataframe thead th {\n",
       "        text-align: right;\n",
       "    }\n",
       "</style>\n",
       "<table border=\"1\" class=\"dataframe\">\n",
       "  <thead>\n",
       "    <tr style=\"text-align: right;\">\n",
       "      <th></th>\n",
       "      <th>sepal_length</th>\n",
       "      <th>sepal_width</th>\n",
       "      <th>petal_length</th>\n",
       "      <th>petal_width</th>\n",
       "      <th>species</th>\n",
       "    </tr>\n",
       "  </thead>\n",
       "  <tbody>\n",
       "    <tr>\n",
       "      <th>148</th>\n",
       "      <td>6.2</td>\n",
       "      <td>3.4</td>\n",
       "      <td>5.4</td>\n",
       "      <td>2.3</td>\n",
       "      <td>virginica</td>\n",
       "    </tr>\n",
       "    <tr>\n",
       "      <th>149</th>\n",
       "      <td>5.9</td>\n",
       "      <td>3.0</td>\n",
       "      <td>5.1</td>\n",
       "      <td>1.8</td>\n",
       "      <td>virginica</td>\n",
       "    </tr>\n",
       "  </tbody>\n",
       "</table>\n",
       "</div>"
      ],
      "text/plain": [
       "     sepal_length  sepal_width  petal_length  petal_width    species\n",
       "148           6.2          3.4           5.4          2.3  virginica\n",
       "149           5.9          3.0           5.1          1.8  virginica"
      ]
     },
     "execution_count": 1,
     "metadata": {},
     "output_type": "execute_result"
    }
   ],
   "source": [
    "from statsmodels.api import datasets\n",
    "iris = datasets.get_rdataset('iris').data\n",
    "iris.columns = [col.lower().replace('.','_') for col in iris.columns]\n",
    "iris.tail(2)"
   ]
  },
  {
   "cell_type": "markdown",
   "id": "8c0b4c34",
   "metadata": {},
   "source": [
    "## 8.1 min, max, ..."
   ]
  },
  {
   "cell_type": "code",
   "execution_count": 2,
   "id": "493faa8a",
   "metadata": {},
   "outputs": [
    {
     "data": {
      "text/plain": [
       "sepal_length       4.3\n",
       "sepal_width        2.0\n",
       "petal_length       1.0\n",
       "petal_width        0.1\n",
       "species         setosa\n",
       "dtype: object"
      ]
     },
     "execution_count": 2,
     "metadata": {},
     "output_type": "execute_result"
    }
   ],
   "source": [
    "iris.min() # 열별 최소값(axis=0)"
   ]
  },
  {
   "cell_type": "code",
   "execution_count": 3,
   "id": "57d71906",
   "metadata": {},
   "outputs": [
    {
     "data": {
      "text/plain": [
       "sepal_length    5.80\n",
       "sepal_width     3.00\n",
       "petal_length    4.35\n",
       "petal_width     1.30\n",
       "dtype: float64"
      ]
     },
     "execution_count": 3,
     "metadata": {},
     "output_type": "execute_result"
    }
   ],
   "source": [
    "iris.median(axis=0, numeric_only=True) # iris에서 숫자필드만 중위수 계산"
   ]
  },
  {
   "cell_type": "code",
   "execution_count": 4,
   "id": "064f8854",
   "metadata": {},
   "outputs": [
    {
     "data": {
      "text/plain": [
       "sepal_length    5.843333\n",
       "sepal_width     3.057333\n",
       "petal_length    3.758000\n",
       "petal_width     1.199333\n",
       "dtype: float64"
      ]
     },
     "execution_count": 4,
     "metadata": {},
     "output_type": "execute_result"
    }
   ],
   "source": [
    "X = iris.loc[:, 'sepal_length':'petal_width']\n",
    "#X = iris.iloc[:, :-1]\n",
    "X.mean(axis='rows') # 열별평균 == 행들의 평균(axis=0 이나 axis='rows')"
   ]
  },
  {
   "cell_type": "code",
   "execution_count": 5,
   "id": "4873bdca",
   "metadata": {},
   "outputs": [
    {
     "data": {
      "text/plain": [
       "0      2.550\n",
       "1      2.375\n",
       "2      2.350\n",
       "3      2.350\n",
       "4      2.550\n",
       "       ...  \n",
       "145    4.300\n",
       "146    3.925\n",
       "147    4.175\n",
       "148    4.325\n",
       "149    3.950\n",
       "Length: 150, dtype: float64"
      ]
     },
     "execution_count": 5,
     "metadata": {},
     "output_type": "execute_result"
    }
   ],
   "source": [
    "#X.mean(axis=1)\n",
    "X.mean(axis='columns') # 행별 평균 == 행을 고정하고, 열들의 평균"
   ]
  },
  {
   "cell_type": "code",
   "execution_count": 6,
   "id": "8f678488",
   "metadata": {},
   "outputs": [
    {
     "data": {
      "text/plain": [
       "0.00     1\n",
       "0.30     3\n",
       "0.55     4\n",
       "0.80     7\n",
       "1.00    10\n",
       "Name: value, dtype: int64"
      ]
     },
     "execution_count": 6,
     "metadata": {},
     "output_type": "execute_result"
    }
   ],
   "source": [
    "import pandas as pd\n",
    "df = pd.DataFrame(data=[1, 3, 4, 7, 10], columns=['value'])\n",
    "# interpolation='nearest' : 정확한 구간의 값이 없을 경우 가까운 값\n",
    "df['value'].quantile(q=[0,0.3,0.55,0.8,1], interpolation='nearest')"
   ]
  },
  {
   "cell_type": "code",
   "execution_count": 7,
   "id": "8df6e7a3",
   "metadata": {},
   "outputs": [
    {
     "data": {
      "text/plain": [
       "0.00     1.0\n",
       "0.30     3.5\n",
       "0.55     5.5\n",
       "0.80     8.5\n",
       "1.00    10.0\n",
       "Name: value, dtype: float64"
      ]
     },
     "execution_count": 7,
     "metadata": {},
     "output_type": "execute_result"
    }
   ],
   "source": [
    "# interpolation='midpoint' : 정확한 구간의 값이 없을 경우 환산해서 출력\n",
    "df['value'].quantile(q=[0,0.3,0.55,0.8,1], interpolation='midpoint')"
   ]
  },
  {
   "cell_type": "code",
   "execution_count": 8,
   "id": "bb77bb8b",
   "metadata": {},
   "outputs": [
    {
     "data": {
      "text/html": [
       "<div>\n",
       "<style scoped>\n",
       "    .dataframe tbody tr th:only-of-type {\n",
       "        vertical-align: middle;\n",
       "    }\n",
       "\n",
       "    .dataframe tbody tr th {\n",
       "        vertical-align: top;\n",
       "    }\n",
       "\n",
       "    .dataframe thead th {\n",
       "        text-align: right;\n",
       "    }\n",
       "</style>\n",
       "<table border=\"1\" class=\"dataframe\">\n",
       "  <thead>\n",
       "    <tr style=\"text-align: right;\">\n",
       "      <th></th>\n",
       "      <th>sepal_length</th>\n",
       "      <th>sepal_width</th>\n",
       "      <th>petal_length</th>\n",
       "      <th>petal_width</th>\n",
       "    </tr>\n",
       "  </thead>\n",
       "  <tbody>\n",
       "    <tr>\n",
       "      <th>0.00</th>\n",
       "      <td>4.3</td>\n",
       "      <td>2.0</td>\n",
       "      <td>1.0</td>\n",
       "      <td>0.1</td>\n",
       "    </tr>\n",
       "    <tr>\n",
       "      <th>0.25</th>\n",
       "      <td>5.1</td>\n",
       "      <td>2.8</td>\n",
       "      <td>1.6</td>\n",
       "      <td>0.3</td>\n",
       "    </tr>\n",
       "    <tr>\n",
       "      <th>0.50</th>\n",
       "      <td>5.8</td>\n",
       "      <td>3.0</td>\n",
       "      <td>4.3</td>\n",
       "      <td>1.3</td>\n",
       "    </tr>\n",
       "    <tr>\n",
       "      <th>0.75</th>\n",
       "      <td>6.4</td>\n",
       "      <td>3.3</td>\n",
       "      <td>5.1</td>\n",
       "      <td>1.8</td>\n",
       "    </tr>\n",
       "    <tr>\n",
       "      <th>1.00</th>\n",
       "      <td>7.9</td>\n",
       "      <td>4.4</td>\n",
       "      <td>6.9</td>\n",
       "      <td>2.5</td>\n",
       "    </tr>\n",
       "  </tbody>\n",
       "</table>\n",
       "</div>"
      ],
      "text/plain": [
       "      sepal_length  sepal_width  petal_length  petal_width\n",
       "0.00           4.3          2.0           1.0          0.1\n",
       "0.25           5.1          2.8           1.6          0.3\n",
       "0.50           5.8          3.0           4.3          1.3\n",
       "0.75           6.4          3.3           5.1          1.8\n",
       "1.00           7.9          4.4           6.9          2.5"
      ]
     },
     "execution_count": 8,
     "metadata": {},
     "output_type": "execute_result"
    }
   ],
   "source": [
    "X.quantile(q=[0, 0.25, 0.5, 0.75, 1], interpolation='nearest')"
   ]
  },
  {
   "cell_type": "code",
   "execution_count": 9,
   "id": "dbb73f8e",
   "metadata": {},
   "outputs": [
    {
     "name": "stdout",
     "output_type": "stream",
     "text": [
      "0번째 : sepal_length :하한이상치 여부 : False, 상한이상치 여부 : False\n",
      "1번째 : sepal_width :하한이상치 여부 : True, 상한이상치 여부 : True\n",
      "2번째 : petal_length :하한이상치 여부 : False, 상한이상치 여부 : False\n",
      "3번째 : petal_width :하한이상치 여부 : False, 상한이상치 여부 : False\n"
     ]
    }
   ],
   "source": [
    "qunt=X.quantile(q=[0, 0.25, 0.5, 0.75, 1], interpolation='nearest')\n",
    "for idx, col in enumerate(qunt.columns):\n",
    "    min = qunt.iloc[0, idx]\n",
    "    Q1 = qunt.iloc[1,idx]\n",
    "    Q3 = qunt.iloc[3,idx]\n",
    "    max = qunt.iloc[4, idx]\n",
    "    iqr = Q3 - Q1\n",
    "    lower_outlier = Q1 - 1.5*iqr # 하한이상치 limit\n",
    "    upper_outlier = Q3 + 1.5*iqr # 상한이상치 limit\n",
    "    print(f\"{idx}번째 : {col} :\",end=\"\")\n",
    "    print('하한이상치 여부 : {}, 상한이상치 여부 : {}'.format(min<lower_outlier,\n",
    "                                                         max>upper_outlier))"
   ]
  },
  {
   "cell_type": "code",
   "execution_count": 11,
   "id": "b7b968c0",
   "metadata": {},
   "outputs": [
    {
     "data": {
      "text/plain": [
       "<Axes: >"
      ]
     },
     "execution_count": 11,
     "metadata": {},
     "output_type": "execute_result"
    },
    {
     "data": {
      "image/png": "[encoded data removed]",
      "text/plain": [
       "<Figure size 640x480 with 1 Axes>"
      ]
     },
     "metadata": {},
     "output_type": "display_data"
    }
   ],
   "source": [
    "# 상자수염그림(박스플롯) - 시각화 교안 21page\n",
    "import seaborn as sns\n",
    "sns.boxplot(data=iris)"
   ]
  },
  {
   "cell_type": "code",
   "execution_count": 10,
   "id": "5a58c758",
   "metadata": {},
   "outputs": [
    {
     "data": {
      "text/plain": [
       "4     4.86\n",
       "5     4.92\n",
       "6     4.86\n",
       "7     4.92\n",
       "8     4.88\n",
       "9     4.86\n",
       "10    4.86\n",
       "11    4.90\n",
       "12    4.86\n",
       "13    4.84\n",
       "14    5.02\n",
       "15    5.08\n",
       "16    5.20\n",
       "17    5.26\n",
       "18    5.54\n",
       "19    5.40\n",
       "20    5.34\n",
       "21    5.28\n",
       "22    5.18\n",
       "23    5.06\n",
       "24    5.00\n",
       "25    4.92\n",
       "26    4.90\n",
       "27    5.02\n",
       "28    5.04\n",
       "29    5.02\n",
       "Name: sepal_length, dtype: float64"
      ]
     },
     "execution_count": 10,
     "metadata": {},
     "output_type": "execute_result"
    }
   ],
   "source": [
    "iris['sepal_length'].rolling(5).mean()[4:30] # 인접한 5개의 평균"
   ]
  },
  {
   "cell_type": "markdown",
   "id": "d93d9cc5",
   "metadata": {},
   "source": [
    "## 8.2 요약통계량\n",
    "- describe()"
   ]
  },
  {
   "cell_type": "code",
   "execution_count": 12,
   "id": "08c1d77b",
   "metadata": {},
   "outputs": [
    {
     "data": {
      "text/html": [
       "<div>\n",
       "<style scoped>\n",
       "    .dataframe tbody tr th:only-of-type {\n",
       "        vertical-align: middle;\n",
       "    }\n",
       "\n",
       "    .dataframe tbody tr th {\n",
       "        vertical-align: top;\n",
       "    }\n",
       "\n",
       "    .dataframe thead th {\n",
       "        text-align: right;\n",
       "    }\n",
       "</style>\n",
       "<table border=\"1\" class=\"dataframe\">\n",
       "  <thead>\n",
       "    <tr style=\"text-align: right;\">\n",
       "      <th></th>\n",
       "      <th>sepal_length</th>\n",
       "      <th>sepal_width</th>\n",
       "      <th>petal_length</th>\n",
       "      <th>petal_width</th>\n",
       "    </tr>\n",
       "  </thead>\n",
       "  <tbody>\n",
       "    <tr>\n",
       "      <th>count</th>\n",
       "      <td>150.000000</td>\n",
       "      <td>150.000000</td>\n",
       "      <td>150.000000</td>\n",
       "      <td>150.000000</td>\n",
       "    </tr>\n",
       "    <tr>\n",
       "      <th>mean</th>\n",
       "      <td>5.843333</td>\n",
       "      <td>3.057333</td>\n",
       "      <td>3.758000</td>\n",
       "      <td>1.199333</td>\n",
       "    </tr>\n",
       "    <tr>\n",
       "      <th>std</th>\n",
       "      <td>0.828066</td>\n",
       "      <td>0.435866</td>\n",
       "      <td>1.765298</td>\n",
       "      <td>0.762238</td>\n",
       "    </tr>\n",
       "    <tr>\n",
       "      <th>min</th>\n",
       "      <td>4.300000</td>\n",
       "      <td>2.000000</td>\n",
       "      <td>1.000000</td>\n",
       "      <td>0.100000</td>\n",
       "    </tr>\n",
       "    <tr>\n",
       "      <th>25%</th>\n",
       "      <td>5.100000</td>\n",
       "      <td>2.800000</td>\n",
       "      <td>1.600000</td>\n",
       "      <td>0.300000</td>\n",
       "    </tr>\n",
       "    <tr>\n",
       "      <th>50%</th>\n",
       "      <td>5.800000</td>\n",
       "      <td>3.000000</td>\n",
       "      <td>4.350000</td>\n",
       "      <td>1.300000</td>\n",
       "    </tr>\n",
       "    <tr>\n",
       "      <th>75%</th>\n",
       "      <td>6.400000</td>\n",
       "      <td>3.300000</td>\n",
       "      <td>5.100000</td>\n",
       "      <td>1.800000</td>\n",
       "    </tr>\n",
       "    <tr>\n",
       "      <th>max</th>\n",
       "      <td>7.900000</td>\n",
       "      <td>4.400000</td>\n",
       "      <td>6.900000</td>\n",
       "      <td>2.500000</td>\n",
       "    </tr>\n",
       "  </tbody>\n",
       "</table>\n",
       "</div>"
      ],
      "text/plain": [
       "       sepal_length  sepal_width  petal_length  petal_width\n",
       "count    150.000000   150.000000    150.000000   150.000000\n",
       "mean       5.843333     3.057333      3.758000     1.199333\n",
       "std        0.828066     0.435866      1.765298     0.762238\n",
       "min        4.300000     2.000000      1.000000     0.100000\n",
       "25%        5.100000     2.800000      1.600000     0.300000\n",
       "50%        5.800000     3.000000      4.350000     1.300000\n",
       "75%        6.400000     3.300000      5.100000     1.800000\n",
       "max        7.900000     4.400000      6.900000     2.500000"
      ]
     },
     "execution_count": 12,
     "metadata": {},
     "output_type": "execute_result"
    }
   ],
   "source": [
    "# 1) 기본 요약 통계량\n",
    "iris.describe() # 기본값 : 숫자열에서의 요약통계량"
   ]
  },
  {
   "cell_type": "code",
   "execution_count": 13,
   "id": "127266ed",
   "metadata": {},
   "outputs": [
    {
     "data": {
      "text/plain": [
       "count        150\n",
       "unique         3\n",
       "top       setosa\n",
       "freq          50\n",
       "Name: species, dtype: object"
      ]
     },
     "execution_count": 13,
     "metadata": {},
     "output_type": "execute_result"
    }
   ],
   "source": [
    "iris['species'].describe()\n",
    "iris.species.describe() # 문자열에서의 요약통계량 : 데이터갯수, 종류(unique), 최빈데이터(top), 최빈데이터갯수(freq)"
   ]
  },
  {
   "cell_type": "code",
   "execution_count": 14,
   "id": "d9c2e711",
   "metadata": {},
   "outputs": [
    {
     "data": {
      "text/html": [
       "<div>\n",
       "<style scoped>\n",
       "    .dataframe tbody tr th:only-of-type {\n",
       "        vertical-align: middle;\n",
       "    }\n",
       "\n",
       "    .dataframe tbody tr th {\n",
       "        vertical-align: top;\n",
       "    }\n",
       "\n",
       "    .dataframe thead th {\n",
       "        text-align: right;\n",
       "    }\n",
       "</style>\n",
       "<table border=\"1\" class=\"dataframe\">\n",
       "  <thead>\n",
       "    <tr style=\"text-align: right;\">\n",
       "      <th></th>\n",
       "      <th>a</th>\n",
       "      <th>b</th>\n",
       "      <th>c</th>\n",
       "      <th>d</th>\n",
       "    </tr>\n",
       "  </thead>\n",
       "  <tbody>\n",
       "    <tr>\n",
       "      <th>0</th>\n",
       "      <td>1</td>\n",
       "      <td>2.1</td>\n",
       "      <td>aaa</td>\n",
       "      <td>True</td>\n",
       "    </tr>\n",
       "    <tr>\n",
       "      <th>1</th>\n",
       "      <td>2</td>\n",
       "      <td>4.0</td>\n",
       "      <td>aaa</td>\n",
       "      <td>False</td>\n",
       "    </tr>\n",
       "    <tr>\n",
       "      <th>2</th>\n",
       "      <td>3</td>\n",
       "      <td>2.1</td>\n",
       "      <td>bbb</td>\n",
       "      <td>True</td>\n",
       "    </tr>\n",
       "    <tr>\n",
       "      <th>3</th>\n",
       "      <td>1</td>\n",
       "      <td>4.0</td>\n",
       "      <td>ccc</td>\n",
       "      <td>False</td>\n",
       "    </tr>\n",
       "    <tr>\n",
       "      <th>4</th>\n",
       "      <td>2</td>\n",
       "      <td>2.1</td>\n",
       "      <td>ddd</td>\n",
       "      <td>True</td>\n",
       "    </tr>\n",
       "    <tr>\n",
       "      <th>5</th>\n",
       "      <td>3</td>\n",
       "      <td>4.0</td>\n",
       "      <td>eee</td>\n",
       "      <td>False</td>\n",
       "    </tr>\n",
       "  </tbody>\n",
       "</table>\n",
       "</div>"
      ],
      "text/plain": [
       "   a    b    c      d\n",
       "0  1  2.1  aaa   True\n",
       "1  2  4.0  aaa  False\n",
       "2  3  2.1  bbb   True\n",
       "3  1  4.0  ccc  False\n",
       "4  2  2.1  ddd   True\n",
       "5  3  4.0  eee  False"
      ]
     },
     "execution_count": 14,
     "metadata": {},
     "output_type": "execute_result"
    }
   ],
   "source": [
    "# 2) describe()의 include와 exclude 매개변수\n",
    "df = pd.DataFrame({'a':[1,2,3]*2,\n",
    "                   'b':[2.1,4]*3,\n",
    "                   'c':['aaa','aaa','bbb','ccc','ddd','eee'],\n",
    "                   'd':[True,False]*3})\n",
    "df"
   ]
  },
  {
   "cell_type": "code",
   "execution_count": 15,
   "id": "1ef1094c",
   "metadata": {},
   "outputs": [
    {
     "data": {
      "text/html": [
       "<div>\n",
       "<style scoped>\n",
       "    .dataframe tbody tr th:only-of-type {\n",
       "        vertical-align: middle;\n",
       "    }\n",
       "\n",
       "    .dataframe tbody tr th {\n",
       "        vertical-align: top;\n",
       "    }\n",
       "\n",
       "    .dataframe thead th {\n",
       "        text-align: right;\n",
       "    }\n",
       "</style>\n",
       "<table border=\"1\" class=\"dataframe\">\n",
       "  <thead>\n",
       "    <tr style=\"text-align: right;\">\n",
       "      <th></th>\n",
       "      <th>a</th>\n",
       "      <th>b</th>\n",
       "    </tr>\n",
       "  </thead>\n",
       "  <tbody>\n",
       "    <tr>\n",
       "      <th>count</th>\n",
       "      <td>6.000000</td>\n",
       "      <td>6.000000</td>\n",
       "    </tr>\n",
       "    <tr>\n",
       "      <th>mean</th>\n",
       "      <td>2.000000</td>\n",
       "      <td>3.050000</td>\n",
       "    </tr>\n",
       "    <tr>\n",
       "      <th>std</th>\n",
       "      <td>0.894427</td>\n",
       "      <td>1.040673</td>\n",
       "    </tr>\n",
       "    <tr>\n",
       "      <th>min</th>\n",
       "      <td>1.000000</td>\n",
       "      <td>2.100000</td>\n",
       "    </tr>\n",
       "    <tr>\n",
       "      <th>25%</th>\n",
       "      <td>1.250000</td>\n",
       "      <td>2.100000</td>\n",
       "    </tr>\n",
       "    <tr>\n",
       "      <th>50%</th>\n",
       "      <td>2.000000</td>\n",
       "      <td>3.050000</td>\n",
       "    </tr>\n",
       "    <tr>\n",
       "      <th>75%</th>\n",
       "      <td>2.750000</td>\n",
       "      <td>4.000000</td>\n",
       "    </tr>\n",
       "    <tr>\n",
       "      <th>max</th>\n",
       "      <td>3.000000</td>\n",
       "      <td>4.000000</td>\n",
       "    </tr>\n",
       "  </tbody>\n",
       "</table>\n",
       "</div>"
      ],
      "text/plain": [
       "              a         b\n",
       "count  6.000000  6.000000\n",
       "mean   2.000000  3.050000\n",
       "std    0.894427  1.040673\n",
       "min    1.000000  2.100000\n",
       "25%    1.250000  2.100000\n",
       "50%    2.000000  3.050000\n",
       "75%    2.750000  4.000000\n",
       "max    3.000000  4.000000"
      ]
     },
     "execution_count": 15,
     "metadata": {},
     "output_type": "execute_result"
    }
   ],
   "source": [
    "df.describe() # 숫자열만 기본 요약 통계량 출력"
   ]
  },
  {
   "cell_type": "code",
   "execution_count": 16,
   "id": "455b6e59",
   "metadata": {},
   "outputs": [
    {
     "name": "stdout",
     "output_type": "stream",
     "text": [
      "<class 'pandas.core.frame.DataFrame'>\n",
      "RangeIndex: 6 entries, 0 to 5\n",
      "Data columns (total 4 columns):\n",
      " #   Column  Non-Null Count  Dtype  \n",
      "---  ------  --------------  -----  \n",
      " 0   a       6 non-null      int64  \n",
      " 1   b       6 non-null      float64\n",
      " 2   c       6 non-null      object \n",
      " 3   d       6 non-null      bool   \n",
      "dtypes: bool(1), float64(1), int64(1), object(1)\n",
      "memory usage: 278.0+ bytes\n"
     ]
    }
   ],
   "source": [
    "df.info()"
   ]
  },
  {
   "cell_type": "code",
   "execution_count": 17,
   "id": "7812dbdf",
   "metadata": {},
   "outputs": [
    {
     "data": {
      "text/html": [
       "<div>\n",
       "<style scoped>\n",
       "    .dataframe tbody tr th:only-of-type {\n",
       "        vertical-align: middle;\n",
       "    }\n",
       "\n",
       "    .dataframe tbody tr th {\n",
       "        vertical-align: top;\n",
       "    }\n",
       "\n",
       "    .dataframe thead th {\n",
       "        text-align: right;\n",
       "    }\n",
       "</style>\n",
       "<table border=\"1\" class=\"dataframe\">\n",
       "  <thead>\n",
       "    <tr style=\"text-align: right;\">\n",
       "      <th></th>\n",
       "      <th>b</th>\n",
       "      <th>c</th>\n",
       "      <th>d</th>\n",
       "    </tr>\n",
       "  </thead>\n",
       "  <tbody>\n",
       "    <tr>\n",
       "      <th>count</th>\n",
       "      <td>6.000000</td>\n",
       "      <td>6</td>\n",
       "      <td>6</td>\n",
       "    </tr>\n",
       "    <tr>\n",
       "      <th>unique</th>\n",
       "      <td>NaN</td>\n",
       "      <td>5</td>\n",
       "      <td>2</td>\n",
       "    </tr>\n",
       "    <tr>\n",
       "      <th>top</th>\n",
       "      <td>NaN</td>\n",
       "      <td>aaa</td>\n",
       "      <td>True</td>\n",
       "    </tr>\n",
       "    <tr>\n",
       "      <th>freq</th>\n",
       "      <td>NaN</td>\n",
       "      <td>2</td>\n",
       "      <td>3</td>\n",
       "    </tr>\n",
       "    <tr>\n",
       "      <th>mean</th>\n",
       "      <td>3.050000</td>\n",
       "      <td>NaN</td>\n",
       "      <td>NaN</td>\n",
       "    </tr>\n",
       "    <tr>\n",
       "      <th>std</th>\n",
       "      <td>1.040673</td>\n",
       "      <td>NaN</td>\n",
       "      <td>NaN</td>\n",
       "    </tr>\n",
       "    <tr>\n",
       "      <th>min</th>\n",
       "      <td>2.100000</td>\n",
       "      <td>NaN</td>\n",
       "      <td>NaN</td>\n",
       "    </tr>\n",
       "    <tr>\n",
       "      <th>25%</th>\n",
       "      <td>2.100000</td>\n",
       "      <td>NaN</td>\n",
       "      <td>NaN</td>\n",
       "    </tr>\n",
       "    <tr>\n",
       "      <th>50%</th>\n",
       "      <td>3.050000</td>\n",
       "      <td>NaN</td>\n",
       "      <td>NaN</td>\n",
       "    </tr>\n",
       "    <tr>\n",
       "      <th>75%</th>\n",
       "      <td>4.000000</td>\n",
       "      <td>NaN</td>\n",
       "      <td>NaN</td>\n",
       "    </tr>\n",
       "    <tr>\n",
       "      <th>max</th>\n",
       "      <td>4.000000</td>\n",
       "      <td>NaN</td>\n",
       "      <td>NaN</td>\n",
       "    </tr>\n",
       "  </tbody>\n",
       "</table>\n",
       "</div>"
      ],
      "text/plain": [
       "               b    c     d\n",
       "count   6.000000    6     6\n",
       "unique       NaN    5     2\n",
       "top          NaN  aaa  True\n",
       "freq         NaN    2     3\n",
       "mean    3.050000  NaN   NaN\n",
       "std     1.040673  NaN   NaN\n",
       "min     2.100000  NaN   NaN\n",
       "25%     2.100000  NaN   NaN\n",
       "50%     3.050000  NaN   NaN\n",
       "75%     4.000000  NaN   NaN\n",
       "max     4.000000  NaN   NaN"
      ]
     },
     "execution_count": 17,
     "metadata": {},
     "output_type": "execute_result"
    }
   ],
   "source": [
    "# include 매개변수를 통해서 요약통계량을 출력할 타입 지정\n",
    "df.describe(include=['float64','bool','object'])"
   ]
  },
  {
   "cell_type": "code",
   "execution_count": 18,
   "id": "340a9ed8",
   "metadata": {},
   "outputs": [
    {
     "data": {
      "text/html": [
       "<div>\n",
       "<style scoped>\n",
       "    .dataframe tbody tr th:only-of-type {\n",
       "        vertical-align: middle;\n",
       "    }\n",
       "\n",
       "    .dataframe tbody tr th {\n",
       "        vertical-align: top;\n",
       "    }\n",
       "\n",
       "    .dataframe thead th {\n",
       "        text-align: right;\n",
       "    }\n",
       "</style>\n",
       "<table border=\"1\" class=\"dataframe\">\n",
       "  <thead>\n",
       "    <tr style=\"text-align: right;\">\n",
       "      <th></th>\n",
       "      <th>a</th>\n",
       "      <th>b</th>\n",
       "      <th>c</th>\n",
       "      <th>d</th>\n",
       "    </tr>\n",
       "  </thead>\n",
       "  <tbody>\n",
       "    <tr>\n",
       "      <th>count</th>\n",
       "      <td>6.000000</td>\n",
       "      <td>6.000000</td>\n",
       "      <td>6</td>\n",
       "      <td>6</td>\n",
       "    </tr>\n",
       "    <tr>\n",
       "      <th>unique</th>\n",
       "      <td>NaN</td>\n",
       "      <td>NaN</td>\n",
       "      <td>5</td>\n",
       "      <td>2</td>\n",
       "    </tr>\n",
       "    <tr>\n",
       "      <th>top</th>\n",
       "      <td>NaN</td>\n",
       "      <td>NaN</td>\n",
       "      <td>aaa</td>\n",
       "      <td>True</td>\n",
       "    </tr>\n",
       "    <tr>\n",
       "      <th>freq</th>\n",
       "      <td>NaN</td>\n",
       "      <td>NaN</td>\n",
       "      <td>2</td>\n",
       "      <td>3</td>\n",
       "    </tr>\n",
       "    <tr>\n",
       "      <th>mean</th>\n",
       "      <td>2.000000</td>\n",
       "      <td>3.050000</td>\n",
       "      <td>NaN</td>\n",
       "      <td>NaN</td>\n",
       "    </tr>\n",
       "    <tr>\n",
       "      <th>std</th>\n",
       "      <td>0.894427</td>\n",
       "      <td>1.040673</td>\n",
       "      <td>NaN</td>\n",
       "      <td>NaN</td>\n",
       "    </tr>\n",
       "    <tr>\n",
       "      <th>min</th>\n",
       "      <td>1.000000</td>\n",
       "      <td>2.100000</td>\n",
       "      <td>NaN</td>\n",
       "      <td>NaN</td>\n",
       "    </tr>\n",
       "    <tr>\n",
       "      <th>25%</th>\n",
       "      <td>1.250000</td>\n",
       "      <td>2.100000</td>\n",
       "      <td>NaN</td>\n",
       "      <td>NaN</td>\n",
       "    </tr>\n",
       "    <tr>\n",
       "      <th>50%</th>\n",
       "      <td>2.000000</td>\n",
       "      <td>3.050000</td>\n",
       "      <td>NaN</td>\n",
       "      <td>NaN</td>\n",
       "    </tr>\n",
       "    <tr>\n",
       "      <th>75%</th>\n",
       "      <td>2.750000</td>\n",
       "      <td>4.000000</td>\n",
       "      <td>NaN</td>\n",
       "      <td>NaN</td>\n",
       "    </tr>\n",
       "    <tr>\n",
       "      <th>max</th>\n",
       "      <td>3.000000</td>\n",
       "      <td>4.000000</td>\n",
       "      <td>NaN</td>\n",
       "      <td>NaN</td>\n",
       "    </tr>\n",
       "  </tbody>\n",
       "</table>\n",
       "</div>"
      ],
      "text/plain": [
       "               a         b    c     d\n",
       "count   6.000000  6.000000    6     6\n",
       "unique       NaN       NaN    5     2\n",
       "top          NaN       NaN  aaa  True\n",
       "freq         NaN       NaN    2     3\n",
       "mean    2.000000  3.050000  NaN   NaN\n",
       "std     0.894427  1.040673  NaN   NaN\n",
       "min     1.000000  2.100000  NaN   NaN\n",
       "25%     1.250000  2.100000  NaN   NaN\n",
       "50%     2.000000  3.050000  NaN   NaN\n",
       "75%     2.750000  4.000000  NaN   NaN\n",
       "max     3.000000  4.000000  NaN   NaN"
      ]
     },
     "execution_count": 18,
     "metadata": {},
     "output_type": "execute_result"
    }
   ],
   "source": [
    "df.describe(include='all') # 모든 타입의 열의 요약 통계량 출력"
   ]
  },
  {
   "cell_type": "code",
   "execution_count": 19,
   "id": "d2718799",
   "metadata": {},
   "outputs": [
    {
     "data": {
      "text/html": [
       "<div>\n",
       "<style scoped>\n",
       "    .dataframe tbody tr th:only-of-type {\n",
       "        vertical-align: middle;\n",
       "    }\n",
       "\n",
       "    .dataframe tbody tr th {\n",
       "        vertical-align: top;\n",
       "    }\n",
       "\n",
       "    .dataframe thead th {\n",
       "        text-align: right;\n",
       "    }\n",
       "</style>\n",
       "<table border=\"1\" class=\"dataframe\">\n",
       "  <thead>\n",
       "    <tr style=\"text-align: right;\">\n",
       "      <th></th>\n",
       "      <th>a</th>\n",
       "      <th>c</th>\n",
       "      <th>d</th>\n",
       "    </tr>\n",
       "  </thead>\n",
       "  <tbody>\n",
       "    <tr>\n",
       "      <th>count</th>\n",
       "      <td>6.000000</td>\n",
       "      <td>6</td>\n",
       "      <td>6</td>\n",
       "    </tr>\n",
       "    <tr>\n",
       "      <th>unique</th>\n",
       "      <td>NaN</td>\n",
       "      <td>5</td>\n",
       "      <td>2</td>\n",
       "    </tr>\n",
       "    <tr>\n",
       "      <th>top</th>\n",
       "      <td>NaN</td>\n",
       "      <td>aaa</td>\n",
       "      <td>True</td>\n",
       "    </tr>\n",
       "    <tr>\n",
       "      <th>freq</th>\n",
       "      <td>NaN</td>\n",
       "      <td>2</td>\n",
       "      <td>3</td>\n",
       "    </tr>\n",
       "    <tr>\n",
       "      <th>mean</th>\n",
       "      <td>2.000000</td>\n",
       "      <td>NaN</td>\n",
       "      <td>NaN</td>\n",
       "    </tr>\n",
       "    <tr>\n",
       "      <th>std</th>\n",
       "      <td>0.894427</td>\n",
       "      <td>NaN</td>\n",
       "      <td>NaN</td>\n",
       "    </tr>\n",
       "    <tr>\n",
       "      <th>min</th>\n",
       "      <td>1.000000</td>\n",
       "      <td>NaN</td>\n",
       "      <td>NaN</td>\n",
       "    </tr>\n",
       "    <tr>\n",
       "      <th>25%</th>\n",
       "      <td>1.250000</td>\n",
       "      <td>NaN</td>\n",
       "      <td>NaN</td>\n",
       "    </tr>\n",
       "    <tr>\n",
       "      <th>50%</th>\n",
       "      <td>2.000000</td>\n",
       "      <td>NaN</td>\n",
       "      <td>NaN</td>\n",
       "    </tr>\n",
       "    <tr>\n",
       "      <th>75%</th>\n",
       "      <td>2.750000</td>\n",
       "      <td>NaN</td>\n",
       "      <td>NaN</td>\n",
       "    </tr>\n",
       "    <tr>\n",
       "      <th>max</th>\n",
       "      <td>3.000000</td>\n",
       "      <td>NaN</td>\n",
       "      <td>NaN</td>\n",
       "    </tr>\n",
       "  </tbody>\n",
       "</table>\n",
       "</div>"
      ],
      "text/plain": [
       "               a    c     d\n",
       "count   6.000000    6     6\n",
       "unique       NaN    5     2\n",
       "top          NaN  aaa  True\n",
       "freq         NaN    2     3\n",
       "mean    2.000000  NaN   NaN\n",
       "std     0.894427  NaN   NaN\n",
       "min     1.000000  NaN   NaN\n",
       "25%     1.250000  NaN   NaN\n",
       "50%     2.000000  NaN   NaN\n",
       "75%     2.750000  NaN   NaN\n",
       "max     3.000000  NaN   NaN"
      ]
     },
     "execution_count": 19,
     "metadata": {},
     "output_type": "execute_result"
    }
   ],
   "source": [
    "# exclude 매개변수를 이용해서 기본통계량 출력에서 제외할 타입 지정\n",
    "df.describe(exclude=['float64'])"
   ]
  },
  {
   "cell_type": "code",
   "execution_count": 20,
   "id": "af061dec",
   "metadata": {},
   "outputs": [
    {
     "data": {
      "text/plain": [
       "array(['aaa', 'bbb', 'ccc', 'ddd', 'eee'], dtype=object)"
      ]
     },
     "execution_count": 20,
     "metadata": {},
     "output_type": "execute_result"
    }
   ],
   "source": [
    "df['c'].unique() # 특정 컬럼의 고유값들의 종류"
   ]
  },
  {
   "cell_type": "code",
   "execution_count": 21,
   "id": "7ef2ef26",
   "metadata": {},
   "outputs": [
    {
     "data": {
      "text/plain": [
       "aaa    2\n",
       "bbb    1\n",
       "ccc    1\n",
       "ddd    1\n",
       "eee    1\n",
       "Name: c, dtype: int64"
      ]
     },
     "execution_count": 21,
     "metadata": {},
     "output_type": "execute_result"
    }
   ],
   "source": [
    "# 고유값들의 빈도\n",
    "df['c'].value_counts()"
   ]
  },
  {
   "cell_type": "markdown",
   "id": "9f3667bc",
   "metadata": {},
   "source": [
    "## 8.3 공분산/상관계수"
   ]
  },
  {
   "cell_type": "code",
   "execution_count": null,
   "id": "b2fa07db",
   "metadata": {},
   "outputs": [],
   "source": [
    "# 공분산 : (x1-x1평균)*(x2-x2평균)들의 합을 n-1로 나눈값\n",
    "X.cov()"
   ]
  },
  {
   "cell_type": "code",
   "execution_count": null,
   "id": "70ddbae9",
   "metadata": {},
   "outputs": [],
   "source": [
    "# -1 <= 상관계수(공분/(x1의 표준편차*x2의 표준편차)) <= 1\n",
    "X.corr()"
   ]
  },
  {
   "cell_type": "markdown",
   "id": "51f0b79f",
   "metadata": {},
   "source": [
    "- https://matplotlib.org/stable/tutorials/colors/colormaps.html (colormap)"
   ]
  },
  {
   "cell_type": "code",
   "execution_count": null,
   "id": "afee46a8",
   "metadata": {},
   "outputs": [],
   "source": [
    "import matplotlib.pyplot as plt\n",
    "import seaborn as sns\n",
    "plt.figure(figsize=(12,3))\n",
    "sns.heatmap(X.corr(), vmin=-1, vmax=1, annot=True, fmt='.2f', cmap='Greens')\n",
    "plt.show()"
   ]
  },
  {
   "cell_type": "code",
   "execution_count": null,
   "id": "39290d16",
   "metadata": {},
   "outputs": [],
   "source": []
  },
  {
   "cell_type": "code",
   "execution_count": null,
   "id": "bf386fdb",
   "metadata": {},
   "outputs": [],
   "source": []
  },
  {
   "cell_type": "code",
   "execution_count": null,
   "id": "2e8e1826",
   "metadata": {},
   "outputs": [],
   "source": []
  },
  {
   "cell_type": "code",
   "execution_count": null,
   "id": "b4731561",
   "metadata": {},
   "outputs": [],
   "source": []
  },
  {
   "cell_type": "code",
   "execution_count": null,
   "id": "a945e375",
   "metadata": {},
   "outputs": [],
   "source": []
  },
  {
   "cell_type": "code",
   "execution_count": null,
   "id": "5f6d0e73",
   "metadata": {},
   "outputs": [],
   "source": []
  },
  {
   "cell_type": "code",
   "execution_count": null,
   "id": "3e9b4828",
   "metadata": {},
   "outputs": [],
   "source": []
  },
  {
   "cell_type": "code",
   "execution_count": null,
   "id": "448f5698",
   "metadata": {},
   "outputs": [],
   "source": []
  }
 ],
 "metadata": {
  "kernelspec": {
   "display_name": "Python 3 (ipykernel)",
   "language": "python",
   "name": "python3"
  },
  "language_info": {
   "codemirror_mode": {
    "name": "ipython",
    "version": 3
   },
   "file_extension": ".py",
   "mimetype": "text/x-python",
   "name": "python",
   "nbconvert_exporter": "python",
   "pygments_lexer": "ipython3",
   "version": "3.10.9"
  },
  "toc": {
   "base_numbering": 1,
   "nav_menu": {},
   "number_sections": false,
   "sideBar": true,
   "skip_h1_title": false,
   "title_cell": "Table of Contents",
   "title_sidebar": "Contents",
   "toc_cell": false,
   "toc_position": {
    "height": "calc(100% - 180px)",
    "left": "10px",
    "top": "150px",
    "width": "254.469px"
   },
   "toc_section_display": true,
   "toc_window_display": true
  }
 },
 "nbformat": 4,
 "nbformat_minor": 5
}
