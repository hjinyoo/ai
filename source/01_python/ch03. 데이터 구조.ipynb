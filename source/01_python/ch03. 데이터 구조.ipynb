{
 "cells": [
  {
   "cell_type": "code",
   "execution_count": null,
   "id": "43359dac",
   "metadata": {},
   "outputs": [],
   "source": [
    "from IPython.display import display, HTML\n",
    "display(HTML(\"\"\"\n",
    "<style>\n",
    "div.container{width:90% !important;}\n",
    "div.cell.code_cell.rendered{width:100%;}\n",
    "div.input_prompt{padding:0px;}\n",
    "div.CodeMirror {font-family:Consolas; font-size:12pt;}\n",
    "div.text_cell_render.rendered_html{font-size:12pt;}\n",
    "div.output {font-size:12pt; font-weight:bold;}\n",
    "div.input {font-family:Consolas; font-size:12pt;}\n",
    "div.prompt {min-width:70px;}\n",
    "div#toc-wrapper{padding-top:120px;}\n",
    "div.text_cell_render ul li{font-size:12pt;padding:5px;}\n",
    "table.dataframe{font-size:12px;}\n",
    "</style>\n",
    "\"\"\"))"
   ]
  },
  {
   "cell_type": "markdown",
   "id": "df2e800b",
   "metadata": {},
   "source": [
    "<b><font size=\"6\" color=\"red\">ch03. 데이터 구조</font></b>\n",
    "- 리스트[1,2], 튜플(1,2), 딕셔너리{\"name\":\"홍:,\"score\":99}, 셋{10,2}\n",
    "\n",
    "# 1절 리스트\n",
    "## 1.1 리스트 만들기\n",
    "- []를 이용해서 만들며, 여러개 값(여러 타입)을 하나의 변수에 저장/관리할 수 있음\n",
    "- list()함수 이용도 가능\n",
    "- 인덱스 : 각 요소의 위치. 인덱스는 0부터 시작. 마지막 인덱스는  -1'\n",
    "- 슬라이싱([from:to:step]) : 부분 데이터셋 추출\n",
    "- 인덱스와 슬라이싱을 이용해서 쓰기와 읽기 지원"
   ]
  },
  {
   "cell_type": "code",
   "execution_count": null,
   "id": "7c99db66",
   "metadata": {},
   "outputs": [],
   "source": [
    "fruits = 'banana'\n",
    "fruits = ['banana', 'apple', 'orange', 'grape']\n",
    "type(fruits)"
   ]
  },
  {
   "cell_type": "code",
   "execution_count": null,
   "id": "a555d9c7",
   "metadata": {},
   "outputs": [],
   "source": [
    "print(fruits)\n",
    "print(fruits[0]) # 인덱싱을 이용한 읽기\n",
    "# print(fruits[4]) # 없는 인덱싱 시 에러"
   ]
  },
  {
   "cell_type": "code",
   "execution_count": null,
   "id": "ca12504e",
   "metadata": {},
   "outputs": [],
   "source": [
    "fruits[0] = 'mango' # 인덱싱을 이용한 쓰기\n",
    "print(fruits)"
   ]
  },
  {
   "cell_type": "code",
   "execution_count": null,
   "id": "89e9657c",
   "metadata": {},
   "outputs": [],
   "source": [
    "fruits = ['mango', 'apple', 'orange']\n",
    "x, y, z = ['mango', 'apple', 'orange']\n",
    "print(\"x={}\".format(x))\n",
    "print(f\"y={y}\")\n",
    "print(f\"z={z}\")"
   ]
  },
  {
   "cell_type": "code",
   "execution_count": null,
   "id": "75108cf2",
   "metadata": {},
   "outputs": [],
   "source": [
    "# range(from, to, by) : from부터 to 앞까지  by씩 증가하는 나열 가능한 자료\n",
    "        # 숫자를 순차적으로 사용할 수 있게\n",
    "        # from 생략시 0, by 생략시 1\n",
    "range(10) # [0,1,2,4,5,6,7,8,9]"
   ]
  },
  {
   "cell_type": "code",
   "execution_count": null,
   "id": "009a5f57",
   "metadata": {},
   "outputs": [],
   "source": [
    "list(range(10))"
   ]
  },
  {
   "cell_type": "code",
   "execution_count": null,
   "id": "5827789d",
   "metadata": {},
   "outputs": [],
   "source": [
    "list(range(10, -1, -2))"
   ]
  },
  {
   "cell_type": "code",
   "execution_count": 1,
   "id": "7e86a5dc",
   "metadata": {},
   "outputs": [
    {
     "name": "stdout",
     "output_type": "stream",
     "text": [
      "0\n",
      "1\n",
      "2\n"
     ]
    }
   ],
   "source": [
    "for i in [0,1,2]:\n",
    "    print(i)"
   ]
  },
  {
   "cell_type": "code",
   "execution_count": null,
   "id": "3856c45b",
   "metadata": {},
   "outputs": [],
   "source": [
    "for i in range(3):\n",
    "    print(i)"
   ]
  },
  {
   "cell_type": "code",
   "execution_count": null,
   "id": "2385ca95",
   "metadata": {},
   "outputs": [],
   "source": [
    "fruits = ['mango', 'apple', 'orange']\n",
    "# print(\"{}번째 과일은 {}\".format(0, fruits[0]))\n",
    "# print(\"{}번째 과일은 {}\".format(1, fruits[1]))\n",
    "# print(\"{}번째 과일은 {}\".format(2, fruits[2]))\n",
    "for idx in range(len(fruits)):\n",
    "    print(\"{}번째 과일은{}\".format(idx,fruits[idx]))"
   ]
  },
  {
   "cell_type": "code",
   "execution_count": null,
   "id": "1dd9dc8d",
   "metadata": {},
   "outputs": [],
   "source": [
    "list(enumerate(fruits))"
   ]
  },
  {
   "cell_type": "code",
   "execution_count": null,
   "id": "b280dc41",
   "metadata": {},
   "outputs": [],
   "source": [
    "for i, fruit in enumerate(fruits): #[(0, 'mango'), (1, 'apple'), (2, 'orange')]:\n",
    "    print(f\"{i}번째 과일은 {fruit}\")"
   ]
  },
  {
   "cell_type": "code",
   "execution_count": null,
   "id": "8cfb39a8",
   "metadata": {},
   "outputs": [],
   "source": [
    "for fruit in fruits:\n",
    "    print(f\"{fruit}입니다\")"
   ]
  },
  {
   "cell_type": "code",
   "execution_count": null,
   "id": "1a56d28b",
   "metadata": {},
   "outputs": [],
   "source": [
    "# 리스트는 여러 타입의 데이터를 담을 수 있음\n",
    "numbers = [0, True, \"2\", [2,3], [4,5,6]]\n",
    "numbers[2], numbers[4][1]"
   ]
  },
  {
   "cell_type": "code",
   "execution_count": 37,
   "id": "8fc0e1c4",
   "metadata": {},
   "outputs": [
    {
     "name": "stdout",
     "output_type": "stream",
     "text": [
      "[[1, 2, 3, 4, 5], [10, 20, 30, 40, 50], [1, 3, 5, 7, 9], [2, 4, 6, 8, 10]]\n"
     ]
    }
   ],
   "source": [
    "# 2차원 리스트\n",
    "numbers = [1,2,3,4,5]\n",
    "numbers_2d = [[1,2,3,4,5],     # 0행\n",
    "             [10,20,30,40,50], # 1행\n",
    "             [1,3,5,7,9],      # 2행\n",
    "             [2,4,6,8,10]]     # 3행\n",
    "print(numbers_2d)          "
   ]
  },
  {
   "cell_type": "code",
   "execution_count": 38,
   "id": "eebd20d9",
   "metadata": {},
   "outputs": [
    {
     "data": {
      "text/plain": [
       "50"
      ]
     },
     "execution_count": 38,
     "metadata": {},
     "output_type": "execute_result"
    }
   ],
   "source": [
    "# 특정행, 특정열 데이터\n",
    "numbers_2d[1][4]"
   ]
  },
  {
   "cell_type": "code",
   "execution_count": 39,
   "id": "00fdc584",
   "metadata": {},
   "outputs": [
    {
     "name": "stdout",
     "output_type": "stream",
     "text": [
      "4 5\n"
     ]
    }
   ],
   "source": [
    "print(len(numbers_2d), len(numbers_2d[0]))"
   ]
  },
  {
   "cell_type": "code",
   "execution_count": 40,
   "id": "ee942724",
   "metadata": {},
   "outputs": [
    {
     "name": "stdout",
     "output_type": "stream",
     "text": [
      "1\t2\t3\t4\t5\t\n",
      "10\t20\t30\t40\t50\t\n",
      "1\t3\t5\t7\t9\t\n",
      "2\t4\t6\t8\t10\t\n"
     ]
    }
   ],
   "source": [
    "for row in numbers_2d:\n",
    "    for item in row:\n",
    "        print(item, end=\"\\t\")\n",
    "    print()"
   ]
  },
  {
   "cell_type": "code",
   "execution_count": 41,
   "id": "9161a73e",
   "metadata": {},
   "outputs": [
    {
     "name": "stdout",
     "output_type": "stream",
     "text": [
      "0행0열 : 1\t0행1열 : 2\t0행2열 : 3\t0행3열 : 4\t0행4열 : 5\t\n",
      "1행0열 : 10\t1행1열 : 20\t1행2열 : 30\t1행3열 : 40\t1행4열 : 50\t\n",
      "2행0열 : 1\t2행1열 : 3\t2행2열 : 5\t2행3열 : 7\t2행4열 : 9\t\n",
      "3행0열 : 2\t3행1열 : 4\t3행2열 : 6\t3행3열 : 8\t3행4열 : 10\t\n"
     ]
    }
   ],
   "source": [
    "for i in range(len(numbers_2d)): # i : 행\n",
    "    for j in range(len(numbers_2d[i])): # j:열\n",
    "        print(f\"{i}행{j}열 : {numbers_2d[i][j]}\", end=\"\\t\")\n",
    "    print() # 개행"
   ]
  },
  {
   "cell_type": "code",
   "execution_count": 42,
   "id": "8b705415",
   "metadata": {},
   "outputs": [
    {
     "data": {
      "text/plain": [
       "(4, 5, 5, 5)"
      ]
     },
     "execution_count": 42,
     "metadata": {},
     "output_type": "execute_result"
    }
   ],
   "source": [
    "len(numbers_2d), len(numbers_2d[0]), len(numbers_2d[1]), len(numbers_2d[2])"
   ]
  },
  {
   "cell_type": "code",
   "execution_count": 43,
   "id": "bfbc74e4",
   "metadata": {},
   "outputs": [
    {
     "data": {
      "text/plain": [
       "([(0, [1, 2, 3, 4, 5]),\n",
       "  (1, [10, 20, 30, 40, 50]),\n",
       "  (2, [1, 3, 5, 7, 9]),\n",
       "  (3, [2, 4, 6, 8, 10])],\n",
       " [(0, 1), (1, 2), (2, 3), (3, 4), (4, 5)])"
      ]
     },
     "execution_count": 43,
     "metadata": {},
     "output_type": "execute_result"
    }
   ],
   "source": [
    "list(enumerate(numbers_2d)), list(enumerate(numbers_2d[0]))"
   ]
  },
  {
   "cell_type": "code",
   "execution_count": null,
   "id": "30b6e677",
   "metadata": {},
   "outputs": [],
   "source": [
    "for i, row in enumerate(numbers_2d):\n",
    "    for j, item in enumerate(numbers_2d[i]):\n",
    "          print(\"{}행{}열 : {}\".format(i, j, numbers_2d[i][j]), end=\"\\t\")\n",
    "    print() # 개행"
   ]
  },
  {
   "cell_type": "markdown",
   "id": "26ac78b1",
   "metadata": {},
   "source": [
    "## 1.2 기본 정보 조회"
   ]
  },
  {
   "cell_type": "code",
   "execution_count": null,
   "id": "38f4df39",
   "metadata": {},
   "outputs": [],
   "source": [
    "numbers = [1,12,3,4,5]\n",
    "numbers_2d = [[100,0,1],\n",
    "              [9,100,100],\n",
    "              [59,100,130]]"
   ]
  },
  {
   "cell_type": "code",
   "execution_count": null,
   "id": "4f383805",
   "metadata": {},
   "outputs": [],
   "source": [
    "# item 수\n",
    "len(numbers), len(numbers_2d)"
   ]
  },
  {
   "cell_type": "code",
   "execution_count": null,
   "id": "3bb0533b",
   "metadata": {},
   "outputs": [],
   "source": [
    "# 최소값\n",
    "# 2차원 list의 최소,최대값 : 부분리스트 중 첫 요소가 가장 작은 값/큰 값\n",
    "min(numbers), min(numbers_2d), max(numbers), max(numbers_2d)"
   ]
  },
  {
   "cell_type": "code",
   "execution_count": null,
   "id": "3855a5f9",
   "metadata": {},
   "outputs": [],
   "source": [
    "# list의 데이터가 문자일 경우 ascii 코드값으로 min과 max 적용\n",
    "fruits = ['mango', 'apple', 'orange']\n",
    "min(fruits), max(fruits)"
   ]
  },
  {
   "cell_type": "code",
   "execution_count": null,
   "id": "42c63e5a",
   "metadata": {},
   "outputs": [],
   "source": [
    "# 정렬하기\n",
    "numbers = [1,12,3,4,5]\n",
    "print(\"오름차순 정렬 :\", sorted(numbers))\n",
    "print(\"내림차순 정렬 :\", sorted(numbers, reverse=True))\n",
    "print(\"합 :\", sum(numbers))\n",
    "print(\"평균 :\", sum(numbers)/len(numbers))\n",
    "print(\"sorted 함수 사용시 리스트의 내용이 바뀌지 않음 :\", numbers)"
   ]
  },
  {
   "cell_type": "markdown",
   "id": "b02351f0",
   "metadata": {},
   "source": [
    "## 1.3 요소추가\n",
    "- `+` : 두 리스트 연결\n",
    "- `*` : 리스트를 곱한 수 만큼 반복\n",
    "- append() : 요소 맨 뒤에 추가\n",
    "- extend() : 리스트를 요소별로 맨 뒤에 추가\n",
    "- insert(idx, 값) : idx번째 인덱스 값 추가"
   ]
  },
  {
   "cell_type": "code",
   "execution_count": null,
   "id": "7861d92c",
   "metadata": {},
   "outputs": [],
   "source": [
    "numbers = [1, 2, 3]\n",
    "numbers = numbers + numbers # 리스트 연결\n",
    "numbers"
   ]
  },
  {
   "cell_type": "code",
   "execution_count": null,
   "id": "48b10f80",
   "metadata": {},
   "outputs": [],
   "source": [
    "numbers = [1, 2, 3]\n",
    "print(numbers*3) # 곱한 수만큼 반복\n",
    "print(3*numbers)"
   ]
  },
  {
   "cell_type": "code",
   "execution_count": null,
   "id": "baaa7287",
   "metadata": {},
   "outputs": [],
   "source": [
    "numbers.append(4) # 맨 뒤에 4추가\n",
    "numbers"
   ]
  },
  {
   "cell_type": "code",
   "execution_count": null,
   "id": "7e6e863f",
   "metadata": {},
   "outputs": [],
   "source": [
    "numbers.append([5,6,7]) # 맨 뒤의 요소에 [5,6,7] 추가\n",
    "numbers"
   ]
  },
  {
   "cell_type": "code",
   "execution_count": null,
   "id": "425d43d5",
   "metadata": {},
   "outputs": [],
   "source": [
    "numbers = [1, 2, 3]\n",
    "numbers.extend([4,5,6]) # 맨 뒤의 요소별로 4, 5, 6 추가\n",
    "numbers"
   ]
  },
  {
   "cell_type": "code",
   "execution_count": null,
   "id": "258975d4",
   "metadata": {},
   "outputs": [],
   "source": [
    "lst =  ['a', 'b', 'c']\n",
    "lst.append('d')\n",
    "lst"
   ]
  },
  {
   "cell_type": "code",
   "execution_count": null,
   "id": "07ab5d49",
   "metadata": {},
   "outputs": [],
   "source": [
    "lst.append('hello')\n",
    "lst"
   ]
  },
  {
   "cell_type": "code",
   "execution_count": null,
   "id": "6b81dc39",
   "metadata": {},
   "outputs": [],
   "source": [
    "lst.extend('hello')\n",
    "lst"
   ]
  },
  {
   "cell_type": "code",
   "execution_count": null,
   "id": "78dbe289",
   "metadata": {},
   "outputs": [],
   "source": [
    "numbers = [1,2,3,4,5]\n",
    "numbers.insert(1,'xx') # 1번째 인덱스에 'xx' 추가\n",
    "numbers"
   ]
  },
  {
   "cell_type": "markdown",
   "id": "2eeb7232",
   "metadata": {},
   "source": [
    "## 1.4 인덱싱과 요소 갯수\n",
    "- 변수[index] : 인덱스를 이용한 접근\n",
    "- index(찾을데이터) : 해당 찾을 데이터가 있는 요소의 index를 반환\n",
    "- 찾을데이터 in list변수 : 찾을 데이터가 리스트변수의 요소인지 여부\n",
    "- count(찾을데이터) : 리스트에서 해당 찾을 데이터의 갯수 반환"
   ]
  },
  {
   "cell_type": "code",
   "execution_count": null,
   "id": "4a026417",
   "metadata": {},
   "outputs": [],
   "source": [
    "numbers = [1, 2, 3, [1, 2, 3], 1 , 2, 3]\n",
    "numbers.count(2), numbers.count([1,2,3])"
   ]
  },
  {
   "cell_type": "code",
   "execution_count": null,
   "id": "7b2eaad0",
   "metadata": {},
   "outputs": [],
   "source": [
    "numbers.count(5)"
   ]
  },
  {
   "cell_type": "code",
   "execution_count": null,
   "id": "5d6491d9",
   "metadata": {},
   "outputs": [],
   "source": [
    "print(2 in numbers) # 2가 numbers의 요소인지 여부\n",
    "print(5 in numbers)"
   ]
  },
  {
   "cell_type": "code",
   "execution_count": 95,
   "id": "d310f8cd",
   "metadata": {},
   "outputs": [
    {
     "data": {
      "text/plain": [
       "1"
      ]
     },
     "execution_count": 95,
     "metadata": {},
     "output_type": "execute_result"
    }
   ],
   "source": [
    "numbers.index(2)"
   ]
  },
  {
   "cell_type": "code",
   "execution_count": null,
   "id": "f0e5d3c9",
   "metadata": {},
   "outputs": [],
   "source": [
    "if 5 in numbers:\n",
    "    print(numbers.index(5))\n",
    "else:\n",
    "    print('5가 요소에 포함되지 않습니다')"
   ]
  },
  {
   "cell_type": "code",
   "execution_count": null,
   "id": "956dc186",
   "metadata": {
    "scrolled": true
   },
   "outputs": [],
   "source": [
    "if numbers.count(5):\n",
    "    print(numbers.index(5))\n",
    "else:\n",
    "    print('5가 요소에 포함되지 않습니다')"
   ]
  },
  {
   "cell_type": "code",
   "execution_count": null,
   "id": "d86e1132",
   "metadata": {},
   "outputs": [],
   "source": [
    "def safe_index(lst, item):\n",
    "    \"\"\"첫번째 매개변수 lst에서 item 요소가 있는 index를 반환.\n",
    "    item요소가 없으면 -1 반환\"\"\"\n",
    "    if item in lst:\n",
    "        return lst.index(item)\n",
    "    return -1"
   ]
  },
  {
   "cell_type": "code",
   "execution_count": null,
   "id": "626feb2f",
   "metadata": {},
   "outputs": [],
   "source": [
    "from lst import safe_index # lst.py(모듈)안의 safe_index를 메모리에 load\n",
    "numbers = [1, 2, 3]\n",
    "safe_index(numbers, 2), safe_index(numbers,5)"
   ]
  },
  {
   "cell_type": "code",
   "execution_count": null,
   "id": "a052bcde",
   "metadata": {},
   "outputs": [],
   "source": [
    "numbers[5] # 벗어난 인덱스로 인덱싱 시 에러"
   ]
  },
  {
   "cell_type": "code",
   "execution_count": null,
   "id": "0b2bbaa6",
   "metadata": {},
   "outputs": [],
   "source": [
    "numbers[2:5] # 벗어난 인덱스로 슬라이싱 시 에러가 안 남"
   ]
  },
  {
   "cell_type": "markdown",
   "id": "2436823b",
   "metadata": {},
   "source": [
    "## 1.5 원하는 요소 추출\n",
    "1. 리스트 슬라이싱 : \n",
    "    - [from:to:step] from부터 to앞까지 step씩 증가하는 index값을 추출\n",
    "        * from 생략시 처음, to 생략시 끝, step 생략시 1\n",
    "    - 인덱스 범위를 벗어난 값도 에러나지 않음\n",
    "    - 인덱스는 음수 가능\n",
    "    \n",
    "2. <font color=\"red\">**리스트컴프리헨션**</font> :원하는 조건의 데이터 추출"
   ]
  },
  {
   "cell_type": "code",
   "execution_count": null,
   "id": "fd0d863d",
   "metadata": {},
   "outputs": [],
   "source": [
    "numbers =[1, 3, 5, 9, 10, 12, 13, 18, 19, 20]\n",
    "print(numbers[::-1]) # 거꾸로 출력\n",
    "print(numbers[0::2]) # 짝수 index 출력\n",
    "print(numbers[2:100]) # 인덱스를 벗어난 슬라이싱 가능"
   ]
  },
  {
   "cell_type": "code",
   "execution_count": null,
   "id": "98dd5bad",
   "metadata": {},
   "outputs": [],
   "source": [
    "# 모든 데이터 추출\n",
    "numbers = [1, 3, 5, 9, 10,12, 13, 18, 19, 20]\n",
    "# for data in numbers:\n",
    "#     print(data, end=\"\\t\")\n",
    "[data for data in numbers]"
   ]
  },
  {
   "cell_type": "code",
   "execution_count": null,
   "id": "4b87a6c9",
   "metadata": {},
   "outputs": [],
   "source": [
    "# 짝수 데이터 추출\n",
    "# for data in numbers:\n",
    "#     if data%2==0:\n",
    "#         print(data, end=\" \")\n",
    "[data for data in numbers if data%2==0]"
   ]
  },
  {
   "cell_type": "code",
   "execution_count": null,
   "id": "b1faaced",
   "metadata": {},
   "outputs": [],
   "source": [
    "# ex1. numbers에서 10이상인 요소만 추출\n",
    "[data for data in numbers if data>=10]"
   ]
  },
  {
   "cell_type": "code",
   "execution_count": null,
   "id": "12a67fe3",
   "metadata": {},
   "outputs": [],
   "source": [
    "# ex2. fruits에서 과일의 글자가 5글자 이상인 과일만 추룰\n",
    "fruits = ['orange', 'apple', 'mango', 'kiwi']\n",
    "[fruit for fruit in fruits if len(fruit)>=5]"
   ]
  },
  {
   "cell_type": "code",
   "execution_count": null,
   "id": "e7a65bc1",
   "metadata": {},
   "outputs": [],
   "source": [
    "# ex2-1 fruits 리스트의 과일 글자수\n",
    "[len(fruit) for fruit in fruits]"
   ]
  },
  {
   "cell_type": "code",
   "execution_count": null,
   "id": "c9af987f",
   "metadata": {},
   "outputs": [],
   "source": [
    "# ex3. 3이상인 요소들의 제곱을 추출\n",
    "L = [1,2,3,4,5]\n",
    "[l**2 for l in L if l>=3]"
   ]
  },
  {
   "cell_type": "code",
   "execution_count": null,
   "id": "5427667d",
   "metadata": {},
   "outputs": [],
   "source": [
    "# ex4. 리스트 요소의 값의 2배를 추출\n",
    "[l*2 for l in L]"
   ]
  },
  {
   "cell_type": "markdown",
   "id": "7066afc8",
   "metadata": {},
   "source": [
    "## 1.6 요소 수정하기\n",
    "- 인덱스, 슬라이싱을 이용해서 수정"
   ]
  },
  {
   "cell_type": "code",
   "execution_count": null,
   "id": "792a4b78",
   "metadata": {},
   "outputs": [],
   "source": [
    "numbers = [0, 1, 2, 3, 4, 5, 6, 7, 8, 9]\n",
    "numbers[2] = 222\n",
    "numbers"
   ]
  },
  {
   "cell_type": "code",
   "execution_count": null,
   "id": "3464e7c2",
   "metadata": {},
   "outputs": [],
   "source": [
    "# 슬라이싱(step부분 미포함)을 이용하여 부분리스트를 통째로 수정\n",
    "numbers[0:2] = ['xx','xx','xx','xx','xx','xx','xx']\n",
    "numbers"
   ]
  },
  {
   "cell_type": "code",
   "execution_count": null,
   "id": "d071d38b",
   "metadata": {},
   "outputs": [],
   "source": [
    "# 슬라이싱(step부분 포함)을 이용하여 부분 수정시 요소 갯수 맞아야 함\n",
    "numbers = [0]*10\n",
    "print(\"수정전 :\", numbers)\n",
    "numbers[0::2] = [9,9,9,9,9]\n",
    "print(\"수정후 :\", numbers)"
   ]
  },
  {
   "cell_type": "code",
   "execution_count": null,
   "id": "73ced3af",
   "metadata": {},
   "outputs": [],
   "source": [
    "numbers[0::2]= [1,1]"
   ]
  },
  {
   "cell_type": "markdown",
   "id": "3b07369f",
   "metadata": {},
   "source": [
    "## 1.7 요소삭제\n",
    "- pop() : 가장 마지막 인덱스의 요소가 반환되고 삭제\n",
    "- pop(idx) : idx번째 요소가 반환되고 삭제\n",
    "- remove(data) : list안의 data가 삭제\n",
    "- del 리스트 변수[idx] : idx번째 요소가 삭제"
   ]
  },
  {
   "cell_type": "code",
   "execution_count": null,
   "id": "558638e6",
   "metadata": {},
   "outputs": [],
   "source": [
    "numbers =[1, 2, 3, 4, 5]\n",
    "print(\"삭제한 데이터 :\", numbers.pop())\n",
    "print(\"삭제 후 numbers :\", numbers)\n",
    "print(\"1번째 삭제한 데이터 :\", numbers.pop(1))\n",
    "print(\"1번째 삭제 후 numbers :\", numbers)\n",
    "print(\"데이터 1 삭제\")\n",
    "numbers.remove(1)\n",
    "print(\"데이터 1 삭제 후 number :\", numbers)    \n",
    "print(\"del numbers[1]\")\n",
    "del numbers[1]\n",
    "print(numbers)"
   ]
  },
  {
   "cell_type": "code",
   "execution_count": null,
   "id": "d29dd8fd",
   "metadata": {},
   "outputs": [],
   "source": [
    "# numbers.remove(9)\n",
    "if 9 in numbers:\n",
    "    numbers.remove(9)\n",
    "else:\n",
    "    print(\"해당 데이터는 없는 item입니다\")"
   ]
  },
  {
   "cell_type": "code",
   "execution_count": null,
   "id": "257bc551",
   "metadata": {},
   "outputs": [],
   "source": [
    "numbers.clear() #모든 요소를 삭제\n",
    "numbers"
   ]
  },
  {
   "cell_type": "markdown",
   "id": "44f3516a",
   "metadata": {},
   "source": [
    "## 1.8 정렬하기"
   ]
  },
  {
   "cell_type": "code",
   "execution_count": null,
   "id": "9efbcfa2",
   "metadata": {},
   "outputs": [],
   "source": [
    "numbers =[9, 5, 0, 8, 6]\n",
    "print(\"numbers는 변경하지 않고, 정렬결과 :\", sorted(numbers))\n",
    "print(\"numbers :\", numbers)"
   ]
  },
  {
   "cell_type": "code",
   "execution_count": null,
   "id": "fb01ecfc",
   "metadata": {},
   "outputs": [],
   "source": [
    "numbers.sort() # numbers 자체가 오름차순 결과로 바뀜 \n",
    "numbers"
   ]
  },
  {
   "cell_type": "code",
   "execution_count": null,
   "id": "c1238312",
   "metadata": {},
   "outputs": [],
   "source": [
    "numbers.sort(reverse=True) # numbers 자체가 내림차순 결과로 바뀜 \n",
    "numbers"
   ]
  },
  {
   "cell_type": "code",
   "execution_count": null,
   "id": "af9d20a5",
   "metadata": {},
   "outputs": [],
   "source": [
    "numbers.reverse() # 리스트를 역순으로 변경\n",
    "# numbers = numbers[::-1]\n",
    "numbers"
   ]
  },
  {
   "cell_type": "markdown",
   "id": "c3154158",
   "metadata": {},
   "source": [
    "## 1.9 리스트 복제"
   ]
  },
  {
   "cell_type": "code",
   "execution_count": null,
   "id": "21e1a48a",
   "metadata": {},
   "outputs": [],
   "source": [
    "# 스칼라 데이터의 복제\n",
    "i = 10\n",
    "cp_i = i\n",
    "print(f\"원본i = {i}, 복사본cp_i={cp_i} / 원본주소={id(i)}, 복사본주소={id(cp_i)}\")\n",
    "cp_i = 99\n",
    "print(f\"원본i = {i}, 복사본cp_i={cp_i} / 원본주소={id(i)}, 복사본주소={id(cp_i)}\")"
   ]
  },
  {
   "cell_type": "code",
   "execution_count": null,
   "id": "bd22b903",
   "metadata": {},
   "outputs": [],
   "source": [
    "# 데이터 구조의 할당\n",
    "numbers = [5, 6, 1, 9]\n",
    "new_numbers = numbers\n",
    "print('원본 주소 :', id(numbers))\n",
    "print('복제본 주소 :', id(numbers))\n",
    "new_numbers[0] = 99\n",
    "print(\"원본 내용 :\", numbers)\n",
    "print(\"복제본 내용 :\", new_numbers)\n",
    "print(\"원본 주소 :\", id(numbers))\n",
    "print(\"복제본 주소 :\", id(new_numbers))"
   ]
  },
  {
   "cell_type": "code",
   "execution_count": null,
   "id": "b564f1e9",
   "metadata": {},
   "outputs": [],
   "source": [
    "# 할당 \n",
    "numbers =[5, 6, 1, 9]\n",
    "new_numbers = numbers\n",
    "new_numbers.sort()\n",
    "print(\"원본 내용 :\", numbers)\n",
    "print(\"복제본 내용 :\", new_numbers)\n",
    "print(\"원본 주소 :\", id(numbers))\n",
    "print(\"복제본 주소 :\", id(new_numbers))"
   ]
  },
  {
   "cell_type": "code",
   "execution_count": null,
   "id": "5ef7cd44",
   "metadata": {},
   "outputs": [],
   "source": [
    "# 리스트 복제(깊은 복사)\n",
    "numbers = [5, 6, 1, 9]\n",
    "new_numbers = numbers.copy() # numbers를 복제(깊은 복사)\n",
    "new_numbers.sort(reverse=True) #내림차순 정렬\n",
    "print(\"원본 :\", numbers)\n",
    "print(\"복제본 :\", new_numbers)\n",
    "print(\"원본 주소 :\", id(numbers))\n",
    "print(\"복제본 주소 :\", id(new_numbers))"
   ]
  },
  {
   "cell_type": "code",
   "execution_count": null,
   "id": "b7846b04",
   "metadata": {},
   "outputs": [],
   "source": [
    "city = ['서울','대전','대구','부산','하남','수원','제주']\n",
    "temp = city.copy()\n",
    "temp.sort()\n",
    "print(\"정렬 전 :\", city)\n",
    "print(\"정렬 후 :\", temp)"
   ]
  },
  {
   "cell_type": "code",
   "execution_count": null,
   "id": "04c7ae35",
   "metadata": {},
   "outputs": [],
   "source": [
    "temp.clear()\n",
    "print(\"정렬 전 :\", city)\n",
    "print(\"정렬 후 :\", temp)"
   ]
  },
  {
   "cell_type": "markdown",
   "id": "80cdc2c1",
   "metadata": {},
   "source": [
    "## 2절 튜플\n",
    "- 리스트([])와 유사하지만 읽기 전용.  수정이 필요없는 데이터에서 사용\n",
    "- 수정이 불가하므로 , 튜플에서 데이터 수정, 추가, 삭제 불가\n",
    "- 제공되는 함수도 많지 않음\n",
    "- ()이용해서 생성, tuple() 함수 이용"
   ]
  },
  {
   "cell_type": "code",
   "execution_count": null,
   "id": "30b02681",
   "metadata": {},
   "outputs": [],
   "source": [
    "city = ('서울','대전','대구','부산','하남')\n",
    "# 파이써은 여러개의 값이 전달될 때 튜플 타입으로 전달\n",
    "city = '서울','대전','대구','부산','하남'\n",
    "print(type(city))\n",
    "print(city)"
   ]
  },
  {
   "cell_type": "code",
   "execution_count": null,
   "id": "65abac28",
   "metadata": {},
   "outputs": [],
   "source": [
    "#매개변수로 list가 오는 함수는 tuple 매개변수로 함수 사용\n",
    "\",\".join(city)"
   ]
  },
  {
   "cell_type": "code",
   "execution_count": null,
   "id": "70665d7e",
   "metadata": {},
   "outputs": [],
   "source": [
    "from lst import safe_index\n",
    "safe_index(city, '대전')"
   ]
  },
  {
   "cell_type": "code",
   "execution_count": null,
   "id": "aeb6e8aa",
   "metadata": {},
   "outputs": [],
   "source": [
    "l = ['서울'] # 요소가 하나 있는 리스트\n",
    "print(type(l))\n",
    "print(l)\n",
    "print(len(l))"
   ]
  },
  {
   "cell_type": "code",
   "execution_count": null,
   "id": "8136b453",
   "metadata": {},
   "outputs": [],
   "source": [
    "city = ('서울') # 요소가 하나 있는 튜플(X) -> str\n",
    "print(type(city))\n",
    "print(city)\n",
    "print(len(city))"
   ]
  },
  {
   "cell_type": "code",
   "execution_count": null,
   "id": "8f750466",
   "metadata": {},
   "outputs": [],
   "source": [
    "city = ('서울',) # 요소가 하나 있는 튜플(o)\n",
    "print(type(city))\n",
    "print(city)\n",
    "print(len(city))"
   ]
  },
  {
   "cell_type": "code",
   "execution_count": 5,
   "id": "3bb6f14d",
   "metadata": {},
   "outputs": [],
   "source": [
    "numbers =(1, 2, 3)\n",
    "# numbers.append(4) 수정하기 위한 함수는 제공되지 않음"
   ]
  },
  {
   "cell_type": "code",
   "execution_count": 6,
   "id": "cb010e1b",
   "metadata": {},
   "outputs": [
    {
     "data": {
      "text/plain": [
       "(1, 3, 6)"
      ]
     },
     "execution_count": 6,
     "metadata": {},
     "output_type": "execute_result"
    }
   ],
   "source": [
    "min(numbers), max(numbers), sum(numbers)"
   ]
  },
  {
   "cell_type": "code",
   "execution_count": 7,
   "id": "8c0c386a",
   "metadata": {},
   "outputs": [
    {
     "data": {
      "text/plain": [
       "1"
      ]
     },
     "execution_count": 7,
     "metadata": {},
     "output_type": "execute_result"
    }
   ],
   "source": [
    "numbers.count(2)"
   ]
  },
  {
   "cell_type": "code",
   "execution_count": 8,
   "id": "3f594b96",
   "metadata": {},
   "outputs": [
    {
     "data": {
      "text/plain": [
       "2"
      ]
     },
     "execution_count": 8,
     "metadata": {},
     "output_type": "execute_result"
    }
   ],
   "source": [
    "numbers.index(3)"
   ]
  },
  {
   "cell_type": "code",
   "execution_count": 12,
   "id": "c7185f5e",
   "metadata": {},
   "outputs": [
    {
     "name": "stdout",
     "output_type": "stream",
     "text": [
      "해당 데이터 없음\n"
     ]
    }
   ],
   "source": [
    "# numbers.index(4)\n",
    "if 4 in numbers:\n",
    "    numbers.index(4)\n",
    "else:\n",
    "    print('해당 데이터 없음')"
   ]
  },
  {
   "cell_type": "code",
   "execution_count": 13,
   "id": "e8c33628",
   "metadata": {},
   "outputs": [
    {
     "data": {
      "text/plain": [
       "-1"
      ]
     },
     "execution_count": 13,
     "metadata": {},
     "output_type": "execute_result"
    }
   ],
   "source": [
    "from lst import safe_index\n",
    "safe_index(numbers,4)"
   ]
  },
  {
   "cell_type": "code",
   "execution_count": 16,
   "id": "10a8b109",
   "metadata": {},
   "outputs": [
    {
     "name": "stdout",
     "output_type": "stream",
     "text": [
      "데이터가 없습니다\n"
     ]
    }
   ],
   "source": [
    "numbers = (1, 4, 3, 2)\n",
    "if 4 in numbers[2:]:\n",
    "    numbers.index(4, 2) # index(찾을데이터, 찾기시작할index=0)\n",
    "else:\n",
    "    print(\"데이터가 없습니다\")"
   ]
  },
  {
   "cell_type": "code",
   "execution_count": 17,
   "id": "daa1f169",
   "metadata": {},
   "outputs": [],
   "source": [
    "def safe_index(lst, item, start=0):\n",
    "    \"\"\"\n",
    "    첫번째 매개변수 lst : 리스트, 튜플\n",
    "    두번째 매개변수 item : 리스트나 튜플에서 찾을 데이터\n",
    "    세번째 매개변수 start : 몇번째 index부터 찾을지 index 수(기본값:0)\n",
    "    \"\"\"\n",
    "    return lst.index(item, start) if item in lst[start:] else -1\n",
    "#     if item in lst[start:]:\n",
    "#         return lst.index(item,start) # start번째부터 item이 있는 index를 반환\n",
    "#     return -1"
   ]
  },
  {
   "cell_type": "code",
   "execution_count": 19,
   "id": "3e063177",
   "metadata": {},
   "outputs": [
    {
     "data": {
      "text/plain": [
       "1"
      ]
     },
     "execution_count": 19,
     "metadata": {},
     "output_type": "execute_result"
    }
   ],
   "source": [
    "safe_index(numbers, 4)"
   ]
  },
  {
   "cell_type": "code",
   "execution_count": 21,
   "id": "4b2a507c",
   "metadata": {},
   "outputs": [
    {
     "data": {
      "text/plain": [
       "10"
      ]
     },
     "execution_count": 21,
     "metadata": {},
     "output_type": "execute_result"
    }
   ],
   "source": [
    "# 위의 if문을 조건식을 이용하여 한줄 코드\n",
    "x, y = 10, 20\n",
    "def diff(x, y):\n",
    "    return x-y if x>y else y-x # if문이 참일떄 값 if 조건 else if문  거짓일 때 값\n",
    "#     if x>y:\n",
    "#         return x-y\n",
    "#     else:\n",
    "#         return y-x\n",
    "diff(30, 20)"
   ]
  },
  {
   "cell_type": "code",
   "execution_count": 22,
   "id": "7758cd7d",
   "metadata": {},
   "outputs": [
    {
     "name": "stdout",
     "output_type": "stream",
     "text": [
      "(1, 2, 3, 1, 2, 3)\n",
      "(1, 2, 3, 1, 2, 3, 1, 2, 3)\n",
      "(1, 2, 3, 1, 2, 3, 1, 2, 3)\n"
     ]
    }
   ],
   "source": [
    "numbers = (1, 2, 3)\n",
    "print(numbers + numbers) #연결\n",
    "print(numbers*3) #반복\n",
    "print(3*numbers) #반복"
   ]
  },
  {
   "cell_type": "code",
   "execution_count": 23,
   "id": "aae79d52",
   "metadata": {},
   "outputs": [
    {
     "data": {
      "text/plain": [
       "(4, 16, 36)"
      ]
     },
     "execution_count": 23,
     "metadata": {},
     "output_type": "execute_result"
    }
   ],
   "source": [
    "# ex. 짝수 요소들을 추출하여 제곱한 데이터를 튜플로 출력하시오\n",
    "numbers = (11, 2, 3, 4, 5, 6)\n",
    "tuple(num**2 for num in numbers if num%2==0)"
   ]
  },
  {
   "cell_type": "markdown",
   "id": "8f6ac220",
   "metadata": {},
   "source": [
    "# 3절 딕셔너리\n",
    "- {}를 이용해서 키(key)-값(value)의 쌍으로 구성된 자료구조\n",
    "- 키는 유일한 값(중복 허용 안함). 키에 list는 사용 불가. 키에 tuple은 사용 가능\n",
    "- 값은 중복 가능. 모든 데이터 다입 가능\n",
    "- 인덱스를 이용한 참조는 지원 안 함"
   ]
  },
  {
   "cell_type": "code",
   "execution_count": 24,
   "id": "f6f94522",
   "metadata": {},
   "outputs": [
    {
     "name": "stdout",
     "output_type": "stream",
     "text": [
      "<class 'dict'>\n",
      "{'name': '홍길동', 1: 12, (1, 2): [1, 2]}\n"
     ]
    }
   ],
   "source": [
    "dic = {'name':\"홍길동\", 1:12, (1,2):[1,2]}\n",
    "print(type(dic))\n",
    "print(dic)"
   ]
  },
  {
   "cell_type": "code",
   "execution_count": 26,
   "id": "ea4dd5ac",
   "metadata": {},
   "outputs": [
    {
     "data": {
      "text/plain": [
       "3"
      ]
     },
     "execution_count": 26,
     "metadata": {},
     "output_type": "execute_result"
    }
   ],
   "source": [
    "len(dic) # 데이터 요소의 갯수"
   ]
  },
  {
   "cell_type": "code",
   "execution_count": 27,
   "id": "4e50b4fe",
   "metadata": {},
   "outputs": [
    {
     "data": {
      "text/plain": [
       "{'fruit': 'apple', 'number': 12, 'sport': 'yoga'}"
      ]
     },
     "execution_count": 27,
     "metadata": {},
     "output_type": "execute_result"
    }
   ],
   "source": [
    "my_favorite = {'fruit':'apple', 'number': 12, 'sport':'yoga'}\n",
    "my_favorite"
   ]
  },
  {
   "cell_type": "code",
   "execution_count": 28,
   "id": "c738f126",
   "metadata": {},
   "outputs": [
    {
     "name": "stdout",
     "output_type": "stream",
     "text": [
      "12\n",
      "12\n"
     ]
    }
   ],
   "source": [
    "# 변수[키] / 변수.get(키)\n",
    "print(my_favorite['number'])\n",
    "print(my_favorite.get('number'))"
   ]
  },
  {
   "cell_type": "code",
   "execution_count": 29,
   "id": "17498a9e",
   "metadata": {},
   "outputs": [
    {
     "name": "stdout",
     "output_type": "stream",
     "text": [
      "None\n",
      "-\n"
     ]
    }
   ],
   "source": [
    "# print(my_favorite['people']) # 키 목록애 없는 데이터를 참조사 에러\n",
    "print(my_favorite.get('people')) # 없는 키를 get함수로 참조시 None\n",
    "print(my_favorite.get('people','-')) #없는 키를 get함수를 참조시 '-'"
   ]
  },
  {
   "cell_type": "markdown",
   "id": "5ce6bfeb",
   "metadata": {},
   "source": [
    "# 딕셔너리에 item 수정, 추가, 삭제"
   ]
  },
  {
   "cell_type": "code",
   "execution_count": 32,
   "id": "56eb4fd1",
   "metadata": {},
   "outputs": [
    {
     "name": "stdout",
     "output_type": "stream",
     "text": [
      "people 추가후 : {'fruit': 'apple', 'number': 12, 'sport': 'yoga', 'people': '홍길동'}\n",
      "한꺼번에 추가후 : {'fruit': 'apple', 'number': 12, 'sport': 'yoga', 'people': '홍길동', 'subject': '수학', 'major': 'AI'}\n",
      "하나씩 수정 후 : {'fruit': 'mango', 'number': -9, 'sport': 'yoga', 'people': '홍길동', 'subject': '수학', 'major': 'AI'}\n",
      "한꺼번에 수정 후 : {'fruit': 'kiwi', 'number': -99, 'sport': 'yoga', 'people': '홍길동', 'subject': '수학', 'major': 'AI'}\n",
      "subject 키가 존재하지 않습니다\n",
      "del 제거(1) 후 : {'fruit': 'kiwi', 'number': -99, 'sport': 'yoga', 'people': '홍길동', 'major': 'AI'}\n",
      "제거한 데이터 : AI\n",
      "major 키가 존재하지 않습니다\n",
      "{'fruit': 'kiwi', 'number': -99, 'sport': 'yoga', 'people': '홍길동'}\n"
     ]
    }
   ],
   "source": [
    "my_favorite = {'fruit':'apple', 'number':12, 'sport':'yoga'}\n",
    "# 한 item씩 추가\n",
    "my_favorite['people'] = '홍길동'\n",
    "print('people 추가후 :', my_favorite)\n",
    "# 여러 item을 한꺼번에 추가\n",
    "my_favorite.update({'subject':'수학', 'major':'AI'})\n",
    "print('한꺼번에 추가후 :', my_favorite)\n",
    "\n",
    "# 한 item씩 수정\n",
    "my_favorite['fruit'] = 'mango'\n",
    "my_favorite['number'] = -9\n",
    "print('하나씩 수정 후 :', my_favorite)\n",
    "# 여러 item을 한꺼번 수정\n",
    "# my_favorite.update({'fruit':'kiwi', 'number':-99})\n",
    "my_favorite.update(fruit='kiwi', number=-99)\n",
    "print(\"한꺼번에 수정 후 :\", my_favorite)\n",
    "# item 제거(1)\n",
    "del my_favorite['subject']\n",
    "if 'subject' in my_favorite:\n",
    "    del my_favorite['subject']\n",
    "else:\n",
    "    print('subject 키가 존재하지 않습니다')\n",
    "print(\"del 제거(1) 후 :\", my_favorite)\n",
    "# item 제거(2)\n",
    "print('제거한 데이터 :', my_favorite.pop('major')) # major키 값을 반환하고 제거\n",
    "if 'major' in my_favorite:\n",
    "    print('제거한 데이터 :', my_favorite.pop('major'))\n",
    "else:\n",
    "    print('major 키가 존재하지 않습니다')\n",
    "print(my_favorite)"
   ]
  },
  {
   "cell_type": "code",
   "execution_count": 34,
   "id": "0db053ec",
   "metadata": {},
   "outputs": [],
   "source": [
    "# for문을 이용한 출력\n",
    "my_tuple=('홍길동', 30, '010-9999-9999' )"
   ]
  },
  {
   "cell_type": "code",
   "execution_count": 45,
   "id": "a283af17",
   "metadata": {},
   "outputs": [
    {
     "name": "stdout",
     "output_type": "stream",
     "text": [
      "홍길동\t30\t010-9999-9999\t\n",
      "0번째 : 홍길동\t1번째 : 30\t2번째 : 010-9999-9999\t\n",
      "0번째 : 홍길동\t1번째 : 30\t2번째 : 010-9999-9999\t"
     ]
    }
   ],
   "source": [
    "for data in my_tuple:\n",
    "    print(data, end=\"\\t\")\n",
    "print() # 개행\n",
    "for idx in range(len(my_tuple)):\n",
    "    print(f\"{idx}번째 : {my_tuple[idx]}\", end=\"\\t\")\n",
    "print() # 개행  \n",
    "for idx, data in enumerate(my_tuple):\n",
    "    print(f\"{idx}번째 : {data}\", end=\"\\t\")"
   ]
  },
  {
   "cell_type": "code",
   "execution_count": 46,
   "id": "7c0aa4a8",
   "metadata": {},
   "outputs": [],
   "source": [
    "my_dic = {'name':'홍길동', 'age':30, 'tel':'010-9999-9999'}"
   ]
  },
  {
   "cell_type": "code",
   "execution_count": 47,
   "id": "fcc65f89",
   "metadata": {},
   "outputs": [
    {
     "name": "stdout",
     "output_type": "stream",
     "text": [
      "name : 홍길동\tage : 30\ttel : 010-9999-9999\t"
     ]
    }
   ],
   "source": [
    "for key in my_dic: # 비추\n",
    "    print(\"{} : {}\".format(key, my_dic[key]), end=\"\\t\")"
   ]
  },
  {
   "cell_type": "code",
   "execution_count": 48,
   "id": "9127e3a1",
   "metadata": {},
   "outputs": [
    {
     "data": {
      "text/plain": [
       "dict_keys(['name', 'age', 'tel'])"
      ]
     },
     "execution_count": 48,
     "metadata": {},
     "output_type": "execute_result"
    }
   ],
   "source": [
    "my_dic.keys() # 키 목록"
   ]
  },
  {
   "cell_type": "code",
   "execution_count": 49,
   "id": "172c3c06",
   "metadata": {},
   "outputs": [
    {
     "data": {
      "text/plain": [
       "dict_values(['홍길동', 30, '010-9999-9999'])"
      ]
     },
     "execution_count": 49,
     "metadata": {},
     "output_type": "execute_result"
    }
   ],
   "source": [
    "my_dic.values() # 값들 목록"
   ]
  },
  {
   "cell_type": "code",
   "execution_count": 50,
   "id": "82a58e93",
   "metadata": {},
   "outputs": [
    {
     "data": {
      "text/plain": [
       "dict_items([('name', '홍길동'), ('age', 30), ('tel', '010-9999-9999')])"
      ]
     },
     "execution_count": 50,
     "metadata": {},
     "output_type": "execute_result"
    }
   ],
   "source": [
    "my_dic.items() # 키-값 쌍 목록"
   ]
  },
  {
   "cell_type": "code",
   "execution_count": 51,
   "id": "d5f0c89c",
   "metadata": {},
   "outputs": [
    {
     "name": "stdout",
     "output_type": "stream",
     "text": [
      "name:홍길동\tage:30\ttel:010-9999-9999\t"
     ]
    }
   ],
   "source": [
    "for key, value in my_dic.items():\n",
    "    print(\"{}:{}\".format(key, value), end=\"\\t\")"
   ]
  },
  {
   "cell_type": "code",
   "execution_count": 52,
   "id": "7efa5caa",
   "metadata": {},
   "outputs": [
    {
     "name": "stdout",
     "output_type": "stream",
     "text": [
      "홍길동\t30\t010-9999-9999\t"
     ]
    }
   ],
   "source": [
    "for value in my_dic.values():\n",
    "    print(value, end=\"\\t\")"
   ]
  },
  {
   "cell_type": "code",
   "execution_count": 53,
   "id": "bb081724",
   "metadata": {},
   "outputs": [
    {
     "data": {
      "text/plain": [
       "[(0, ('name', '홍길동')), (1, ('age', 30)), (2, ('tel', '010-9999-9999'))]"
      ]
     },
     "execution_count": 53,
     "metadata": {},
     "output_type": "execute_result"
    }
   ],
   "source": [
    "list(enumerate(my_dic.items()))"
   ]
  },
  {
   "cell_type": "code",
   "execution_count": 66,
   "id": "92e6d179",
   "metadata": {},
   "outputs": [
    {
     "name": "stdout",
     "output_type": "stream",
     "text": [
      "1. name : 홍길동\n",
      "2. age : 30\n",
      "3. tel : 010-9999-9999\n"
     ]
    }
   ],
   "source": [
    "for no, (key, value) in enumerate(my_dic.items()):\n",
    "    print(\"{}. {} : {}\".format(no+1, key, value))"
   ]
  },
  {
   "cell_type": "code",
   "execution_count": 67,
   "id": "5f215ed6",
   "metadata": {},
   "outputs": [
    {
     "data": {
      "text/plain": [
       "True"
      ]
     },
     "execution_count": 67,
     "metadata": {},
     "output_type": "execute_result"
    }
   ],
   "source": [
    "# tuple, list\n",
    "t = (10, 20, 30)\n",
    "30 in t # list, tuple, set애서의 in연산자 : 요소(데이터,item)가 있는 여부 반환"
   ]
  },
  {
   "cell_type": "code",
   "execution_count": 68,
   "id": "92859bac",
   "metadata": {},
   "outputs": [
    {
     "data": {
      "text/plain": [
       "False"
      ]
     },
     "execution_count": 68,
     "metadata": {},
     "output_type": "execute_result"
    }
   ],
   "source": [
    "# dictionary\n",
    "dic = {'name':'홍길동', 'age':30}\n",
    "'홍길동' in dic # dictionary에서의 in연산자 : key가 있는지 여부 반환"
   ]
  },
  {
   "cell_type": "code",
   "execution_count": 69,
   "id": "51ae55d1",
   "metadata": {},
   "outputs": [
    {
     "data": {
      "text/plain": [
       "True"
      ]
     },
     "execution_count": 69,
     "metadata": {},
     "output_type": "execute_result"
    }
   ],
   "source": [
    "'홍길동' in dic.values()"
   ]
  },
  {
   "cell_type": "markdown",
   "id": "47a8af30",
   "metadata": {},
   "source": [
    "## 복제하기"
   ]
  },
  {
   "cell_type": "code",
   "execution_count": 70,
   "id": "a25fbf7a",
   "metadata": {},
   "outputs": [
    {
     "name": "stdout",
     "output_type": "stream",
     "text": [
      "my_favorite 주소 2532840312320\n",
      "new_favorite 주소 2532840312320\n"
     ]
    }
   ],
   "source": [
    "# 할당\n",
    "my_favorite = {'fruit':'apple', 'number':12}\n",
    "new_favorite = my_favorite\n",
    "print('my_favorite 주소', id(my_favorite))\n",
    "print('new_favorite 주소', id(new_favorite))"
   ]
  },
  {
   "cell_type": "code",
   "execution_count": 71,
   "id": "a213997e",
   "metadata": {},
   "outputs": [
    {
     "name": "stdout",
     "output_type": "stream",
     "text": [
      "원본 : {'fruit': '과일은 다 좋아', 'number': 12, 'people': '홍길동'}\n",
      "수정본 : {'fruit': '과일은 다 좋아', 'number': 12, 'people': '홍길동'}\n"
     ]
    }
   ],
   "source": [
    "new_favorite['fruit'] = '과일은 다 좋아'\n",
    "new_favorite['people'] =\"홍길동\"\n",
    "print('원본 :', my_favorite)\n",
    "print('수정본 :', new_favorite)"
   ]
  },
  {
   "cell_type": "code",
   "execution_count": 72,
   "id": "853704be",
   "metadata": {},
   "outputs": [
    {
     "name": "stdout",
     "output_type": "stream",
     "text": [
      "my_favorite 주소 2532876299136\n",
      "new_favorite 주소 2532876298944\n",
      "원본 : {'fruit': 'apple', 'number': 12}\n",
      "수정본 : {'fruit': '과일은 다 좋아', 'number': 12, 'people': '홍길동'}\n"
     ]
    }
   ],
   "source": [
    "# 복제(깊은 복사)\n",
    "my_favorite = {'fruit':'apple', 'number':12}\n",
    "new_favorite = my_favorite.copy()\n",
    "print('my_favorite 주소', id(my_favorite))\n",
    "print('new_favorite 주소', id(new_favorite))\n",
    "new_favorite['fruit'] = '과일은 다 좋아'\n",
    "new_favorite['people'] =\"홍길동\"\n",
    "print('원본 :', my_favorite)\n",
    "print('수정본 :', new_favorite)"
   ]
  },
  {
   "cell_type": "markdown",
   "id": "a93d0852",
   "metadata": {},
   "source": [
    "# 4절 셋\n",
    "- 중복을 허용하지 않는 집합(순서x)\n",
    "- {}나 set()함수를 이용해서 셋 생성 ex.([1, 2, 3]), set({'name':'홍길동'})\n",
    "- 추가 : add(), update()\n",
    "- 삭제 : remove()\n",
    "- 집합 연산자 : &교집합, |합집합, -차집합"
   ]
  },
  {
   "cell_type": "code",
   "execution_count": 73,
   "id": "7b518e09",
   "metadata": {},
   "outputs": [
    {
     "data": {
      "text/plain": [
       "{'apple', 'banana', 'orange'}"
      ]
     },
     "execution_count": 73,
     "metadata": {},
     "output_type": "execute_result"
    }
   ],
   "source": [
    "fruits = {'banana', 'orange', 'apple', 'apple'}\n",
    "fruits"
   ]
  },
  {
   "cell_type": "code",
   "execution_count": 74,
   "id": "01391598",
   "metadata": {},
   "outputs": [
    {
     "data": {
      "text/plain": [
       "{1, 2, 3}"
      ]
     },
     "execution_count": 74,
     "metadata": {},
     "output_type": "execute_result"
    }
   ],
   "source": [
    "s1 = set([1, 2, 3, 1, 1, 1, 1, 1])\n",
    "s1"
   ]
  },
  {
   "cell_type": "code",
   "execution_count": 75,
   "id": "f9a69b19",
   "metadata": {},
   "outputs": [
    {
     "data": {
      "text/plain": [
       "{1, 2, 3}"
      ]
     },
     "execution_count": 75,
     "metadata": {},
     "output_type": "execute_result"
    }
   ],
   "source": [
    "s1 = set((1, 2, 3, 1, 1, 1, 1, 1))\n",
    "s1"
   ]
  },
  {
   "cell_type": "code",
   "execution_count": 77,
   "id": "d94ffd06",
   "metadata": {},
   "outputs": [
    {
     "data": {
      "text/plain": [
       "{'address', 'age', 'name'}"
      ]
     },
     "execution_count": 77,
     "metadata": {},
     "output_type": "execute_result"
    }
   ],
   "source": [
    "# set함수를 이용해서 딕셔너리를 셋으로 전환할 때는 key만 적용\n",
    "s2 = set({'name':'홍길동', 'age':30, 'address':'서울'})\n",
    "s2"
   ]
  },
  {
   "cell_type": "markdown",
   "id": "0004aa26",
   "metadata": {},
   "source": [
    "## 추가하기\n",
    "- add() : 기본자료형, 튜플데이터 하나 추가. list, dic, set유형은 add()함수 사용 불가\n",
    "- update() : 리스트, 튜플, 딕셔너리, 셋 요소"
   ]
  },
  {
   "cell_type": "code",
   "execution_count": 78,
   "id": "6eec043e",
   "metadata": {},
   "outputs": [
    {
     "name": "stdout",
     "output_type": "stream",
     "text": [
      "add() 후 : {1, 2, 3, 4, '오', (6, 7)}\n"
     ]
    }
   ],
   "source": [
    "s = {1, 2, 3}\n",
    "s.add((6,7))\n",
    "s.add(4)\n",
    "s.add('오')\n",
    "print(\"add() 후 :\", s)"
   ]
  },
  {
   "cell_type": "code",
   "execution_count": 79,
   "id": "1d0b415a",
   "metadata": {},
   "outputs": [
    {
     "name": "stdout",
     "output_type": "stream",
     "text": [
      "True add 후 : {1, 2, 3}\n"
     ]
    }
   ],
   "source": [
    "# 1이 set에 있는 상태에서 True추가\n",
    "s = {1,2,3,1,1}\n",
    "s.add(True)\n",
    "s\n",
    "print(\"True add 후 :\", s)"
   ]
  },
  {
   "cell_type": "code",
   "execution_count": 80,
   "id": "eefe74f4",
   "metadata": {},
   "outputs": [
    {
     "name": "stdout",
     "output_type": "stream",
     "text": [
      "0 add 후 : {False, 1, 2}\n"
     ]
    }
   ],
   "source": [
    "# 0이 set에 있는 상태에서 False 추가\n",
    "s = {False, 1, 2}\n",
    "s.add(0)\n",
    "print(\"0 add 후 :\", s)"
   ]
  },
  {
   "cell_type": "code",
   "execution_count": 81,
   "id": "cdc62101",
   "metadata": {},
   "outputs": [
    {
     "name": "stdout",
     "output_type": "stream",
     "text": [
      "업데이트 후 : {1, 2, 3, 4, 5, 6, 'name', 'age'}\n"
     ]
    }
   ],
   "source": [
    "s = {1,2,3}\n",
    "# s.update([4,5,6])\n",
    "# s.update((4,5,6))\n",
    "s.update({4,5,6})\n",
    "s.update({'name':'홍', 'age':20})\n",
    "print(\"업데이트 후 :\",s)"
   ]
  },
  {
   "cell_type": "markdown",
   "id": "7d395b23",
   "metadata": {},
   "source": [
    "## 삭제하기\n",
    "    remove()"
   ]
  },
  {
   "cell_type": "code",
   "execution_count": 82,
   "id": "1e755904",
   "metadata": {},
   "outputs": [
    {
     "data": {
      "text/plain": [
       "{1, 3}"
      ]
     },
     "execution_count": 82,
     "metadata": {},
     "output_type": "execute_result"
    }
   ],
   "source": [
    "s = {1,2,3,1,1}\n",
    "s.remove(2)\n",
    "s"
   ]
  },
  {
   "cell_type": "code",
   "execution_count": 84,
   "id": "a7274f4f",
   "metadata": {},
   "outputs": [
    {
     "name": "stdout",
     "output_type": "stream",
     "text": [
      "해당 데이터는 없습니다\n"
     ]
    }
   ],
   "source": [
    "# 없는 요소를 삭제할 경우 에러\n",
    "if 5 in s:\n",
    "    s.remove(5)\n",
    "else:\n",
    "    print(\"해당 데이터는 없습니다\")"
   ]
  },
  {
   "cell_type": "markdown",
   "id": "bec51401",
   "metadata": {},
   "source": [
    "## 집합 연산자\n",
    "    &(교집합),|(합집합),-(차집합)"
   ]
  },
  {
   "cell_type": "code",
   "execution_count": 85,
   "id": "c8ea22fd",
   "metadata": {},
   "outputs": [
    {
     "name": "stdout",
     "output_type": "stream",
     "text": [
      "s1 = {1, 2, 3, 4, 5}\n",
      "s1 = {3, 4, 5, 6, 7}\n",
      "s1&s2 = {3, 4, 5}\n",
      "s1|s2 = {1, 2, 3, 4, 5, 6, 7}\n",
      "s1-s2 = {1, 2}\n",
      "s2-s1 = {6, 7}\n"
     ]
    }
   ],
   "source": [
    "s1 = {1, 2, 3, 4, 5}\n",
    "s2 = {3, 4, 5, 6, 7}\n",
    "print(\"s1 =\",s1)\n",
    "print(\"s1 =\",s2)\n",
    "print(\"s1&s2 =\",s1&s2)\n",
    "print(\"s1|s2 =\",s1|s2)\n",
    "print(\"s1-s2 =\",s1-s2)\n",
    "print(\"s2-s1 =\",s2-s1)"
   ]
  },
  {
   "cell_type": "code",
   "execution_count": 87,
   "id": "fddbb3b9",
   "metadata": {},
   "outputs": [
    {
     "name": "stdout",
     "output_type": "stream",
     "text": [
      "길숙\n",
      "길동\n",
      "길자\n"
     ]
    }
   ],
   "source": [
    "names = {'길동', \"길숙\", \"길자\"}\n",
    "for name in names:\n",
    "    print(name)"
   ]
  },
  {
   "cell_type": "markdown",
   "id": "fdadb10e",
   "metadata": {},
   "source": [
    "# 5절 enumerate\n",
    "- 반복자, 반복문을 처리할때 사용할 순서 객체를 생성하는 함수\n",
    "- 리스트, 튜플, 딕셔너리, 셋을 for문에 사용시"
   ]
  },
  {
   "cell_type": "code",
   "execution_count": 89,
   "id": "c96cb9e8",
   "metadata": {},
   "outputs": [
    {
     "data": {
      "text/plain": [
       "[(0, '길숙'), (1, '길동'), (2, '길자')]"
      ]
     },
     "execution_count": 89,
     "metadata": {},
     "output_type": "execute_result"
    }
   ],
   "source": [
    "list(enumerate(names))"
   ]
  },
  {
   "cell_type": "code",
   "execution_count": 88,
   "id": "71d71ae4",
   "metadata": {},
   "outputs": [
    {
     "name": "stdout",
     "output_type": "stream",
     "text": [
      "1. 길숙\n",
      "2. 길동\n",
      "3. 길자\n"
     ]
    }
   ],
   "source": [
    "for no, name in enumerate(names):\n",
    "    print(\"{}. {}\".format(no+1,name))"
   ]
  },
  {
   "cell_type": "code",
   "execution_count": 90,
   "id": "97f6f1c7",
   "metadata": {},
   "outputs": [],
   "source": [
    "names = ['길동', '길자', '길숙']\n",
    "tels = ['02-999-9999', '02-888-8888', '02-777-7777']\n",
    "adds = ['서울', '판교', '하남']"
   ]
  },
  {
   "cell_type": "code",
   "execution_count": 93,
   "id": "2bb22e9e",
   "metadata": {},
   "outputs": [
    {
     "name": "stdout",
     "output_type": "stream",
     "text": [
      "1. 길동님의 연락처는 02-999-9999이고, 서울 살아요\n",
      "2. 길자님의 연락처는 02-888-8888이고, 판교 살아요\n",
      "3. 길숙님의 연락처는 02-777-7777이고, 하남 살아요\n"
     ]
    }
   ],
   "source": [
    "for idx in range(len(names)):\n",
    "    print(\"{}. {}님의 연락처는 {}이고, {} 살아요\".format(idx+1, \n",
    "                          names[idx], \n",
    "                          tels[idx],\n",
    "                          adds[idx]))"
   ]
  },
  {
   "cell_type": "code",
   "execution_count": 92,
   "id": "17e7eaa1",
   "metadata": {},
   "outputs": [
    {
     "data": {
      "text/plain": [
       "[('길동', '02-999-9999', '서울'),\n",
       " ('길자', '02-888-8888', '판교'),\n",
       " ('길숙', '02-777-7777', '하남')]"
      ]
     },
     "execution_count": 92,
     "metadata": {},
     "output_type": "execute_result"
    }
   ],
   "source": [
    "list(zip(names, tels, adds))"
   ]
  },
  {
   "cell_type": "code",
   "execution_count": 94,
   "id": "1efc2256",
   "metadata": {},
   "outputs": [
    {
     "name": "stdout",
     "output_type": "stream",
     "text": [
      "길동님의 연락처는 02-999-9999이고, 서울살아요\n",
      "길자님의 연락처는 02-888-8888이고, 판교살아요\n",
      "길숙님의 연락처는 02-777-7777이고, 하남살아요\n"
     ]
    }
   ],
   "source": [
    "for name, tel , add in zip(names, tels, adds):\n",
    "    print(f\"{name}님의 연락처는 {tel}이고, {add}살아요\")"
   ]
  },
  {
   "cell_type": "code",
   "execution_count": null,
   "id": "a27c4811",
   "metadata": {},
   "outputs": [],
   "source": [
    "list(enumerate(zip(names, tels, adds)))"
   ]
  },
  {
   "cell_type": "code",
   "execution_count": 96,
   "id": "d5c0ad84",
   "metadata": {},
   "outputs": [
    {
     "name": "stdout",
     "output_type": "stream",
     "text": [
      "0. 길동님의 연락처는 02-999-9999이고, 서울 살아요\n",
      "1. 길자님의 연락처는 02-888-8888이고, 판교 살아요\n",
      "2. 길숙님의 연락처는 02-777-7777이고, 하남 살아요\n"
     ]
    }
   ],
   "source": [
    "for idx, (name, tel, add) in enumerate(zip(names, tels, adds)):\n",
    "    # print(f\"{idx}. {name}님의 연락처는 {tel}이고, {add} 살아요\")\n",
    "    print(\"{}. {}님의 연락처는 {}이고, {} 살아요\".format(idx, name, tel, add))"
   ]
  },
  {
   "cell_type": "code",
   "execution_count": 97,
   "id": "c7d13d19",
   "metadata": {},
   "outputs": [
    {
     "data": {
      "text/plain": [
       "[{'name': '길동', 'tel': '02-999-9999', 'add': '서울'},\n",
       " {'name': '길자', 'tel': '02-888-8888', 'add': '판교'},\n",
       " {'name': '길숙', 'tel': '02-777-7777', 'add': '하남'}]"
      ]
     },
     "execution_count": 97,
     "metadata": {},
     "output_type": "execute_result"
    }
   ],
   "source": [
    "names = ['길동', '길자', '길숙']\n",
    "tels = ['02-999-9999', '02-888-8888', '02-777-7777']\n",
    "adds = ['서울', '판교', '하남'] \n",
    "members =[] # 딕셔너리 리스트\n",
    "for name, tel, add in zip(names, tels, adds):\n",
    "    member = {'name': name, 'tel': tel, 'add': add}\n",
    "    members.append(member)\n",
    "members"
   ]
  },
  {
   "cell_type": "code",
   "execution_count": 98,
   "id": "d22615f0",
   "metadata": {},
   "outputs": [
    {
     "data": {
      "text/plain": [
       "[{'rank': 1, 'name': '길동', 'tel': '02-999-9999', 'add': '서울'},\n",
       " {'rank': 2, 'name': '길자', 'tel': '02-888-8888', 'add': '판교'},\n",
       " {'rank': 3, 'name': '길숙', 'tel': '02-777-7777', 'add': '하남'}]"
      ]
     },
     "execution_count": 98,
     "metadata": {},
     "output_type": "execute_result"
    }
   ],
   "source": [
    "names = ['길동', '길자', '길숙']\n",
    "tels = ['02-999-9999', '02-888-8888', '02-777-7777']\n",
    "adds = ['서울', '판교', '하남'] \n",
    "members =[] # 딕셔너리 리스트\n",
    "for idx, (name, tel, add )in enumerate(zip(names, tels, adds)):\n",
    "    member = {'rank':idx+1,'name': name, 'tel': tel, 'add': add}\n",
    "    members.append(member)\n",
    "members"
   ]
  },
  {
   "cell_type": "markdown",
   "id": "a69e1f5a",
   "metadata": {},
   "source": [
    "# 6절 연습문제\n",
    "## 실습형 연습문제"
   ]
  },
  {
   "cell_type": "code",
   "execution_count": 103,
   "id": "28182763",
   "metadata": {},
   "outputs": [
    {
     "name": "stdout",
     "output_type": "stream",
     "text": [
      "1번 결과 : [1, 2, 3, 4, 5, 6, 7, 8, 9, 10, 100]\n",
      "2번 결과 : [1, 2, 3, 4, 5, 6, 7, 8, 9, 10, 100, 200, 300, 400, 500]\n",
      "3번 결과 : [1, 2, 3, 4, 5]\n",
      "4번 결과 : [1, 3, 5, 7, 9, 100, 300, 500]\n"
     ]
    }
   ],
   "source": [
    "# 1\n",
    "numbers = [1,2,3,4,5,6,7,8,9,10]\n",
    "# 1.숫자 100을 맨뒤에 추가\n",
    "numbers.append(100)\n",
    "print('1번 결과 :',numbers)\n",
    "\n",
    "# 2. 다음 리스트를 numbers 리스트 맨뒤에 추가\n",
    "data = [200,300,400,500]\n",
    "# numbers.extend(data)\n",
    "numbers += data\n",
    "print('2번 결과 :',numbers)\n",
    "\n",
    "# 3. 처음 다섯개 숫자만 출력(0~4번 index까지)\n",
    "print('3번 결과 :',numbers[:5])\n",
    "\n",
    "# 4. 짝수번째 데이터만 출력\n",
    "print('4번 결과 :', numbers[::2])"
   ]
  },
  {
   "cell_type": "code",
   "execution_count": 104,
   "id": "990677c2",
   "metadata": {},
   "outputs": [
    {
     "name": "stdout",
     "output_type": "stream",
     "text": [
      "5번 후 결과 : [1, 0, 3, 0, 5, 0, 7, 0, 9, 0, 100, 0, 300, 0, 500]\n",
      "5번 출력만 : [0, 0, 0, 0, 0, 0, 0, 0, 0, 0, 0, 0, 0, 0, 0]\n",
      "6번 결과 : [500, 0, 300, 0, 100, 0, 9, 0, 7, 0, 5, 0, 3, 0, 1]\n"
     ]
    }
   ],
   "source": [
    "# 5. 짝수번째 데이터를 모두 0으로 바꿔\n",
    "numbers[1::2] = [0] * len(numbers[1::2])\n",
    "print('5번 후 결과 :', numbers)\n",
    "# 5-1. 짝수번째 데이터를 모두 0으로 바꾸는게 아니고 출력만 하려면\n",
    "print('5번 출력만 :',\n",
    "      [numbers[idx] if idx%2!=0 else 0 for idx in range(len(numbers))])\n",
    "\n",
    "# 6. 데이터를 역순(sort가 아니고 단순 역순)으로 나열\n",
    "print('6번 결과 :', numbers[::-1])\n",
    "# numbers.reverse()\n",
    "# print('6번 결과 :', numbers)"
   ]
  },
  {
   "cell_type": "code",
   "execution_count": 105,
   "id": "dd35bae3",
   "metadata": {},
   "outputs": [
    {
     "name": "stdout",
     "output_type": "stream",
     "text": [
      "7번 결과 : 서울시 마포구\n",
      "7번 결과 : 서울시 마포구\n",
      "8번 score 삭제  90\n",
      "8번 삭제 확인 :  {'name': '홍길동', 'age': 20, 'address': '서울시 마포구'}\n",
      "9번 확인 : {'name': '홍길동', 'age': 20, 'address': '서울시 서대문구'}\n",
      "10번 결과 : ['홍길동', 20, '서울시 서대문구']\n"
     ]
    }
   ],
   "source": [
    "member = {'name':\"홍길동\",\"age\":20,\"address\":\"서울시 마포구\", 'score':90}\n",
    "# 7번 address값 출력\n",
    "print('7번 결과 :', member['address']) # 비추\n",
    "print('7번 결과 :', member.get('address')) # 추천\n",
    "                # ★-------------------★ #\n",
    "    \n",
    "# 8 score를 출력하고 딕셔너리에서 삭제 방법1# 5. 짝수번째 데이터를 모두 0으로 바꿔\n",
    "if 'score' in member:\n",
    "    # print(member['score'])\n",
    "    # del member['score'] del은 삭제만 되고 pop는 출력되고 삭제됨\n",
    "    print('8번 score 삭제 ', member.pop('score'))\n",
    "    print('8번 삭제 확인 : ', member)\n",
    "else:\n",
    "    print(\"score 키가 없습니다\")\n",
    "#9. address변경\n",
    "member['address'] ='서울시 서대문구'\n",
    "print('9번 확인 :', member)\n",
    "# 10 데이터 값만 리스트로 출력\n",
    "print('10번 결과 :',list(member.values()))"
   ]
  },
  {
   "cell_type": "markdown",
   "id": "ffe8834e",
   "metadata": {},
   "source": [
    "## 서술형 연습문제"
   ]
  },
  {
   "cell_type": "code",
   "execution_count": null,
   "id": "bc687653",
   "metadata": {},
   "outputs": [],
   "source": [
    "# 1\n",
    "'orange','banana'"
   ]
  },
  {
   "cell_type": "code",
   "execution_count": null,
   "id": "0f6359e1",
   "metadata": {},
   "outputs": [],
   "source": [
    "# 2\n",
    " 2 "
   ]
  },
  {
   "cell_type": "code",
   "execution_count": null,
   "id": "3380a352",
   "metadata": {},
   "outputs": [],
   "source": [
    "# 3 \n",
    "3"
   ]
  },
  {
   "cell_type": "code",
   "execution_count": null,
   "id": "dc223668",
   "metadata": {},
   "outputs": [],
   "source": [
    "# 4\n",
    "extend"
   ]
  },
  {
   "cell_type": "code",
   "execution_count": null,
   "id": "6c4fadf9",
   "metadata": {},
   "outputs": [],
   "source": [
    "# 5\n",
    "[0, 2, 0, 4, 0, 5, 0, 6, 0, 7, 0, 9]"
   ]
  },
  {
   "cell_type": "code",
   "execution_count": null,
   "id": "7f9fe955",
   "metadata": {},
   "outputs": [],
   "source": [
    "# 6\n",
    "[5, 1, 6, 3, 7, 5, 8, 7, 8, 9]"
   ]
  },
  {
   "cell_type": "code",
   "execution_count": null,
   "id": "0a54b545",
   "metadata": {},
   "outputs": [],
   "source": [
    "# 7\n",
    "[4, 1, 3, 3, 2, 5, 1, 7, 8, 9]"
   ]
  },
  {
   "cell_type": "code",
   "execution_count": null,
   "id": "7bbfcc24",
   "metadata": {},
   "outputs": [],
   "source": [
    "# 8\n",
    "1"
   ]
  },
  {
   "cell_type": "code",
   "execution_count": null,
   "id": "cf593f85",
   "metadata": {},
   "outputs": [],
   "source": [
    "# 9\n",
    "'apple'\n",
    "'banana'\n",
    "'orange'"
   ]
  },
  {
   "cell_type": "code",
   "execution_count": null,
   "id": "1b5cf8a8",
   "metadata": {},
   "outputs": [],
   "source": [
    "#10 \n",
    "3"
   ]
  },
  {
   "cell_type": "code",
   "execution_count": null,
   "id": "c17f04f9",
   "metadata": {},
   "outputs": [],
   "source": [
    "#11\n",
    "def"
   ]
  },
  {
   "cell_type": "markdown",
   "id": "39168ce8",
   "metadata": {},
   "source": [
    "![변수타입들](https://pynative.com/wp-content/uploads/2021/02/python-data-types.jpg)"
   ]
  },
  {
   "cell_type": "markdown",
   "id": "3d2d6df5",
   "metadata": {},
   "source": [
    "<img src=\"https://pynative.com/wp-content/uploads/2021/02/python-data-types.jpg\"\n",
    "    style=\"float:left\"\n",
    "    width=\"500\">"
   ]
  },
  {
   "cell_type": "code",
   "execution_count": null,
   "id": "a742c63f",
   "metadata": {},
   "outputs": [],
   "source": []
  }
 ],
 "metadata": {
  "kernelspec": {
   "display_name": "Python 3 (ipykernel)",
   "language": "python",
   "name": "python3"
  },
  "language_info": {
   "codemirror_mode": {
    "name": "ipython",
    "version": 3
   },
   "file_extension": ".py",
   "mimetype": "text/x-python",
   "name": "python",
   "nbconvert_exporter": "python",
   "pygments_lexer": "ipython3",
   "version": "3.10.9"
  },
  "toc": {
   "base_numbering": 1,
   "nav_menu": {},
   "number_sections": false,
   "sideBar": true,
   "skip_h1_title": false,
   "title_cell": "Table of Contents",
   "title_sidebar": "Contents",
   "toc_cell": false,
   "toc_position": {
    "height": "calc(100% - 180px)",
    "left": "10px",
    "top": "150px",
    "width": "181.615px"
   },
   "toc_section_display": true,
   "toc_window_display": true
  }
 },
 "nbformat": 4,
 "nbformat_minor": 5
}
